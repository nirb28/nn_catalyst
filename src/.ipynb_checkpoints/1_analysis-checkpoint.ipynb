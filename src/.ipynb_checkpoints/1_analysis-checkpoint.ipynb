{
 "nbformat": 4,
 "nbformat_minor": 0,
 "metadata": {
  "colab": {
   "provenance": [],
   "gpuType": "T4",
   "mount_file_id": "https://github.com/nirb28/nn_catalyst/blob/main/eda.ipynb",
   "authorship_tag": "ABX9TyNlslRvmj92ahEUYMuriIfW",
   "include_colab_link": true
  },
  "kernelspec": {
   "name": "python3",
   "display_name": "Python 3 (ipykernel)",
   "language": "python"
  },
  "language_info": {
   "name": "python"
  },
  "accelerator": "GPU"
 },
 "cells": [
  {
   "metadata": {},
   "cell_type": "markdown",
   "source": "<a href=\"https://colab.research.google.com/github/nirb28/nn_catalyst/blob/main/src/1_analysis.ipynb\" target=\"_parent\"><img src=\"https://colab.research.google.com/assets/colab-badge.svg\" alt=\"Open In Colab\"/></a>"
  },
  {
   "metadata": {
    "ExecuteTime": {
     "end_time": "2024-08-20T01:00:43.160098Z",
     "start_time": "2024-08-20T01:00:42.597588Z"
    }
   },
   "cell_type": "code",
   "source": [
    "import os\n",
    "def resolve_path_gdrive(relativePath):\n",
    "    if os.path.exists('/content/drive'):\n",
    "        return '/content/drive/MyDrive/work/gdrive-workspaces/git/nn_catalyst/' + relativePath\n",
    "    else:\n",
    "        from utils import get_project_root\n",
    "        return get_project_root() + \"/\" + relativePath\n",
    "from google.colab import drive\n",
    "drive.mount('/content/drive', force_remount=False)"
   ],
   "outputs": [
    {
     "ename": "ModuleNotFoundError",
     "evalue": "No module named 'google'",
     "output_type": "error",
     "traceback": [
      "\u001B[1;31m---------------------------------------------------------------------------\u001B[0m",
      "\u001B[1;31mModuleNotFoundError\u001B[0m                       Traceback (most recent call last)",
      "Cell \u001B[1;32mIn[1], line 8\u001B[0m\n\u001B[0;32m      6\u001B[0m         \u001B[38;5;28;01mfrom\u001B[39;00m \u001B[38;5;21;01mutils\u001B[39;00m \u001B[38;5;28;01mimport\u001B[39;00m get_project_root\n\u001B[0;32m      7\u001B[0m         \u001B[38;5;28;01mreturn\u001B[39;00m get_project_root() \u001B[38;5;241m+\u001B[39m \u001B[38;5;124m\"\u001B[39m\u001B[38;5;124m/\u001B[39m\u001B[38;5;124m\"\u001B[39m \u001B[38;5;241m+\u001B[39m relativePath\n\u001B[1;32m----> 8\u001B[0m \u001B[38;5;28;01mfrom\u001B[39;00m \u001B[38;5;21;01mgoogle\u001B[39;00m\u001B[38;5;21;01m.\u001B[39;00m\u001B[38;5;21;01mcolab\u001B[39;00m \u001B[38;5;28;01mimport\u001B[39;00m drive\n\u001B[0;32m      9\u001B[0m drive\u001B[38;5;241m.\u001B[39mmount(\u001B[38;5;124m'\u001B[39m\u001B[38;5;124m/content/drive\u001B[39m\u001B[38;5;124m'\u001B[39m, force_remount\u001B[38;5;241m=\u001B[39m\u001B[38;5;28;01mFalse\u001B[39;00m)\n",
      "\u001B[1;31mModuleNotFoundError\u001B[0m: No module named 'google'"
     ]
    }
   ],
   "execution_count": 1
  },
  {
   "metadata": {
    "ExecuteTime": {
     "end_time": "2024-08-20T01:00:48.067019Z",
     "start_time": "2024-08-20T01:00:45.663051Z"
    }
   },
   "cell_type": "code",
   "source": [
    "!pip install xlsxwriter\n",
    "import xlsxwriter"
   ],
   "outputs": [
    {
     "name": "stdout",
     "output_type": "stream",
     "text": [
      "Requirement already satisfied: xlsxwriter in d:\\work\\conda\\nn_310\\lib\\site-packages (3.1.1)\n"
     ]
    }
   ],
   "execution_count": 2
  },
  {
   "metadata": {
    "ExecuteTime": {
     "end_time": "2024-08-20T01:01:14.379183Z",
     "start_time": "2024-08-20T01:01:14.367301Z"
    }
   },
   "cell_type": "code",
   "source": [
    "import pandas as pd\n",
    "from sklearn.feature_selection import VarianceThreshold\n",
    "from sklearn.model_selection import train_test_split\n",
    "from sklearn.preprocessing import StandardScaler\n",
    "import torch\n",
    "import torch.nn as nn\n",
    "import torch.optim as optim\n",
    "from torch.utils.data import DataLoader, TensorDataset\n",
    "import numpy as np\n",
    "from sklearn.metrics import r2_score, mean_squared_error, mean_absolute_error\n",
    "import xlsxwriter\n",
    "import torch.nn.functional as F\n",
    "from torch.optim.lr_scheduler import ReduceLROnPlateau\n",
    "from torch.optim import AdamW\n",
    "\n",
    "# Load the data\n",
    "descriptors_path = 'descriptors.csv'\n",
    "targets_path = 'compiled_data.csv'\n"
   ],
   "outputs": [],
   "execution_count": 5
  },
  {
   "metadata": {
    "ExecuteTime": {
     "end_time": "2024-08-20T01:01:15.449144Z",
     "start_time": "2024-08-20T01:01:15.409364Z"
    }
   },
   "cell_type": "code",
   "source": [
    "descriptors_df = pd.read_csv(resolve_path_gdrive(descriptors_path))\n",
    "targets_df = pd.read_csv(resolve_path_gdrive(targets_path))\n"
   ],
   "outputs": [
    {
     "ename": "ModuleNotFoundError",
     "evalue": "No module named 'utils'",
     "output_type": "error",
     "traceback": [
      "\u001B[1;31m---------------------------------------------------------------------------\u001B[0m",
      "\u001B[1;31mModuleNotFoundError\u001B[0m                       Traceback (most recent call last)",
      "Cell \u001B[1;32mIn[6], line 1\u001B[0m\n\u001B[1;32m----> 1\u001B[0m descriptors_df \u001B[38;5;241m=\u001B[39m pd\u001B[38;5;241m.\u001B[39mread_csv(\u001B[43mresolve_path_gdrive\u001B[49m\u001B[43m(\u001B[49m\u001B[43mdescriptors_path\u001B[49m\u001B[43m)\u001B[49m)\n\u001B[0;32m      2\u001B[0m targets_df \u001B[38;5;241m=\u001B[39m pd\u001B[38;5;241m.\u001B[39mread_csv(resolve_path_gdrive(targets_path))\n",
      "Cell \u001B[1;32mIn[1], line 6\u001B[0m, in \u001B[0;36mresolve_path_gdrive\u001B[1;34m(relativePath)\u001B[0m\n\u001B[0;32m      4\u001B[0m     \u001B[38;5;28;01mreturn\u001B[39;00m \u001B[38;5;124m'\u001B[39m\u001B[38;5;124m/content/drive/MyDrive/work/gdrive-workspaces/git/nn_catalyst/\u001B[39m\u001B[38;5;124m'\u001B[39m \u001B[38;5;241m+\u001B[39m relativePath\n\u001B[0;32m      5\u001B[0m \u001B[38;5;28;01melse\u001B[39;00m:\n\u001B[1;32m----> 6\u001B[0m     \u001B[38;5;28;01mfrom\u001B[39;00m \u001B[38;5;21;01mutils\u001B[39;00m \u001B[38;5;28;01mimport\u001B[39;00m get_project_root\n\u001B[0;32m      7\u001B[0m     \u001B[38;5;28;01mreturn\u001B[39;00m get_project_root() \u001B[38;5;241m+\u001B[39m \u001B[38;5;124m\"\u001B[39m\u001B[38;5;124m/\u001B[39m\u001B[38;5;124m\"\u001B[39m \u001B[38;5;241m+\u001B[39m relativePath\n",
      "\u001B[1;31mModuleNotFoundError\u001B[0m: No module named 'utils'"
     ]
    }
   ],
   "execution_count": 6
  },
  {
   "metadata": {
    "ExecuteTime": {
     "end_time": "2024-08-19T23:41:11.682609Z",
     "start_time": "2024-08-19T23:41:11.623223Z"
    }
   },
   "cell_type": "code",
   "source": [
    "# Show sample rows\n",
    "print(\"\\nSample Rows from Descriptors DataFrame:\")\n",
    "print(descriptors_df.head())\n",
    "print(\"\\nSample Rows from Targets DataFrame:\")\n",
    "print(targets_df.head())\n"
   ],
   "outputs": [
    {
     "name": "stdout",
     "output_type": "stream",
     "text": [
      "\n",
      "Sample Rows from Descriptors DataFrame:\n",
      "   Label        ABC     ABCGG  nAcid  nBase             SpAbs_A  \\\n",
      "0   9268   4.719397  5.004088      0      0   6.720566232730447   \n",
      "1  10488  10.334062  9.836417      0      0  16.752497538971177   \n",
      "2  25579   5.875634  5.566041      0      0    9.43114762028933   \n",
      "3   8952   6.611250  6.890735      1      0   10.68725972618713   \n",
      "4  23681   7.249407  6.976306      0      0  11.945821561028193   \n",
      "\n",
      "              SpMax_A           SpDiam_A              SpAD_A  \\\n",
      "0  2.1010029896154583  4.202005979230917   6.720566232730447   \n",
      "1  2.3623398328574394  4.724679665714879  16.752497538971177   \n",
      "2  2.1753277471610764  4.350655494322151    9.43114762028933   \n",
      "3    2.28774942353935  4.425414875225794   10.68725972618713   \n",
      "4  2.2671838628844996     4.534367725769  11.945821561028193   \n",
      "\n",
      "              SpMAD_A  ...     SRW10     TSRW10          MW        AMW WPath  \\\n",
      "0  0.9600808903900638  ...  8.123558  33.343946  136.047505   6.802375    46   \n",
      "1  1.1966069670693698  ...  9.472628  45.579501  215.042359   8.960098   296   \n",
      "2  1.1788934525361663  ...  8.479907  35.755147  111.048427   7.932031    61   \n",
      "3  1.1874733029096811  ...  8.735364  51.247665  143.004099  10.214579    84   \n",
      "4  1.1945821561028194  ...  8.912069  39.310842  219.935762  13.745985   116   \n",
      "\n",
      "  WPol Zagreb1  Zagreb2            mZagreb1  mZagreb2  \n",
      "0    4    28.0     26.0              4.5625  1.625000  \n",
      "1   20    68.0     77.0   6.645833333333334  3.152778  \n",
      "2    7    36.0     38.0  3.2222222222222223  1.833333  \n",
      "3    9    42.0     47.0   4.083333333333334  2.055556  \n",
      "4   12    46.0     51.0   4.333333333333334  2.361111  \n",
      "\n",
      "[5 rows x 1827 columns]\n",
      "\n",
      "Sample Rows from Targets DataFrame:\n",
      "   mol_num    homo_n    lumo_n  max_charge_pos_n  max_charge_neg_n  dipole_n  \\\n",
      "0        1 -0.176481 -0.145696          0.888482         -0.649339   4.63917   \n",
      "1        4 -0.178590 -0.137610          0.504333         -0.471034   0.00005   \n",
      "2       11 -0.217144 -0.012080          1.183065         -0.787892   3.31424   \n",
      "3       12 -0.239982 -0.148671          1.500277         -0.805734   5.84638   \n",
      "4       13 -0.200493 -0.051637          1.358121         -0.784531   4.96208   \n",
      "\n",
      "       gibbs_n    elec_en_n  homo_spin_up_o  lumo_spin_up_o  ...  \\\n",
      "0 -1300.801410 -1300.941844       -0.322360       -0.259491  ...   \n",
      "1 -1744.173565 -1744.181119       -0.346743       -0.285237  ...   \n",
      "2 -2467.395463 -2467.453515       -0.487984       -0.232104  ...   \n",
      "3 -2899.351866 -2899.436209       -0.430495       -0.320760  ...   \n",
      "4 -2750.245324 -2750.344206       -0.386077       -0.229918  ...   \n",
      "\n",
      "   homo_spin_down_r  lumo_spin_down_r  max_charge_pos_r  max_charge_neg_r  \\\n",
      "0         -0.058523         -0.005780          0.854274         -0.665933   \n",
      "1         -0.059445         -0.014988          0.265960         -0.449216   \n",
      "2         -0.001917          0.081394          0.822369         -0.883380   \n",
      "3         -0.071437          0.030607          1.462250         -0.833701   \n",
      "4         -0.031962          0.059756          0.981067         -0.848564   \n",
      "\n",
      "   max_spin_r  dipole_r      gibbs_r    elec_en_r    ddg_ox   ddg_red  \n",
      "0    0.933582   8.80921 -1300.876422 -1301.015198  6.520420 -2.041162  \n",
      "1    0.472025   0.00001 -1744.249342 -1744.255224  6.861198 -2.061959  \n",
      "2    0.395451   1.28878 -2467.386751 -2467.438463  8.947798  0.237066  \n",
      "3    0.258320   5.08854 -2899.424545 -2899.506382  8.787097 -1.977691  \n",
      "4    0.383838   6.90040 -2750.251506 -2750.346633  7.655302 -0.168215  \n",
      "\n",
      "[5 rows x 30 columns]\n"
     ]
    }
   ],
   "execution_count": 6
  },
  {
   "metadata": {
    "ExecuteTime": {
     "end_time": "2024-08-19T23:41:11.821986Z",
     "start_time": "2024-08-19T23:41:11.685639Z"
    }
   },
   "cell_type": "code",
   "source": [
    "# selected column\n",
    "selected_cols=5\n",
    "targets_df = targets_df.iloc[:, [0, selected_cols]]\n",
    "print(targets_df)\n",
    "device = torch.device('cuda' if torch.cuda.is_available() else 'cpu')"
   ],
   "outputs": [
    {
     "name": "stdout",
     "output_type": "stream",
     "text": [
      "       mol_num  dipole_n\n",
      "0            1   4.63917\n",
      "1            4   0.00005\n",
      "2           11   3.31424\n",
      "3           12   5.84638\n",
      "4           13   4.96208\n",
      "...        ...       ...\n",
      "26228    34242   4.16353\n",
      "26229    34243   5.55982\n",
      "26230    34244   6.29952\n",
      "26231    34245   3.52367\n",
      "26232    34246   5.81051\n",
      "\n",
      "[26233 rows x 2 columns]\n"
     ]
    }
   ],
   "execution_count": 7
  },
  {
   "metadata": {
    "ExecuteTime": {
     "end_time": "2024-08-19T23:41:12.194134Z",
     "start_time": "2024-08-19T23:41:11.823980Z"
    }
   },
   "cell_type": "code",
   "source": [
    "\n",
    "# Keep only numeric columns\n",
    "descriptors_numeric = descriptors_df.select_dtypes(include=['number'])\n",
    "targets_numeric = targets_df.select_dtypes(include=['number'])\n",
    "\n",
    "# Merge the numeric dataframes on the common label column\n",
    "numeric_data = pd.merge(descriptors_numeric, targets_numeric, left_on='Label', right_on='mol_num')\n",
    "numeric_data = numeric_data.drop(columns=['Label', 'mol_num'])\n",
    "\n",
    "# Separate features and targets\n",
    "X = numeric_data.iloc[:, :-len(str(selected_cols))]  # Assuming the last 30 columns are targets\n",
    "y = numeric_data.iloc[:, -len(str(selected_cols)):]\n"
   ],
   "outputs": [],
   "execution_count": 8
  },
  {
   "metadata": {
    "ExecuteTime": {
     "end_time": "2024-08-19T23:41:14.088732Z",
     "start_time": "2024-08-19T23:41:12.195133Z"
    }
   },
   "cell_type": "code",
   "source": [
    "\n",
    "# Apply variance threshold\n",
    "selector = VarianceThreshold()\n",
    "X_high_variance = selector.fit_transform(X)\n",
    "\n",
    "# Convert to numpy arrays\n",
    "X = X_high_variance\n",
    "y = y.values\n",
    "\n",
    "# Split the data into training, validation, and test sets\n",
    "X_train, X_temp, y_train, y_temp = train_test_split(X, y, test_size=0.2, random_state=42)\n",
    "X_val, X_test, y_val, y_test = train_test_split(X_temp, y_temp, test_size=0.5, random_state=42)\n",
    "\n",
    "# Standardize the data\n",
    "scaler_X = StandardScaler().fit(X_train)\n",
    "scaler_y = StandardScaler().fit(y_train)\n",
    "\n",
    "X_train = scaler_X.transform(X_train)\n",
    "X_val = scaler_X.transform(X_val)\n",
    "X_test = scaler_X.transform(X_test)\n",
    "\n",
    "y_train = scaler_y.transform(y_train)\n",
    "y_val = scaler_y.transform(y_val)\n",
    "y_test = scaler_y.transform(y_test)\n",
    "\n",
    "# Convert the data to PyTorch tensors\n",
    "X_train_tensor = torch.tensor(X_train, dtype=torch.float32, device=device)\n",
    "y_train_tensor = torch.tensor(y_train, dtype=torch.float32, device=device)\n",
    "X_val_tensor = torch.tensor(X_val, dtype=torch.float32, device=device)\n",
    "y_val_tensor = torch.tensor(y_val, dtype=torch.float32, device=device)\n",
    "X_test_tensor = torch.tensor(X_test, dtype=torch.float32, device=device)\n",
    "y_test_tensor = torch.tensor(y_test, dtype=torch.float32, device=device)\n"
   ],
   "outputs": [],
   "execution_count": 9
  },
  {
   "metadata": {
    "ExecuteTime": {
     "end_time": "2024-08-19T23:56:38.751138Z",
     "start_time": "2024-08-19T23:56:38.728164Z"
    }
   },
   "cell_type": "code",
   "source": [
    "\n",
    "# Create DataLoader for batch processing\n",
    "train_dataset = TensorDataset(X_train_tensor, y_train_tensor)\n",
    "val_dataset = TensorDataset(X_val_tensor, y_val_tensor)\n",
    "test_dataset = TensorDataset(X_test_tensor, y_test_tensor)\n",
    "\n",
    "train_loader = DataLoader(train_dataset, batch_size=32, shuffle=True)\n",
    "val_loader = DataLoader(val_dataset, batch_size=32, shuffle=False)\n",
    "test_loader = DataLoader(test_dataset, batch_size=32, shuffle=False)\n",
    "\n",
    "\n",
    "# Define the individual model class\n",
    "class SingleTargetNet(nn.Module):\n",
    "    def __init__(self, input_size, dropout_rate=0.5):\n",
    "        super(SingleTargetNet, self).__init__()\n",
    "        self.fc1 = nn.Linear(input_size, 1024)\n",
    "        self.bn1 = nn.BatchNorm1d(1024)\n",
    "        self.fc2 = nn.Linear(1024, 512)\n",
    "        self.bn2 = nn.BatchNorm1d(512)\n",
    "        self.fc3 = nn.Linear(512, 1)\n",
    "        self.fc_skip = nn.Linear(1024, 512)\n",
    "        self.dropout = nn.Dropout(dropout_rate)\n",
    "\n",
    "    def forward(self, x):\n",
    "        x1 = F.relu(self.bn1(self.fc1(x)))\n",
    "        x1 = self.dropout(x1)\n",
    "\n",
    "        x2 = F.relu(self.bn2(self.fc2(x1)))\n",
    "        x2 = self.dropout(x2)\n",
    "\n",
    "        # Skip connection\n",
    "        x2 += self.fc_skip(x1)\n",
    "\n",
    "        x3 = self.fc3(x2)\n",
    "        return x3\n",
    "    \n",
    "def get_target5model():\n",
    "    # Define the model\n",
    "    model = nn.Sequential(\n",
    "        nn.Linear(X_train.shape[1], 1024),\n",
    "        nn.LeakyReLU(),\n",
    "        nn.Linear(1024, 512),\n",
    "        nn.LeakyReLU(),\n",
    "        nn.Linear(512, 256),\n",
    "        nn.LeakyReLU(),\n",
    "        nn.Linear(256, 1)\n",
    "    )\n",
    "    return model\n",
    "\n",
    "class RegressionNetwork(nn.Module):\n",
    "    def __init__(self, input_dim, hidden_dim, output_dim):\n",
    "        super(RegressionNetwork, self).__init__()\n",
    "        self.fc1 = nn.Linear(input_dim, hidden_dim)\n",
    "        self.bn1 = nn.BatchNorm1d(hidden_dim)\n",
    "        self.relu = nn.LeakyReLU()\n",
    "        self.dropout = nn.Dropout(0.1)\n",
    "        self.fc2 = nn.Linear(hidden_dim, hidden_dim)\n",
    "        self.bn2 = nn.BatchNorm1d(hidden_dim)\n",
    "        self.fc3 = nn.Linear(hidden_dim, output_dim)\n",
    "\n",
    "    def forward(self, x):\n",
    "        out = self.fc1(x)\n",
    "        out = self.bn1(out)\n",
    "        out = self.relu(out)\n",
    "        out = self.dropout(out)\n",
    "        out = self.fc2(out)\n",
    "        out = self.bn2(out)\n",
    "        out = self.relu(out)\n",
    "        out = self.fc3(out)\n",
    "        return out\n",
    "\n",
    "# Function to train and evaluate individual models\n",
    "def train_and_evaluate(target_index):\n",
    "    #model = SingleTargetNet(X_train.shape[1])\n",
    "    model = RegressionNetwork(X_train.shape[1], 512, 1)\n",
    "    model.to(device=device)\n",
    "    criterion = nn.MSELoss()\n",
    "    \n",
    "    optimizer = AdamW(model.parameters(), lr=0.001) # original\n",
    "    scheduler = ReduceLROnPlateau(optimizer, mode='min', factor=0.1, patience=10, verbose=True)\n",
    "\n",
    "    best_val_loss = np.inf\n",
    "    patience_counter = 0\n",
    "    num_epochs = 150\n",
    "\n",
    "    for epoch in range(num_epochs):\n",
    "        model.train()\n",
    "        running_loss = 0.0\n",
    "        for inputs, targets in train_loader:\n",
    "            optimizer.zero_grad()\n",
    "            outputs = model(inputs).squeeze()\n",
    "            loss = criterion(outputs, targets[:, target_index])\n",
    "            loss.backward()\n",
    "            optimizer.step()\n",
    "            running_loss += loss.item()\n",
    "        print(f'Target {target_index} - Epoch {epoch+1}/{num_epochs}, Loss: {running_loss/len(train_loader)}')\n",
    "\n",
    "        model.eval()\n",
    "        val_loss = 0.0\n",
    "        with torch.no_grad():\n",
    "            for inputs, targets in val_loader:\n",
    "                outputs = model(inputs).squeeze()\n",
    "                loss = criterion(outputs, targets[:, target_index])\n",
    "                val_loss += loss.item()\n",
    "        val_loss /= len(val_loader)\n",
    "        print(f'Target {target_index} - Validation Loss: {val_loss}')\n",
    "\n",
    "        scheduler.step(val_loss)\n",
    "\n",
    "        if val_loss < best_val_loss:\n",
    "            best_val_loss = val_loss\n",
    "            patience_counter = 0\n",
    "            torch.save(model.state_dict(), f'best_model_target_{target_index}.pth')\n",
    "        else:\n",
    "            patience_counter += 1\n",
    "            if patience_counter >= 15:\n",
    "                print(f'Target {target_index} - Early stopping triggered')\n",
    "                break\n",
    "\n",
    "    model.load_state_dict(torch.load(f'best_model_target_{target_index}.pth'))\n",
    "\n",
    "    model.eval()\n",
    "    test_loss = 0.0\n",
    "    with torch.no_grad():\n",
    "        for inputs, targets in test_loader:\n",
    "            outputs = model(inputs).squeeze()\n",
    "            loss = criterion(outputs, targets[:, target_index])\n",
    "            test_loss += loss.item()\n",
    "    test_loss /= len(test_loader)\n",
    "    print(f'Target {target_index} - Test Loss: {test_loss}')\n",
    "\n",
    "    return model, test_loss\n"
   ],
   "outputs": [],
   "execution_count": 22
  },
  {
   "metadata": {
    "ExecuteTime": {
     "end_time": "2024-08-19T23:57:25.893218Z",
     "start_time": "2024-08-19T23:56:40.345224Z"
    }
   },
   "cell_type": "code",
   "source": [
    "\n",
    "# Train and evaluate individual models for each target\n",
    "test_losses = []\n",
    "models = []\n",
    "for target_index in range(y_train.shape[1]):\n",
    "    model, test_loss = train_and_evaluate(target_index)\n",
    "    models.append(model)\n",
    "    test_losses.append(test_loss)\n",
    "\n",
    "# Print average test loss\n",
    "avg_test_loss = np.mean(test_losses)\n",
    "print(f'Average Test Loss for Individual Models: {avg_test_loss}')\n",
    "\n",
    "# Initialize Excel writer\n",
    "output_path = 'individual_model_predictions_with_plots.xlsx'\n",
    "writer = pd.ExcelWriter(output_path, engine='xlsxwriter')\n",
    "workbook = writer.book\n",
    "\n",
    "# Create necessary Excel sheets\n",
    "train_sheet = workbook.add_worksheet('Train')\n",
    "val_sheet = workbook.add_worksheet('Validation')\n",
    "test_sheet = workbook.add_worksheet('Test')\n",
    "\n",
    "# Prepare DataFrames for train, validation, and test predictions\n",
    "train_df = pd.DataFrame()\n",
    "val_df = pd.DataFrame()\n",
    "test_df = pd.DataFrame()\n",
    "\n",
    "r2_scores, rmse_scores, mae_scores = [], [], []\n",
    "\n",
    "def create_excel_chart(sheet_name, target_index, worksheet, df, start_row, start_col):\n",
    "    chart = workbook.add_chart({'type': 'scatter'})\n",
    "\n",
    "    observed_col = f'Observed_{target_index}'\n",
    "    predicted_col = f'Predicted_{target_index}'\n",
    "\n",
    "    chart.add_series({\n",
    "        'name': f'Target {target_index}',\n",
    "        'categories': [sheet_name, start_row+1, df.columns.get_loc(observed_col), start_row+df.shape[0], df.columns.get_loc(observed_col)],\n",
    "        'values': [sheet_name, start_row+1, df.columns.get_loc(predicted_col), start_row+df.shape[0], df.columns.get_loc(predicted_col)],\n",
    "        'marker': {'type': 'circle', 'size': 5},\n",
    "        'trendline': {\n",
    "            'type': 'linear',\n",
    "            'display_equation': True,\n",
    "            'display_r_squared': True,\n",
    "        }\n",
    "    })\n",
    "    chart.set_title({'name': f'Parity Plot for Target {target_index}'})\n",
    "    chart.set_x_axis({'name': 'Observed'})\n",
    "    chart.set_y_axis({'name': 'Predicted'})\n",
    "    chart.set_legend({'none': True})\n",
    "\n",
    "    # Make axes square with the same unit ranges on x and y axis\n",
    "    min_val = min(df[observed_col].min(), df[predicted_col].min())\n",
    "    max_val = max(df[observed_col].max(), df[predicted_col].max())\n",
    "    chart.set_x_axis({'min': min_val, 'max': max_val})\n",
    "    chart.set_y_axis({'min': min_val, 'max': max_val})\n",
    "\n",
    "    worksheet.insert_chart(start_row + df.shape[0] + 2, start_col, chart)\n",
    "\n",
    "    # Calculate metrics\n",
    "    observed = df[observed_col]\n",
    "    predicted = df[predicted_col]\n",
    "    r2 = r2_score(observed, predicted)\n",
    "    rmse = mean_squared_error(observed, predicted, squared=False)\n",
    "    mae = mean_absolute_error(observed, predicted)\n",
    "\n",
    "    # Write metrics to Excel\n",
    "    metrics_start_row = start_row + df.shape[0] + 22\n",
    "    worksheet.write(metrics_start_row, start_col, f'Target {target_index}')\n",
    "    worksheet.write(metrics_start_row + 1, start_col + 1, 'R²')\n",
    "    worksheet.write(metrics_start_row + 1, start_col + 2, r2)\n",
    "    worksheet.write(metrics_start_row + 2, start_col + 1, 'RMSE')\n",
    "    worksheet.write(metrics_start_row + 2, start_col + 2, rmse)\n",
    "    worksheet.write(metrics_start_row + 3, start_col + 1, 'MAE')\n",
    "    worksheet.write(metrics_start_row + 3, start_col + 2, mae)\n",
    "\n",
    "    return r2, rmse, mae\n",
    "\n",
    "\n"
   ],
   "outputs": [
    {
     "name": "stderr",
     "output_type": "stream",
     "text": [
      "d:\\work\\conda\\nn_310\\lib\\site-packages\\torch\\optim\\lr_scheduler.py:60: UserWarning: The verbose parameter is deprecated. Please use get_last_lr() to access the learning rate.\n",
      "  warnings.warn(\n"
     ]
    },
    {
     "name": "stdout",
     "output_type": "stream",
     "text": [
      "Target 0 - Epoch 1/150, Loss: 0.7456417139165286\n",
      "Target 0 - Validation Loss: 0.6377067053463401\n",
      "Target 0 - Epoch 2/150, Loss: 0.653817200215488\n",
      "Target 0 - Validation Loss: 0.6237952015021953\n",
      "Target 0 - Epoch 3/150, Loss: 0.617162110056819\n",
      "Target 0 - Validation Loss: 0.6011702432865049\n",
      "Target 0 - Epoch 4/150, Loss: 0.6013372449613199\n",
      "Target 0 - Validation Loss: 0.5838652925520409\n",
      "Target 0 - Epoch 5/150, Loss: 0.5783846390365464\n",
      "Target 0 - Validation Loss: 0.5673090357606004\n",
      "Target 0 - Epoch 6/150, Loss: 0.5655879200231738\n",
      "Target 0 - Validation Loss: 0.5539657342724684\n",
      "Target 0 - Epoch 7/150, Loss: 0.5574437453888539\n",
      "Target 0 - Validation Loss: 0.5837233804348039\n",
      "Target 0 - Epoch 8/150, Loss: 0.545900570864721\n",
      "Target 0 - Validation Loss: 0.5552384855180252\n",
      "Target 0 - Epoch 9/150, Loss: 0.5302011539432697\n",
      "Target 0 - Validation Loss: 0.5460535455040816\n",
      "Target 0 - Epoch 10/150, Loss: 0.5178938938032199\n",
      "Target 0 - Validation Loss: 0.5480545679243599\n",
      "Target 0 - Epoch 11/150, Loss: 0.5147343608437152\n",
      "Target 0 - Validation Loss: 0.5455838065685296\n",
      "Target 0 - Epoch 12/150, Loss: 0.5034581955249716\n",
      "Target 0 - Validation Loss: 0.5617899393163076\n",
      "Target 0 - Epoch 13/150, Loss: 0.49273973537563553\n",
      "Target 0 - Validation Loss: 0.5297348720998298\n",
      "Target 0 - Epoch 14/150, Loss: 0.4873886360536988\n",
      "Target 0 - Validation Loss: 0.5219785663776282\n",
      "Target 0 - Epoch 15/150, Loss: 0.4744923730130966\n",
      "Target 0 - Validation Loss: 0.5311198899658715\n",
      "Target 0 - Epoch 16/150, Loss: 0.46192163292591165\n",
      "Target 0 - Validation Loss: 0.5386042834782019\n",
      "Target 0 - Epoch 17/150, Loss: 0.4580904547488544\n",
      "Target 0 - Validation Loss: 0.5213726092039085\n",
      "Target 0 - Epoch 18/150, Loss: 0.4478642614558339\n",
      "Target 0 - Validation Loss: 0.526345704023431\n",
      "Target 0 - Epoch 19/150, Loss: 0.44583904163957366\n",
      "Target 0 - Validation Loss: 0.5571642345408114\n",
      "Target 0 - Epoch 20/150, Loss: 0.43754757986199566\n",
      "Target 0 - Validation Loss: 0.5306963409955908\n",
      "Target 0 - Epoch 21/150, Loss: 0.4265274853877178\n",
      "Target 0 - Validation Loss: 0.5396283523338598\n",
      "Target 0 - Epoch 22/150, Loss: 0.42141864745218943\n",
      "Target 0 - Validation Loss: 0.5359213030556353\n",
      "Target 0 - Epoch 23/150, Loss: 0.4126750067012703\n",
      "Target 0 - Validation Loss: 0.579436002708063\n",
      "Target 0 - Epoch 24/150, Loss: 0.4027015685399131\n",
      "Target 0 - Validation Loss: 0.5353520201837144\n",
      "Target 0 - Epoch 25/150, Loss: 0.39702938267643134\n",
      "Target 0 - Validation Loss: 0.527546704905789\n",
      "Target 0 - Epoch 26/150, Loss: 0.39418954900806635\n",
      "Target 0 - Validation Loss: 0.5361278206110001\n",
      "Target 0 - Epoch 27/150, Loss: 0.3863534182537256\n",
      "Target 0 - Validation Loss: 0.5479351965392508\n",
      "Target 0 - Epoch 28/150, Loss: 0.38336639544676715\n",
      "Target 0 - Validation Loss: 0.5682247991605502\n",
      "Target 0 - Epoch 29/150, Loss: 0.33969596289552567\n",
      "Target 0 - Validation Loss: 0.5404123811096679\n",
      "Target 0 - Epoch 30/150, Loss: 0.31984638974706575\n",
      "Target 0 - Validation Loss: 0.5421660215389438\n",
      "Target 0 - Epoch 31/150, Loss: 0.3139970850699195\n",
      "Target 0 - Validation Loss: 0.5418561517101962\n",
      "Target 0 - Epoch 32/150, Loss: 0.3134735647543538\n",
      "Target 0 - Validation Loss: 0.5485028221112925\n",
      "Target 0 - Early stopping triggered\n",
      "Target 0 - Test Loss: 0.5237723621653347\n",
      "Average Test Loss for Individual Models: 0.5237723621653347\n"
     ]
    },
    {
     "name": "stderr",
     "output_type": "stream",
     "text": [
      "C:\\Users\\dalje\\AppData\\Local\\Temp\\ipykernel_6528\\1052176038.py:119: FutureWarning: You are using `torch.load` with `weights_only=False` (the current default value), which uses the default pickle module implicitly. It is possible to construct malicious pickle data which will execute arbitrary code during unpickling (See https://github.com/pytorch/pytorch/blob/main/SECURITY.md#untrusted-models for more details). In a future release, the default value for `weights_only` will be flipped to `True`. This limits the functions that could be executed during unpickling. Arbitrary objects will no longer be allowed to be loaded via this mode unless they are explicitly allowlisted by the user via `torch.serialization.add_safe_globals`. We recommend you start setting `weights_only=True` for any use case where you don't have full control of the loaded file. Please open an issue on GitHub for any issues related to this experimental feature.\n",
      "  model.load_state_dict(torch.load(f'best_model_target_{target_index}.pth'))\n"
     ]
    }
   ],
   "execution_count": 23
  },
  {
   "metadata": {
    "ExecuteTime": {
     "end_time": "2024-08-19T23:57:27.434927Z",
     "start_time": "2024-08-19T23:57:25.896178Z"
    }
   },
   "cell_type": "code",
   "source": [
    "for target_index in range(y_train.shape[1]):\n",
    "    model = models[target_index]\n",
    "\n",
    "    # Make predictions on the train, validation, and test sets\n",
    "    model.cpu().eval()\n",
    "    with torch.no_grad():\n",
    "        y_train_pred = model(X_train_tensor.cpu()).numpy()\n",
    "        y_val_pred = model(X_val_tensor.cpu()).numpy()\n",
    "        y_test_pred = model(X_test_tensor.cpu()).numpy()\n",
    "\n",
    "    # Inverse transform the predictions and targets to their original scale\n",
    "    y_train_pred_orig = scaler_y.inverse_transform(np.concatenate([np.zeros((y_train_pred.shape[0], target_index)), y_train_pred, np.zeros((y_train_pred.shape[0], y_train.shape[1] - target_index - 1))], axis=1))[:, target_index]\n",
    "    y_val_pred_orig = scaler_y.inverse_transform(np.concatenate([np.zeros((y_val_pred.shape[0], target_index)), y_val_pred, np.zeros((y_val_pred.shape[0], y_val.shape[1] - target_index - 1))], axis=1))[:, target_index]\n",
    "    y_test_pred_orig = scaler_y.inverse_transform(np.concatenate([np.zeros((y_test_pred.shape[0], target_index)), y_test_pred, np.zeros((y_test_pred.shape[0], y_test.shape[1] - target_index - 1))], axis=1))[:, target_index]\n",
    "\n",
    "    y_train_orig = scaler_y.inverse_transform(y_train)[:, target_index]\n",
    "    y_val_orig = scaler_y.inverse_transform(y_val)[:, target_index]\n",
    "    y_test_orig = scaler_y.inverse_transform(y_test)[:, target_index]\n",
    "\n",
    "    # Create dataframes for the predictions and actual values\n",
    "    train_df[f'Observed_{target_index}'] = y_train_orig\n",
    "    train_df[f'Predicted_{target_index}'] = y_train_pred_orig\n",
    "\n",
    "    val_df[f'Observed_{target_index}'] = y_val_orig\n",
    "    val_df[f'Predicted_{target_index}'] = y_val_pred_orig\n",
    "\n",
    "    test_df[f'Observed_{target_index}'] = y_test_orig\n",
    "    test_df[f'Predicted_{target_index}'] = y_test_pred_orig\n",
    "\n",
    "    # Create and insert parity plots for train, validation, and test sets\n",
    "    r2, rmse, mae = create_excel_chart('Train', target_index, train_sheet, train_df, start_row=0, start_col=target_index*9)\n",
    "    r2_scores.append(r2)\n",
    "    rmse_scores.append(rmse)\n",
    "    mae_scores.append(mae)\n",
    "    create_excel_chart('Validation', target_index, val_sheet, val_df, start_row=0, start_col=target_index*9)\n",
    "    create_excel_chart('Test', target_index, test_sheet, test_df, start_row=0, start_col=target_index*9)\n",
    "\n",
    "# Write dataframes to Excel sheets\n",
    "train_df.to_excel(writer, sheet_name='Train', index=False)\n",
    "val_df.to_excel(writer, sheet_name='Validation', index=False)\n",
    "test_df.to_excel(writer, sheet_name='Test', index=False)\n",
    "\n",
    "# Save and close the Excel file\n",
    "writer.close()\n",
    "\n",
    "# Calculate and print the average R², RMSE, and MAE for the validation set\n",
    "avg_r2 = np.mean(r2_scores)\n",
    "avg_rmse = np.mean(rmse_scores)\n",
    "avg_mae = np.mean(mae_scores)\n",
    "\n",
    "print(f\"Average R² for Validation Set: {avg_r2}\")\n",
    "print(f\"Average RMSE for Validation Set: {avg_rmse}\")\n",
    "print(f\"Average MAE for Validation Set: {avg_mae}\")\n",
    "\n",
    "print(f\"Predictions and plots written to {output_path}\")"
   ],
   "outputs": [
    {
     "name": "stderr",
     "output_type": "stream",
     "text": [
      "d:\\work\\conda\\nn_310\\lib\\site-packages\\sklearn\\metrics\\_regression.py:492: FutureWarning: 'squared' is deprecated in version 1.4 and will be removed in 1.6. To calculate the root mean squared error, use the function'root_mean_squared_error'.\n",
      "  warnings.warn(\n",
      "d:\\work\\conda\\nn_310\\lib\\site-packages\\sklearn\\metrics\\_regression.py:492: FutureWarning: 'squared' is deprecated in version 1.4 and will be removed in 1.6. To calculate the root mean squared error, use the function'root_mean_squared_error'.\n",
      "  warnings.warn(\n",
      "d:\\work\\conda\\nn_310\\lib\\site-packages\\sklearn\\metrics\\_regression.py:492: FutureWarning: 'squared' is deprecated in version 1.4 and will be removed in 1.6. To calculate the root mean squared error, use the function'root_mean_squared_error'.\n",
      "  warnings.warn(\n"
     ]
    },
    {
     "name": "stdout",
     "output_type": "stream",
     "text": [
      "Average R² for Validation Set: 0.6174621642126303\n",
      "Average RMSE for Validation Set: 1.2294773174772966\n",
      "Average MAE for Validation Set: 0.935300670900746\n",
      "Predictions and plots written to individual_model_predictions_with_plots.xlsx\n"
     ]
    }
   ],
   "execution_count": 24
  }
 ]
}

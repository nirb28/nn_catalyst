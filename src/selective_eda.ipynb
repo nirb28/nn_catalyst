{
 "nbformat": 4,
 "nbformat_minor": 0,
 "metadata": {
  "colab": {
   "provenance": [],
   "history_visible": true,
   "gpuType": "T4",
   "include_colab_link": true
  },
  "kernelspec": {
   "name": "python3",
   "display_name": "Python 3 (ipykernel)",
   "language": "python"
  },
  "language_info": {
   "name": "python"
  },
  "accelerator": "GPU"
 },
 "cells": [
  {
   "cell_type": "markdown",
   "metadata": {
    "id": "view-in-github",
    "colab_type": "text"
   },
   "source": [
    "<a href=\"https://colab.research.google.com/github/nirb28/nn_catalyst/blob/main/src/eda.ipynb\" target=\"_parent\"><img src=\"https://colab.research.google.com/assets/colab-badge.svg\" alt=\"Open In Colab\"/></a>"
   ]
  },
  {
   "cell_type": "code",
   "source": [
    "import wandb, os, sys\n",
    "\n",
    "IN_COLAB = 'google.colab' in sys.modules\n",
    "\n",
    "if IN_COLAB:\n",
    "    print(\"Running in Colab!\")\n",
    "    from google.colab import drive\n",
    "    drive.mount('/content/drive', force_remount=False)\n",
    "    from google.colab import userdata\n",
    "    WANDB_KEY = userdata.get('WANDB_KEY')\n",
    "    wandb.login(key=WANDB_KEY)\n",
    "else:\n",
    "    print(\"Not running in Colab.\")\n",
    "\n",
    "def resolve_path_gdrive(relativePath):\n",
    "    if os.path.exists('/content/drive'):\n",
    "        return '/content/drive/MyDrive/work/gdrive-workspaces/git/nn_catalyst/' + relativePath\n",
    "    else:\n",
    "        from utils import get_project_root\n",
    "        return get_project_root() + \"/\" + relativePath"
   ],
   "metadata": {
    "id": "hoOmBk4-7xn_",
    "outputId": "924a786b-7aef-4c38-ec81-19ff3f9a7fe8",
    "colab": {
     "base_uri": "https://localhost:8080/"
    },
    "ExecuteTime": {
     "end_time": "2024-09-15T20:16:34.434470Z",
     "start_time": "2024-09-15T20:16:34.417515Z"
    }
   },
   "outputs": [
    {
     "name": "stdout",
     "output_type": "stream",
     "text": [
      "Not running in Colab.\n"
     ]
    }
   ],
   "execution_count": 1
  },
  {
   "cell_type": "code",
   "source": [
    "if 'xlsxwriter' not in sys.modules:\n",
    "    !pip install xlsxwriter\n",
    "import xlsxwriter"
   ],
   "metadata": {
    "id": "bXsAGjvscr-3",
    "outputId": "b06749d6-a29c-4629-a836-d11cca1b44f1",
    "colab": {
     "base_uri": "https://localhost:8080/"
    },
    "ExecuteTime": {
     "end_time": "2024-09-15T20:17:46.934367Z",
     "start_time": "2024-09-15T20:17:42.867569Z"
    }
   },
   "outputs": [
    {
     "name": "stdout",
     "output_type": "stream",
     "text": [
      "Requirement already satisfied: xlsxwriter in d:\\work\\conda\\nn_310\\lib\\site-packages (3.1.1)\n"
     ]
    }
   ],
   "execution_count": 2
  },
  {
   "cell_type": "code",
   "metadata": {
    "id": "npSP_nXh7CNA",
    "ExecuteTime": {
     "end_time": "2024-09-15T20:18:23.494062Z",
     "start_time": "2024-09-15T20:17:49.247119Z"
    }
   },
   "source": [
    "import pandas as pd\n",
    "from sklearn.feature_selection import VarianceThreshold\n",
    "from sklearn.model_selection import train_test_split\n",
    "from sklearn.preprocessing import StandardScaler\n",
    "import torch\n",
    "import torch.nn as nn\n",
    "import numpy as np\n",
    "from sklearn.metrics import r2_score, mean_squared_error, mean_absolute_error\n",
    "import torch.nn.functional as F\n",
    "\n",
    "# Load the data\n",
    "descriptors_path = 'descriptors.csv'\n",
    "targets_path = 'compiled_data.csv'\n"
   ],
   "outputs": [],
   "execution_count": 3
  },
  {
   "cell_type": "code",
   "source": [
    "descriptors_df = pd.read_csv(resolve_path_gdrive(descriptors_path))\n",
    "orig_targets_df = pd.read_csv(resolve_path_gdrive(targets_path))"
   ],
   "metadata": {
    "id": "wKrIMr8_7Gnk",
    "outputId": "a347051f-92b9-4a94-805e-d68a1e6cf45f",
    "colab": {
     "base_uri": "https://localhost:8080/"
    },
    "ExecuteTime": {
     "end_time": "2024-09-15T20:22:22.521025Z",
     "start_time": "2024-09-15T20:22:08.601417Z"
    }
   },
   "outputs": [
    {
     "name": "stderr",
     "output_type": "stream",
     "text": [
      "C:\\Users\\dalje\\AppData\\Local\\Temp\\ipykernel_12420\\2157616421.py:1: DtypeWarning: Columns (90,91,92,93,94,95,96,97,98,138,139,140,147,148,149,165,166,167,174,175,176,183,184,185,189,190,191,192,193,194,201,202,203,210,211,212,219,220,221,228,229,230,234,235,236,237,238,239,240,241,242,297,298,299,300,301,302,303,304,305,342,343,344,345,346,347,354,355,356,363,364,365,381,382,383,390,391,392,399,400,401,405,406,407,408,409,410,417,418,419,426,427,428,435,436,437,444,445,446,450,451,452,453,454,460,461,462,468,469,470,484,485,486,492,493,494,500,501,502,506,507,508,509,510,516,517,518,524,525,526,532,533,534,540,541,542,546,547,548,549,550,556,557,558,564,565,566,580,581,582,588,589,590,596,597,598,602,603,604,605,606,612,613,614,620,621,622,628,629,630,636,637,638,781,782,783,784,785,786,787,788,789,790,791,792,793,794,795,796,797,798,799,800,801,802,803,804,805,806,807,808,809,810,811,812,813,814,815,816,817,818,819,820,821,822,823,833,870,871,875,883,886,887,894,902,1351,1452) have mixed types. Specify dtype option on import or set low_memory=False.\n",
      "  descriptors_df = pd.read_csv(resolve_path_gdrive(descriptors_path))\n"
     ]
    }
   ],
   "execution_count": 9
  },
  {
   "cell_type": "code",
   "source": [
    "# Show sample rows\n",
    "print(\"\\nSample Rows from Descriptors DataFrame:\")\n",
    "print(descriptors_df.head())\n",
    "print(\"\\nSample Rows from Targets DataFrame:\")\n",
    "print(orig_targets_df.head())\n"
   ],
   "metadata": {
    "id": "4h1eJaFR8j8z",
    "outputId": "535eb09a-94db-4f14-b818-043d59e95c18",
    "colab": {
     "base_uri": "https://localhost:8080/"
    },
    "ExecuteTime": {
     "end_time": "2024-09-15T20:22:22.551608Z",
     "start_time": "2024-09-15T20:22:22.523019Z"
    }
   },
   "outputs": [
    {
     "name": "stdout",
     "output_type": "stream",
     "text": [
      "\n",
      "Sample Rows from Descriptors DataFrame:\n",
      "   Label        ABC     ABCGG  nAcid  nBase             SpAbs_A  \\\n",
      "0   9268   4.719397  5.004088      0      0   6.720566232730447   \n",
      "1  10488  10.334062  9.836417      0      0  16.752497538971177   \n",
      "2  25579   5.875634  5.566041      0      0    9.43114762028933   \n",
      "3   8952   6.611250  6.890735      1      0   10.68725972618713   \n",
      "4  23681   7.249407  6.976306      0      0  11.945821561028193   \n",
      "\n",
      "              SpMax_A           SpDiam_A              SpAD_A  \\\n",
      "0  2.1010029896154583  4.202005979230917   6.720566232730447   \n",
      "1  2.3623398328574394  4.724679665714879  16.752497538971177   \n",
      "2  2.1753277471610764  4.350655494322151    9.43114762028933   \n",
      "3    2.28774942353935  4.425414875225794   10.68725972618713   \n",
      "4  2.2671838628844996     4.534367725769  11.945821561028193   \n",
      "\n",
      "              SpMAD_A  ...     SRW10     TSRW10          MW        AMW WPath  \\\n",
      "0  0.9600808903900638  ...  8.123558  33.343946  136.047505   6.802375    46   \n",
      "1  1.1966069670693698  ...  9.472628  45.579501  215.042359   8.960098   296   \n",
      "2  1.1788934525361663  ...  8.479907  35.755147  111.048427   7.932031    61   \n",
      "3  1.1874733029096811  ...  8.735364  51.247665  143.004099  10.214579    84   \n",
      "4  1.1945821561028194  ...  8.912069  39.310842  219.935762  13.745985   116   \n",
      "\n",
      "  WPol Zagreb1  Zagreb2            mZagreb1  mZagreb2  \n",
      "0    4    28.0     26.0              4.5625  1.625000  \n",
      "1   20    68.0     77.0   6.645833333333334  3.152778  \n",
      "2    7    36.0     38.0  3.2222222222222223  1.833333  \n",
      "3    9    42.0     47.0   4.083333333333334  2.055556  \n",
      "4   12    46.0     51.0   4.333333333333334  2.361111  \n",
      "\n",
      "[5 rows x 1827 columns]\n",
      "\n",
      "Sample Rows from Targets DataFrame:\n",
      "   mol_num    homo_n    lumo_n  max_charge_pos_n  max_charge_neg_n  dipole_n  \\\n",
      "0        1 -0.176481 -0.145696          0.888482         -0.649339   4.63917   \n",
      "1        4 -0.178590 -0.137610          0.504333         -0.471034   0.00005   \n",
      "2       11 -0.217144 -0.012080          1.183065         -0.787892   3.31424   \n",
      "3       12 -0.239982 -0.148671          1.500277         -0.805734   5.84638   \n",
      "4       13 -0.200493 -0.051637          1.358121         -0.784531   4.96208   \n",
      "\n",
      "       gibbs_n    elec_en_n  homo_spin_up_o  lumo_spin_up_o  ...  \\\n",
      "0 -1300.801410 -1300.941844       -0.322360       -0.259491  ...   \n",
      "1 -1744.173565 -1744.181119       -0.346743       -0.285237  ...   \n",
      "2 -2467.395463 -2467.453515       -0.487984       -0.232104  ...   \n",
      "3 -2899.351866 -2899.436209       -0.430495       -0.320760  ...   \n",
      "4 -2750.245324 -2750.344206       -0.386077       -0.229918  ...   \n",
      "\n",
      "   homo_spin_down_r  lumo_spin_down_r  max_charge_pos_r  max_charge_neg_r  \\\n",
      "0         -0.058523         -0.005780          0.854274         -0.665933   \n",
      "1         -0.059445         -0.014988          0.265960         -0.449216   \n",
      "2         -0.001917          0.081394          0.822369         -0.883380   \n",
      "3         -0.071437          0.030607          1.462250         -0.833701   \n",
      "4         -0.031962          0.059756          0.981067         -0.848564   \n",
      "\n",
      "   max_spin_r  dipole_r      gibbs_r    elec_en_r    ddg_ox   ddg_red  \n",
      "0    0.933582   8.80921 -1300.876422 -1301.015198  6.520420 -2.041162  \n",
      "1    0.472025   0.00001 -1744.249342 -1744.255224  6.861198 -2.061959  \n",
      "2    0.395451   1.28878 -2467.386751 -2467.438463  8.947798  0.237066  \n",
      "3    0.258320   5.08854 -2899.424545 -2899.506382  8.787097 -1.977691  \n",
      "4    0.383838   6.90040 -2750.251506 -2750.346633  7.655302 -0.168215  \n",
      "\n",
      "[5 rows x 30 columns]\n"
     ]
    }
   ],
   "execution_count": 10
  },
  {
   "metadata": {
    "ExecuteTime": {
     "end_time": "2024-09-15T20:30:49.668163Z",
     "start_time": "2024-09-15T20:30:49.651344Z"
    }
   },
   "cell_type": "code",
   "source": [
    "selected_cols = [5, 7]\n",
    "number_of_target_cols = len(selected_cols)\n",
    "selected_cols.insert(0, 0)\n",
    "targets_df = orig_targets_df.iloc[:, selected_cols]"
   ],
   "outputs": [],
   "execution_count": 18
  },
  {
   "cell_type": "code",
   "source": [
    "\n",
    "# Keep only numeric columns\n",
    "descriptors_numeric = descriptors_df.select_dtypes(include=['number'])\n",
    "targets_numeric = targets_df.select_dtypes(include=['number'])\n",
    "\n",
    "# Merge the numeric dataframes on the common label column\n",
    "numeric_data = pd.merge(descriptors_numeric, targets_numeric, left_on='Label', right_on='mol_num')\n",
    "numeric_data = numeric_data.drop(columns=['Label', 'mol_num'])\n",
    "\n",
    "# Separate features and targets\n",
    "X = numeric_data.iloc[:, :-number_of_target_cols]  # Assuming the last N columns are targets\n",
    "y = numeric_data.iloc[:, -number_of_target_cols:]"
   ],
   "metadata": {
    "id": "sLC9NyHGV6Js",
    "ExecuteTime": {
     "end_time": "2024-09-15T20:30:52.705666Z",
     "start_time": "2024-09-15T20:30:52.380428Z"
    }
   },
   "outputs": [],
   "execution_count": 19
  },
  {
   "metadata": {
    "ExecuteTime": {
     "end_time": "2024-09-15T20:31:26.079771Z",
     "start_time": "2024-09-15T20:31:25.552056Z"
    }
   },
   "cell_type": "code",
   "source": [
    "\n",
    "# Apply variance threshold\n",
    "selector = VarianceThreshold()\n",
    "X_high_variance = selector.fit_transform(X)\n",
    "\n",
    "# Convert to numpy arrays\n",
    "X = X_high_variance\n",
    "y = y.values"
   ],
   "outputs": [],
   "execution_count": 20
  },
  {
   "metadata": {
    "ExecuteTime": {
     "end_time": "2024-09-15T20:31:39.628910Z",
     "start_time": "2024-09-15T20:31:39.253960Z"
    }
   },
   "cell_type": "code",
   "source": [
    "# Split the data into training, validation, and test sets\n",
    "X_train, X_temp, y_train, y_temp = train_test_split(X, y, test_size=0.2, random_state=42)\n",
    "X_val, X_test, y_val, y_test = train_test_split(X_temp, y_temp, test_size=0.5, random_state=42)"
   ],
   "outputs": [],
   "execution_count": 21
  },
  {
   "metadata": {
    "ExecuteTime": {
     "end_time": "2024-09-15T20:35:31.578867Z",
     "start_time": "2024-09-15T20:35:31.218956Z"
    }
   },
   "cell_type": "code",
   "source": [
    "# Standardize the data\n",
    "scaler_X = StandardScaler().fit(X_train)\n",
    "scaler_y = StandardScaler().fit(y_train)\n",
    "\n",
    "X_train = scaler_X.transform(X_train)\n",
    "X_val = scaler_X.transform(X_val)\n",
    "X_test = scaler_X.transform(X_test)\n",
    "\n",
    "y_train = scaler_y.transform(y_train)\n",
    "y_val = scaler_y.transform(y_val)\n",
    "y_test = scaler_y.transform(y_test)\n",
    "\n",
    "# Convert the data to PyTorch tensors\n",
    "X_train_tensor = torch.tensor(X_train, dtype=torch.float32)\n",
    "y_train_tensor = torch.tensor(y_train, dtype=torch.float32)\n",
    "X_val_tensor = torch.tensor(X_val, dtype=torch.float32)\n",
    "y_val_tensor = torch.tensor(y_val, dtype=torch.float32)\n",
    "X_test_tensor = torch.tensor(X_test, dtype=torch.float32)\n",
    "y_test_tensor = torch.tensor(y_test, dtype=torch.float32)\n"
   ],
   "outputs": [],
   "execution_count": 22
  },
  {
   "cell_type": "code",
   "source": [
    "class SingleTargetNet_orig(nn.Module):\n",
    "    def __init__(self, input_size, dropout_rate=0.5):\n",
    "        super(SingleTargetNet_orig, self).__init__()\n",
    "        self.fc1 = nn.Linear(input_size, 512)\n",
    "        self.bn1 = nn.BatchNorm1d(512)\n",
    "        self.fc2 = nn.Linear(512, 256)\n",
    "        self.bn2 = nn.BatchNorm1d(256)\n",
    "        self.fc3 = nn.Linear(256, 1)\n",
    "        self.fc_skip = nn.Linear(512, 256)\n",
    "        self.dropout = nn.Dropout(dropout_rate)\n",
    "\n",
    "    def forward(self, x):\n",
    "        x1 = F.relu(self.bn1(self.fc1(x)))\n",
    "        x1 = self.dropout(x1)\n",
    "\n",
    "        x2 = F.relu(self.bn2(self.fc2(x1)))\n",
    "        x2 = self.dropout(x2)\n",
    "\n",
    "        # Skip connection\n",
    "        x2 += self.fc_skip(x1)\n",
    "\n",
    "        x3 = self.fc3(x2)\n",
    "        return x3\n",
    "\n",
    "# Define the individual model class\n",
    "class SingleTargetNet(nn.Module):\n",
    "    def __init__(self, input_size, dropout_rate=0.5):\n",
    "        super(SingleTargetNet, self).__init__()\n",
    "        self.fc1 = nn.Linear(input_size, 1024)\n",
    "        self.bn1 = nn.BatchNorm1d(1024)\n",
    "        self.fc2 = nn.Linear(1024, 512)\n",
    "        self.bn2 = nn.BatchNorm1d(512)\n",
    "        self.fc3 = nn.Linear(512, 1)\n",
    "        self.fc_skip = nn.Linear(1024, 512)\n",
    "        self.dropout = nn.Dropout(dropout_rate)\n",
    "\n",
    "    def forward(self, x):\n",
    "        x1 = F.relu(self.bn1(self.fc1(x)))\n",
    "        x1 = self.dropout(x1)\n",
    "\n",
    "        x2 = F.relu(self.bn2(self.fc2(x1)))\n",
    "        x2 = self.dropout(x2)\n",
    "\n",
    "        # Skip connection\n",
    "        x2 += self.fc_skip(x1)\n",
    "\n",
    "        x3 = self.fc3(x2)\n",
    "        return x3\n",
    "\n",
    "# Initialize Excel writer\n",
    "output_path = 'STN_selective_model_predictions_with_plots.xlsx'\n",
    "writer = pd.ExcelWriter(output_path, engine='xlsxwriter')\n",
    "workbook = writer.book\n",
    "\n",
    "# Prepare DataFrames for train, validation, and test predictions\n",
    "train_df = pd.DataFrame()\n",
    "val_df = pd.DataFrame()\n",
    "test_df = pd.DataFrame()\n",
    "\n",
    "r2_scores, rmse_scores, mae_scores = [], [], []\n",
    "\n",
    "def create_excel_chart(sheet_name, target_index, worksheet, df, start_row, start_col):\n",
    "    chart = workbook.add_chart({'type': 'scatter'})\n",
    "\n",
    "    observed_col = f'Observed_{target_index}'\n",
    "    predicted_col = f'Predicted_{target_index}'\n",
    "\n",
    "    chart.add_series({\n",
    "        'name': f'Target {target_index}',\n",
    "        'categories': [sheet_name, start_row+1, df.columns.get_loc(observed_col), start_row+df.shape[0], df.columns.get_loc(observed_col)],\n",
    "        'values': [sheet_name, start_row+1, df.columns.get_loc(predicted_col), start_row+df.shape[0], df.columns.get_loc(predicted_col)],\n",
    "        'marker': {'type': 'circle', 'size': 5},\n",
    "        'trendline': {\n",
    "            'type': 'linear',\n",
    "            'display_equation': True,\n",
    "            'display_r_squared': True,\n",
    "        }\n",
    "    })\n",
    "    chart.set_title({'name': f'Parity Plot for Target {target_index}'})\n",
    "    chart.set_x_axis({'name': 'Observed'})\n",
    "    chart.set_y_axis({'name': 'Predicted'})\n",
    "    chart.set_legend({'none': True})\n",
    "\n",
    "    # Make axes square with the same unit ranges on x and y axis\n",
    "    min_val = min(df[observed_col].min(), df[predicted_col].min())\n",
    "    max_val = max(df[observed_col].max(), df[predicted_col].max())\n",
    "    chart.set_x_axis({'min': min_val, 'max': max_val})\n",
    "    chart.set_y_axis({'min': min_val, 'max': max_val})\n",
    "\n",
    "    worksheet.insert_chart(start_row + df.shape[0] + 2, start_col, chart)\n",
    "\n",
    "    # Calculate metrics\n",
    "    observed = df[observed_col]\n",
    "    predicted = df[predicted_col]\n",
    "    r2 = r2_score(observed, predicted)\n",
    "    rmse = mean_squared_error(observed, predicted, squared=False)\n",
    "    mae = mean_absolute_error(observed, predicted)\n",
    "\n",
    "    # Write metrics to Excel\n",
    "    metrics_start_row = start_row + df.shape[0] + 22\n",
    "    worksheet.write(metrics_start_row, start_col, f'Target {target_index}')\n",
    "    worksheet.write(metrics_start_row + 1, start_col + 1, 'R²')\n",
    "    worksheet.write(metrics_start_row + 1, start_col + 2, r2)\n",
    "    worksheet.write(metrics_start_row + 2, start_col + 1, 'RMSE')\n",
    "    worksheet.write(metrics_start_row + 2, start_col + 2, rmse)\n",
    "    worksheet.write(metrics_start_row + 3, start_col + 1, 'MAE')\n",
    "    worksheet.write(metrics_start_row + 3, start_col + 2, mae)\n",
    "\n",
    "    return r2, rmse, mae\n"
   ],
   "metadata": {
    "id": "kC_fn2ivcYFu",
    "ExecuteTime": {
     "end_time": "2024-09-15T20:41:03.426911Z",
     "start_time": "2024-09-15T20:41:03.399106Z"
    }
   },
   "outputs": [],
   "execution_count": 28
  },
  {
   "metadata": {
    "colab": {
     "base_uri": "https://localhost:8080/"
    },
    "id": "JTKPa2MmyRlO",
    "outputId": "169a3834-f819-4ec2-f299-6db9558247a6",
    "ExecuteTime": {
     "end_time": "2024-09-15T20:41:05.701674Z",
     "start_time": "2024-09-15T20:41:05.687710Z"
    }
   },
   "cell_type": "code",
   "source": "X_train.shape",
   "outputs": [
    {
     "data": {
      "text/plain": [
       "7"
      ]
     },
     "execution_count": 29,
     "metadata": {},
     "output_type": "execute_result"
    }
   ],
   "execution_count": 29
  },
  {
   "cell_type": "code",
   "source": [
    "for target_index in range(y_train.shape[1]):\n",
    "    # Load the saved model\n",
    "    model = SingleTargetNet(X_train.shape[1])\n",
    "    model_target_index = selected_cols[1+1]\n",
    "\n",
    "    model.load_state_dict(torch.load(resolve_path_gdrive(f'src/saved_models/best_model_target_{model_target_index}.pth')))\n",
    "\n",
    "    # Make predictions on the train, validation, and test sets\n",
    "    model.eval()\n",
    "    with torch.no_grad():\n",
    "        y_train_pred = model(X_train_tensor).numpy()\n",
    "        y_val_pred = model(X_val_tensor).numpy()\n",
    "        y_test_pred = model(X_test_tensor).numpy()\n",
    "\n",
    "    # Inverse transform the predictions and targets to their original scale\n",
    "    y_train_pred_orig = scaler_y.inverse_transform(np.concatenate([np.zeros((y_train_pred.shape[0], target_index)), y_train_pred, np.zeros((y_train_pred.shape[0], y_train.shape[1] - target_index - 1))], axis=1))[:, target_index]\n",
    "    y_val_pred_orig = scaler_y.inverse_transform(np.concatenate([np.zeros((y_val_pred.shape[0], target_index)), y_val_pred, np.zeros((y_val_pred.shape[0], y_val.shape[1] - target_index - 1))], axis=1))[:, target_index]\n",
    "    y_test_pred_orig = scaler_y.inverse_transform(np.concatenate([np.zeros((y_test_pred.shape[0], target_index)), y_test_pred, np.zeros((y_test_pred.shape[0], y_test.shape[1] - target_index - 1))], axis=1))[:, target_index]\n",
    "\n",
    "    y_train_orig = scaler_y.inverse_transform(y_train)[:, target_index]\n",
    "    y_val_orig = scaler_y.inverse_transform(y_val)[:, target_index]\n",
    "    y_test_orig = scaler_y.inverse_transform(y_test)[:, target_index]\n",
    "\n",
    "    # Create dataframes for the predictions and actual values\n",
    "    train_df[f'Observed_{target_index}'] = y_train_orig\n",
    "    train_df[f'Predicted_{target_index}'] = y_train_pred_orig\n",
    "\n",
    "    val_df[f'Observed_{target_index}'] = y_val_orig\n",
    "    val_df[f'Predicted_{target_index}'] = y_val_pred_orig\n",
    "\n",
    "    test_df[f'Observed_{target_index}'] = y_test_orig\n",
    "    test_df[f'Predicted_{target_index}'] = y_test_pred_orig\n",
    "\n",
    "# Write dataframes to Excel sheets\n",
    "train_df.to_excel(writer, sheet_name='Train', index=False)\n",
    "val_df.to_excel(writer, sheet_name='Validation', index=False)\n",
    "test_df.to_excel(writer, sheet_name='Test', index=False)\n",
    "\n",
    "# Create and insert parity plots for train, validation, and test sets\n",
    "for target_index in range(y_train.shape[1]):\n",
    "    r2, rmse, mae = create_excel_chart('Train', target_index, writer.sheets['Train'], train_df, start_row=0, start_col=target_index*9)\n",
    "    r2_scores.append(r2)\n",
    "    rmse_scores.append(rmse)\n",
    "    mae_scores.append(mae)\n",
    "    create_excel_chart('Validation', target_index, writer.sheets['Validation'], val_df, start_row=0, start_col=target_index*9)\n",
    "    create_excel_chart('Test', target_index, writer.sheets['Test'], test_df, start_row=0, start_col=target_index*9)\n",
    "\n",
    "# Save and close the Excel file\n",
    "writer.close()\n",
    "\n",
    "# Calculate and print the average R², RMSE, and MAE for the validation set\n",
    "avg_r2 = np.mean(r2_scores)\n",
    "avg_rmse = np.mean(rmse_scores)\n",
    "avg_mae = np.mean(mae_scores)\n",
    "\n",
    "print(f\"Average R² for Validation Set: {avg_r2}\")\n",
    "print(f\"Average RMSE for Validation Set: {avg_rmse}\")\n",
    "print(f\"Average MAE for Validation Set: {avg_mae}\")\n",
    "\n",
    "print(f\"Predictions and plots written to {output_path}\")"
   ],
   "metadata": {
    "id": "gyoZ60K8cmqC",
    "outputId": "d7029be2-9489-4bde-ab27-1b5ae72d9017",
    "colab": {
     "base_uri": "https://localhost:8080/"
    },
    "ExecuteTime": {
     "end_time": "2024-09-15T20:41:51.233254Z",
     "start_time": "2024-09-15T20:41:50.244894Z"
    }
   },
   "outputs": [
    {
     "name": "stderr",
     "output_type": "stream",
     "text": [
      "C:\\Users\\dalje\\AppData\\Local\\Temp\\ipykernel_12420\\1692518076.py:6: FutureWarning: You are using `torch.load` with `weights_only=False` (the current default value), which uses the default pickle module implicitly. It is possible to construct malicious pickle data which will execute arbitrary code during unpickling (See https://github.com/pytorch/pytorch/blob/main/SECURITY.md#untrusted-models for more details). In a future release, the default value for `weights_only` will be flipped to `True`. This limits the functions that could be executed during unpickling. Arbitrary objects will no longer be allowed to be loaded via this mode unless they are explicitly allowlisted by the user via `torch.serialization.add_safe_globals`. We recommend you start setting `weights_only=True` for any use case where you don't have full control of the loaded file. Please open an issue on GitHub for any issues related to this experimental feature.\n",
      "  model.load_state_dict(torch.load(resolve_path_gdrive(f'src/saved_models/best_model_target_{model_target_index}.pth')))\n"
     ]
    },
    {
     "ename": "RuntimeError",
     "evalue": "Error(s) in loading state_dict for SingleTargetNet:\n\tsize mismatch for fc1.weight: copying a param with shape torch.Size([1024, 779]) from checkpoint, the shape in current model is torch.Size([1024, 780]).",
     "output_type": "error",
     "traceback": [
      "\u001B[1;31m---------------------------------------------------------------------------\u001B[0m",
      "\u001B[1;31mRuntimeError\u001B[0m                              Traceback (most recent call last)",
      "Cell \u001B[1;32mIn[30], line 6\u001B[0m\n\u001B[0;32m      3\u001B[0m model \u001B[38;5;241m=\u001B[39m SingleTargetNet(X_train\u001B[38;5;241m.\u001B[39mshape[\u001B[38;5;241m1\u001B[39m])\n\u001B[0;32m      4\u001B[0m model_target_index \u001B[38;5;241m=\u001B[39m selected_cols[\u001B[38;5;241m1\u001B[39m\u001B[38;5;241m+\u001B[39m\u001B[38;5;241m1\u001B[39m]\n\u001B[1;32m----> 6\u001B[0m \u001B[43mmodel\u001B[49m\u001B[38;5;241;43m.\u001B[39;49m\u001B[43mload_state_dict\u001B[49m\u001B[43m(\u001B[49m\u001B[43mtorch\u001B[49m\u001B[38;5;241;43m.\u001B[39;49m\u001B[43mload\u001B[49m\u001B[43m(\u001B[49m\u001B[43mresolve_path_gdrive\u001B[49m\u001B[43m(\u001B[49m\u001B[38;5;124;43mf\u001B[39;49m\u001B[38;5;124;43m'\u001B[39;49m\u001B[38;5;124;43msrc/saved_models/best_model_target_\u001B[39;49m\u001B[38;5;132;43;01m{\u001B[39;49;00m\u001B[43mmodel_target_index\u001B[49m\u001B[38;5;132;43;01m}\u001B[39;49;00m\u001B[38;5;124;43m.pth\u001B[39;49m\u001B[38;5;124;43m'\u001B[39;49m\u001B[43m)\u001B[49m\u001B[43m)\u001B[49m\u001B[43m)\u001B[49m\n\u001B[0;32m      8\u001B[0m \u001B[38;5;66;03m# Make predictions on the train, validation, and test sets\u001B[39;00m\n\u001B[0;32m      9\u001B[0m model\u001B[38;5;241m.\u001B[39meval()\n",
      "File \u001B[1;32md:\\work\\conda\\nn_310\\lib\\site-packages\\torch\\nn\\modules\\module.py:2215\u001B[0m, in \u001B[0;36mModule.load_state_dict\u001B[1;34m(self, state_dict, strict, assign)\u001B[0m\n\u001B[0;32m   2210\u001B[0m         error_msgs\u001B[38;5;241m.\u001B[39minsert(\n\u001B[0;32m   2211\u001B[0m             \u001B[38;5;241m0\u001B[39m, \u001B[38;5;124m'\u001B[39m\u001B[38;5;124mMissing key(s) in state_dict: \u001B[39m\u001B[38;5;132;01m{}\u001B[39;00m\u001B[38;5;124m. \u001B[39m\u001B[38;5;124m'\u001B[39m\u001B[38;5;241m.\u001B[39mformat(\n\u001B[0;32m   2212\u001B[0m                 \u001B[38;5;124m'\u001B[39m\u001B[38;5;124m, \u001B[39m\u001B[38;5;124m'\u001B[39m\u001B[38;5;241m.\u001B[39mjoin(\u001B[38;5;124mf\u001B[39m\u001B[38;5;124m'\u001B[39m\u001B[38;5;124m\"\u001B[39m\u001B[38;5;132;01m{\u001B[39;00mk\u001B[38;5;132;01m}\u001B[39;00m\u001B[38;5;124m\"\u001B[39m\u001B[38;5;124m'\u001B[39m \u001B[38;5;28;01mfor\u001B[39;00m k \u001B[38;5;129;01min\u001B[39;00m missing_keys)))\n\u001B[0;32m   2214\u001B[0m \u001B[38;5;28;01mif\u001B[39;00m \u001B[38;5;28mlen\u001B[39m(error_msgs) \u001B[38;5;241m>\u001B[39m \u001B[38;5;241m0\u001B[39m:\n\u001B[1;32m-> 2215\u001B[0m     \u001B[38;5;28;01mraise\u001B[39;00m \u001B[38;5;167;01mRuntimeError\u001B[39;00m(\u001B[38;5;124m'\u001B[39m\u001B[38;5;124mError(s) in loading state_dict for \u001B[39m\u001B[38;5;132;01m{}\u001B[39;00m\u001B[38;5;124m:\u001B[39m\u001B[38;5;130;01m\\n\u001B[39;00m\u001B[38;5;130;01m\\t\u001B[39;00m\u001B[38;5;132;01m{}\u001B[39;00m\u001B[38;5;124m'\u001B[39m\u001B[38;5;241m.\u001B[39mformat(\n\u001B[0;32m   2216\u001B[0m                        \u001B[38;5;28mself\u001B[39m\u001B[38;5;241m.\u001B[39m\u001B[38;5;18m__class__\u001B[39m\u001B[38;5;241m.\u001B[39m\u001B[38;5;18m__name__\u001B[39m, \u001B[38;5;124m\"\u001B[39m\u001B[38;5;130;01m\\n\u001B[39;00m\u001B[38;5;130;01m\\t\u001B[39;00m\u001B[38;5;124m\"\u001B[39m\u001B[38;5;241m.\u001B[39mjoin(error_msgs)))\n\u001B[0;32m   2217\u001B[0m \u001B[38;5;28;01mreturn\u001B[39;00m _IncompatibleKeys(missing_keys, unexpected_keys)\n",
      "\u001B[1;31mRuntimeError\u001B[0m: Error(s) in loading state_dict for SingleTargetNet:\n\tsize mismatch for fc1.weight: copying a param with shape torch.Size([1024, 779]) from checkpoint, the shape in current model is torch.Size([1024, 780])."
     ]
    }
   ],
   "execution_count": 30
  },
  {
   "cell_type": "code",
   "source": [
    "import torch\n",
    "torch.cuda.is_available()\n"
   ],
   "metadata": {
    "id": "o3VsGc6ilU_w",
    "ExecuteTime": {
     "end_time": "2024-08-17T23:27:16.675783Z",
     "start_time": "2024-08-17T23:27:13.088013Z"
    }
   },
   "outputs": [],
   "execution_count": null
  }
 ]
}

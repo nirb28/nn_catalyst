{
 "cells": [
  {
   "cell_type": "markdown",
   "metadata": {
    "id": "view-in-github",
    "colab_type": "text"
   },
   "source": [
    "<a href=\"https://colab.research.google.com/github/nirb28/nn_catalyst/blob/main/src/1_analysis.ipynb\" target=\"_parent\"><img src=\"https://colab.research.google.com/assets/colab-badge.svg\" alt=\"Open In Colab\"/></a>"
   ]
  },
  {
   "cell_type": "code",
   "execution_count": 9,
   "metadata": {
    "ExecuteTime": {
     "end_time": "2024-08-20T01:04:55.672554Z",
     "start_time": "2024-08-20T01:04:55.639837Z"
    },
    "colab": {
     "base_uri": "https://localhost:8080/"
    },
    "id": "OYFVi5Gn2QjN",
    "outputId": "347f50fc-7c7d-49b8-f4ad-07173a03377c"
   },
   "outputs": [
    {
     "output_type": "stream",
     "name": "stdout",
     "text": [
      "Running in Colab!\n",
      "Drive already mounted at /content/drive; to attempt to forcibly remount, call drive.mount(\"/content/drive\", force_remount=True).\n"
     ]
    },
    {
     "output_type": "stream",
     "name": "stderr",
     "text": [
      "\u001B[34m\u001B[1mwandb\u001B[0m: \u001B[33mWARNING\u001B[0m Calling wandb.login() after wandb.init() has no effect.\n"
     ]
    }
   ],
   "source": [
    "import wandb, os, sys\n",
    "\n",
    "IN_COLAB = 'google.colab' in sys.modules\n",
    "\n",
    "if IN_COLAB:\n",
    "    print(\"Running in Colab!\")\n",
    "    from google.colab import drive\n",
    "    drive.mount('/content/drive', force_remount=False)\n",
    "    from google.colab import userdata\n",
    "    WANDB_KEY = userdata.get('WANDB_KEY')\n",
    "    wandb.login(key=WANDB_KEY)\n",
    "else:\n",
    "    print(\"Not running in Colab.\")\n",
    "\n",
    "def resolve_path_gdrive(relativePath):\n",
    "    if os.path.exists('/content/drive'):\n",
    "        return '/content/drive/MyDrive/work/gdrive-workspaces/git/nn_catalyst/' + relativePath\n",
    "    else:\n",
    "        from utils import get_project_root\n",
    "        return get_project_root() + \"/\" + relativePath\n",
    "\n",
    "wandb.init(project=\"nn_catalyst\")"
   ]
  },
  {
   "cell_type": "code",
   "execution_count": 11,
   "metadata": {
    "ExecuteTime": {
     "end_time": "2024-08-20T01:04:57.981340Z",
     "start_time": "2024-08-20T01:04:56.553098Z"
    },
    "id": "42Sj4j7i2QjQ"
   },
   "outputs": [],
   "source": [
    "if 'xlsxwriter' not in sys.modules:\n",
    "    !pip install xlsxwriter\n",
    "import xlsxwriter"
   ]
  },
  {
   "cell_type": "code",
   "execution_count": 12,
   "metadata": {
    "ExecuteTime": {
     "end_time": "2024-08-20T01:04:58.368501Z",
     "start_time": "2024-08-20T01:04:58.352562Z"
    },
    "id": "Ak7hhtSw2QjQ"
   },
   "outputs": [],
   "source": [
    "import pandas as pd\n",
    "from sklearn.feature_selection import VarianceThreshold\n",
    "from sklearn.model_selection import train_test_split\n",
    "from sklearn.preprocessing import StandardScaler\n",
    "import torch\n",
    "import torch.nn as nn\n",
    "import torch.optim as optim\n",
    "from torch.utils.data import DataLoader, TensorDataset\n",
    "import numpy as np\n",
    "from sklearn.metrics import r2_score, mean_squared_error, mean_absolute_error\n",
    "import xlsxwriter\n",
    "import torch.nn.functional as F\n",
    "from torch.optim.lr_scheduler import ReduceLROnPlateau\n",
    "from torch.optim import AdamW\n",
    "\n",
    "# Load the data\n",
    "descriptors_path = 'descriptors.csv'\n",
    "targets_path = 'compiled_data.csv'\n"
   ]
  },
  {
   "cell_type": "code",
   "execution_count": 21,
   "metadata": {
    "ExecuteTime": {
     "end_time": "2024-08-20T01:05:12.396051Z",
     "start_time": "2024-08-20T01:04:59.214905Z"
    },
    "id": "L9Kr2K0S2QjQ"
   },
   "outputs": [],
   "source": [
    "#descriptors_df = pd.read_csv(resolve_path_gdrive(descriptors_path))\n",
    "targets_df = pd.read_csv(resolve_path_gdrive(targets_path))"
   ]
  },
  {
   "cell_type": "code",
   "execution_count": 22,
   "metadata": {
    "ExecuteTime": {
     "end_time": "2024-08-20T01:05:12.411047Z",
     "start_time": "2024-08-20T01:05:12.397088Z"
    },
    "colab": {
     "base_uri": "https://localhost:8080/"
    },
    "id": "tWWSEdLT2QjR",
    "outputId": "7ee59952-0fc1-4a2e-c3de-ede696d56716"
   },
   "outputs": [
    {
     "output_type": "stream",
     "name": "stdout",
     "text": [
      "\n",
      "Sample Rows from Descriptors DataFrame:\n",
      "   Label        ABC     ABCGG  nAcid  nBase             SpAbs_A  \\\n",
      "0   9268   4.719397  5.004088      0      0   6.720566232730447   \n",
      "1  10488  10.334062  9.836417      0      0  16.752497538971177   \n",
      "2  25579   5.875634  5.566041      0      0    9.43114762028933   \n",
      "3   8952   6.611250  6.890735      1      0   10.68725972618713   \n",
      "4  23681   7.249407  6.976306      0      0  11.945821561028193   \n",
      "\n",
      "              SpMax_A           SpDiam_A              SpAD_A  \\\n",
      "0  2.1010029896154583  4.202005979230917   6.720566232730447   \n",
      "1  2.3623398328574394  4.724679665714879  16.752497538971177   \n",
      "2  2.1753277471610764  4.350655494322151    9.43114762028933   \n",
      "3    2.28774942353935  4.425414875225794   10.68725972618713   \n",
      "4  2.2671838628844996     4.534367725769  11.945821561028193   \n",
      "\n",
      "              SpMAD_A  ...     SRW10     TSRW10          MW        AMW WPath  \\\n",
      "0  0.9600808903900638  ...  8.123558  33.343946  136.047505   6.802375    46   \n",
      "1  1.1966069670693698  ...  9.472628  45.579501  215.042359   8.960098   296   \n",
      "2  1.1788934525361663  ...  8.479907  35.755147  111.048427   7.932031    61   \n",
      "3  1.1874733029096811  ...  8.735364  51.247665  143.004099  10.214579    84   \n",
      "4  1.1945821561028194  ...  8.912069  39.310842  219.935762  13.745985   116   \n",
      "\n",
      "  WPol Zagreb1  Zagreb2            mZagreb1  mZagreb2  \n",
      "0    4    28.0     26.0              4.5625  1.625000  \n",
      "1   20    68.0     77.0   6.645833333333334  3.152778  \n",
      "2    7    36.0     38.0  3.2222222222222223  1.833333  \n",
      "3    9    42.0     47.0   4.083333333333334  2.055556  \n",
      "4   12    46.0     51.0   4.333333333333334  2.361111  \n",
      "\n",
      "[5 rows x 1827 columns]\n",
      "\n",
      "Sample Rows from Targets DataFrame:\n",
      "   mol_num    homo_n    lumo_n  max_charge_pos_n  max_charge_neg_n  dipole_n  \\\n",
      "0        1 -0.176481 -0.145696          0.888482         -0.649339   4.63917   \n",
      "1        4 -0.178590 -0.137610          0.504333         -0.471034   0.00005   \n",
      "2       11 -0.217144 -0.012080          1.183065         -0.787892   3.31424   \n",
      "3       12 -0.239982 -0.148671          1.500277         -0.805734   5.84638   \n",
      "4       13 -0.200493 -0.051637          1.358121         -0.784531   4.96208   \n",
      "\n",
      "       gibbs_n    elec_en_n  homo_spin_up_o  lumo_spin_up_o  ...  \\\n",
      "0 -1300.801410 -1300.941844       -0.322360       -0.259491  ...   \n",
      "1 -1744.173565 -1744.181119       -0.346743       -0.285237  ...   \n",
      "2 -2467.395463 -2467.453515       -0.487984       -0.232104  ...   \n",
      "3 -2899.351866 -2899.436209       -0.430495       -0.320760  ...   \n",
      "4 -2750.245324 -2750.344206       -0.386077       -0.229918  ...   \n",
      "\n",
      "   homo_spin_down_r  lumo_spin_down_r  max_charge_pos_r  max_charge_neg_r  \\\n",
      "0         -0.058523         -0.005780          0.854274         -0.665933   \n",
      "1         -0.059445         -0.014988          0.265960         -0.449216   \n",
      "2         -0.001917          0.081394          0.822369         -0.883380   \n",
      "3         -0.071437          0.030607          1.462250         -0.833701   \n",
      "4         -0.031962          0.059756          0.981067         -0.848564   \n",
      "\n",
      "   max_spin_r  dipole_r      gibbs_r    elec_en_r    ddg_ox   ddg_red  \n",
      "0    0.933582   8.80921 -1300.876422 -1301.015198  6.520420 -2.041162  \n",
      "1    0.472025   0.00001 -1744.249342 -1744.255224  6.861198 -2.061959  \n",
      "2    0.395451   1.28878 -2467.386751 -2467.438463  8.947798  0.237066  \n",
      "3    0.258320   5.08854 -2899.424545 -2899.506382  8.787097 -1.977691  \n",
      "4    0.383838   6.90040 -2750.251506 -2750.346633  7.655302 -0.168215  \n",
      "\n",
      "[5 rows x 30 columns]\n"
     ]
    }
   ],
   "source": [
    "# Show sample rows\n",
    "print(\"\\nSample Rows from Descriptors DataFrame:\")\n",
    "print(descriptors_df.head())\n",
    "print(\"\\nSample Rows from Targets DataFrame:\")\n",
    "print(targets_df.head())"
   ]
  },
  {
   "cell_type": "code",
   "execution_count": 30,
   "metadata": {
    "ExecuteTime": {
     "end_time": "2024-08-20T01:05:14.574360Z",
     "start_time": "2024-08-20T01:05:14.536500Z"
    },
    "colab": {
     "base_uri": "https://localhost:8080/"
    },
    "id": "6vJxB6lh2QjR",
    "outputId": "75447caf-118b-4f5a-a4ad-feb2e13c1f35"
   },
   "outputs": [
    {
     "output_type": "stream",
     "name": "stdout",
     "text": [
      "       mol_num  dipole_n\n",
      "0            1   4.63917\n",
      "1            4   0.00005\n",
      "2           11   3.31424\n",
      "3           12   5.84638\n",
      "4           13   4.96208\n",
      "...        ...       ...\n",
      "26228    34242   4.16353\n",
      "26229    34243   5.55982\n",
      "26230    34244   6.29952\n",
      "26231    34245   3.52367\n",
      "26232    34246   5.81051\n",
      "\n",
      "[26233 rows x 2 columns]\n",
      "cuda\n"
     ]
    }
   ],
   "source": [
    "# selected column\n",
    "selected_cols=5\n",
    "targets_df = targets_df.iloc[:, [0, selected_cols]]\n",
    "print(targets_df)\n",
    "device = torch.device('cuda' if torch.cuda.is_available() else 'cpu')\n",
    "print(device)\n",
    "wandb.log({\"target cols\": selected_cols})"
   ]
  },
  {
   "cell_type": "code",
   "execution_count": 31,
   "metadata": {
    "ExecuteTime": {
     "end_time": "2024-08-20T01:05:15.642749Z",
     "start_time": "2024-08-20T01:05:15.345021Z"
    },
    "id": "vY4vLqXb2QjR"
   },
   "outputs": [],
   "source": [
    "\n",
    "# Keep only numeric columns\n",
    "descriptors_numeric = descriptors_df.select_dtypes(include=['number'])\n",
    "targets_numeric = targets_df.select_dtypes(include=['number'])\n",
    "\n",
    "# Merge the numeric dataframes on the common label column\n",
    "numeric_data = pd.merge(descriptors_numeric, targets_numeric, left_on='Label', right_on='mol_num')\n",
    "numeric_data = numeric_data.drop(columns=['Label', 'mol_num'])\n",
    "\n",
    "# Separate features and targets\n",
    "X = numeric_data.iloc[:, :-len(str(selected_cols))]  # Assuming the last 30 columns are targets\n",
    "y = numeric_data.iloc[:, -len(str(selected_cols)):]\n"
   ]
  },
  {
   "cell_type": "code",
   "execution_count": 16,
   "metadata": {
    "ExecuteTime": {
     "end_time": "2024-08-20T01:05:17.178345Z",
     "start_time": "2024-08-20T01:05:16.104026Z"
    },
    "id": "APUS1Jw32QjS"
   },
   "outputs": [],
   "source": [
    "\n",
    "# Apply variance threshold\n",
    "selector = VarianceThreshold()\n",
    "X_high_variance = selector.fit_transform(X)\n",
    "\n",
    "# Convert to numpy arrays\n",
    "X = X_high_variance\n",
    "y = y.values\n",
    "\n",
    "# Split the data into training, validation, and test sets\n",
    "X_train, X_temp, y_train, y_temp = train_test_split(X, y, test_size=0.2, random_state=42)\n",
    "X_val, X_test, y_val, y_test = train_test_split(X_temp, y_temp, test_size=0.5, random_state=42)\n",
    "\n",
    "# Standardize the data\n",
    "scaler_X = StandardScaler().fit(X_train)\n",
    "scaler_y = StandardScaler().fit(y_train)\n",
    "\n",
    "X_train = scaler_X.transform(X_train)\n",
    "X_val = scaler_X.transform(X_val)\n",
    "X_test = scaler_X.transform(X_test)\n",
    "\n",
    "y_train = scaler_y.transform(y_train)\n",
    "y_val = scaler_y.transform(y_val)\n",
    "y_test = scaler_y.transform(y_test)\n",
    "\n",
    "# Convert the data to PyTorch tensors\n",
    "X_train_tensor = torch.tensor(X_train, dtype=torch.float32, device=device)\n",
    "y_train_tensor = torch.tensor(y_train, dtype=torch.float32, device=device)\n",
    "X_val_tensor = torch.tensor(X_val, dtype=torch.float32, device=device)\n",
    "y_val_tensor = torch.tensor(y_val, dtype=torch.float32, device=device)\n",
    "X_test_tensor = torch.tensor(X_test, dtype=torch.float32, device=device)\n",
    "y_test_tensor = torch.tensor(y_test, dtype=torch.float32, device=device)\n"
   ]
  },
  {
   "cell_type": "code",
   "execution_count": 17,
   "metadata": {
    "ExecuteTime": {
     "end_time": "2024-08-20T01:05:17.210259Z",
     "start_time": "2024-08-20T01:05:17.180339Z"
    },
    "id": "MQGGaGmq2QjS"
   },
   "outputs": [],
   "source": [
    "# Create DataLoader for batch processing\n",
    "train_dataset = TensorDataset(X_train_tensor, y_train_tensor)\n",
    "val_dataset = TensorDataset(X_val_tensor, y_val_tensor)\n",
    "test_dataset = TensorDataset(X_test_tensor, y_test_tensor)\n",
    "\n",
    "train_loader = DataLoader(train_dataset, batch_size=32, shuffle=True)\n",
    "val_loader = DataLoader(val_dataset, batch_size=32, shuffle=False)\n",
    "test_loader = DataLoader(test_dataset, batch_size=32, shuffle=False)\n",
    "\n",
    "\n",
    "# Define the individual model class\n",
    "class SingleTargetNet(nn.Module):\n",
    "    def __init__(self, input_size, dropout_rate=0.5):\n",
    "        super(SingleTargetNet, self).__init__()\n",
    "        self.fc1 = nn.Linear(input_size, 1024)\n",
    "        self.bn1 = nn.BatchNorm1d(1024)\n",
    "        self.fc2 = nn.Linear(1024, 512)\n",
    "        self.bn2 = nn.BatchNorm1d(512)\n",
    "        self.fc3 = nn.Linear(512, 1)\n",
    "        self.fc_skip = nn.Linear(1024, 512)\n",
    "        self.dropout = nn.Dropout(dropout_rate)\n",
    "\n",
    "    def forward(self, x):\n",
    "        x1 = F.relu(self.bn1(self.fc1(x)))\n",
    "        x1 = self.dropout(x1)\n",
    "\n",
    "        x2 = F.relu(self.bn2(self.fc2(x1)))\n",
    "        x2 = self.dropout(x2)\n",
    "\n",
    "        # Skip connection\n",
    "        x2 += self.fc_skip(x1)\n",
    "\n",
    "        x3 = self.fc3(x2)\n",
    "        return x3\n",
    "\n",
    "def get_target5model():\n",
    "    # Define the model\n",
    "    model = nn.Sequential(\n",
    "        nn.Linear(X_train.shape[1], 1024),\n",
    "        nn.LeakyReLU(),\n",
    "        nn.Linear(1024, 512),\n",
    "        nn.LeakyReLU(),\n",
    "        nn.Linear(512, 256),\n",
    "        nn.LeakyReLU(),\n",
    "        nn.Linear(256, 1)\n",
    "    )\n",
    "    return model\n",
    "\n",
    "class RegressionNetwork(nn.Module):\n",
    "    def __init__(self, input_dim, hidden_dim, output_dim):\n",
    "        super(RegressionNetwork, self).__init__()\n",
    "        self.fc1 = nn.Linear(input_dim, hidden_dim)\n",
    "        self.bn1 = nn.BatchNorm1d(hidden_dim)\n",
    "        self.relu = nn.LeakyReLU()\n",
    "        self.dropout = nn.Dropout(0.1)\n",
    "        self.fc2 = nn.Linear(hidden_dim, hidden_dim)\n",
    "        self.bn2 = nn.BatchNorm1d(hidden_dim)\n",
    "        self.fc3 = nn.Linear(hidden_dim, output_dim)\n",
    "\n",
    "    def forward(self, x):\n",
    "        out = self.fc1(x)\n",
    "        out = self.bn1(out)\n",
    "        out = self.relu(out)\n",
    "        out = self.dropout(out)\n",
    "        out = self.fc2(out)\n",
    "        out = self.bn2(out)\n",
    "        out = self.relu(out)\n",
    "        out = self.fc3(out)\n",
    "        return out"
   ]
  },
  {
   "cell_type": "code",
   "execution_count": 18,
   "metadata": {
    "ExecuteTime": {
     "end_time": "2024-08-20T01:05:17.210259Z",
     "start_time": "2024-08-20T01:05:17.180339Z"
    },
    "id": "wMcKunc12QjS"
   },
   "outputs": [],
   "source": [
    "\n",
    "# Function to train and evaluate individual models\n",
    "def train_and_evaluate(target_index):\n",
    "    #model = SingleTargetNet(X_train.shape[1])\n",
    "    #model = RegressionNetwork(X_train.shape[1], 512, 1)\n",
    "    model = get_target5model()\n",
    "    model.to(device=device)\n",
    "    criterion = nn.MSELoss()\n",
    "\n",
    "    optimizer = AdamW(model.parameters(), lr=0.001) # original\n",
    "    scheduler = ReduceLROnPlateau(optimizer, mode='min', factor=0.1, patience=10, verbose=True)\n",
    "\n",
    "    best_val_loss = np.inf\n",
    "    patience_counter = 0\n",
    "    num_epochs = 150\n",
    "\n",
    "    for epoch in range(num_epochs):\n",
    "        model.train()\n",
    "        running_loss = 0.0\n",
    "        for inputs, targets in train_loader:\n",
    "            optimizer.zero_grad()\n",
    "            outputs = model(inputs).squeeze()\n",
    "            loss = criterion(outputs, targets[:, target_index])\n",
    "            loss.backward()\n",
    "            optimizer.step()\n",
    "            running_loss += loss.item()\n",
    "        print(f'Target {target_index} - Epoch {epoch+1}/{num_epochs}, Loss: {running_loss/len(train_loader)}')\n",
    "\n",
    "        model.eval()\n",
    "        val_loss = 0.0\n",
    "        with torch.no_grad():\n",
    "            for inputs, targets in val_loader:\n",
    "                outputs = model(inputs).squeeze()\n",
    "                loss = criterion(outputs, targets[:, target_index])\n",
    "                val_loss += loss.item()\n",
    "        val_loss /= len(val_loader)\n",
    "        print(f'Target {target_index} - Validation Loss: {val_loss}')\n",
    "\n",
    "        scheduler.step(val_loss)\n",
    "\n",
    "        if val_loss < best_val_loss:\n",
    "            best_val_loss = val_loss\n",
    "            patience_counter = 0\n",
    "            torch.save(model.state_dict(), f'best_model_target_{target_index}.pth')\n",
    "        else:\n",
    "            patience_counter += 1\n",
    "            if patience_counter >= 15:\n",
    "                print(f'Target {target_index} - Early stopping triggered')\n",
    "                break\n",
    "\n",
    "    model.load_state_dict(torch.load(f'best_model_target_{target_index}.pth'))\n",
    "\n",
    "    model.eval()\n",
    "    test_loss = 0.0\n",
    "    with torch.no_grad():\n",
    "        for inputs, targets in test_loader:\n",
    "            outputs = model(inputs).squeeze()\n",
    "            loss = criterion(outputs, targets[:, target_index])\n",
    "            test_loss += loss.item()\n",
    "    test_loss /= len(test_loader)\n",
    "    print(f'Target {target_index} - Test Loss: {test_loss}')\n",
    "\n",
    "    return model, test_loss"
   ]
  },
  {
   "cell_type": "code",
   "execution_count": 19,
   "metadata": {
    "ExecuteTime": {
     "end_time": "2024-08-20T01:06:12.298872Z",
     "start_time": "2024-08-20T01:05:18.151411Z"
    },
    "colab": {
     "base_uri": "https://localhost:8080/"
    },
    "id": "6NN-lXmV2QjT",
    "outputId": "1c229e9b-964e-4465-b38e-5e1070a077d3"
   },
   "outputs": [
    {
     "output_type": "stream",
     "name": "stderr",
     "text": [
      "/usr/local/lib/python3.10/dist-packages/torch/optim/lr_scheduler.py:60: UserWarning: The verbose parameter is deprecated. Please use get_last_lr() to access the learning rate.\n",
      "  warnings.warn(\n"
     ]
    },
    {
     "output_type": "stream",
     "name": "stdout",
     "text": [
      "Target 0 - Epoch 1/150, Loss: 0.7026769886383923\n",
      "Target 0 - Validation Loss: 0.6573178978954873\n",
      "Target 0 - Epoch 2/150, Loss: 0.6060757676548347\n",
      "Target 0 - Validation Loss: 0.6246736140512839\n",
      "Target 0 - Epoch 3/150, Loss: 0.5872588228752337\n",
      "Target 0 - Validation Loss: 0.5942693727045525\n",
      "Target 0 - Epoch 4/150, Loss: 0.5534700691563691\n",
      "Target 0 - Validation Loss: 0.5656215152362498\n",
      "Target 0 - Epoch 5/150, Loss: 0.5342469061611266\n",
      "Target 0 - Validation Loss: 0.5761488387134017\n",
      "Target 0 - Epoch 6/150, Loss: 0.5205898164067326\n",
      "Target 0 - Validation Loss: 0.5529479931403951\n",
      "Target 0 - Epoch 7/150, Loss: 0.5251162787672223\n",
      "Target 0 - Validation Loss: 0.5521913090857063\n",
      "Target 0 - Epoch 8/150, Loss: 1.0685213069863073\n",
      "Target 0 - Validation Loss: 0.5485807897114172\n",
      "Target 0 - Epoch 9/150, Loss: 0.49572722057289464\n",
      "Target 0 - Validation Loss: 0.5413035797636684\n",
      "Target 0 - Epoch 10/150, Loss: 0.4559518223764693\n",
      "Target 0 - Validation Loss: 0.544030813727437\n",
      "Target 0 - Epoch 11/150, Loss: 0.4454384668298611\n",
      "Target 0 - Validation Loss: 0.541390061378479\n",
      "Target 0 - Epoch 12/150, Loss: 0.4269678835280058\n",
      "Target 0 - Validation Loss: 0.54513562161748\n",
      "Target 0 - Epoch 13/150, Loss: 0.4183546435315071\n",
      "Target 0 - Validation Loss: 0.5806655458560804\n",
      "Target 0 - Epoch 14/150, Loss: 2.3732501155492374\n",
      "Target 0 - Validation Loss: 0.5659170107143682\n",
      "Target 0 - Epoch 15/150, Loss: 0.4276047375098598\n",
      "Target 0 - Validation Loss: 0.5526622004988717\n",
      "Target 0 - Epoch 16/150, Loss: 0.39949474828999215\n",
      "Target 0 - Validation Loss: 0.559438687999074\n",
      "Target 0 - Epoch 17/150, Loss: 0.3881736052472417\n",
      "Target 0 - Validation Loss: 0.566854748784042\n",
      "Target 0 - Epoch 18/150, Loss: 0.376897269610043\n",
      "Target 0 - Validation Loss: 0.5625546156633191\n",
      "Target 0 - Epoch 19/150, Loss: 0.3705759565005215\n",
      "Target 0 - Validation Loss: 0.5987250359683502\n",
      "Target 0 - Epoch 20/150, Loss: 0.36698672516135183\n",
      "Target 0 - Validation Loss: 0.6059338793885417\n",
      "Target 0 - Epoch 21/150, Loss: 0.30732959332853194\n",
      "Target 0 - Validation Loss: 0.563576072999617\n",
      "Target 0 - Epoch 22/150, Loss: 0.28501521171320504\n",
      "Target 0 - Validation Loss: 0.58133223325741\n",
      "Target 0 - Epoch 23/150, Loss: 0.2759521455708437\n",
      "Target 0 - Validation Loss: 0.5770558818447881\n",
      "Target 0 - Epoch 24/150, Loss: 0.268181578222117\n",
      "Target 0 - Validation Loss: 0.5753361531874028\n",
      "Target 0 - Early stopping triggered\n",
      "Target 0 - Test Loss: 0.5303217250762916\n",
      "Average Test Loss for Individual Models: 0.5303217250762916\n"
     ]
    },
    {
     "output_type": "stream",
     "name": "stderr",
     "text": [
      "<ipython-input-18-312f0409878f>:50: FutureWarning: You are using `torch.load` with `weights_only=False` (the current default value), which uses the default pickle module implicitly. It is possible to construct malicious pickle data which will execute arbitrary code during unpickling (See https://github.com/pytorch/pytorch/blob/main/SECURITY.md#untrusted-models for more details). In a future release, the default value for `weights_only` will be flipped to `True`. This limits the functions that could be executed during unpickling. Arbitrary objects will no longer be allowed to be loaded via this mode unless they are explicitly allowlisted by the user via `torch.serialization.add_safe_globals`. We recommend you start setting `weights_only=True` for any use case where you don't have full control of the loaded file. Please open an issue on GitHub for any issues related to this experimental feature.\n",
      "  model.load_state_dict(torch.load(f'best_model_target_{target_index}.pth'))\n"
     ]
    }
   ],
   "source": [
    "\n",
    "# Train and evaluate individual models for each target\n",
    "test_losses = []\n",
    "models = []\n",
    "for target_index in range(y_train.shape[1]):\n",
    "    model, test_loss = train_and_evaluate(target_index)\n",
    "    models.append(model)\n",
    "    test_losses.append(test_loss)\n",
    "\n",
    "# Print average test loss\n",
    "avg_test_loss = np.mean(test_losses)\n",
    "print(f'Average Test Loss for Individual Models: {avg_test_loss}')\n",
    "\n",
    "# Initialize Excel writer\n",
    "output_path = 'individual_model_predictions_with_plots.xlsx'\n",
    "writer = pd.ExcelWriter(output_path, engine='xlsxwriter')\n",
    "workbook = writer.book\n",
    "\n",
    "# Create necessary Excel sheets\n",
    "train_sheet = workbook.add_worksheet('Train')\n",
    "val_sheet = workbook.add_worksheet('Validation')\n",
    "test_sheet = workbook.add_worksheet('Test')\n",
    "\n",
    "# Prepare DataFrames for train, validation, and test predictions\n",
    "train_df = pd.DataFrame()\n",
    "val_df = pd.DataFrame()\n",
    "test_df = pd.DataFrame()\n",
    "\n",
    "r2_scores, rmse_scores, mae_scores = [], [], []\n",
    "\n",
    "def create_excel_chart(sheet_name, target_index, worksheet, df, start_row, start_col):\n",
    "    chart = workbook.add_chart({'type': 'scatter'})\n",
    "\n",
    "    observed_col = f'Observed_{target_index}'\n",
    "    predicted_col = f'Predicted_{target_index}'\n",
    "\n",
    "    chart.add_series({\n",
    "        'name': f'Target {target_index}',\n",
    "        'categories': [sheet_name, start_row+1, df.columns.get_loc(observed_col), start_row+df.shape[0], df.columns.get_loc(observed_col)],\n",
    "        'values': [sheet_name, start_row+1, df.columns.get_loc(predicted_col), start_row+df.shape[0], df.columns.get_loc(predicted_col)],\n",
    "        'marker': {'type': 'circle', 'size': 5},\n",
    "        'trendline': {\n",
    "            'type': 'linear',\n",
    "            'display_equation': True,\n",
    "            'display_r_squared': True,\n",
    "        }\n",
    "    })\n",
    "    chart.set_title({'name': f'Parity Plot for Target {target_index}'})\n",
    "    chart.set_x_axis({'name': 'Observed'})\n",
    "    chart.set_y_axis({'name': 'Predicted'})\n",
    "    chart.set_legend({'none': True})\n",
    "\n",
    "    # Make axes square with the same unit ranges on x and y axis\n",
    "    min_val = min(df[observed_col].min(), df[predicted_col].min())\n",
    "    max_val = max(df[observed_col].max(), df[predicted_col].max())\n",
    "    chart.set_x_axis({'min': min_val, 'max': max_val})\n",
    "    chart.set_y_axis({'min': min_val, 'max': max_val})\n",
    "\n",
    "    worksheet.insert_chart(start_row + df.shape[0] + 2, start_col, chart)\n",
    "\n",
    "    # Calculate metrics\n",
    "    observed = df[observed_col]\n",
    "    predicted = df[predicted_col]\n",
    "    r2 = r2_score(observed, predicted)\n",
    "    rmse = mean_squared_error(observed, predicted, squared=False)\n",
    "    mae = mean_absolute_error(observed, predicted)\n",
    "\n",
    "    # Write metrics to Excel\n",
    "    metrics_start_row = start_row + df.shape[0] + 22\n",
    "    worksheet.write(metrics_start_row, start_col, f'Target {target_index}')\n",
    "    worksheet.write(metrics_start_row + 1, start_col + 1, 'R²')\n",
    "    worksheet.write(metrics_start_row + 1, start_col + 2, r2)\n",
    "    worksheet.write(metrics_start_row + 2, start_col + 1, 'RMSE')\n",
    "    worksheet.write(metrics_start_row + 2, start_col + 2, rmse)\n",
    "    worksheet.write(metrics_start_row + 3, start_col + 1, 'MAE')\n",
    "    worksheet.write(metrics_start_row + 3, start_col + 2, mae)\n",
    "\n",
    "    return r2, rmse, mae\n",
    "\n",
    "\n"
   ]
  },
  {
   "cell_type": "code",
   "execution_count": 20,
   "metadata": {
    "ExecuteTime": {
     "end_time": "2024-08-20T01:06:34.901712Z",
     "start_time": "2024-08-20T01:06:33.477789Z"
    },
    "colab": {
     "base_uri": "https://localhost:8080/"
    },
    "id": "ACMqmYbr2QjT",
    "outputId": "7c51250b-4448-4bc1-dbd0-043082df634b"
   },
   "outputs": [
    {
     "output_type": "stream",
     "name": "stdout",
     "text": [
      "Average R² for Validation Set: 0.558621206799309\n",
      "Average RMSE for Validation Set: 1.32065400908944\n",
      "Average MAE for Validation Set: 1.0123540088168286\n",
      "Predictions and plots written to individual_model_predictions_with_plots.xlsx\n"
     ]
    }
   ],
   "source": [
    "for target_index in range(y_train.shape[1]):\n",
    "    model = models[target_index]\n",
    "\n",
    "    # Make predictions on the train, validation, and test sets\n",
    "    model.cpu().eval()\n",
    "    with torch.no_grad():\n",
    "        y_train_pred = model(X_train_tensor.cpu()).numpy()\n",
    "        y_val_pred = model(X_val_tensor.cpu()).numpy()\n",
    "        y_test_pred = model(X_test_tensor.cpu()).numpy()\n",
    "\n",
    "    # Inverse transform the predictions and targets to their original scale\n",
    "    y_train_pred_orig = scaler_y.inverse_transform(np.concatenate([np.zeros((y_train_pred.shape[0], target_index)), y_train_pred, np.zeros((y_train_pred.shape[0], y_train.shape[1] - target_index - 1))], axis=1))[:, target_index]\n",
    "    y_val_pred_orig = scaler_y.inverse_transform(np.concatenate([np.zeros((y_val_pred.shape[0], target_index)), y_val_pred, np.zeros((y_val_pred.shape[0], y_val.shape[1] - target_index - 1))], axis=1))[:, target_index]\n",
    "    y_test_pred_orig = scaler_y.inverse_transform(np.concatenate([np.zeros((y_test_pred.shape[0], target_index)), y_test_pred, np.zeros((y_test_pred.shape[0], y_test.shape[1] - target_index - 1))], axis=1))[:, target_index]\n",
    "\n",
    "    y_train_orig = scaler_y.inverse_transform(y_train)[:, target_index]\n",
    "    y_val_orig = scaler_y.inverse_transform(y_val)[:, target_index]\n",
    "    y_test_orig = scaler_y.inverse_transform(y_test)[:, target_index]\n",
    "\n",
    "    # Create dataframes for the predictions and actual values\n",
    "    train_df[f'Observed_{target_index}'] = y_train_orig\n",
    "    train_df[f'Predicted_{target_index}'] = y_train_pred_orig\n",
    "\n",
    "    val_df[f'Observed_{target_index}'] = y_val_orig\n",
    "    val_df[f'Predicted_{target_index}'] = y_val_pred_orig\n",
    "\n",
    "    test_df[f'Observed_{target_index}'] = y_test_orig\n",
    "    test_df[f'Predicted_{target_index}'] = y_test_pred_orig\n",
    "\n",
    "    # Create and insert parity plots for train, validation, and test sets\n",
    "    r2, rmse, mae = create_excel_chart('Train', target_index, train_sheet, train_df, start_row=0, start_col=target_index*9)\n",
    "    r2_scores.append(r2)\n",
    "    rmse_scores.append(rmse)\n",
    "    mae_scores.append(mae)\n",
    "    create_excel_chart('Validation', target_index, val_sheet, val_df, start_row=0, start_col=target_index*9)\n",
    "    create_excel_chart('Test', target_index, test_sheet, test_df, start_row=0, start_col=target_index*9)\n",
    "\n",
    "# Write dataframes to Excel sheets\n",
    "train_df.to_excel(writer, sheet_name='Train', index=False)\n",
    "val_df.to_excel(writer, sheet_name='Validation', index=False)\n",
    "test_df.to_excel(writer, sheet_name='Test', index=False)\n",
    "\n",
    "# Save and close the Excel file\n",
    "writer.close()\n",
    "\n",
    "# Calculate and print the average R², RMSE, and MAE for the validation set\n",
    "avg_r2 = np.mean(r2_scores)\n",
    "avg_rmse = np.mean(rmse_scores)\n",
    "avg_mae = np.mean(mae_scores)\n",
    "\n",
    "print(f\"Average R² for Validation Set: {avg_r2}\")\n",
    "print(f\"Average RMSE for Validation Set: {avg_rmse}\")\n",
    "print(f\"Average MAE for Validation Set: {avg_mae}\")\n",
    "\n",
    "print(f\"Predictions and plots written to {output_path}\")"
   ]
  },
  {
   "cell_type": "code",
   "execution_count": null,
   "metadata": {
    "id": "uNp1a-3R2QjU"
   },
   "outputs": [],
   "source": []
  }
 ],
 "metadata": {
  "accelerator": "GPU",
  "colab": {
   "gpuType": "T4",
   "provenance": [],
   "history_visible": true,
   "include_colab_link": true
  },
  "kernelspec": {
   "display_name": "Python 3 (ipykernel)",
   "language": "python",
   "name": "python3"
  },
  "language_info": {
   "codemirror_mode": {
    "name": "ipython",
    "version": 3
   },
   "file_extension": ".py",
   "mimetype": "text/x-python",
   "name": "python",
   "nbconvert_exporter": "python",
   "pygments_lexer": "ipython3",
   "version": "3.10.14"
  },
  "widgets": {
   "application/vnd.jupyter.widget-state+json": {
    "a1b665f9b40246c29affae9395740f4b": {
     "model_module": "@jupyter-widgets/controls",
     "model_name": "VBoxModel",
     "model_module_version": "1.5.0",
     "state": {
      "_dom_classes": [],
      "_model_module": "@jupyter-widgets/controls",
      "_model_module_version": "1.5.0",
      "_model_name": "VBoxModel",
      "_view_count": null,
      "_view_module": "@jupyter-widgets/controls",
      "_view_module_version": "1.5.0",
      "_view_name": "VBoxView",
      "box_style": "",
      "children": [
       "IPY_MODEL_4a657d7e990c4ff0b2b3ae7d3663794f",
       "IPY_MODEL_1a595aa8deac4e84b2549ecef434e474"
      ],
      "layout": "IPY_MODEL_5daad93b723440beaa1f9baadf0ae01a"
     }
    },
    "4a657d7e990c4ff0b2b3ae7d3663794f": {
     "model_module": "@jupyter-widgets/controls",
     "model_name": "LabelModel",
     "model_module_version": "1.5.0",
     "state": {
      "_dom_classes": [],
      "_model_module": "@jupyter-widgets/controls",
      "_model_module_version": "1.5.0",
      "_model_name": "LabelModel",
      "_view_count": null,
      "_view_module": "@jupyter-widgets/controls",
      "_view_module_version": "1.5.0",
      "_view_name": "LabelView",
      "description": "",
      "description_tooltip": null,
      "layout": "IPY_MODEL_6b1b3eed1f4d479eb4f9af129b5ba849",
      "placeholder": "​",
      "style": "IPY_MODEL_603a3c6e42ab4c02b00033532d0f82ca",
      "value": "0.015 MB of 0.015 MB uploaded\r"
     }
    },
    "1a595aa8deac4e84b2549ecef434e474": {
     "model_module": "@jupyter-widgets/controls",
     "model_name": "FloatProgressModel",
     "model_module_version": "1.5.0",
     "state": {
      "_dom_classes": [],
      "_model_module": "@jupyter-widgets/controls",
      "_model_module_version": "1.5.0",
      "_model_name": "FloatProgressModel",
      "_view_count": null,
      "_view_module": "@jupyter-widgets/controls",
      "_view_module_version": "1.5.0",
      "_view_name": "ProgressView",
      "bar_style": "",
      "description": "",
      "description_tooltip": null,
      "layout": "IPY_MODEL_b42dfcfd0975458aba42b82be1c5a58a",
      "max": 1,
      "min": 0,
      "orientation": "horizontal",
      "style": "IPY_MODEL_4c5f710750b64006954824eaeb7d9f5f",
      "value": 1
     }
    },
    "5daad93b723440beaa1f9baadf0ae01a": {
     "model_module": "@jupyter-widgets/base",
     "model_name": "LayoutModel",
     "model_module_version": "1.2.0",
     "state": {
      "_model_module": "@jupyter-widgets/base",
      "_model_module_version": "1.2.0",
      "_model_name": "LayoutModel",
      "_view_count": null,
      "_view_module": "@jupyter-widgets/base",
      "_view_module_version": "1.2.0",
      "_view_name": "LayoutView",
      "align_content": null,
      "align_items": null,
      "align_self": null,
      "border": null,
      "bottom": null,
      "display": null,
      "flex": null,
      "flex_flow": null,
      "grid_area": null,
      "grid_auto_columns": null,
      "grid_auto_flow": null,
      "grid_auto_rows": null,
      "grid_column": null,
      "grid_gap": null,
      "grid_row": null,
      "grid_template_areas": null,
      "grid_template_columns": null,
      "grid_template_rows": null,
      "height": null,
      "justify_content": null,
      "justify_items": null,
      "left": null,
      "margin": null,
      "max_height": null,
      "max_width": null,
      "min_height": null,
      "min_width": null,
      "object_fit": null,
      "object_position": null,
      "order": null,
      "overflow": null,
      "overflow_x": null,
      "overflow_y": null,
      "padding": null,
      "right": null,
      "top": null,
      "visibility": null,
      "width": null
     }
    },
    "6b1b3eed1f4d479eb4f9af129b5ba849": {
     "model_module": "@jupyter-widgets/base",
     "model_name": "LayoutModel",
     "model_module_version": "1.2.0",
     "state": {
      "_model_module": "@jupyter-widgets/base",
      "_model_module_version": "1.2.0",
      "_model_name": "LayoutModel",
      "_view_count": null,
      "_view_module": "@jupyter-widgets/base",
      "_view_module_version": "1.2.0",
      "_view_name": "LayoutView",
      "align_content": null,
      "align_items": null,
      "align_self": null,
      "border": null,
      "bottom": null,
      "display": null,
      "flex": null,
      "flex_flow": null,
      "grid_area": null,
      "grid_auto_columns": null,
      "grid_auto_flow": null,
      "grid_auto_rows": null,
      "grid_column": null,
      "grid_gap": null,
      "grid_row": null,
      "grid_template_areas": null,
      "grid_template_columns": null,
      "grid_template_rows": null,
      "height": null,
      "justify_content": null,
      "justify_items": null,
      "left": null,
      "margin": null,
      "max_height": null,
      "max_width": null,
      "min_height": null,
      "min_width": null,
      "object_fit": null,
      "object_position": null,
      "order": null,
      "overflow": null,
      "overflow_x": null,
      "overflow_y": null,
      "padding": null,
      "right": null,
      "top": null,
      "visibility": null,
      "width": null
     }
    },
    "603a3c6e42ab4c02b00033532d0f82ca": {
     "model_module": "@jupyter-widgets/controls",
     "model_name": "DescriptionStyleModel",
     "model_module_version": "1.5.0",
     "state": {
      "_model_module": "@jupyter-widgets/controls",
      "_model_module_version": "1.5.0",
      "_model_name": "DescriptionStyleModel",
      "_view_count": null,
      "_view_module": "@jupyter-widgets/base",
      "_view_module_version": "1.2.0",
      "_view_name": "StyleView",
      "description_width": ""
     }
    },
    "b42dfcfd0975458aba42b82be1c5a58a": {
     "model_module": "@jupyter-widgets/base",
     "model_name": "LayoutModel",
     "model_module_version": "1.2.0",
     "state": {
      "_model_module": "@jupyter-widgets/base",
      "_model_module_version": "1.2.0",
      "_model_name": "LayoutModel",
      "_view_count": null,
      "_view_module": "@jupyter-widgets/base",
      "_view_module_version": "1.2.0",
      "_view_name": "LayoutView",
      "align_content": null,
      "align_items": null,
      "align_self": null,
      "border": null,
      "bottom": null,
      "display": null,
      "flex": null,
      "flex_flow": null,
      "grid_area": null,
      "grid_auto_columns": null,
      "grid_auto_flow": null,
      "grid_auto_rows": null,
      "grid_column": null,
      "grid_gap": null,
      "grid_row": null,
      "grid_template_areas": null,
      "grid_template_columns": null,
      "grid_template_rows": null,
      "height": null,
      "justify_content": null,
      "justify_items": null,
      "left": null,
      "margin": null,
      "max_height": null,
      "max_width": null,
      "min_height": null,
      "min_width": null,
      "object_fit": null,
      "object_position": null,
      "order": null,
      "overflow": null,
      "overflow_x": null,
      "overflow_y": null,
      "padding": null,
      "right": null,
      "top": null,
      "visibility": null,
      "width": null
     }
    },
    "4c5f710750b64006954824eaeb7d9f5f": {
     "model_module": "@jupyter-widgets/controls",
     "model_name": "ProgressStyleModel",
     "model_module_version": "1.5.0",
     "state": {
      "_model_module": "@jupyter-widgets/controls",
      "_model_module_version": "1.5.0",
      "_model_name": "ProgressStyleModel",
      "_view_count": null,
      "_view_module": "@jupyter-widgets/base",
      "_view_module_version": "1.2.0",
      "_view_name": "StyleView",
      "bar_color": null,
      "description_width": ""
     }
    }
   }
  }
 },
 "nbformat": 4,
 "nbformat_minor": 0
}

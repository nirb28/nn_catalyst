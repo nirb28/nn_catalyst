{
 "nbformat": 4,
 "nbformat_minor": 0,
 "metadata": {
  "colab": {
   "provenance": [],
   "gpuType": "T4",
   "mount_file_id": "https://github.com/nirb28/nn_catalyst/blob/main/eda.ipynb",
   "authorship_tag": "ABX9TyNlslRvmj92ahEUYMuriIfW",
   "include_colab_link": true
  },
  "kernelspec": {
   "name": "python3",
   "display_name": "Python 3 (ipykernel)",
   "language": "python"
  },
  "language_info": {
   "name": "python"
  },
  "accelerator": "GPU"
 },
 "cells": [
  {
   "metadata": {},
   "cell_type": "markdown",
   "source": "<a href=\"https://colab.research.google.com/github/nirb28/nn_catalyst/blob/main/src/1_analysis.ipynb\" target=\"_parent\"><img src=\"https://colab.research.google.com/assets/colab-badge.svg\" alt=\"Open In Colab\"/></a>"
  },
  {
   "metadata": {
    "ExecuteTime": {
     "end_time": "2024-08-18T20:06:23.253187Z",
     "start_time": "2024-08-18T20:06:22.684054Z"
    }
   },
   "cell_type": "code",
   "source": [
    "import os\n",
    "def resolve_path_gdrive(relativePath):\n",
    "    if os.path.exists('/content/drive'):\n",
    "        return '/content/drive/MyDrive/work/gdrive-workspaces/git/nn_catalyst/' + relativePath\n",
    "    else:\n",
    "        from utils import get_project_root\n",
    "        return get_project_root() + \"/\" + relativePath\n",
    "from google.colab import drive\n",
    "drive.mount('/content/drive', force_remount=False)"
   ],
   "outputs": [
    {
     "ename": "ModuleNotFoundError",
     "evalue": "No module named 'google'",
     "output_type": "error",
     "traceback": [
      "\u001B[1;31m---------------------------------------------------------------------------\u001B[0m",
      "\u001B[1;31mModuleNotFoundError\u001B[0m                       Traceback (most recent call last)",
      "Cell \u001B[1;32mIn[1], line 8\u001B[0m\n\u001B[0;32m      6\u001B[0m         \u001B[38;5;28;01mfrom\u001B[39;00m \u001B[38;5;21;01mutils\u001B[39;00m \u001B[38;5;28;01mimport\u001B[39;00m get_project_root\n\u001B[0;32m      7\u001B[0m         \u001B[38;5;28;01mreturn\u001B[39;00m get_project_root() \u001B[38;5;241m+\u001B[39m \u001B[38;5;124m\"\u001B[39m\u001B[38;5;124m/\u001B[39m\u001B[38;5;124m\"\u001B[39m \u001B[38;5;241m+\u001B[39m relativePath\n\u001B[1;32m----> 8\u001B[0m \u001B[38;5;28;01mfrom\u001B[39;00m \u001B[38;5;21;01mgoogle\u001B[39;00m\u001B[38;5;21;01m.\u001B[39;00m\u001B[38;5;21;01mcolab\u001B[39;00m \u001B[38;5;28;01mimport\u001B[39;00m drive\n\u001B[0;32m      9\u001B[0m drive\u001B[38;5;241m.\u001B[39mmount(\u001B[38;5;124m'\u001B[39m\u001B[38;5;124m/content/drive\u001B[39m\u001B[38;5;124m'\u001B[39m, force_remount\u001B[38;5;241m=\u001B[39m\u001B[38;5;28;01mFalse\u001B[39;00m)\n",
      "\u001B[1;31mModuleNotFoundError\u001B[0m: No module named 'google'"
     ]
    }
   ],
   "execution_count": 1
  },
  {
   "metadata": {
    "ExecuteTime": {
     "end_time": "2024-08-18T20:06:28.582961Z",
     "start_time": "2024-08-18T20:06:26.652486Z"
    }
   },
   "cell_type": "code",
   "source": [
    "!pip install xlsxwriter\n",
    "import xlsxwriter"
   ],
   "outputs": [
    {
     "name": "stdout",
     "output_type": "stream",
     "text": [
      "Requirement already satisfied: xlsxwriter in d:\\work\\conda\\nn_310\\lib\\site-packages (3.1.1)\n"
     ]
    }
   ],
   "execution_count": 2
  },
  {
   "metadata": {
    "ExecuteTime": {
     "end_time": "2024-08-18T20:06:32.423523Z",
     "start_time": "2024-08-18T20:06:28.584955Z"
    }
   },
   "cell_type": "code",
   "source": [
    "import pandas as pd\n",
    "from sklearn.feature_selection import VarianceThreshold\n",
    "from sklearn.model_selection import train_test_split\n",
    "from sklearn.preprocessing import StandardScaler\n",
    "import torch\n",
    "import torch.nn as nn\n",
    "import torch.optim as optim\n",
    "from torch.utils.data import DataLoader, TensorDataset\n",
    "import numpy as np\n",
    "from sklearn.metrics import r2_score, mean_squared_error, mean_absolute_error\n",
    "import xlsxwriter\n",
    "import torch.nn.functional as F\n",
    "from torch.optim.lr_scheduler import ReduceLROnPlateau\n",
    "from torch.optim import AdamW\n",
    "\n",
    "# Load the data\n",
    "descriptors_path = 'descriptors.csv'\n",
    "targets_path = 'compiled_data.csv'\n"
   ],
   "outputs": [],
   "execution_count": 3
  },
  {
   "metadata": {
    "ExecuteTime": {
     "end_time": "2024-08-18T20:06:45.624300Z",
     "start_time": "2024-08-18T20:06:32.424486Z"
    }
   },
   "cell_type": "code",
   "source": [
    "descriptors_df = pd.read_csv(resolve_path_gdrive(descriptors_path))\n",
    "targets_df = pd.read_csv(resolve_path_gdrive(targets_path))\n"
   ],
   "outputs": [
    {
     "name": "stderr",
     "output_type": "stream",
     "text": [
      "C:\\Users\\dalje\\AppData\\Local\\Temp\\ipykernel_7580\\2223585266.py:1: DtypeWarning: Columns (90,91,92,93,94,95,96,97,98,138,139,140,147,148,149,165,166,167,174,175,176,183,184,185,189,190,191,192,193,194,201,202,203,210,211,212,219,220,221,228,229,230,234,235,236,237,238,239,240,241,242,297,298,299,300,301,302,303,304,305,342,343,344,345,346,347,354,355,356,363,364,365,381,382,383,390,391,392,399,400,401,405,406,407,408,409,410,417,418,419,426,427,428,435,436,437,444,445,446,450,451,452,453,454,460,461,462,468,469,470,484,485,486,492,493,494,500,501,502,506,507,508,509,510,516,517,518,524,525,526,532,533,534,540,541,542,546,547,548,549,550,556,557,558,564,565,566,580,581,582,588,589,590,596,597,598,602,603,604,605,606,612,613,614,620,621,622,628,629,630,636,637,638,781,782,783,784,785,786,787,788,789,790,791,792,793,794,795,796,797,798,799,800,801,802,803,804,805,806,807,808,809,810,811,812,813,814,815,816,817,818,819,820,821,822,823,833,870,871,875,883,886,887,894,902,1351,1452) have mixed types. Specify dtype option on import or set low_memory=False.\n",
      "  descriptors_df = pd.read_csv(resolve_path_gdrive(descriptors_path))\n"
     ]
    }
   ],
   "execution_count": 4
  },
  {
   "metadata": {
    "ExecuteTime": {
     "end_time": "2024-08-18T20:06:45.655773Z",
     "start_time": "2024-08-18T20:06:45.626298Z"
    }
   },
   "cell_type": "code",
   "source": [
    "# Show sample rows\n",
    "print(\"\\nSample Rows from Descriptors DataFrame:\")\n",
    "print(descriptors_df.head())\n",
    "print(\"\\nSample Rows from Targets DataFrame:\")\n",
    "print(targets_df.head())\n"
   ],
   "outputs": [
    {
     "name": "stdout",
     "output_type": "stream",
     "text": [
      "\n",
      "Sample Rows from Descriptors DataFrame:\n",
      "   Label        ABC     ABCGG  nAcid  nBase             SpAbs_A  \\\n",
      "0   9268   4.719397  5.004088      0      0   6.720566232730447   \n",
      "1  10488  10.334062  9.836417      0      0  16.752497538971177   \n",
      "2  25579   5.875634  5.566041      0      0    9.43114762028933   \n",
      "3   8952   6.611250  6.890735      1      0   10.68725972618713   \n",
      "4  23681   7.249407  6.976306      0      0  11.945821561028193   \n",
      "\n",
      "              SpMax_A           SpDiam_A              SpAD_A  \\\n",
      "0  2.1010029896154583  4.202005979230917   6.720566232730447   \n",
      "1  2.3623398328574394  4.724679665714879  16.752497538971177   \n",
      "2  2.1753277471610764  4.350655494322151    9.43114762028933   \n",
      "3    2.28774942353935  4.425414875225794   10.68725972618713   \n",
      "4  2.2671838628844996     4.534367725769  11.945821561028193   \n",
      "\n",
      "              SpMAD_A  ...     SRW10     TSRW10          MW        AMW WPath  \\\n",
      "0  0.9600808903900638  ...  8.123558  33.343946  136.047505   6.802375    46   \n",
      "1  1.1966069670693698  ...  9.472628  45.579501  215.042359   8.960098   296   \n",
      "2  1.1788934525361663  ...  8.479907  35.755147  111.048427   7.932031    61   \n",
      "3  1.1874733029096811  ...  8.735364  51.247665  143.004099  10.214579    84   \n",
      "4  1.1945821561028194  ...  8.912069  39.310842  219.935762  13.745985   116   \n",
      "\n",
      "  WPol Zagreb1  Zagreb2            mZagreb1  mZagreb2  \n",
      "0    4    28.0     26.0              4.5625  1.625000  \n",
      "1   20    68.0     77.0   6.645833333333334  3.152778  \n",
      "2    7    36.0     38.0  3.2222222222222223  1.833333  \n",
      "3    9    42.0     47.0   4.083333333333334  2.055556  \n",
      "4   12    46.0     51.0   4.333333333333334  2.361111  \n",
      "\n",
      "[5 rows x 1827 columns]\n",
      "\n",
      "Sample Rows from Targets DataFrame:\n",
      "   mol_num    homo_n    lumo_n  max_charge_pos_n  max_charge_neg_n  dipole_n  \\\n",
      "0        1 -0.176481 -0.145696          0.888482         -0.649339   4.63917   \n",
      "1        4 -0.178590 -0.137610          0.504333         -0.471034   0.00005   \n",
      "2       11 -0.217144 -0.012080          1.183065         -0.787892   3.31424   \n",
      "3       12 -0.239982 -0.148671          1.500277         -0.805734   5.84638   \n",
      "4       13 -0.200493 -0.051637          1.358121         -0.784531   4.96208   \n",
      "\n",
      "       gibbs_n    elec_en_n  homo_spin_up_o  lumo_spin_up_o  ...  \\\n",
      "0 -1300.801410 -1300.941844       -0.322360       -0.259491  ...   \n",
      "1 -1744.173565 -1744.181119       -0.346743       -0.285237  ...   \n",
      "2 -2467.395463 -2467.453515       -0.487984       -0.232104  ...   \n",
      "3 -2899.351866 -2899.436209       -0.430495       -0.320760  ...   \n",
      "4 -2750.245324 -2750.344206       -0.386077       -0.229918  ...   \n",
      "\n",
      "   homo_spin_down_r  lumo_spin_down_r  max_charge_pos_r  max_charge_neg_r  \\\n",
      "0         -0.058523         -0.005780          0.854274         -0.665933   \n",
      "1         -0.059445         -0.014988          0.265960         -0.449216   \n",
      "2         -0.001917          0.081394          0.822369         -0.883380   \n",
      "3         -0.071437          0.030607          1.462250         -0.833701   \n",
      "4         -0.031962          0.059756          0.981067         -0.848564   \n",
      "\n",
      "   max_spin_r  dipole_r      gibbs_r    elec_en_r    ddg_ox   ddg_red  \n",
      "0    0.933582   8.80921 -1300.876422 -1301.015198  6.520420 -2.041162  \n",
      "1    0.472025   0.00001 -1744.249342 -1744.255224  6.861198 -2.061959  \n",
      "2    0.395451   1.28878 -2467.386751 -2467.438463  8.947798  0.237066  \n",
      "3    0.258320   5.08854 -2899.424545 -2899.506382  8.787097 -1.977691  \n",
      "4    0.383838   6.90040 -2750.251506 -2750.346633  7.655302 -0.168215  \n",
      "\n",
      "[5 rows x 30 columns]\n"
     ]
    }
   ],
   "execution_count": 5
  },
  {
   "metadata": {
    "ExecuteTime": {
     "end_time": "2024-08-18T20:06:45.687660Z",
     "start_time": "2024-08-18T20:06:45.658765Z"
    }
   },
   "cell_type": "code",
   "source": [
    "# selected column\n",
    "selected_cols=5\n",
    "targets_df = targets_df.iloc[:, [0, selected_cols]]\n",
    "print(targets_df)\n",
    "device = torch.device('cuda' if torch.cuda.is_available() else 'cpu')"
   ],
   "outputs": [
    {
     "name": "stdout",
     "output_type": "stream",
     "text": [
      "       mol_num  dipole_n\n",
      "0            1   4.63917\n",
      "1            4   0.00005\n",
      "2           11   3.31424\n",
      "3           12   5.84638\n",
      "4           13   4.96208\n",
      "...        ...       ...\n",
      "26228    34242   4.16353\n",
      "26229    34243   5.55982\n",
      "26230    34244   6.29952\n",
      "26231    34245   3.52367\n",
      "26232    34246   5.81051\n",
      "\n",
      "[26233 rows x 2 columns]\n"
     ]
    }
   ],
   "execution_count": 6
  },
  {
   "metadata": {
    "ExecuteTime": {
     "end_time": "2024-08-18T20:17:46.860653Z",
     "start_time": "2024-08-18T20:17:46.458120Z"
    }
   },
   "cell_type": "code",
   "source": [
    "\n",
    "# Keep only numeric columns\n",
    "descriptors_numeric = descriptors_df.select_dtypes(include=['number'])\n",
    "targets_numeric = targets_df.select_dtypes(include=['number'])\n",
    "\n",
    "# Merge the numeric dataframes on the common label column\n",
    "numeric_data = pd.merge(descriptors_numeric, targets_numeric, left_on='Label', right_on='mol_num')\n",
    "numeric_data = numeric_data.drop(columns=['Label', 'mol_num'])\n",
    "\n",
    "# Separate features and targets\n",
    "X = numeric_data.iloc[:, :-len(str(selected_cols))]  # Assuming the last 30 columns are targets\n",
    "y = numeric_data.iloc[:, -len(str(selected_cols)):]\n",
    "assert np.all(np.isfinite(X))\n",
    "assert np.all(np.isfinite(y))"
   ],
   "outputs": [
    {
     "name": "stdout",
     "output_type": "stream",
     "text": [
      "       dipole_n\n",
      "0       2.38501\n",
      "1       5.46422\n",
      "2       3.23992\n",
      "3       4.78338\n",
      "4       1.46339\n",
      "...         ...\n",
      "26228   5.30719\n",
      "26229   6.13081\n",
      "26230   5.79727\n",
      "26231   2.50315\n",
      "26232   1.78485\n",
      "\n",
      "[26233 rows x 1 columns]\n"
     ]
    }
   ],
   "execution_count": 20
  },
  {
   "metadata": {
    "ExecuteTime": {
     "end_time": "2024-08-18T20:06:47.128820Z",
     "start_time": "2024-08-18T20:06:45.689657Z"
    }
   },
   "cell_type": "code",
   "source": [
    "\n",
    "# Apply variance threshold\n",
    "selector = VarianceThreshold()\n",
    "X_high_variance = selector.fit_transform(X)\n",
    "\n",
    "# Convert to numpy arrays\n",
    "X = X_high_variance\n",
    "y = y.values\n",
    "\n",
    "# Split the data into training, validation, and test sets\n",
    "X_train, X_temp, y_train, y_temp = train_test_split(X, y, test_size=0.2, random_state=42)\n",
    "X_val, X_test, y_val, y_test = train_test_split(X_temp, y_temp, test_size=0.5, random_state=42)\n",
    "\n",
    "# Standardize the data\n",
    "scaler_X = StandardScaler().fit(X_train)\n",
    "scaler_y = StandardScaler().fit(y_train)\n",
    "\n",
    "X_train = scaler_X.transform(X_train)\n",
    "X_val = scaler_X.transform(X_val)\n",
    "X_test = scaler_X.transform(X_test)\n",
    "\n",
    "y_train = scaler_y.transform(y_train)\n",
    "y_val = scaler_y.transform(y_val)\n",
    "y_test = scaler_y.transform(y_test)\n",
    "\n",
    "# Convert the data to PyTorch tensors\n",
    "X_train_tensor = torch.tensor(X_train, dtype=torch.float32, device=device)\n",
    "y_train_tensor = torch.tensor(y_train, dtype=torch.float32, device=device)\n",
    "X_val_tensor = torch.tensor(X_val, dtype=torch.float32, device=device)\n",
    "y_val_tensor = torch.tensor(y_val, dtype=torch.float32, device=device)\n",
    "X_test_tensor = torch.tensor(X_test, dtype=torch.float32, device=device)\n",
    "y_test_tensor = torch.tensor(y_test, dtype=torch.float32, device=device)\n"
   ],
   "outputs": [],
   "execution_count": 7
  },
  {
   "metadata": {
    "ExecuteTime": {
     "end_time": "2024-08-18T21:01:50.111602Z",
     "start_time": "2024-08-18T21:01:50.083166Z"
    }
   },
   "cell_type": "code",
   "source": [
    "\n",
    "# Create DataLoader for batch processing\n",
    "train_dataset = TensorDataset(X_train_tensor, y_train_tensor)\n",
    "val_dataset = TensorDataset(X_val_tensor, y_val_tensor)\n",
    "test_dataset = TensorDataset(X_test_tensor, y_test_tensor)\n",
    "\n",
    "train_loader = DataLoader(train_dataset, batch_size=32, shuffle=True)\n",
    "val_loader = DataLoader(val_dataset, batch_size=32, shuffle=False)\n",
    "test_loader = DataLoader(test_dataset, batch_size=32, shuffle=False)\n",
    "\n",
    "\n",
    "# Define the individual model class\n",
    "class SingleTargetNet(nn.Module):\n",
    "    def __init__(self, input_size, dropout_rate=0.5):\n",
    "        super(SingleTargetNet, self).__init__()\n",
    "        self.fc1 = nn.Linear(input_size, 1024)\n",
    "        self.bn1 = nn.BatchNorm1d(1024)\n",
    "        self.fc2 = nn.Linear(1024, 512)\n",
    "        self.bn2 = nn.BatchNorm1d(512)\n",
    "        self.fc3 = nn.Linear(512, 1)\n",
    "        self.fc_skip = nn.Linear(1024, 512)\n",
    "        self.dropout = nn.Dropout(dropout_rate)\n",
    "\n",
    "    def forward(self, x):\n",
    "        x1 = F.relu(self.bn1(self.fc1(x)))\n",
    "        x1 = self.dropout(x1)\n",
    "\n",
    "        x2 = F.relu(self.bn2(self.fc2(x1)))\n",
    "        x2 = self.dropout(x2)\n",
    "\n",
    "        # Skip connection\n",
    "        x2 += self.fc_skip(x1)\n",
    "\n",
    "        x3 = self.fc3(x2)\n",
    "        return x3\n",
    "    \n",
    "def get_target5model():\n",
    "    # Define the model\n",
    "    model = nn.Sequential(\n",
    "        nn.Linear(X_train.shape[1], 1024),\n",
    "        nn.LeakyReLU(),\n",
    "        nn.Linear(1024, 512),\n",
    "        nn.LeakyReLU(),\n",
    "        nn.Linear(512, 256),\n",
    "        nn.LeakyReLU(),\n",
    "        nn.Linear(256, 1)\n",
    "    )\n",
    "    return model\n",
    "\n",
    "# Function to train and evaluate individual models\n",
    "def train_and_evaluate(target_index):\n",
    "    #model = SingleTargetNet(X_train.shape[1])\n",
    "    model = get_target5model()\n",
    "    model.to(device=device)\n",
    "    criterion = nn.MSELoss()\n",
    "    \n",
    "    optimizer = AdamW(model.parameters(), lr=0.001) # original\n",
    "    scheduler = ReduceLROnPlateau(optimizer, mode='min', factor=0.1, patience=10, verbose=True)\n",
    "\n",
    "    best_val_loss = np.inf\n",
    "    patience_counter = 0\n",
    "    num_epochs = 150\n",
    "\n",
    "    for epoch in range(num_epochs):\n",
    "        model.train()\n",
    "        running_loss = 0.0\n",
    "        for inputs, targets in train_loader:\n",
    "            optimizer.zero_grad()\n",
    "            outputs = model(inputs).squeeze()\n",
    "            loss = criterion(outputs, targets[:, target_index])\n",
    "            loss.backward()\n",
    "            optimizer.step()\n",
    "            running_loss += loss.item()\n",
    "        print(f'Target {target_index} - Epoch {epoch+1}/{num_epochs}, Loss: {running_loss/len(train_loader)}')\n",
    "\n",
    "        model.eval()\n",
    "        val_loss = 0.0\n",
    "        with torch.no_grad():\n",
    "            for inputs, targets in val_loader:\n",
    "                outputs = model(inputs).squeeze()\n",
    "                loss = criterion(outputs, targets[:, target_index])\n",
    "                val_loss += loss.item()\n",
    "        val_loss /= len(val_loader)\n",
    "        print(f'Target {target_index} - Validation Loss: {val_loss}')\n",
    "\n",
    "        scheduler.step(val_loss)\n",
    "\n",
    "        if val_loss < best_val_loss:\n",
    "            best_val_loss = val_loss\n",
    "            patience_counter = 0\n",
    "            torch.save(model.state_dict(), f'best_model_target_{target_index}.pth')\n",
    "        else:\n",
    "            patience_counter += 1\n",
    "            if patience_counter >= 15:\n",
    "                print(f'Target {target_index} - Early stopping triggered')\n",
    "                break\n",
    "\n",
    "    model.load_state_dict(torch.load(f'best_model_target_{target_index}.pth'))\n",
    "\n",
    "    model.eval()\n",
    "    test_loss = 0.0\n",
    "    with torch.no_grad():\n",
    "        for inputs, targets in test_loader:\n",
    "            outputs = model(inputs).squeeze()\n",
    "            loss = criterion(outputs, targets[:, target_index])\n",
    "            test_loss += loss.item()\n",
    "    test_loss /= len(test_loader)\n",
    "    print(f'Target {target_index} - Test Loss: {test_loss}')\n",
    "\n",
    "    return model, test_loss\n"
   ],
   "outputs": [],
   "execution_count": 38
  },
  {
   "metadata": {
    "ExecuteTime": {
     "end_time": "2024-08-18T21:02:35.572515Z",
     "start_time": "2024-08-18T21:01:51.733347Z"
    }
   },
   "cell_type": "code",
   "source": [
    "\n",
    "# Train and evaluate individual models for each target\n",
    "test_losses = []\n",
    "models = []\n",
    "for target_index in range(y_train.shape[1]):\n",
    "    model, test_loss = train_and_evaluate(target_index)\n",
    "    models.append(model)\n",
    "    test_losses.append(test_loss)\n",
    "\n",
    "# Print average test loss\n",
    "avg_test_loss = np.mean(test_losses)\n",
    "print(f'Average Test Loss for Individual Models: {avg_test_loss}')\n",
    "\n",
    "# Initialize Excel writer\n",
    "output_path = 'individual_model_predictions_with_plots.xlsx'\n",
    "writer = pd.ExcelWriter(output_path, engine='xlsxwriter')\n",
    "workbook = writer.book\n",
    "\n",
    "# Create necessary Excel sheets\n",
    "train_sheet = workbook.add_worksheet('Train')\n",
    "val_sheet = workbook.add_worksheet('Validation')\n",
    "test_sheet = workbook.add_worksheet('Test')\n",
    "\n",
    "# Prepare DataFrames for train, validation, and test predictions\n",
    "train_df = pd.DataFrame()\n",
    "val_df = pd.DataFrame()\n",
    "test_df = pd.DataFrame()\n",
    "\n",
    "r2_scores, rmse_scores, mae_scores = [], [], []\n",
    "\n",
    "def create_excel_chart(sheet_name, target_index, worksheet, df, start_row, start_col):\n",
    "    chart = workbook.add_chart({'type': 'scatter'})\n",
    "\n",
    "    observed_col = f'Observed_{target_index}'\n",
    "    predicted_col = f'Predicted_{target_index}'\n",
    "\n",
    "    chart.add_series({\n",
    "        'name': f'Target {target_index}',\n",
    "        'categories': [sheet_name, start_row+1, df.columns.get_loc(observed_col), start_row+df.shape[0], df.columns.get_loc(observed_col)],\n",
    "        'values': [sheet_name, start_row+1, df.columns.get_loc(predicted_col), start_row+df.shape[0], df.columns.get_loc(predicted_col)],\n",
    "        'marker': {'type': 'circle', 'size': 5},\n",
    "        'trendline': {\n",
    "            'type': 'linear',\n",
    "            'display_equation': True,\n",
    "            'display_r_squared': True,\n",
    "        }\n",
    "    })\n",
    "    chart.set_title({'name': f'Parity Plot for Target {target_index}'})\n",
    "    chart.set_x_axis({'name': 'Observed'})\n",
    "    chart.set_y_axis({'name': 'Predicted'})\n",
    "    chart.set_legend({'none': True})\n",
    "\n",
    "    # Make axes square with the same unit ranges on x and y axis\n",
    "    min_val = min(df[observed_col].min(), df[predicted_col].min())\n",
    "    max_val = max(df[observed_col].max(), df[predicted_col].max())\n",
    "    chart.set_x_axis({'min': min_val, 'max': max_val})\n",
    "    chart.set_y_axis({'min': min_val, 'max': max_val})\n",
    "\n",
    "    worksheet.insert_chart(start_row + df.shape[0] + 2, start_col, chart)\n",
    "\n",
    "    # Calculate metrics\n",
    "    observed = df[observed_col]\n",
    "    predicted = df[predicted_col]\n",
    "    r2 = r2_score(observed, predicted)\n",
    "    rmse = mean_squared_error(observed, predicted, squared=False)\n",
    "    mae = mean_absolute_error(observed, predicted)\n",
    "\n",
    "    # Write metrics to Excel\n",
    "    metrics_start_row = start_row + df.shape[0] + 22\n",
    "    worksheet.write(metrics_start_row, start_col, f'Target {target_index}')\n",
    "    worksheet.write(metrics_start_row + 1, start_col + 1, 'R²')\n",
    "    worksheet.write(metrics_start_row + 1, start_col + 2, r2)\n",
    "    worksheet.write(metrics_start_row + 2, start_col + 1, 'RMSE')\n",
    "    worksheet.write(metrics_start_row + 2, start_col + 2, rmse)\n",
    "    worksheet.write(metrics_start_row + 3, start_col + 1, 'MAE')\n",
    "    worksheet.write(metrics_start_row + 3, start_col + 2, mae)\n",
    "\n",
    "    return r2, rmse, mae\n",
    "\n",
    "\n"
   ],
   "outputs": [
    {
     "name": "stderr",
     "output_type": "stream",
     "text": [
      "d:\\work\\conda\\nn_310\\lib\\site-packages\\torch\\optim\\lr_scheduler.py:60: UserWarning: The verbose parameter is deprecated. Please use get_last_lr() to access the learning rate.\n",
      "  warnings.warn(\n"
     ]
    },
    {
     "name": "stdout",
     "output_type": "stream",
     "text": [
      "Target 0 - Epoch 1/150, Loss: 0.6991591675252449\n",
      "Target 0 - Validation Loss: 0.6617844842556047\n",
      "Target 0 - Epoch 2/150, Loss: 0.6124913523473391\n",
      "Target 0 - Validation Loss: 0.5810226818046919\n",
      "Target 0 - Epoch 3/150, Loss: 0.5776228447694604\n",
      "Target 0 - Validation Loss: 0.5898829535013292\n",
      "Target 0 - Epoch 4/150, Loss: 0.5569841021263018\n",
      "Target 0 - Validation Loss: 0.5712970146318761\n",
      "Target 0 - Epoch 5/150, Loss: 0.5323653706553869\n",
      "Target 0 - Validation Loss: 0.5725452921739439\n",
      "Target 0 - Epoch 6/150, Loss: 0.5089236431323537\n",
      "Target 0 - Validation Loss: 0.5544860635588809\n",
      "Target 0 - Epoch 7/150, Loss: 0.5012596248217472\n",
      "Target 0 - Validation Loss: 0.5430051593518839\n",
      "Target 0 - Epoch 8/150, Loss: 0.4792749827909397\n",
      "Target 0 - Validation Loss: 0.5538864073956885\n",
      "Target 0 - Epoch 9/150, Loss: 0.4673943792628806\n",
      "Target 0 - Validation Loss: 0.5851422919005882\n",
      "Target 0 - Epoch 10/150, Loss: 0.4533365398145667\n",
      "Target 0 - Validation Loss: 0.5732662270708782\n",
      "Target 0 - Epoch 11/150, Loss: 0.4345923295789739\n",
      "Target 0 - Validation Loss: 0.5431148057303777\n",
      "Target 0 - Epoch 12/150, Loss: 0.4174145000146293\n",
      "Target 0 - Validation Loss: 0.5504393672070852\n",
      "Target 0 - Epoch 13/150, Loss: 0.3979941096565709\n",
      "Target 0 - Validation Loss: 0.5542243024924907\n",
      "Target 0 - Epoch 14/150, Loss: 0.3892439629246549\n",
      "Target 0 - Validation Loss: 0.6102049179920336\n",
      "Target 0 - Epoch 15/150, Loss: 0.37079752854457715\n",
      "Target 0 - Validation Loss: 0.614261525069795\n",
      "Target 0 - Epoch 16/150, Loss: 0.3573274596866856\n",
      "Target 0 - Validation Loss: 0.563391288606132\n",
      "Target 0 - Epoch 17/150, Loss: 0.341607183058996\n",
      "Target 0 - Validation Loss: 0.5748296470903769\n",
      "Target 0 - Epoch 18/150, Loss: 0.31970333034263515\n",
      "Target 0 - Validation Loss: 0.5968985735643201\n",
      "Target 0 - Epoch 19/150, Loss: 0.2559721370840945\n",
      "Target 0 - Validation Loss: 0.5721259251600359\n",
      "Target 0 - Epoch 20/150, Loss: 0.23290902897488416\n",
      "Target 0 - Validation Loss: 0.5800302608347521\n",
      "Target 0 - Epoch 21/150, Loss: 0.22111456149553016\n",
      "Target 0 - Validation Loss: 0.579911144223155\n",
      "Target 0 - Epoch 22/150, Loss: 0.21138040737317101\n",
      "Target 0 - Validation Loss: 0.585479587679956\n",
      "Target 0 - Early stopping triggered\n",
      "Target 0 - Test Loss: 0.5343187182414822\n",
      "Average Test Loss for Individual Models: 0.5343187182414822\n"
     ]
    },
    {
     "name": "stderr",
     "output_type": "stream",
     "text": [
      "C:\\Users\\dalje\\AppData\\Local\\Temp\\ipykernel_7580\\1536202671.py:103: FutureWarning: You are using `torch.load` with `weights_only=False` (the current default value), which uses the default pickle module implicitly. It is possible to construct malicious pickle data which will execute arbitrary code during unpickling (See https://github.com/pytorch/pytorch/blob/main/SECURITY.md#untrusted-models for more details). In a future release, the default value for `weights_only` will be flipped to `True`. This limits the functions that could be executed during unpickling. Arbitrary objects will no longer be allowed to be loaded via this mode unless they are explicitly allowlisted by the user via `torch.serialization.add_safe_globals`. We recommend you start setting `weights_only=True` for any use case where you don't have full control of the loaded file. Please open an issue on GitHub for any issues related to this experimental feature.\n",
      "  model.load_state_dict(torch.load(f'best_model_target_{target_index}.pth'))\n"
     ]
    }
   ],
   "execution_count": 39
  },
  {
   "metadata": {
    "ExecuteTime": {
     "end_time": "2024-08-18T21:02:42.418206Z",
     "start_time": "2024-08-18T21:02:40.702973Z"
    }
   },
   "cell_type": "code",
   "source": [
    "for target_index in range(y_train.shape[1]):\n",
    "    model = models[target_index]\n",
    "\n",
    "    # Make predictions on the train, validation, and test sets\n",
    "    model.cpu().eval()\n",
    "    with torch.no_grad():\n",
    "        y_train_pred = model(X_train_tensor.cpu()).numpy()\n",
    "        y_val_pred = model(X_val_tensor.cpu()).numpy()\n",
    "        y_test_pred = model(X_test_tensor.cpu()).numpy()\n",
    "\n",
    "    # Inverse transform the predictions and targets to their original scale\n",
    "    y_train_pred_orig = scaler_y.inverse_transform(np.concatenate([np.zeros((y_train_pred.shape[0], target_index)), y_train_pred, np.zeros((y_train_pred.shape[0], y_train.shape[1] - target_index - 1))], axis=1))[:, target_index]\n",
    "    y_val_pred_orig = scaler_y.inverse_transform(np.concatenate([np.zeros((y_val_pred.shape[0], target_index)), y_val_pred, np.zeros((y_val_pred.shape[0], y_val.shape[1] - target_index - 1))], axis=1))[:, target_index]\n",
    "    y_test_pred_orig = scaler_y.inverse_transform(np.concatenate([np.zeros((y_test_pred.shape[0], target_index)), y_test_pred, np.zeros((y_test_pred.shape[0], y_test.shape[1] - target_index - 1))], axis=1))[:, target_index]\n",
    "\n",
    "    y_train_orig = scaler_y.inverse_transform(y_train)[:, target_index]\n",
    "    y_val_orig = scaler_y.inverse_transform(y_val)[:, target_index]\n",
    "    y_test_orig = scaler_y.inverse_transform(y_test)[:, target_index]\n",
    "\n",
    "    # Create dataframes for the predictions and actual values\n",
    "    train_df[f'Observed_{target_index}'] = y_train_orig\n",
    "    train_df[f'Predicted_{target_index}'] = y_train_pred_orig\n",
    "\n",
    "    val_df[f'Observed_{target_index}'] = y_val_orig\n",
    "    val_df[f'Predicted_{target_index}'] = y_val_pred_orig\n",
    "\n",
    "    test_df[f'Observed_{target_index}'] = y_test_orig\n",
    "    test_df[f'Predicted_{target_index}'] = y_test_pred_orig\n",
    "\n",
    "    # Create and insert parity plots for train, validation, and test sets\n",
    "    r2, rmse, mae = create_excel_chart('Train', target_index, train_sheet, train_df, start_row=0, start_col=target_index*9)\n",
    "    r2_scores.append(r2)\n",
    "    rmse_scores.append(rmse)\n",
    "    mae_scores.append(mae)\n",
    "    create_excel_chart('Validation', target_index, val_sheet, val_df, start_row=0, start_col=target_index*9)\n",
    "    create_excel_chart('Test', target_index, test_sheet, test_df, start_row=0, start_col=target_index*9)\n",
    "\n",
    "# Write dataframes to Excel sheets\n",
    "train_df.to_excel(writer, sheet_name='Train', index=False)\n",
    "val_df.to_excel(writer, sheet_name='Validation', index=False)\n",
    "test_df.to_excel(writer, sheet_name='Test', index=False)\n",
    "\n",
    "# Save and close the Excel file\n",
    "writer.close()\n",
    "\n",
    "# Calculate and print the average R², RMSE, and MAE for the validation set\n",
    "avg_r2 = np.mean(r2_scores)\n",
    "avg_rmse = np.mean(rmse_scores)\n",
    "avg_mae = np.mean(mae_scores)\n",
    "\n",
    "print(f\"Average R² for Validation Set: {avg_r2}\")\n",
    "print(f\"Average RMSE for Validation Set: {avg_rmse}\")\n",
    "print(f\"Average MAE for Validation Set: {avg_mae}\")\n",
    "\n",
    "print(f\"Predictions and plots written to {output_path}\")"
   ],
   "outputs": [
    {
     "name": "stderr",
     "output_type": "stream",
     "text": [
      "d:\\work\\conda\\nn_310\\lib\\site-packages\\sklearn\\metrics\\_regression.py:492: FutureWarning: 'squared' is deprecated in version 1.4 and will be removed in 1.6. To calculate the root mean squared error, use the function'root_mean_squared_error'.\n",
      "  warnings.warn(\n",
      "d:\\work\\conda\\nn_310\\lib\\site-packages\\sklearn\\metrics\\_regression.py:492: FutureWarning: 'squared' is deprecated in version 1.4 and will be removed in 1.6. To calculate the root mean squared error, use the function'root_mean_squared_error'.\n",
      "  warnings.warn(\n",
      "d:\\work\\conda\\nn_310\\lib\\site-packages\\sklearn\\metrics\\_regression.py:492: FutureWarning: 'squared' is deprecated in version 1.4 and will be removed in 1.6. To calculate the root mean squared error, use the function'root_mean_squared_error'.\n",
      "  warnings.warn(\n"
     ]
    },
    {
     "name": "stdout",
     "output_type": "stream",
     "text": [
      "Average R² for Validation Set: 0.5449052267314107\n",
      "Average RMSE for Validation Set: 1.3410168859464109\n",
      "Average MAE for Validation Set: 1.0288907498784448\n",
      "Predictions and plots written to individual_model_predictions_with_plots.xlsx\n"
     ]
    }
   ],
   "execution_count": 40
  },
  {
   "metadata": {},
   "cell_type": "code",
   "outputs": [],
   "execution_count": null,
   "source": ""
  }
 ]
}

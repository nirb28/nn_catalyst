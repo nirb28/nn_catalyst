{
 "cells": [
  {
   "cell_type": "code",
   "execution_count": 9,
   "metadata": {},
   "outputs": [],
   "source": [
    "%%capture\n",
    "import sys, os\n",
    "import torch, math, os\n",
    "import sys\n",
    "sys.path.append(\"..\")\n",
    "\n",
    "IN_COLAB = 'google.colab' in sys.modules\n",
    "if IN_COLAB:\n",
    "    print(\"Running in Colab!\")\n",
    "    from google.colab import drive\n",
    "\n",
    "    drive.mount('/content/drive', force_remount=False)\n",
    "else:\n",
    "    print(\"Not running in Colab.\")\n",
    "\n",
    "def resolve_path_gdrive(relativePath):\n",
    "    if os.path.exists('/content/drive'):\n",
    "        return '/content/drive/MyDrive/work/gdrive-workspaces/git/nn_catalyst/' + relativePath\n",
    "    else:\n",
    "        from utils import get_project_root\n",
    "        return get_project_root() + \"/../..\" + relativePath\n",
    "\n",
    "print(f\"Root project folder is at {resolve_path_gdrive('.')}\")\n",
    "\n",
    "CHECKPOINTS_FOLDER_BASE = \"/checkpoints/stn_r3_f849_tlast29/stack=False-scaleY=True\"\n",
    "CHECKPOINTS_FOLDER = resolve_path_gdrive(CHECKPOINTS_FOLDER_BASE) #f'd:/temp{CHECKPOINTS_FOLDER_BASE}'\n",
    "seed = 42\n",
    "torch.manual_seed(seed)\n",
    "torch.cuda.manual_seed(seed)\n",
    "torch.cuda.manual_seed_all(seed)\n",
    "torch.set_float32_matmul_precision(\"medium\")  # to make lightning happy"
   ]
  },
  {
   "cell_type": "code",
   "execution_count": 10,
   "metadata": {},
   "outputs": [],
   "source": [
    "\n",
    "import pandas as pd\n",
    "import torch\n",
    "import numpy as np\n",
    "from sklearn.preprocessing import StandardScaler\n",
    "from torch import nn\n",
    "import torch.nn.functional as F\n",
    "\n",
    "# Load the data\n",
    "df = pd.read_csv('few_merged_data_f849_tlast29_reordered_byR2.csv')\n",
    "X = df.iloc[:, :849]  # First 849 columns are features\n",
    "y = df.iloc[:, 849:]  # Last 29 columns are targets\n",
    "from pl.model_impl import *"
   ]
  },
  {
   "cell_type": "code",
   "execution_count": 11,
   "metadata": {},
   "outputs": [
    {
     "name": "stderr",
     "output_type": "stream",
     "text": [
      "/home/nirbaanm/miniconda3/envs/nn_catalyst/lib/python3.10/site-packages/sklearn/base.py:376: InconsistentVersionWarning: Trying to unpickle estimator StandardScaler from version 1.6.0 when using version 1.5.2. This might lead to breaking code or invalid results. Use at your own risk. For more info please refer to:\n",
      "https://scikit-learn.org/stable/model_persistence.html#security-maintainability-limitations\n",
      "  warnings.warn(\n",
      "/home/nirbaanm/miniconda3/envs/nn_catalyst/lib/python3.10/site-packages/sklearn/base.py:486: UserWarning: X has feature names, but StandardScaler was fitted without feature names\n",
      "  warnings.warn(\n"
     ]
    }
   ],
   "source": [
    "import joblib\n",
    "from sklearn.preprocessing import StandardScaler\n",
    "\n",
    "# Define the path to the pickle file\n",
    "pickle_file_path = f'{CHECKPOINTS_FOLDER}/scaler_X.pkl'\n",
    "\n",
    "# Load the StandardScaler from the pickle file\n",
    "with open(pickle_file_path, 'rb') as file:\n",
    "    scaler = joblib.load(file)\n",
    "\n",
    "# Now you can use the scaler\n",
    "# Example: scaler.transform(data)\n",
    "\n",
    "# Standardize features\n",
    "X_scaled = scaler.transform(X)\n",
    "X_tensor = torch.tensor(X_scaled, dtype=torch.float32)\n"
   ]
  },
  {
   "cell_type": "code",
   "execution_count": 14,
   "metadata": {},
   "outputs": [
    {
     "name": "stdout",
     "output_type": "stream",
     "text": [
      "Predicting target 1...\n",
      "Predicting target 2...\n",
      "Predicting target 3...\n",
      "Predicting target 4...\n",
      "Predicting target 5...\n",
      "Predicting target 6...\n",
      "Predicting target 7...\n",
      "Predicting target 8...\n",
      "Predicting target 9...\n",
      "Predicting target 10...\n",
      "Predicting target 11...\n",
      "Predicting target 12...\n",
      "Predicting target 13...\n",
      "Predicting target 14...\n",
      "Predicting target 15...\n",
      "Predicting target 16...\n",
      "Predicting target 17...\n",
      "Predicting target 18...\n",
      "Predicting target 19...\n",
      "Predicting target 20...\n",
      "Predicting target 21...\n",
      "Predicting target 22...\n",
      "Predicting target 23...\n",
      "Predicting target 24...\n",
      "Predicting target 25...\n",
      "Predicting target 26...\n",
      "Predicting target 27...\n",
      "Predicting target 28...\n",
      "Predicting target 29...\n",
      "Predictions shape: (8, 29)\n"
     ]
    }
   ],
   "source": [
    "from pathlib import Path\n",
    "\n",
    "def eval_model(x_data, target_num):\n",
    "        checkpoint_path=f'{CHECKPOINTS_FOLDER}/{target_num}'\n",
    "        pathlist = Path(checkpoint_path).glob('**/*.ckpt')\n",
    "        for path in pathlist:\n",
    "            # because path is object not string\n",
    "            model = SingleTargetNet.load_from_checkpoint(str(path))\n",
    "            model.eval()\n",
    "            model.cpu()\n",
    "            with torch.no_grad():\n",
    "                  y_pred = model(x_data)\n",
    "            return y_pred.detach().numpy()\n",
    "        \n",
    "# Load models and make predictions\n",
    "predictions = []\n",
    "for target_index in range(df.shape[1] - 849):\n",
    "    print(f\"Predicting target {target_index + 1}...\")\n",
    "    predictions.append(eval_model(X_tensor, target_index+1))\n",
    "    \n",
    "# Stack predictions into array\n",
    "predictions = np.hstack(predictions)\n",
    "\n",
    "# Create a DataFrame for predictions\n",
    "#predictions_df = pd.DataFrame(predictions, columns=[f'Prediction_{i}' for i in range(predictions.shape[1])])\n",
    "\n",
    "# Save predictions to a CSV file\n",
    "#predictions_df.to_csv('predictions.csv', index=False)\n",
    "\n",
    "print(f\"Predictions shape: {predictions.shape}\")"
   ]
  },
  {
   "cell_type": "code",
   "execution_count": 15,
   "metadata": {},
   "outputs": [
    {
     "data": {
      "text/plain": [
       "array([[ 0.38041747,  0.37435395,  0.38301158,  0.32179022,  0.40278733,\n",
       "         0.35184574, -1.5712007 , -1.3984663 ,  1.5064232 ,  2.4844203 ,\n",
       "         1.7189146 ,  2.7789712 ,  1.8699226 ,  1.3264762 , -1.1213297 ,\n",
       "        -1.8684686 ,  1.3493798 ,  1.7378752 , -0.16221514, -1.998511  ,\n",
       "        -1.7195978 , -0.73782766,  1.1627886 , -1.9192525 ,  2.836595  ,\n",
       "         0.8197746 ,  0.3535876 , -0.40010872, -0.70075166],\n",
       "       [ 0.25580525,  0.2529648 ,  0.2503891 ,  0.28139862,  0.30164066,\n",
       "         0.28221887, -0.6387827 , -0.69388795,  0.50233024,  0.11119656,\n",
       "        -0.03374834,  2.4412274 ,  2.7798343 ,  0.27203688, -0.5255129 ,\n",
       "        -0.8286061 ,  0.28920034,  2.1548796 ,  0.62466604, -1.1175022 ,\n",
       "        -1.1320281 ,  0.4210174 , -0.75317067, -1.1652302 ,  0.01175366,\n",
       "         1.3295193 , -0.41899648,  0.39197096,  1.3291682 ],\n",
       "       [ 0.81967187,  0.8394152 ,  0.8660329 ,  0.8326798 ,  0.8342287 ,\n",
       "         0.82582533, -1.8965763 , -2.0378969 ,  1.4113448 ,  0.43807143,\n",
       "        -1.1920977 , -1.1741518 , -0.8855235 ,  1.3014976 , -1.7830007 ,\n",
       "        -0.97969306,  1.9194825 , -1.2412913 ,  2.171077  , -0.61159503,\n",
       "        -0.4228475 ,  1.5852953 ,  1.1027554 , -0.02013563,  0.3045049 ,\n",
       "         0.47502604, -0.97737974, -0.38858113, -0.18899809],\n",
       "       [ 0.49533346,  0.48181164,  0.5095004 ,  0.4910899 ,  0.5076731 ,\n",
       "         0.47647268, -1.5292898 , -1.5773866 ,  1.3862916 , -0.4820851 ,\n",
       "        -1.4945015 , -0.0864376 , -0.06161753,  0.18343793, -1.4320297 ,\n",
       "        -1.1792052 ,  1.3520436 , -0.20649688,  0.9856498 ,  0.21220312,\n",
       "         0.24069646,  0.72509104,  0.5740617 ,  0.12027083,  0.3694242 ,\n",
       "         0.09230259, -0.81912786, -0.57310045, -0.1026327 ],\n",
       "       [-1.6379724 , -1.6111859 , -1.6809148 , -1.6915774 , -1.6314906 ,\n",
       "        -1.6642909 , -0.6409024 , -0.21392699,  0.04129968,  0.29490668,\n",
       "        -0.10989334, -0.3678073 , -0.47507554, -0.09415894, -0.13516158,\n",
       "         0.28727338, -0.15892458, -0.35531092, -0.31184006,  0.01243632,\n",
       "        -0.4024605 , -1.0147994 ,  0.35724252, -0.7624563 ,  1.3227245 ,\n",
       "         1.084116  ,  0.39102685, -0.07998186, -0.4506312 ],\n",
       "       [-0.5947743 , -0.60599345, -0.59143966, -0.57887715, -0.5630837 ,\n",
       "        -0.62927824,  0.62910324,  0.6379408 , -0.66998607, -0.24041654,\n",
       "         0.41177484, -0.530262  , -0.58579916, -0.4676676 ,  0.8995351 ,\n",
       "         0.60242295, -0.7786142 , -0.34249634, -0.49937835,  0.6521441 ,\n",
       "         0.7128148 , -0.2768105 ,  0.2985224 ,  1.2672822 ,  0.32414874,\n",
       "         1.8139292 , -0.3483554 , -0.0845692 ,  0.09857891],\n",
       "       [-1.9706194 , -1.9451686 , -1.9334643 , -1.8541604 , -1.838223  ,\n",
       "        -1.8522701 , -0.3750275 , -0.37624663,  0.510038  ,  0.2705891 ,\n",
       "        -0.03648767,  0.01634053,  0.09743318, -0.13267277, -0.34182552,\n",
       "        -0.5887708 , -0.71296406, -0.3654391 , -0.39964318, -0.40337157,\n",
       "        -0.3230964 , -0.9445169 , -0.20067415, -0.77669   ,  1.6097353 ,\n",
       "        -0.88430774,  0.2408641 , -0.7216159 , -0.611142  ],\n",
       "       [ 0.5119905 ,  0.52717954,  0.49071938,  0.5421254 ,  0.55192524,\n",
       "         0.5314241 , -0.4987405 , -0.34417287,  0.2752614 ,  0.18020333,\n",
       "        -0.44735005,  0.64371836,  0.64120823,  0.28791422, -0.26350322,\n",
       "        -0.34224522, -0.02568275,  0.62492645,  0.38196218, -1.1268548 ,\n",
       "        -0.9616539 ,  0.5087994 ,  0.07231302, -1.0208689 , -0.51426125,\n",
       "        -0.37113684, -0.8298363 , -0.81312335, -0.33390623]],\n",
       "      dtype=float32)"
      ]
     },
     "execution_count": 15,
     "metadata": {},
     "output_type": "execute_result"
    }
   ],
   "source": [
    "predictions"
   ]
  },
  {
   "cell_type": "code",
   "execution_count": null,
   "metadata": {},
   "outputs": [],
   "source": []
  }
 ],
 "metadata": {
  "kernelspec": {
   "display_name": "nn_catalyst",
   "language": "python",
   "name": "python3"
  },
  "language_info": {
   "codemirror_mode": {
    "name": "ipython",
    "version": 3
   },
   "file_extension": ".py",
   "mimetype": "text/x-python",
   "name": "python",
   "nbconvert_exporter": "python",
   "pygments_lexer": "ipython3",
   "version": "3.10.16"
  }
 },
 "nbformat": 4,
 "nbformat_minor": 2
}

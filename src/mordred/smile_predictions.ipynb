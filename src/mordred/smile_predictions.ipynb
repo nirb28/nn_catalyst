{
 "cells": [
  {
   "cell_type": "code",
   "execution_count": 12,
   "metadata": {},
   "outputs": [],
   "source": [
    "import pandas as pd\n",
    "import torch\n",
    "import numpy as np\n",
    "from sklearn.preprocessing import StandardScaler\n",
    "from torch import nn\n",
    "import torch.nn.functional as F\n",
    "import sys\n",
    "sys.path.append(\"..\")\n",
    "\n",
    "# Load the data\n",
    "df = pd.read_csv('few_merged_data_f849_tlast29_reordered_byR2.csv')\n",
    "X = df.iloc[:, :849]  # First 849 columns are features\n",
    "y = df.iloc[:, 849:]  # Last 29 columns are targets\n",
    "from pl.model_impl import *"
   ]
  },
  {
   "cell_type": "code",
   "execution_count": null,
   "metadata": {},
   "outputs": [],
   "source": [
    "\n",
    "# Standardize features\n",
    "scaler_X = StandardScaler()\n",
    "X_scaled = scaler_X.fit_transform(X)\n",
    "X_tensor = torch.tensor(X_scaled, dtype=torch.float32)\n"
   ]
  },
  {
   "cell_type": "code",
   "execution_count": null,
   "metadata": {},
   "outputs": [],
   "source": [
    "\n",
    "# Load models and make predictions\n",
    "predictions = []\n",
    "for target_index in range(df.shape[1] - 849):\n",
    "    # Initialize model\n",
    "    model = SingleTargetNet(X.shape[1])\n",
    "    \n",
    "    # Load saved weights\n",
    "    model.load_state_dict(torch.load(f'checkpoints/best_model_target_{target_index}.pth'))\n",
    "    \n",
    "    # Set to evaluation mode\n",
    "    model.eval()\n",
    "    \n",
    "    # Make predictions\n",
    "    with torch.no_grad():\n",
    "        pred = model(X_tensor).numpy()\n",
    "        predictions.append(pred)\n",
    "\n",
    "# Stack predictions into array\n",
    "predictions = np.hstack(predictions)\n",
    "\n",
    "# Create a DataFrame for predictions\n",
    "predictions_df = pd.DataFrame(predictions, columns=[f'Prediction_{i}' for i in range(predictions.shape[1])])\n",
    "\n",
    "# Save predictions to a CSV file\n",
    "predictions_df.to_csv('predictions.csv', index=False)\n",
    "\n",
    "print(f\"Predictions shape: {predictions.shape}\")"
   ]
  },
  {
   "cell_type": "code",
   "execution_count": null,
   "metadata": {},
   "outputs": [],
   "source": []
  }
 ],
 "metadata": {
  "kernelspec": {
   "display_name": "nn_catalyst",
   "language": "python",
   "name": "python3"
  },
  "language_info": {
   "codemirror_mode": {
    "name": "ipython",
    "version": 3
   },
   "file_extension": ".py",
   "mimetype": "text/x-python",
   "name": "python",
   "nbconvert_exporter": "python",
   "pygments_lexer": "ipython3",
   "version": "3.10.16"
  }
 },
 "nbformat": 4,
 "nbformat_minor": 2
}

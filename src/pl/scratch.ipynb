{
  "cells": [
    {
      "cell_type": "markdown",
      "metadata": {
        "id": "view-in-github",
        "colab_type": "text"
      },
      "source": [
        "<a href=\"https://colab.research.google.com/github/nirb28/nn_catalyst/blob/main/src/pl/scratch.ipynb\" target=\"_parent\"><img src=\"https://colab.research.google.com/assets/colab-badge.svg\" alt=\"Open In Colab\"/></a>"
      ]
    },
    {
      "cell_type": "code",
      "source": [
        "%%capture\n",
        "DEBUG = False\n",
        "\n",
        "import sys\n",
        "IN_COLAB = 'google.colab' in sys.modules\n",
        "\n",
        "if IN_COLAB:\n",
        "    print(\"Running in Colab!\")\n",
        "    from google.colab import drive\n",
        "    drive.mount('/content/drive', force_remount=False)\n",
        "    !pip install pytorch_lightning\n",
        "    !pip install torchmetrics\n",
        "else:\n",
        "    print(\"Not running in Colab.\")"
      ],
      "metadata": {
        "id": "AKO5oAFESNmd",
        "ExecuteTime": {
          "end_time": "2024-10-15T23:03:33.057207Z",
          "start_time": "2024-10-15T23:03:33.034699Z"
        }
      },
      "id": "AKO5oAFESNmd",
      "outputs": [],
      "execution_count": 1
    },
    {
      "metadata": {
        "id": "88eb903e9b5a6f6f",
        "ExecuteTime": {
          "end_time": "2024-10-15T23:03:33.666929Z",
          "start_time": "2024-10-15T23:03:33.647630Z"
        }
      },
      "cell_type": "code",
      "source": [
        "import torch\n",
        "# Training hyperparameters\n",
        "INPUT_SIZE = 1479\n",
        "NUM_TARGETS = 1\n",
        "LEARNING_RATE = 0.001\n",
        "BATCH_SIZE = 512\n",
        "NUM_EPOCHS = 150\n",
        "\n",
        "# Dataset\n",
        "DATA_DIR = \"dataset/\"\n",
        "NUM_WORKERS = 0\n",
        "\n",
        "# Compute related\n",
        "ACCELERATOR = 'cuda' if torch.cuda.is_available() else 'cpu'\n",
        "DEVICES = [0]\n",
        "PRECISION = 32\n",
        "\n",
        "CHECKPOINTS_FOLDER = \"/checkpoints/stn_1_r5\""
      ],
      "id": "88eb903e9b5a6f6f",
      "outputs": [],
      "execution_count": 11
    },
    {
      "metadata": {
        "id": "25fba0fd40809552",
        "outputId": "67e65096-aa9f-4189-edf2-168413ee58ee",
        "colab": {
          "base_uri": "https://localhost:8080/"
        },
        "ExecuteTime": {
          "end_time": "2024-10-15T23:03:35.334543Z",
          "start_time": "2024-10-15T23:03:35.313534Z"
        }
      },
      "cell_type": "code",
      "source": [
        "from torch.utils.data import DataLoader, Dataset\n",
        "from torch.utils.data import random_split\n",
        "import pytorch_lightning as pl\n",
        "import torch, math, os\n",
        "from torch.utils.data import Dataset, DataLoader\n",
        "import numpy as np\n",
        "\n",
        "pl.seed_everything(1234)\n",
        "\n",
        "def resolve_path_gdrive(relativePath):\n",
        "    if os.path.exists('/content/drive'):\n",
        "        return '/content/drive/MyDrive/work/gdrive-workspaces/git/nn_catalyst/' + relativePath\n",
        "    else:\n",
        "        from utils import get_project_root\n",
        "        return get_project_root() + \"/\" + relativePath"
      ],
      "id": "25fba0fd40809552",
      "outputs": [
        {
          "output_type": "stream",
          "name": "stderr",
          "text": [
            "INFO:lightning_fabric.utilities.seed:Seed set to 1234\n"
          ]
        }
      ],
      "execution_count": 12
    },
    {
      "metadata": {
        "id": "31982c159904e778",
        "ExecuteTime": {
          "end_time": "2024-10-15T23:03:36.781753Z",
          "start_time": "2024-10-15T23:03:36.454634Z"
        }
      },
      "cell_type": "code",
      "source": [
        "import numpy as np\n",
        "datafile='src/pl/merged_data_last29_reordered_byR2.csv'\n",
        "xy_orig = np.loadtxt(resolve_path_gdrive(datafile), delimiter=',', skiprows=1, dtype=float, max_rows=None)"
      ],
      "id": "31982c159904e778",
      "outputs": [],
      "execution_count": 4
    },
    {
      "cell_type": "code",
      "source": [
        "from sklearn.preprocessing import StandardScaler, MinMaxScaler\n",
        "class CatalystDataset(Dataset):\n",
        "    def __init__(self, target_num, datafile='src/pl/merged_data_last29_reordered_byR2.csv',\n",
        "                 useTargetsAsFeatures=False):\n",
        "        # Initialize data, download, etc.\n",
        "        #xy = np.loadtxt(resolve_path_gdrive(datafile), delimiter=',', skiprows=1, dtype=float, max_rows=None)\n",
        "        xy = xy_orig.copy()\n",
        "        xy = StandardScaler().fit_transform(xy)\n",
        "        self.n_samples = xy.shape[0]\n",
        "        # here the first column is the class label, the rest are the features\n",
        "        total_targets = 29\n",
        "        target_col_start = -(total_targets - target_num + 1)\n",
        "        if useTargetsAsFeatures:\n",
        "            self.x_data = torch.from_numpy(xy[:,:target_col_start]).float()  # size [n_samples, n_features]\n",
        "        else:\n",
        "            self.x_data = torch.from_numpy(xy[:,:-total_targets]).float()  # size [n_samples, n_features]\n",
        "        # get only first column as y\n",
        "        self.y_data = torch.unsqueeze(torch.from_numpy(xy[:,target_col_start:][:,0]), 1).float()  # size [n_samples, 1]\n",
        "\n",
        "    # support indexing such that dataset[i] can be used to get i-th sample\n",
        "    def __getitem__(self, index):\n",
        "        sample = self.x_data[index], self.y_data[index]\n",
        "        return sample\n",
        "\n",
        "    # we can call len(dataset) to return the size\n",
        "    def __len__(self):\n",
        "        return self.n_samples\n",
        "\n",
        "class CatalystDataModule(pl.LightningDataModule):\n",
        "    def __init__(self, data_dir, batch_size, num_workers, target_num):\n",
        "        super().__init__()\n",
        "        self.data_dir = data_dir\n",
        "        self.batch_size = batch_size\n",
        "        self.num_workers = num_workers\n",
        "        self.entire_dataset = CatalystDataset(target_num=target_num,\n",
        "                                              useTargetsAsFeatures=True)\n",
        "        self.target_num = target_num\n",
        "\n",
        "    def prepare_data(self):\n",
        "        pass\n",
        "\n",
        "    def setup(self, stage=None):\n",
        "        train_set_size = int(len(self.entire_dataset) * .8)\n",
        "        test_set_size = int(len(self.entire_dataset) * 0.1)\n",
        "        valid_set_size = len(self.entire_dataset) - train_set_size - test_set_size\n",
        "        print(f\"Train set size: {train_set_size}, Test set size: {test_set_size}, Valid set size: {valid_set_size}\")\n",
        "        self.train_ds, self.val_ds, self.test_ds = random_split(\n",
        "            self.entire_dataset, [train_set_size, valid_set_size, test_set_size], generator=torch.Generator().manual_seed(42))\n",
        "        return\n",
        "\n",
        "    def train_dataloader(self):\n",
        "        return DataLoader(\n",
        "            self.train_ds.dataset, batch_size=self.batch_size,\n",
        "            num_workers=self.num_workers, shuffle=False,\n",
        "        )\n",
        "    def val_dataloader(self):\n",
        "        return DataLoader(\n",
        "            self.val_ds.dataset, batch_size=self.batch_size,\n",
        "            num_workers=self.num_workers, shuffle=False,\n",
        "        )\n",
        "    def test_dataloader(self):\n",
        "        return DataLoader(\n",
        "            self.test_ds.dataset, batch_size=self.batch_size,\n",
        "            num_workers=self.num_workers, shuffle=False,\n",
        "        )\n",
        "dm1 = CatalystDataModule(\n",
        "        data_dir=DATA_DIR,\n",
        "        batch_size=BATCH_SIZE,\n",
        "        num_workers=NUM_WORKERS,\n",
        "        target_num=29\n",
        "    )\n",
        "dm1.setup()\n",
        "dm1.prepare_data()"
      ],
      "metadata": {
        "id": "_v-vj-X2BlyQ",
        "outputId": "31c74718-49e8-4d60-c3f4-13bed3af1181",
        "colab": {
          "base_uri": "https://localhost:8080/"
        },
        "ExecuteTime": {
          "end_time": "2024-10-15T23:03:37.699860Z",
          "start_time": "2024-10-15T23:03:37.657205Z"
        }
      },
      "id": "_v-vj-X2BlyQ",
      "outputs": [
        {
          "output_type": "stream",
          "name": "stdout",
          "text": [
            "Train set size: 20986, Test set size: 2623, Valid set size: 2624\n"
          ]
        }
      ],
      "execution_count": 13
    },
    {
      "metadata": {
        "id": "2c407a8a7a5bc7db",
        "ExecuteTime": {
          "end_time": "2024-10-15T23:04:03.370278Z",
          "start_time": "2024-10-15T23:04:03.341857Z"
        }
      },
      "cell_type": "code",
      "source": [
        "import pytorch_lightning as pl\n",
        "\n",
        "class BaseModel(pl.LightningModule):\n",
        "    def __init__(self):\n",
        "        super().__init__()\n",
        "        self.r2 = torchmetrics.R2Score()\n",
        "        self.loss_fn = nn.MSELoss()\n",
        "        self.validation_step_outputs = []\n",
        "\n",
        "    def training_step(self, batch, batch_idx):\n",
        "        loss, scores, y = self._common_step(batch, batch_idx)\n",
        "        self.log_dict(\n",
        "            {\n",
        "                \"train_loss\": loss,\n",
        "            },\n",
        "            on_step=False,\n",
        "            on_epoch=True,\n",
        "            prog_bar=True,\n",
        "        )\n",
        "        accuracy = self.r2(scores, y)\n",
        "        self.log(\"train_acc\", accuracy, prog_bar=True)\n",
        "        return {\"loss\": loss}\n",
        "\n",
        "    def validation_step(self, batch, batch_idx):\n",
        "        loss, scores, y = self._common_step(batch, batch_idx)\n",
        "        self.log(\"val_loss\", loss)\n",
        "        self.validation_step_outputs.append(loss)\n",
        "        return loss\n",
        "\n",
        "    def on_validation_epoch_end(self):\n",
        "        epoch_average = torch.stack(self.validation_step_outputs).mean()\n",
        "        self.log(\"validation_epoch_average\", epoch_average)\n",
        "        self.validation_step_outputs.clear()  # free memory\n",
        "\n",
        "    def test_step(self, batch, batch_idx):\n",
        "        loss, scores, y = self._common_step(batch, batch_idx)\n",
        "        self.log(\"test_loss\", loss)\n",
        "        return loss\n",
        "\n",
        "    def _common_step(self, batch, batch_idx):\n",
        "        x, y = batch\n",
        "        x = x.reshape(x.size(0), -1)\n",
        "        scores = self.forward(x)\n",
        "        loss = self.loss_fn(scores, y)\n",
        "        if DEBUG == True:\n",
        "            print(f\"loss: {loss}, len: {len(y)}\")\n",
        "        return loss, scores, y\n",
        "\n",
        "    def predict_step(self, batch, batch_idx):\n",
        "        x, y = batch\n",
        "        x = x.reshape(x.size(0), -1)\n",
        "        scores = self.forward(x)\n",
        "        preds = torch.argmax(scores, dim=1)\n",
        "        return preds\n",
        "\n",
        "    def configure_optimizers(self):\n",
        "        optimizer = torch.optim.AdamW(lr=self.lr, params=self.parameters())\n",
        "        scheduler = optim.lr_scheduler.ReduceLROnPlateau(optimizer, mode='min', factor=0.1, patience=10, min_lr=0.000000001, threshold=0.001)\n",
        "        return {\"optimizer\": optimizer, \"lr_scheduler\": scheduler, \"monitor\": \"val_loss\"}\n",
        "\n",
        "class SingleTargetNet(BaseModel):\n",
        "\n",
        "    def __init__(self, input_size=INPUT_SIZE, learning_rate=0.001, dropout_rate=0.5, target=1):\n",
        "        super(SingleTargetNet, self).__init__()\n",
        "        self.lr = learning_rate\n",
        "        self.loss_fn = nn.MSELoss()\n",
        "\n",
        "        self.fc1 = nn.Linear(input_size, 1024)\n",
        "        self.bn1 = nn.BatchNorm1d(1024)\n",
        "        self.fc2 = nn.Linear(1024, 512)\n",
        "        self.bn2 = nn.BatchNorm1d(512)\n",
        "        self.fc3 = nn.Linear(512, 1)\n",
        "        self.fc_skip = nn.Linear(1024, 512)\n",
        "        self.dropout = nn.Dropout(dropout_rate)\n",
        "        self.save_hyperparameters()\n",
        "\n",
        "    def forward(self, x):\n",
        "        x1 = F.relu(self.bn1(self.fc1(x)))\n",
        "        x1 = self.dropout(x1)\n",
        "\n",
        "        x2 = F.relu(self.bn2(self.fc2(x1)))\n",
        "        x2 = self.dropout(x2)\n",
        "\n",
        "        # Skip connection\n",
        "        x2 += self.fc_skip(x1)\n",
        "\n",
        "        x3 = self.fc3(x2)\n",
        "        return x3\n"
      ],
      "id": "2c407a8a7a5bc7db",
      "outputs": [],
      "execution_count": 14
    },
    {
      "metadata": {
        "id": "451f92a00a4137fa",
        "outputId": "591161e0-d10f-4446-d52f-ab24096d6297",
        "colab": {
          "base_uri": "https://localhost:8080/",
          "height": 250,
          "referenced_widgets": [
            "4a81b7a8dda54f0daf2d162af94a181d",
            "1bcd0e2943d0427eb5a0d16eae399953",
            "ae7ef89bceaf4acc9350cde300e39536",
            "e7f583f4c28148d5ab7732fcec0a4656"
          ]
        },
        "ExecuteTime": {
          "end_time": "2024-10-15T23:04:07.243788Z",
          "start_time": "2024-10-15T23:04:06.879222Z"
        }
      },
      "cell_type": "code",
      "source": [
        "import torch\n",
        "from torch import nn, optim\n",
        "from torch.utils.data import DataLoader\n",
        "import pytorch_lightning as pl\n",
        "import torchmetrics\n",
        "from torchmetrics.regression import R2Score\n",
        "import torch.nn.functional as F\n",
        "from pytorch_lightning.callbacks import EarlyStopping, ModelCheckpoint, LearningRateMonitor\n",
        "from pytorch_lightning.callbacks import RichProgressBar\n",
        "\n",
        "torch.set_float32_matmul_precision(\"medium\") # to make lightning happy\n",
        "\n",
        "if __name__ == \"__main__\":\n",
        "    # do everything in a loop for all the targets\n",
        "    for target in range(29, 30):\n",
        "        print(f\"Target: {target}\")\n",
        "        dm = CatalystDataModule(\n",
        "            data_dir=DATA_DIR,\n",
        "            batch_size=BATCH_SIZE,\n",
        "            num_workers=NUM_WORKERS,\n",
        "            target_num=target\n",
        "        )\n",
        "        dm.setup()\n",
        "        dm.prepare_data()\n",
        "\n",
        "        model = SingleTargetNet (\n",
        "            input_size=dm.entire_dataset.x_data.shape[1],\n",
        "            learning_rate=LEARNING_RATE,\n",
        "        )\n",
        "\n",
        "        # DEFAULTS used by the Trainer\n",
        "        checkpoint_callback = ModelCheckpoint(\n",
        "            dirpath=resolve_path_gdrive(f'{CHECKPOINTS_FOLDER}/{dm.target_num}'),\n",
        "            filename='{epoch:02d}-{val_loss:.2f}',\n",
        "            save_top_k=1,\n",
        "            verbose=DEBUG,\n",
        "            monitor='val_loss',\n",
        "            mode='min'\n",
        "        )\n",
        "        lr_monitor = LearningRateMonitor(logging_interval='step')\n",
        "\n",
        "        trainer = pl.Trainer(\n",
        "            accelerator=ACCELERATOR,\n",
        "            devices=1,\n",
        "            min_epochs=1,\n",
        "            max_epochs=NUM_EPOCHS,\n",
        "            precision=PRECISION,\n",
        "            fast_dev_run=False,\n",
        "            enable_checkpointing=True,\n",
        "            enable_progress_bar=False,\n",
        "            log_every_n_steps=20,\n",
        "            callbacks=[checkpoint_callback, lr_monitor, RichProgressBar(),\n",
        "                    EarlyStopping(monitor=\"train_loss\", patience=10, verbose=DEBUG, mode=\"min\")]\n",
        "        )\n",
        "        trainer.fit(model, dm)\n",
        "        trainer.validate(model, dm)\n",
        "        trainer.test(model, dm)"
      ],
      "id": "451f92a00a4137fa",
      "outputs": [
        {
          "output_type": "display_data",
          "data": {
            "text/plain": [
              "Epoch 145/149 \u001b[38;2;98;6;224m━━━━━━━━━━━━━━━━━━━━━━━━━━━━━━━\u001b[0m\u001b[38;5;237m╺\u001b[0m \u001b[37m51/52\u001b[0m \u001b[38;5;245m0:00:00 • 0:00:01\u001b[0m \u001b[38;5;249m51.49it/s\u001b[0m \u001b[37mv_num: 1.000 train_acc: 0.406     \u001b[0m\n",
              "                                                                                 \u001b[37mtrain_loss: 2.444                 \u001b[0m\n"
            ],
            "text/html": [
              "<pre style=\"white-space:pre;overflow-x:auto;line-height:normal;font-family:Menlo,'DejaVu Sans Mono',consolas,'Courier New',monospace\">Epoch 145/149 <span style=\"color: #6206e0; text-decoration-color: #6206e0\">━━━━━━━━━━━━━━━━━━━━━━━━━━━━━━━</span><span style=\"color: #3a3a3a; text-decoration-color: #3a3a3a\">╺</span> <span style=\"color: #c0c0c0; text-decoration-color: #c0c0c0\">51/52</span> <span style=\"color: #8a8a8a; text-decoration-color: #8a8a8a\">0:00:00 • 0:00:01</span> <span style=\"color: #b2b2b2; text-decoration-color: #b2b2b2\">51.49it/s</span> <span style=\"color: #c0c0c0; text-decoration-color: #c0c0c0\">v_num: 1.000 train_acc: 0.406     </span>\n",
              "                                                                                 <span style=\"color: #c0c0c0; text-decoration-color: #c0c0c0\">train_loss: 2.444                 </span>\n",
              "</pre>\n"
            ]
          },
          "metadata": {}
        },
        {
          "output_type": "display_data",
          "data": {
            "text/plain": [
              "Epoch 145/149 \u001b[38;2;98;6;224m━━━━━━━━━━━━━━━━━━━━━━━━━━━━━━━━\u001b[0m \u001b[37m52/52\u001b[0m \u001b[38;5;245m0:00:01 • 0:00:00\u001b[0m \u001b[38;5;249m51.52it/s\u001b[0m \u001b[37mv_num: 1.000 train_acc: 0.342     \u001b[0m\n",
              "                                                                                 \u001b[37mtrain_loss: 2.444                 \u001b[0m\n",
              "\u001b[37mValidation\u001b[0m    \u001b[38;2;98;6;224m━━━━━━━━━━━━━━━━━━━━━━━━━━━━━━\u001b[0m\u001b[38;5;237m╺\u001b[0m\u001b[38;5;237m━\u001b[0m \u001b[37m49/52\u001b[0m \u001b[38;5;245m0:00:00 • 0:00:01\u001b[0m \u001b[38;5;249m62.20it/s\u001b[0m                                   \n"
            ],
            "text/html": [
              "<pre style=\"white-space:pre;overflow-x:auto;line-height:normal;font-family:Menlo,'DejaVu Sans Mono',consolas,'Courier New',monospace\">Epoch 145/149 <span style=\"color: #6206e0; text-decoration-color: #6206e0\">━━━━━━━━━━━━━━━━━━━━━━━━━━━━━━━━</span> <span style=\"color: #c0c0c0; text-decoration-color: #c0c0c0\">52/52</span> <span style=\"color: #8a8a8a; text-decoration-color: #8a8a8a\">0:00:01 • 0:00:00</span> <span style=\"color: #b2b2b2; text-decoration-color: #b2b2b2\">51.52it/s</span> <span style=\"color: #c0c0c0; text-decoration-color: #c0c0c0\">v_num: 1.000 train_acc: 0.342     </span>\n",
              "                                                                                 <span style=\"color: #c0c0c0; text-decoration-color: #c0c0c0\">train_loss: 2.444                 </span>\n",
              "<span style=\"color: #c0c0c0; text-decoration-color: #c0c0c0\">Validation</span>    <span style=\"color: #6206e0; text-decoration-color: #6206e0\">━━━━━━━━━━━━━━━━━━━━━━━━━━━━━━</span><span style=\"color: #3a3a3a; text-decoration-color: #3a3a3a\">╺━</span> <span style=\"color: #c0c0c0; text-decoration-color: #c0c0c0\">49/52</span> <span style=\"color: #8a8a8a; text-decoration-color: #8a8a8a\">0:00:00 • 0:00:01</span> <span style=\"color: #b2b2b2; text-decoration-color: #b2b2b2\">62.20it/s</span>                                   \n",
              "</pre>\n"
            ]
          },
          "metadata": {}
        },
        {
          "output_type": "display_data",
          "data": {
            "text/plain": [
              "Epoch 146/149 \u001b[38;2;98;6;224m━\u001b[0m\u001b[38;5;237m╺\u001b[0m\u001b[38;5;237m━━━━━━━━━━━━━━━━━━━━━━━━━━━━━━━\u001b[0m \u001b[37m2/52\u001b[0m \u001b[38;5;245m0:00:00 • 0:00:01\u001b[0m \u001b[38;5;249m53.17it/s\u001b[0m \u001b[37mv_num: 1.000 train_acc: 0.494     \u001b[0m\n",
              "                                                                                 \u001b[37mtrain_loss: 2.449                 \u001b[0m\n"
            ],
            "text/html": [
              "<pre style=\"white-space:pre;overflow-x:auto;line-height:normal;font-family:Menlo,'DejaVu Sans Mono',consolas,'Courier New',monospace\">Epoch 146/149 <span style=\"color: #6206e0; text-decoration-color: #6206e0\">━</span><span style=\"color: #3a3a3a; text-decoration-color: #3a3a3a\">╺━━━━━━━━━━━━━━━━━━━━━━━━━━━━━━━</span> <span style=\"color: #c0c0c0; text-decoration-color: #c0c0c0\">2/52</span> <span style=\"color: #8a8a8a; text-decoration-color: #8a8a8a\">0:00:00 • 0:00:01</span> <span style=\"color: #b2b2b2; text-decoration-color: #b2b2b2\">53.17it/s</span> <span style=\"color: #c0c0c0; text-decoration-color: #c0c0c0\">v_num: 1.000 train_acc: 0.494     </span>\n",
              "                                                                                 <span style=\"color: #c0c0c0; text-decoration-color: #c0c0c0\">train_loss: 2.449                 </span>\n",
              "</pre>\n"
            ]
          },
          "metadata": {}
        },
        {
          "output_type": "display_data",
          "data": {
            "text/plain": [
              "Epoch 146/149 \u001b[38;2;98;6;224m━━━━━━━━━━━━━━━━━━━━━━━━━━━━━━━━\u001b[0m \u001b[37m52/52\u001b[0m \u001b[38;5;245m0:00:00 • 0:00:00\u001b[0m \u001b[38;5;249m54.11it/s\u001b[0m \u001b[37mv_num: 1.000 train_acc: 0.292     \u001b[0m\n",
              "                                                                                 \u001b[37mtrain_loss: 2.449                 \u001b[0m\n",
              "\u001b[37mValidation\u001b[0m    \u001b[38;2;98;6;224m━━━━━━━━━━━━━━━━━━━━━━\u001b[0m\u001b[38;2;98;6;224m╸\u001b[0m\u001b[38;5;237m━━━━━━━━━\u001b[0m \u001b[37m37/52\u001b[0m \u001b[38;5;245m0:00:00 • 0:00:01\u001b[0m \u001b[38;5;249m62.88it/s\u001b[0m                                   \n"
            ],
            "text/html": [
              "<pre style=\"white-space:pre;overflow-x:auto;line-height:normal;font-family:Menlo,'DejaVu Sans Mono',consolas,'Courier New',monospace\">Epoch 146/149 <span style=\"color: #6206e0; text-decoration-color: #6206e0\">━━━━━━━━━━━━━━━━━━━━━━━━━━━━━━━━</span> <span style=\"color: #c0c0c0; text-decoration-color: #c0c0c0\">52/52</span> <span style=\"color: #8a8a8a; text-decoration-color: #8a8a8a\">0:00:00 • 0:00:00</span> <span style=\"color: #b2b2b2; text-decoration-color: #b2b2b2\">54.11it/s</span> <span style=\"color: #c0c0c0; text-decoration-color: #c0c0c0\">v_num: 1.000 train_acc: 0.292     </span>\n",
              "                                                                                 <span style=\"color: #c0c0c0; text-decoration-color: #c0c0c0\">train_loss: 2.449                 </span>\n",
              "<span style=\"color: #c0c0c0; text-decoration-color: #c0c0c0\">Validation</span>    <span style=\"color: #6206e0; text-decoration-color: #6206e0\">━━━━━━━━━━━━━━━━━━━━━━╸</span><span style=\"color: #3a3a3a; text-decoration-color: #3a3a3a\">━━━━━━━━━</span> <span style=\"color: #c0c0c0; text-decoration-color: #c0c0c0\">37/52</span> <span style=\"color: #8a8a8a; text-decoration-color: #8a8a8a\">0:00:00 • 0:00:01</span> <span style=\"color: #b2b2b2; text-decoration-color: #b2b2b2\">62.88it/s</span>                                   \n",
              "</pre>\n"
            ]
          },
          "metadata": {}
        },
        {
          "output_type": "display_data",
          "data": {
            "text/plain": [
              "Epoch 147/149 \u001b[38;2;98;6;224m━━━━━━━━━━━━━━━━━━━━━━━━━━━\u001b[0m\u001b[38;2;98;6;224m╸\u001b[0m\u001b[38;5;237m━━━━\u001b[0m \u001b[37m45/52\u001b[0m \u001b[38;5;245m0:00:00 • 0:00:01\u001b[0m \u001b[38;5;249m53.24it/s\u001b[0m \u001b[37mv_num: 1.000 train_acc: 0.385     \u001b[0m\n",
              "                                                                                 \u001b[37mtrain_loss: 2.451                 \u001b[0m\n"
            ],
            "text/html": [
              "<pre style=\"white-space:pre;overflow-x:auto;line-height:normal;font-family:Menlo,'DejaVu Sans Mono',consolas,'Courier New',monospace\">Epoch 147/149 <span style=\"color: #6206e0; text-decoration-color: #6206e0\">━━━━━━━━━━━━━━━━━━━━━━━━━━━╸</span><span style=\"color: #3a3a3a; text-decoration-color: #3a3a3a\">━━━━</span> <span style=\"color: #c0c0c0; text-decoration-color: #c0c0c0\">45/52</span> <span style=\"color: #8a8a8a; text-decoration-color: #8a8a8a\">0:00:00 • 0:00:01</span> <span style=\"color: #b2b2b2; text-decoration-color: #b2b2b2\">53.24it/s</span> <span style=\"color: #c0c0c0; text-decoration-color: #c0c0c0\">v_num: 1.000 train_acc: 0.385     </span>\n",
              "                                                                                 <span style=\"color: #c0c0c0; text-decoration-color: #c0c0c0\">train_loss: 2.451                 </span>\n",
              "</pre>\n"
            ]
          },
          "metadata": {}
        },
        {
          "output_type": "display_data",
          "data": {
            "text/plain": [],
            "text/html": [
              "<pre style=\"white-space:pre;overflow-x:auto;line-height:normal;font-family:Menlo,'DejaVu Sans Mono',consolas,'Courier New',monospace\"></pre>\n"
            ]
          },
          "metadata": {}
        },
        {
          "output_type": "stream",
          "name": "stderr",
          "text": [
            "INFO:pytorch_lightning.accelerators.cuda:LOCAL_RANK: 0 - CUDA_VISIBLE_DEVICES: [0]\n"
          ]
        },
        {
          "output_type": "display_data",
          "data": {
            "text/plain": [
              "Output()"
            ],
            "application/vnd.jupyter.widget-view+json": {
              "version_major": 2,
              "version_minor": 0,
              "model_id": "ae7ef89bceaf4acc9350cde300e39536"
            }
          },
          "metadata": {}
        }
      ],
      "execution_count": 15
    },
    {
      "metadata": {
        "id": "f9ceeceac39b7c6d"
      },
      "cell_type": "code",
      "source": [
        "from torchmetrics import R2Score\n",
        "from torchmetrics import MeanSquaredError\n",
        "\n",
        "def r2scoreAndMSE(model, dataloader):\n",
        "    r2_score_metric = R2Score()\n",
        "    mse = MeanSquaredError()\n",
        "    for batch_idx, (data, target) in enumerate(dataloader):\n",
        "        predictions = model(data)\n",
        "        #import pdb; pdb.set_trace()\n",
        "        r2_score_metric.update(predictions, target)\n",
        "        mse.update(predictions, target)\n",
        "    return r2_score_metric.compute().detach().item(), mse.compute().detach().item()"
      ],
      "id": "f9ceeceac39b7c6d",
      "outputs": [],
      "execution_count": 16
    },
    {
      "cell_type": "code",
      "source": [
        "from pathlib import Path\n",
        "import pandas as pd\n",
        "from itertools import chain\n",
        "\n",
        "results = []\n",
        "if __name__ == \"__main__\":\n",
        "    # do everything in a loop for all the targets\n",
        "    for target in range(29, 30):\n",
        "        print(f\"Target: {target}\")\n",
        "        dm = CatalystDataModule(\n",
        "            data_dir=DATA_DIR,\n",
        "            batch_size=BATCH_SIZE,\n",
        "            num_workers=NUM_WORKERS,\n",
        "            target_num=target\n",
        "        )\n",
        "        dm.prepare_data()\n",
        "        dm.setup()\n",
        "        if DEBUG == True:\n",
        "            print(f\"Train set size: {len(dm.train_ds),dm.train_ds.dataset.x_data.shape[1]}\")\n",
        "            print(f\"Test set size: {len(dm.test_ds)}, Valid set size: {len(dm.val_ds)}\")\n",
        "\n",
        "        checkpoint_path=resolve_path_gdrive(f'{CHECKPOINTS_FOLDER}/{dm.target_num}')\n",
        "        pathlist = Path(checkpoint_path).glob('**/*.ckpt')\n",
        "        for path in pathlist:\n",
        "            # because path is object not string\n",
        "            model = SingleTargetNet.load_from_checkpoint(str(path))\n",
        "            model.eval()\n",
        "            model.cpu()\n",
        "            # add row to resultsDF\n",
        "            train_r2, train_mse = r2scoreAndMSE(model, dm.train_dataloader())\n",
        "            val_r2, val_mse = r2scoreAndMSE(model, dm.val_dataloader())\n",
        "            test_r2, test_mse = r2scoreAndMSE(model, dm.test_dataloader())\n",
        "\n",
        "            results.append([target, os.path.basename(path), train_r2, train_mse, val_r2, val_mse, test_r2, test_mse])\n"
      ],
      "metadata": {
        "id": "MEA9-WzTGPGL",
        "outputId": "42323e7d-624c-4323-8b82-9ed2011c92fb",
        "colab": {
          "base_uri": "https://localhost:8080/"
        }
      },
      "id": "MEA9-WzTGPGL",
      "outputs": [
        {
          "output_type": "stream",
          "name": "stdout",
          "text": [
            "Target: 29\n",
            "Train set size: 20986, Test set size: 2623, Valid set size: 2624\n"
          ]
        }
      ],
      "execution_count": 17
    },
    {
      "metadata": {
        "id": "3af373f6ab2cec1a",
        "outputId": "eedd554f-e810-4c6f-afb2-798cdab455a6",
        "colab": {
          "base_uri": "https://localhost:8080/",
          "height": 89
        }
      },
      "cell_type": "code",
      "source": [
        "resultsDFcolumns = [\"Target\", \"ModelFile\", \"Train R2\", \"Train MSE\", \"Val R2\", \"Val MSE\", \"Test R2\", \"Test MSE\"]\n",
        "resultsDF = pd.DataFrame(results, columns=resultsDFcolumns)\n",
        "resultsDF"
      ],
      "id": "3af373f6ab2cec1a",
      "outputs": [
        {
          "output_type": "execute_result",
          "data": {
            "text/plain": [
              "   Target                     ModelFile  Train R2  Train MSE    Val R2  \\\n",
              "0      29  epoch=147-val_loss=2.85.ckpt  0.280184    2.84804  0.280184   \n",
              "\n",
              "   Val MSE   Test R2  Test MSE  \n",
              "0  2.84804  0.280184   2.84804  "
            ],
            "text/html": [
              "\n",
              "  <div id=\"df-557f8b02-5b47-461f-b843-c521c3f84546\" class=\"colab-df-container\">\n",
              "    <div>\n",
              "<style scoped>\n",
              "    .dataframe tbody tr th:only-of-type {\n",
              "        vertical-align: middle;\n",
              "    }\n",
              "\n",
              "    .dataframe tbody tr th {\n",
              "        vertical-align: top;\n",
              "    }\n",
              "\n",
              "    .dataframe thead th {\n",
              "        text-align: right;\n",
              "    }\n",
              "</style>\n",
              "<table border=\"1\" class=\"dataframe\">\n",
              "  <thead>\n",
              "    <tr style=\"text-align: right;\">\n",
              "      <th></th>\n",
              "      <th>Target</th>\n",
              "      <th>ModelFile</th>\n",
              "      <th>Train R2</th>\n",
              "      <th>Train MSE</th>\n",
              "      <th>Val R2</th>\n",
              "      <th>Val MSE</th>\n",
              "      <th>Test R2</th>\n",
              "      <th>Test MSE</th>\n",
              "    </tr>\n",
              "  </thead>\n",
              "  <tbody>\n",
              "    <tr>\n",
              "      <th>0</th>\n",
              "      <td>29</td>\n",
              "      <td>epoch=147-val_loss=2.85.ckpt</td>\n",
              "      <td>0.280184</td>\n",
              "      <td>2.84804</td>\n",
              "      <td>0.280184</td>\n",
              "      <td>2.84804</td>\n",
              "      <td>0.280184</td>\n",
              "      <td>2.84804</td>\n",
              "    </tr>\n",
              "  </tbody>\n",
              "</table>\n",
              "</div>\n",
              "    <div class=\"colab-df-buttons\">\n",
              "\n",
              "  <div class=\"colab-df-container\">\n",
              "    <button class=\"colab-df-convert\" onclick=\"convertToInteractive('df-557f8b02-5b47-461f-b843-c521c3f84546')\"\n",
              "            title=\"Convert this dataframe to an interactive table.\"\n",
              "            style=\"display:none;\">\n",
              "\n",
              "  <svg xmlns=\"http://www.w3.org/2000/svg\" height=\"24px\" viewBox=\"0 -960 960 960\">\n",
              "    <path d=\"M120-120v-720h720v720H120Zm60-500h600v-160H180v160Zm220 220h160v-160H400v160Zm0 220h160v-160H400v160ZM180-400h160v-160H180v160Zm440 0h160v-160H620v160ZM180-180h160v-160H180v160Zm440 0h160v-160H620v160Z\"/>\n",
              "  </svg>\n",
              "    </button>\n",
              "\n",
              "  <style>\n",
              "    .colab-df-container {\n",
              "      display:flex;\n",
              "      gap: 12px;\n",
              "    }\n",
              "\n",
              "    .colab-df-convert {\n",
              "      background-color: #E8F0FE;\n",
              "      border: none;\n",
              "      border-radius: 50%;\n",
              "      cursor: pointer;\n",
              "      display: none;\n",
              "      fill: #1967D2;\n",
              "      height: 32px;\n",
              "      padding: 0 0 0 0;\n",
              "      width: 32px;\n",
              "    }\n",
              "\n",
              "    .colab-df-convert:hover {\n",
              "      background-color: #E2EBFA;\n",
              "      box-shadow: 0px 1px 2px rgba(60, 64, 67, 0.3), 0px 1px 3px 1px rgba(60, 64, 67, 0.15);\n",
              "      fill: #174EA6;\n",
              "    }\n",
              "\n",
              "    .colab-df-buttons div {\n",
              "      margin-bottom: 4px;\n",
              "    }\n",
              "\n",
              "    [theme=dark] .colab-df-convert {\n",
              "      background-color: #3B4455;\n",
              "      fill: #D2E3FC;\n",
              "    }\n",
              "\n",
              "    [theme=dark] .colab-df-convert:hover {\n",
              "      background-color: #434B5C;\n",
              "      box-shadow: 0px 1px 3px 1px rgba(0, 0, 0, 0.15);\n",
              "      filter: drop-shadow(0px 1px 2px rgba(0, 0, 0, 0.3));\n",
              "      fill: #FFFFFF;\n",
              "    }\n",
              "  </style>\n",
              "\n",
              "    <script>\n",
              "      const buttonEl =\n",
              "        document.querySelector('#df-557f8b02-5b47-461f-b843-c521c3f84546 button.colab-df-convert');\n",
              "      buttonEl.style.display =\n",
              "        google.colab.kernel.accessAllowed ? 'block' : 'none';\n",
              "\n",
              "      async function convertToInteractive(key) {\n",
              "        const element = document.querySelector('#df-557f8b02-5b47-461f-b843-c521c3f84546');\n",
              "        const dataTable =\n",
              "          await google.colab.kernel.invokeFunction('convertToInteractive',\n",
              "                                                    [key], {});\n",
              "        if (!dataTable) return;\n",
              "\n",
              "        const docLinkHtml = 'Like what you see? Visit the ' +\n",
              "          '<a target=\"_blank\" href=https://colab.research.google.com/notebooks/data_table.ipynb>data table notebook</a>'\n",
              "          + ' to learn more about interactive tables.';\n",
              "        element.innerHTML = '';\n",
              "        dataTable['output_type'] = 'display_data';\n",
              "        await google.colab.output.renderOutput(dataTable, element);\n",
              "        const docLink = document.createElement('div');\n",
              "        docLink.innerHTML = docLinkHtml;\n",
              "        element.appendChild(docLink);\n",
              "      }\n",
              "    </script>\n",
              "  </div>\n",
              "\n",
              "\n",
              "  <div id=\"id_0a221f5a-b4aa-41ac-b8f9-4d35b97fce96\">\n",
              "    <style>\n",
              "      .colab-df-generate {\n",
              "        background-color: #E8F0FE;\n",
              "        border: none;\n",
              "        border-radius: 50%;\n",
              "        cursor: pointer;\n",
              "        display: none;\n",
              "        fill: #1967D2;\n",
              "        height: 32px;\n",
              "        padding: 0 0 0 0;\n",
              "        width: 32px;\n",
              "      }\n",
              "\n",
              "      .colab-df-generate:hover {\n",
              "        background-color: #E2EBFA;\n",
              "        box-shadow: 0px 1px 2px rgba(60, 64, 67, 0.3), 0px 1px 3px 1px rgba(60, 64, 67, 0.15);\n",
              "        fill: #174EA6;\n",
              "      }\n",
              "\n",
              "      [theme=dark] .colab-df-generate {\n",
              "        background-color: #3B4455;\n",
              "        fill: #D2E3FC;\n",
              "      }\n",
              "\n",
              "      [theme=dark] .colab-df-generate:hover {\n",
              "        background-color: #434B5C;\n",
              "        box-shadow: 0px 1px 3px 1px rgba(0, 0, 0, 0.15);\n",
              "        filter: drop-shadow(0px 1px 2px rgba(0, 0, 0, 0.3));\n",
              "        fill: #FFFFFF;\n",
              "      }\n",
              "    </style>\n",
              "    <button class=\"colab-df-generate\" onclick=\"generateWithVariable('resultsDF')\"\n",
              "            title=\"Generate code using this dataframe.\"\n",
              "            style=\"display:none;\">\n",
              "\n",
              "  <svg xmlns=\"http://www.w3.org/2000/svg\" height=\"24px\"viewBox=\"0 0 24 24\"\n",
              "       width=\"24px\">\n",
              "    <path d=\"M7,19H8.4L18.45,9,17,7.55,7,17.6ZM5,21V16.75L18.45,3.32a2,2,0,0,1,2.83,0l1.4,1.43a1.91,1.91,0,0,1,.58,1.4,1.91,1.91,0,0,1-.58,1.4L9.25,21ZM18.45,9,17,7.55Zm-12,3A5.31,5.31,0,0,0,4.9,8.1,5.31,5.31,0,0,0,1,6.5,5.31,5.31,0,0,0,4.9,4.9,5.31,5.31,0,0,0,6.5,1,5.31,5.31,0,0,0,8.1,4.9,5.31,5.31,0,0,0,12,6.5,5.46,5.46,0,0,0,6.5,12Z\"/>\n",
              "  </svg>\n",
              "    </button>\n",
              "    <script>\n",
              "      (() => {\n",
              "      const buttonEl =\n",
              "        document.querySelector('#id_0a221f5a-b4aa-41ac-b8f9-4d35b97fce96 button.colab-df-generate');\n",
              "      buttonEl.style.display =\n",
              "        google.colab.kernel.accessAllowed ? 'block' : 'none';\n",
              "\n",
              "      buttonEl.onclick = () => {\n",
              "        google.colab.notebook.generateWithVariable('resultsDF');\n",
              "      }\n",
              "      })();\n",
              "    </script>\n",
              "  </div>\n",
              "\n",
              "    </div>\n",
              "  </div>\n"
            ],
            "application/vnd.google.colaboratory.intrinsic+json": {
              "type": "dataframe",
              "variable_name": "resultsDF",
              "summary": "{\n  \"name\": \"resultsDF\",\n  \"rows\": 1,\n  \"fields\": [\n    {\n      \"column\": \"Target\",\n      \"properties\": {\n        \"dtype\": \"number\",\n        \"std\": null,\n        \"min\": 29,\n        \"max\": 29,\n        \"num_unique_values\": 1,\n        \"samples\": [\n          29\n        ],\n        \"semantic_type\": \"\",\n        \"description\": \"\"\n      }\n    },\n    {\n      \"column\": \"ModelFile\",\n      \"properties\": {\n        \"dtype\": \"string\",\n        \"num_unique_values\": 1,\n        \"samples\": [\n          \"epoch=147-val_loss=2.85.ckpt\"\n        ],\n        \"semantic_type\": \"\",\n        \"description\": \"\"\n      }\n    },\n    {\n      \"column\": \"Train R2\",\n      \"properties\": {\n        \"dtype\": \"number\",\n        \"std\": null,\n        \"min\": 0.28018397092819214,\n        \"max\": 0.28018397092819214,\n        \"num_unique_values\": 1,\n        \"samples\": [\n          0.28018397092819214\n        ],\n        \"semantic_type\": \"\",\n        \"description\": \"\"\n      }\n    },\n    {\n      \"column\": \"Train MSE\",\n      \"properties\": {\n        \"dtype\": \"number\",\n        \"std\": null,\n        \"min\": 2.8480398654937744,\n        \"max\": 2.8480398654937744,\n        \"num_unique_values\": 1,\n        \"samples\": [\n          2.8480398654937744\n        ],\n        \"semantic_type\": \"\",\n        \"description\": \"\"\n      }\n    },\n    {\n      \"column\": \"Val R2\",\n      \"properties\": {\n        \"dtype\": \"number\",\n        \"std\": null,\n        \"min\": 0.28018397092819214,\n        \"max\": 0.28018397092819214,\n        \"num_unique_values\": 1,\n        \"samples\": [\n          0.28018397092819214\n        ],\n        \"semantic_type\": \"\",\n        \"description\": \"\"\n      }\n    },\n    {\n      \"column\": \"Val MSE\",\n      \"properties\": {\n        \"dtype\": \"number\",\n        \"std\": null,\n        \"min\": 2.8480398654937744,\n        \"max\": 2.8480398654937744,\n        \"num_unique_values\": 1,\n        \"samples\": [\n          2.8480398654937744\n        ],\n        \"semantic_type\": \"\",\n        \"description\": \"\"\n      }\n    },\n    {\n      \"column\": \"Test R2\",\n      \"properties\": {\n        \"dtype\": \"number\",\n        \"std\": null,\n        \"min\": 0.28018397092819214,\n        \"max\": 0.28018397092819214,\n        \"num_unique_values\": 1,\n        \"samples\": [\n          0.28018397092819214\n        ],\n        \"semantic_type\": \"\",\n        \"description\": \"\"\n      }\n    },\n    {\n      \"column\": \"Test MSE\",\n      \"properties\": {\n        \"dtype\": \"number\",\n        \"std\": null,\n        \"min\": 2.8480398654937744,\n        \"max\": 2.8480398654937744,\n        \"num_unique_values\": 1,\n        \"samples\": [\n          2.8480398654937744\n        ],\n        \"semantic_type\": \"\",\n        \"description\": \"\"\n      }\n    }\n  ]\n}"
            }
          },
          "metadata": {},
          "execution_count": 18
        }
      ],
      "execution_count": 18
    },
    {
      "metadata": {
        "id": "4398bc53fbf63706"
      },
      "cell_type": "code",
      "source": [
        "resultsDF.to_csv(resolve_path_gdrive(f'{CHECKPOINTS_FOLDER}/results.csv'), index=False)"
      ],
      "id": "4398bc53fbf63706",
      "outputs": [],
      "execution_count": null
    },
    {
      "metadata": {
        "id": "2rY85I_NJ8K8"
      },
      "cell_type": "code",
      "source": [
        "dm1 = CatalystDataModule(\n",
        "        data_dir=DATA_DIR,\n",
        "        batch_size=BATCH_SIZE,\n",
        "        num_workers=NUM_WORKERS,\n",
        "        target_num=target\n",
        "    )\n",
        "dm1.prepare_data()\n",
        "dm1.setup()\n",
        "\n",
        "print(r2scoreAndMSE(model, dm1.train_dataloader()))\n",
        "print(r2scoreAndMSE(model, dm1.val_dataloader()))\n",
        "print(r2scoreAndMSE(model, dm1.test_dataloader()))"
      ],
      "id": "2rY85I_NJ8K8",
      "outputs": [],
      "execution_count": null
    },
    {
      "metadata": {
        "id": "u1IP95JW5JPT"
      },
      "cell_type": "code",
      "source": [
        "import numpy as np\n",
        "matrix = np.array([[1, 2, 3, 4],\n",
        "                   [5, 6, 7, 8],\n",
        "                   [9, 10, 11, 12]])\n",
        "m = np.delete(matrix, [-1], axis=1)\n",
        "m"
      ],
      "id": "u1IP95JW5JPT",
      "outputs": [],
      "execution_count": null
    }
  ],
  "metadata": {
    "kernelspec": {
      "display_name": "Python 3",
      "name": "python3"
    },
    "language_info": {
      "codemirror_mode": {
        "name": "ipython",
        "version": 2
      },
      "file_extension": ".py",
      "mimetype": "text/x-python",
      "name": "python",
      "nbconvert_exporter": "python",
      "pygments_lexer": "ipython2",
      "version": "2.7.6"
    },
    "colab": {
      "provenance": [],
      "gpuType": "T4",
      "machine_shape": "hm",
      "include_colab_link": true
    },
    "accelerator": "GPU",
    "widgets": {
      "application/vnd.jupyter.widget-state+json": {
        "4a81b7a8dda54f0daf2d162af94a181d": {
          "model_module": "@jupyter-widgets/output",
          "model_name": "OutputModel",
          "model_module_version": "1.0.0",
          "state": {
            "_dom_classes": [],
            "_model_module": "@jupyter-widgets/output",
            "_model_module_version": "1.0.0",
            "_model_name": "OutputModel",
            "_view_count": null,
            "_view_module": "@jupyter-widgets/output",
            "_view_module_version": "1.0.0",
            "_view_name": "OutputView",
            "layout": "IPY_MODEL_1bcd0e2943d0427eb5a0d16eae399953",
            "msg_id": "",
            "outputs": [
              {
                "output_type": "display_data",
                "data": {
                  "text/plain": "Epoch 147/149 \u001b[38;2;98;6;224m━━━━━━━━━━━━━━━━━━━━━━━━━━━━━━━━\u001b[0m \u001b[37m52/52\u001b[0m \u001b[38;5;245m0:00:00 • 0:00:00\u001b[0m \u001b[38;5;249m53.66it/s\u001b[0m \u001b[37mv_num: 1.000 train_acc: 0.334     \u001b[0m\n                                                                                 \u001b[37mtrain_loss: 2.451                 \u001b[0m\n",
                  "text/html": "<pre style=\"white-space:pre;overflow-x:auto;line-height:normal;font-family:Menlo,'DejaVu Sans Mono',consolas,'Courier New',monospace\">Epoch 147/149 <span style=\"color: #6206e0; text-decoration-color: #6206e0\">━━━━━━━━━━━━━━━━━━━━━━━━━━━━━━━━</span> <span style=\"color: #c0c0c0; text-decoration-color: #c0c0c0\">52/52</span> <span style=\"color: #8a8a8a; text-decoration-color: #8a8a8a\">0:00:00 • 0:00:00</span> <span style=\"color: #b2b2b2; text-decoration-color: #b2b2b2\">53.66it/s</span> <span style=\"color: #c0c0c0; text-decoration-color: #c0c0c0\">v_num: 1.000 train_acc: 0.334     </span>\n                                                                                 <span style=\"color: #c0c0c0; text-decoration-color: #c0c0c0\">train_loss: 2.451                 </span>\n</pre>\n"
                },
                "metadata": {}
              }
            ]
          }
        },
        "1bcd0e2943d0427eb5a0d16eae399953": {
          "model_module": "@jupyter-widgets/base",
          "model_name": "LayoutModel",
          "model_module_version": "1.2.0",
          "state": {
            "_model_module": "@jupyter-widgets/base",
            "_model_module_version": "1.2.0",
            "_model_name": "LayoutModel",
            "_view_count": null,
            "_view_module": "@jupyter-widgets/base",
            "_view_module_version": "1.2.0",
            "_view_name": "LayoutView",
            "align_content": null,
            "align_items": null,
            "align_self": null,
            "border": null,
            "bottom": null,
            "display": null,
            "flex": null,
            "flex_flow": null,
            "grid_area": null,
            "grid_auto_columns": null,
            "grid_auto_flow": null,
            "grid_auto_rows": null,
            "grid_column": null,
            "grid_gap": null,
            "grid_row": null,
            "grid_template_areas": null,
            "grid_template_columns": null,
            "grid_template_rows": null,
            "height": null,
            "justify_content": null,
            "justify_items": null,
            "left": null,
            "margin": null,
            "max_height": null,
            "max_width": null,
            "min_height": null,
            "min_width": null,
            "object_fit": null,
            "object_position": null,
            "order": null,
            "overflow": null,
            "overflow_x": null,
            "overflow_y": null,
            "padding": null,
            "right": null,
            "top": null,
            "visibility": null,
            "width": null
          }
        },
        "ae7ef89bceaf4acc9350cde300e39536": {
          "model_module": "@jupyter-widgets/output",
          "model_name": "OutputModel",
          "model_module_version": "1.0.0",
          "state": {
            "_dom_classes": [],
            "_model_module": "@jupyter-widgets/output",
            "_model_module_version": "1.0.0",
            "_model_name": "OutputModel",
            "_view_count": null,
            "_view_module": "@jupyter-widgets/output",
            "_view_module_version": "1.0.0",
            "_view_name": "OutputView",
            "layout": "IPY_MODEL_e7f583f4c28148d5ab7732fcec0a4656",
            "msg_id": "",
            "outputs": [
              {
                "output_type": "display_data",
                "data": {
                  "text/plain": "\u001b[37mValidation\u001b[0m \u001b[38;2;98;6;224m━━━━━━━━━━━━━━━━━━━━━━━━━━━━━━━━━━━━━━━━\u001b[0m \u001b[37m52/52\u001b[0m \u001b[38;5;245m0:00:00 • 0:00:00\u001b[0m \u001b[38;5;249m78.35it/s\u001b[0m  \n",
                  "text/html": "<pre style=\"white-space:pre;overflow-x:auto;line-height:normal;font-family:Menlo,'DejaVu Sans Mono',consolas,'Courier New',monospace\"><span style=\"color: #c0c0c0; text-decoration-color: #c0c0c0\">Validation</span> <span style=\"color: #6206e0; text-decoration-color: #6206e0\">━━━━━━━━━━━━━━━━━━━━━━━━━━━━━━━━━━━━━━━━</span> <span style=\"color: #c0c0c0; text-decoration-color: #c0c0c0\">52/52</span> <span style=\"color: #8a8a8a; text-decoration-color: #8a8a8a\">0:00:00 • 0:00:00</span> <span style=\"color: #b2b2b2; text-decoration-color: #b2b2b2\">78.35it/s</span>  \n</pre>\n"
                },
                "metadata": {}
              }
            ]
          }
        },
        "e7f583f4c28148d5ab7732fcec0a4656": {
          "model_module": "@jupyter-widgets/base",
          "model_name": "LayoutModel",
          "model_module_version": "1.2.0",
          "state": {
            "_model_module": "@jupyter-widgets/base",
            "_model_module_version": "1.2.0",
            "_model_name": "LayoutModel",
            "_view_count": null,
            "_view_module": "@jupyter-widgets/base",
            "_view_module_version": "1.2.0",
            "_view_name": "LayoutView",
            "align_content": null,
            "align_items": null,
            "align_self": null,
            "border": null,
            "bottom": null,
            "display": null,
            "flex": null,
            "flex_flow": null,
            "grid_area": null,
            "grid_auto_columns": null,
            "grid_auto_flow": null,
            "grid_auto_rows": null,
            "grid_column": null,
            "grid_gap": null,
            "grid_row": null,
            "grid_template_areas": null,
            "grid_template_columns": null,
            "grid_template_rows": null,
            "height": null,
            "justify_content": null,
            "justify_items": null,
            "left": null,
            "margin": null,
            "max_height": null,
            "max_width": null,
            "min_height": null,
            "min_width": null,
            "object_fit": null,
            "object_position": null,
            "order": null,
            "overflow": null,
            "overflow_x": null,
            "overflow_y": null,
            "padding": null,
            "right": null,
            "top": null,
            "visibility": null,
            "width": null
          }
        }
      }
    }
  },
  "nbformat": 4,
  "nbformat_minor": 5
}
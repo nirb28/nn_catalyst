{
  "cells": [
    {
      "cell_type": "markdown",
      "metadata": {
        "id": "view-in-github",
        "colab_type": "text"
      },
      "source": [
        "<a href=\"https://colab.research.google.com/github/nirb28/nn_catalyst/blob/main/src/pl/scratch.ipynb\" target=\"_parent\"><img src=\"https://colab.research.google.com/assets/colab-badge.svg\" alt=\"Open In Colab\"/></a>"
      ]
    },
    {
      "cell_type": "code",
      "source": [
        "%%capture\n",
        "DEBUG = False\n",
        "\n",
        "import sys\n",
        "IN_COLAB = 'google.colab' in sys.modules\n",
        "\n",
        "if IN_COLAB:\n",
        "    print(\"Running in Colab!\")\n",
        "    from google.colab import drive\n",
        "    drive.mount('/content/drive', force_remount=False)\n",
        "    !pip install pytorch_lightning\n",
        "    !pip install torchmetrics\n",
        "else:\n",
        "    print(\"Not running in Colab.\")"
      ],
      "metadata": {
        "id": "AKO5oAFESNmd",
        "ExecuteTime": {
          "end_time": "2024-09-25T22:56:02.674463Z",
          "start_time": "2024-09-25T22:56:02.642732Z"
        }
      },
      "id": "AKO5oAFESNmd",
      "outputs": [],
      "execution_count": 1
    },
    {
      "metadata": {
        "id": "88eb903e9b5a6f6f",
        "ExecuteTime": {
          "end_time": "2024-09-25T22:56:06.719863Z",
          "start_time": "2024-09-25T22:56:02.674463Z"
        }
      },
      "cell_type": "code",
      "source": [
        "import torch\n",
        "# Training hyperparameters\n",
        "INPUT_SIZE = 1479\n",
        "NUM_TARGETS = 1\n",
        "LEARNING_RATE = 0.001\n",
        "BATCH_SIZE = 64\n",
        "NUM_EPOCHS = 150\n",
        "\n",
        "# Dataset\n",
        "DATA_DIR = \"dataset/\"\n",
        "NUM_WORKERS = 2\n",
        "\n",
        "# Compute related\n",
        "ACCELERATOR = 'cuda' if torch.cuda.is_available() else 'cpu'\n",
        "DEVICES = [0]\n",
        "PRECISION = 32"
      ],
      "id": "88eb903e9b5a6f6f",
      "outputs": [],
      "execution_count": 2
    },
    {
      "metadata": {
        "id": "25fba0fd40809552",
        "ExecuteTime": {
          "end_time": "2024-09-25T23:39:19.754211Z",
          "start_time": "2024-09-25T23:39:19.691158Z"
        },
        "outputId": "31d1440b-ea5f-4149-d34c-c1bdea3586a6",
        "colab": {
          "base_uri": "https://localhost:8080/"
        }
      },
      "cell_type": "code",
      "source": [
        "from torch.utils.data import DataLoader, Dataset\n",
        "from torch.utils.data import random_split\n",
        "import pytorch_lightning as pl\n",
        "import torch, math, os\n",
        "from torch.utils.data import Dataset, DataLoader\n",
        "import numpy as np\n",
        "from sklearn.preprocessing import StandardScaler\n",
        "\n",
        "pl.seed_everything(1234)\n",
        "\n",
        "def resolve_path_gdrive(relativePath):\n",
        "    if os.path.exists('/content/drive'):\n",
        "        return '/content/drive/MyDrive/work/gdrive-workspaces/git/nn_catalyst/' + relativePath\n",
        "    else:\n",
        "        from utils import get_project_root\n",
        "        return get_project_root() + \"/\" + relativePath\n",
        "\n",
        "class CatalystDataset(Dataset):\n",
        "    def __init__(self, target_num, datafile='src/pl/merged_data_last29.csv'):\n",
        "        # Initialize data, download, etc.\n",
        "        xy = np.loadtxt(resolve_path_gdrive(datafile), delimiter=',', skiprows=1, dtype=float, max_rows=None)\n",
        "        xy = StandardScaler().fit_transform(xy)\n",
        "        self.n_samples = xy.shape[0]\n",
        "        # here the first column is the class label, the rest are the features\n",
        "        total_targets = 29\n",
        "        target_col_start = -(total_targets - target_num + 1)\n",
        "        target_col_end = target_col_start + 1\n",
        "        self.x_data = torch.from_numpy(xy[:,:-total_targets]).float()  # size [n_samples, n_features]\n",
        "        self.y_data = torch.from_numpy(xy[:,target_col_start:target_col_end]).float()  # size [n_samples, 1]\n",
        "\n",
        "    # support indexing such that dataset[i] can be used to get i-th sample\n",
        "    def __getitem__(self, index):\n",
        "        sample = self.x_data[index], self.y_data[index]\n",
        "        return sample\n",
        "\n",
        "    # we can call len(dataset) to return the size\n",
        "    def __len__(self):\n",
        "        return self.n_samples\n",
        "\n",
        "class CatalystDataModule(pl.LightningDataModule):\n",
        "    def __init__(self, data_dir, batch_size, num_workers, target_num):\n",
        "        super().__init__()\n",
        "        self.data_dir = data_dir\n",
        "        self.batch_size = batch_size\n",
        "        self.num_workers = num_workers\n",
        "        self.entire_dataset = CatalystDataset(target_num=target_num)\n",
        "\n",
        "    def prepare_data(self):\n",
        "        pass\n",
        "\n",
        "    def setup(self, stage=None):\n",
        "        train_set_size = int(len(self.entire_dataset) * 0.8)\n",
        "        test_set_size = int(len(self.entire_dataset) * 0.1)\n",
        "        valid_set_size = len(self.entire_dataset) - train_set_size - test_set_size\n",
        "        print(f\"Train set size: {train_set_size}, Test set size: {test_set_size}, Valid set size: {valid_set_size}\")\n",
        "        self.train_ds, self.val_ds, self.test_ds = random_split(\n",
        "            self.entire_dataset, [train_set_size, valid_set_size, test_set_size])\n",
        "        return\n",
        "\n",
        "    def train_dataloader(self):\n",
        "        return DataLoader(\n",
        "            self.train_ds,\n",
        "            batch_size=self.batch_size,\n",
        "            num_workers=self.num_workers,\n",
        "            shuffle=True,\n",
        "        )\n",
        "\n",
        "    def val_dataloader(self):\n",
        "        return DataLoader(\n",
        "            self.val_ds,\n",
        "            batch_size=self.batch_size,\n",
        "            num_workers=self.num_workers,\n",
        "            shuffle=False,\n",
        "        )\n",
        "\n",
        "    def test_dataloader(self):\n",
        "        return DataLoader(\n",
        "            self.test_ds,\n",
        "            batch_size=self.batch_size,\n",
        "            num_workers=self.num_workers,\n",
        "            shuffle=False,\n",
        "        )\n",
        "\n",
        "dm1 = CatalystDataModule(\n",
        "        data_dir=DATA_DIR,\n",
        "        batch_size=BATCH_SIZE,\n",
        "        num_workers=NUM_WORKERS,\n",
        "        target_num=1\n",
        "    )\n",
        "dm1.prepare_data()\n",
        "dm1.setup()"
      ],
      "id": "25fba0fd40809552",
      "outputs": [
        {
          "output_type": "stream",
          "name": "stderr",
          "text": [
            "INFO:lightning_fabric.utilities.seed:Seed set to 1234\n"
          ]
        },
        {
          "output_type": "stream",
          "name": "stdout",
          "text": [
            "Train set size: 20986, Test set size: 2623, Valid set size: 2624\n"
          ]
        }
      ],
      "execution_count": 3
    },
    {
      "metadata": {
        "ExecuteTime": {
          "end_time": "2024-09-25T23:38:35.588906Z",
          "start_time": "2024-09-25T23:38:35.558474Z"
        },
        "id": "bcecf394022d918",
        "outputId": "339ae869-16d4-426b-b31e-bffd043031b5",
        "colab": {
          "base_uri": "https://localhost:8080/",
          "height": 36
        },
        "collapsed": true
      },
      "cell_type": "code",
      "source": [
        "'''\n",
        "for x,y in dm1.test_dataloader():\n",
        "    #print(x)\n",
        "    print(y)\n",
        "'''"
      ],
      "id": "bcecf394022d918",
      "outputs": [
        {
          "output_type": "execute_result",
          "data": {
            "text/plain": [
              "'\\nfor x,y in dm1.test_dataloader():\\n    #print(x)\\n    print(y)\\n'"
            ],
            "application/vnd.google.colaboratory.intrinsic+json": {
              "type": "string"
            }
          },
          "metadata": {},
          "execution_count": 4
        }
      ],
      "execution_count": 4
    },
    {
      "metadata": {
        "id": "2c407a8a7a5bc7db"
      },
      "cell_type": "code",
      "outputs": [],
      "execution_count": 5,
      "source": [
        "import torch\n",
        "from torch import nn, optim\n",
        "from torch.utils.data import DataLoader\n",
        "from tqdm import tqdm\n",
        "import pytorch_lightning as pl\n",
        "import torchmetrics\n",
        "from torchmetrics.regression import R2Score\n",
        "import torch.nn.functional as F\n",
        "\n",
        "class BaseModel(pl.LightningModule):\n",
        "    def __init__(self):\n",
        "        super().__init__()\n",
        "        self.r2 = torchmetrics.R2Score()\n",
        "        self.loss_fn = nn.MSELoss()\n",
        "        self.validation_step_outputs = []\n",
        "\n",
        "    def training_step(self, batch, batch_idx):\n",
        "        loss, scores, y = self._common_step(batch, batch_idx)\n",
        "        self.log_dict(\n",
        "            {\n",
        "                \"train_loss\": loss,\n",
        "            },\n",
        "            on_step=True,\n",
        "            on_epoch=True,\n",
        "            prog_bar=True,\n",
        "        )\n",
        "        accuracy = self.r2(scores, y)\n",
        "        self.log(\"train_acc\", accuracy, prog_bar=True)\n",
        "        return {\"loss\": loss}\n",
        "\n",
        "    def validation_step(self, batch, batch_idx):\n",
        "        loss, scores, y = self._common_step(batch, batch_idx)\n",
        "        self.log(\"val_loss\", loss)\n",
        "        self.validation_step_outputs.append(loss)\n",
        "        return loss\n",
        "\n",
        "    def on_validation_epoch_end(self):\n",
        "        epoch_average = torch.stack(self.validation_step_outputs).mean()\n",
        "        self.log(\"validation_epoch_average\", epoch_average)\n",
        "        self.validation_step_outputs.clear()  # free memory\n",
        "\n",
        "    def test_step(self, batch, batch_idx):\n",
        "        loss, scores, y = self._common_step(batch, batch_idx)\n",
        "        self.log(\"test_loss\", loss)\n",
        "        return loss\n",
        "\n",
        "    def _common_step(self, batch, batch_idx):\n",
        "        x, y = batch\n",
        "        x = x.reshape(x.size(0), -1)\n",
        "        scores = self.forward(x)\n",
        "        loss = self.loss_fn(scores, y)\n",
        "        if DEBUG == True:\n",
        "            print(f\"loss: {loss}, len: {len(y)}\")\n",
        "        return loss, scores, y\n",
        "\n",
        "    def predict_step(self, batch, batch_idx):\n",
        "        x, y = batch\n",
        "        x = x.reshape(x.size(0), -1)\n",
        "        scores = self.forward(x)\n",
        "        preds = torch.argmax(scores, dim=1)\n",
        "        return preds\n",
        "\n",
        "    def configure_optimizers(self):\n",
        "        optimizer = torch.optim.AdamW(lr=self.lr, params=self.parameters())\n",
        "        scheduler = optim.lr_scheduler.ReduceLROnPlateau(optimizer, mode='min', factor=0.1, patience=10, min_lr=0.000000001, threshold=0.001)\n",
        "        return {\"optimizer\": optimizer, \"lr_scheduler\": scheduler, \"monitor\": \"val_loss\"}\n",
        "\n",
        "    def on_load_checkpoint(self, checkpoint: dict) -> None:\n",
        "        state_dict = checkpoint[\"state_dict\"]\n",
        "        model_state_dict = self.state_dict()\n",
        "        is_changed = False\n",
        "        for k in state_dict:\n",
        "            if k in model_state_dict:\n",
        "                if state_dict[k].shape != model_state_dict[k].shape:\n",
        "                    print(f\"Skip loading parameter: {k}, \"\n",
        "                                f\"required shape: {model_state_dict[k].shape}, \"\n",
        "                                f\"loaded shape: {state_dict[k].shape}\")\n",
        "                    state_dict[k] = model_state_dict[k]\n",
        "                    is_changed = True\n",
        "            else:\n",
        "                is_changed = True\n",
        "\n",
        "        if is_changed:\n",
        "            checkpoint.pop(\"optimizer_states\", None)\n",
        "\n",
        "class SingleTargetNet(BaseModel):\n",
        "\n",
        "    def __init__(self, input_size=INPUT_SIZE, learning_rate=0.001, dropout_rate=0.5, target=1):\n",
        "        super(SingleTargetNet, self).__init__()\n",
        "        self.lr = learning_rate\n",
        "        self.loss_fn = nn.MSELoss()\n",
        "\n",
        "        self.fc1 = nn.Linear(input_size, 1024)\n",
        "        self.bn1 = nn.BatchNorm1d(1024)\n",
        "        self.fc2 = nn.Linear(1024, 512)\n",
        "        self.bn2 = nn.BatchNorm1d(512)\n",
        "        self.fc3 = nn.Linear(512, 1)\n",
        "        self.fc_skip = nn.Linear(1024, 512)\n",
        "        self.dropout = nn.Dropout(dropout_rate)\n",
        "\n",
        "    def forward(self, x):\n",
        "        x1 = F.relu(self.bn1(self.fc1(x)))\n",
        "        x1 = self.dropout(x1)\n",
        "\n",
        "        x2 = F.relu(self.bn2(self.fc2(x1)))\n",
        "        x2 = self.dropout(x2)\n",
        "\n",
        "        # Skip connection\n",
        "        x2 += self.fc_skip(x1)\n",
        "\n",
        "        x3 = self.fc3(x2)\n",
        "        return x3\n",
        "\n",
        "class RegressionNetwork(BaseModel):\n",
        "    def __init__(self, input_dim, hidden_dim, output_dim):\n",
        "        super(RegressionNetwork, self).__init__()\n",
        "        self.fc1 = nn.Linear(input_dim, hidden_dim)\n",
        "        self.bn1 = nn.BatchNorm1d(hidden_dim)\n",
        "        self.relu = nn.LeakyReLU()\n",
        "        self.dropout = nn.Dropout(0.1)\n",
        "        self.fc2 = nn.Linear(hidden_dim, hidden_dim)\n",
        "        self.bn2 = nn.BatchNorm1d(hidden_dim)\n",
        "        self.fc3 = nn.Linear(hidden_dim, output_dim)\n",
        "\n",
        "    def forward(self, x):\n",
        "        out = self.fc1(x)\n",
        "        out = self.bn1(out)\n",
        "        out = self.relu(out)\n",
        "        out = self.dropout(out)\n",
        "        out = self.fc2(out)\n",
        "        out = self.bn2(out)\n",
        "        out = self.relu(out)\n",
        "        out = self.fc3(out)\n",
        "        return out"
      ],
      "id": "2c407a8a7a5bc7db"
    },
    {
      "metadata": {
        "ExecuteTime": {
          "end_time": "2024-09-24T13:32:02.936034Z",
          "start_time": "2024-09-24T13:30:32.909398Z"
        },
        "colab": {
          "base_uri": "https://localhost:8080/",
          "height": 478,
          "referenced_widgets": [
            "4e2845e4ac3a4486a1cf8b4e632a26e3",
            "f592802d99c24909935cbf0406e369ef",
            "82dc3b43fe764d469fb5ce9e4cbd23eb",
            "1d76a462ff1747fb957cf2b8b72ceb88",
            "06ded45b79cb497c97d419c54c03c9ce",
            "c9415c37f6ad4b6aa6b9c29eca343acb",
            "4929908942024541825e2efb31433608",
            "0b14d99cf53442d6b722b3b3a9fd5080",
            "63ee217bf6d543bbac522932b8c7dc28",
            "59f335a92f644a2cbf4bc9eaaf94b464",
            "b3cda9a931ec41af9898e9c7c9795cb0",
            "15c9d06ad4884ccabf73eaa36f3d7921",
            "90302da3d4384fa382bec1dbdd930d38",
            "a0e806803f2c4c4e9ae4d775abb8e7a4",
            "1eb281bf996b4fd8a65a9736f59d6f8a",
            "9a172fa32b8847a59762644b5355cdd4",
            "8fcb050c3cda4a0fbed8c555a6a5b5fd",
            "c5bf1ccdd35f476580782302a95a3f82",
            "8e9fd8aa0bb242c5a0ef3c51a70b1b82",
            "6609bbfe08b84fd28f71e0448b98f166",
            "402673ff60a3419fbbc2ac55ff7782ed",
            "e4e3086e796c465fb7734931f921f27b"
          ]
        },
        "id": "451f92a00a4137fa",
        "outputId": "6110be62-ae0b-436a-fc57-716e3afbda14"
      },
      "cell_type": "code",
      "source": [
        "import torch\n",
        "import pytorch_lightning as pl\n",
        "#from model import NN\n",
        "#from dataset import CatalystDataModule\n",
        "#from config import *\n",
        "from pytorch_lightning.callbacks import EarlyStopping\n",
        "\n",
        "torch.set_float32_matmul_precision(\"medium\") # to make lightning happy\n",
        "\n",
        "from pytorch_lightning.callbacks import ModelCheckpoint\n",
        "# DEFAULTS used by the Trainer\n",
        "checkpoint_callback = ModelCheckpoint(\n",
        "    dirpath=os.getcwd()+'/checkpoints/stn_1/',\n",
        "    filename='{epoch:02d}-{val_loss:.2f}',\n",
        "    save_top_k=3,\n",
        "    #save_best_only=True,\n",
        "    verbose=True,\n",
        "    monitor='val_loss',\n",
        "    mode='min'\n",
        ")\n",
        "\n",
        "if __name__ == \"__main__\":\n",
        "    model = SingleTargetNet (\n",
        "        input_size=INPUT_SIZE,\n",
        "        learning_rate=LEARNING_RATE,\n",
        "    )\n",
        "    dm = dm1\n",
        "    trainer = pl.Trainer(\n",
        "        accelerator=ACCELERATOR,\n",
        "        devices=1,\n",
        "        min_epochs=1,\n",
        "        max_epochs=NUM_EPOCHS,\n",
        "        precision=PRECISION,\n",
        "        fast_dev_run=False,\n",
        "        callbacks=[checkpoint_callback, EarlyStopping(monitor=\"train_loss\", patience=10, verbose=True, mode=\"min\")]\n",
        "    )\n",
        "    trainer.fit(model, dm)\n",
        "    trainer.validate(model, dm)\n",
        "    trainer.test(model, dm)"
      ],
      "id": "451f92a00a4137fa",
      "outputs": [
        {
          "output_type": "stream",
          "name": "stderr",
          "text": [
            "INFO:pytorch_lightning.utilities.rank_zero:GPU available: True (cuda), used: True\n",
            "INFO:pytorch_lightning.utilities.rank_zero:TPU available: False, using: 0 TPU cores\n",
            "INFO:pytorch_lightning.utilities.rank_zero:HPU available: False, using: 0 HPUs\n",
            "INFO:pytorch_lightning.accelerators.cuda:LOCAL_RANK: 0 - CUDA_VISIBLE_DEVICES: [0]\n"
          ]
        },
        {
          "output_type": "stream",
          "name": "stdout",
          "text": [
            "Train set size: 20986, Test set size: 2623, Valid set size: 2624\n"
          ]
        },
        {
          "output_type": "stream",
          "name": "stderr",
          "text": [
            "INFO:pytorch_lightning.callbacks.model_summary:\n",
            "  | Name    | Type        | Params | Mode \n",
            "------------------------------------------------\n",
            "0 | r2      | R2Score     | 0      | train\n",
            "1 | loss_fn | MSELoss     | 0      | train\n",
            "2 | fc1     | Linear      | 1.5 M  | train\n",
            "3 | bn1     | BatchNorm1d | 2.0 K  | train\n",
            "4 | fc2     | Linear      | 524 K  | train\n",
            "5 | bn2     | BatchNorm1d | 1.0 K  | train\n",
            "6 | fc3     | Linear      | 513    | train\n",
            "7 | fc_skip | Linear      | 524 K  | train\n",
            "8 | dropout | Dropout     | 0      | train\n",
            "------------------------------------------------\n",
            "2.6 M     Trainable params\n",
            "0         Non-trainable params\n",
            "2.6 M     Total params\n",
            "10.275    Total estimated model params size (MB)\n",
            "9         Modules in train mode\n",
            "0         Modules in eval mode\n"
          ]
        },
        {
          "output_type": "display_data",
          "data": {
            "text/plain": [
              "Sanity Checking: |          | 0/? [00:00<?, ?it/s]"
            ],
            "application/vnd.jupyter.widget-view+json": {
              "version_major": 2,
              "version_minor": 0,
              "model_id": "4e2845e4ac3a4486a1cf8b4e632a26e3"
            }
          },
          "metadata": {}
        },
        {
          "output_type": "display_data",
          "data": {
            "text/plain": [
              "Training: |          | 0/? [00:00<?, ?it/s]"
            ],
            "application/vnd.jupyter.widget-view+json": {
              "version_major": 2,
              "version_minor": 0,
              "model_id": "15c9d06ad4884ccabf73eaa36f3d7921"
            }
          },
          "metadata": {}
        }
      ],
      "execution_count": null
    },
    {
      "metadata": {
        "id": "f9ceeceac39b7c6d"
      },
      "cell_type": "code",
      "outputs": [],
      "execution_count": null,
      "source": [
        "from torchmetrics import R2Score\n",
        "def r2score(model, dataloader):\n",
        "    r2_score_metric = R2Score()\n",
        "    for batch_idx, (data, target) in enumerate(dataloader):\n",
        "        predictions = model(data)\n",
        "        #import pdb; pdb.set_trace()\n",
        "        r2_score_metric.update(predictions, target)\n",
        "    return r2_score_metric.compute()"
      ],
      "id": "f9ceeceac39b7c6d"
    },
    {
      "cell_type": "code",
      "source": [
        "r2score(model, dm1.test_dataloader())"
      ],
      "metadata": {
        "colab": {
          "base_uri": "https://localhost:8080/"
        },
        "id": "NO7QxwFe0jrl",
        "outputId": "0497695b-84b1-4ee6-ac19-c5c5691450b1"
      },
      "id": "NO7QxwFe0jrl",
      "execution_count": null,
      "outputs": [
        {
          "output_type": "execute_result",
          "data": {
            "text/plain": [
              "tensor(0.1623)"
            ]
          },
          "metadata": {},
          "execution_count": 38
        }
      ]
    },
    {
      "cell_type": "code",
      "source": [
        "r2score(model, dm1.train_dataloader())"
      ],
      "metadata": {
        "id": "2rY85I_NJ8K8",
        "outputId": "8b0cb4a5-d1a0-4b94-bafa-3629b91d371f",
        "colab": {
          "base_uri": "https://localhost:8080/"
        }
      },
      "id": "2rY85I_NJ8K8",
      "execution_count": null,
      "outputs": [
        {
          "output_type": "execute_result",
          "data": {
            "text/plain": [
              "tensor(0.1923)"
            ]
          },
          "metadata": {},
          "execution_count": 39
        }
      ]
    },
    {
      "cell_type": "code",
      "source": [
        "r2score(model, dm1.val_dataloader())"
      ],
      "metadata": {
        "id": "bmH_rZsMKFSM",
        "colab": {
          "base_uri": "https://localhost:8080/"
        },
        "outputId": "48cb8865-584c-4b8f-e9f3-28e4746f303f"
      },
      "id": "bmH_rZsMKFSM",
      "execution_count": null,
      "outputs": [
        {
          "output_type": "execute_result",
          "data": {
            "text/plain": [
              "tensor(-0.4870)"
            ]
          },
          "metadata": {},
          "execution_count": 35
        }
      ]
    },
    {
      "cell_type": "code",
      "source": [],
      "metadata": {
        "id": "CCqQmYyWlETp"
      },
      "id": "CCqQmYyWlETp",
      "execution_count": null,
      "outputs": []
    }
  ],
  "metadata": {
    "kernelspec": {
      "display_name": "Python 3 (ipykernel)",
      "name": "python3",
      "language": "python"
    },
    "language_info": {
      "codemirror_mode": {
        "name": "ipython",
        "version": 2
      },
      "file_extension": ".py",
      "mimetype": "text/x-python",
      "name": "python",
      "nbconvert_exporter": "python",
      "pygments_lexer": "ipython2",
      "version": "2.7.6"
    },
    "colab": {
      "provenance": [],
      "gpuType": "T4",
      "include_colab_link": true
    },
    "accelerator": "GPU",
    "widgets": {
      "application/vnd.jupyter.widget-state+json": {
        "4e2845e4ac3a4486a1cf8b4e632a26e3": {
          "model_module": "@jupyter-widgets/controls",
          "model_name": "HBoxModel",
          "model_module_version": "1.5.0",
          "state": {
            "_dom_classes": [],
            "_model_module": "@jupyter-widgets/controls",
            "_model_module_version": "1.5.0",
            "_model_name": "HBoxModel",
            "_view_count": null,
            "_view_module": "@jupyter-widgets/controls",
            "_view_module_version": "1.5.0",
            "_view_name": "HBoxView",
            "box_style": "",
            "children": [
              "IPY_MODEL_f592802d99c24909935cbf0406e369ef",
              "IPY_MODEL_82dc3b43fe764d469fb5ce9e4cbd23eb",
              "IPY_MODEL_1d76a462ff1747fb957cf2b8b72ceb88"
            ],
            "layout": "IPY_MODEL_06ded45b79cb497c97d419c54c03c9ce"
          }
        },
        "f592802d99c24909935cbf0406e369ef": {
          "model_module": "@jupyter-widgets/controls",
          "model_name": "HTMLModel",
          "model_module_version": "1.5.0",
          "state": {
            "_dom_classes": [],
            "_model_module": "@jupyter-widgets/controls",
            "_model_module_version": "1.5.0",
            "_model_name": "HTMLModel",
            "_view_count": null,
            "_view_module": "@jupyter-widgets/controls",
            "_view_module_version": "1.5.0",
            "_view_name": "HTMLView",
            "description": "",
            "description_tooltip": null,
            "layout": "IPY_MODEL_c9415c37f6ad4b6aa6b9c29eca343acb",
            "placeholder": "​",
            "style": "IPY_MODEL_4929908942024541825e2efb31433608",
            "value": "Sanity Checking DataLoader 0: 100%"
          }
        },
        "82dc3b43fe764d469fb5ce9e4cbd23eb": {
          "model_module": "@jupyter-widgets/controls",
          "model_name": "FloatProgressModel",
          "model_module_version": "1.5.0",
          "state": {
            "_dom_classes": [],
            "_model_module": "@jupyter-widgets/controls",
            "_model_module_version": "1.5.0",
            "_model_name": "FloatProgressModel",
            "_view_count": null,
            "_view_module": "@jupyter-widgets/controls",
            "_view_module_version": "1.5.0",
            "_view_name": "ProgressView",
            "bar_style": "",
            "description": "",
            "description_tooltip": null,
            "layout": "IPY_MODEL_0b14d99cf53442d6b722b3b3a9fd5080",
            "max": 2,
            "min": 0,
            "orientation": "horizontal",
            "style": "IPY_MODEL_63ee217bf6d543bbac522932b8c7dc28",
            "value": 2
          }
        },
        "1d76a462ff1747fb957cf2b8b72ceb88": {
          "model_module": "@jupyter-widgets/controls",
          "model_name": "HTMLModel",
          "model_module_version": "1.5.0",
          "state": {
            "_dom_classes": [],
            "_model_module": "@jupyter-widgets/controls",
            "_model_module_version": "1.5.0",
            "_model_name": "HTMLModel",
            "_view_count": null,
            "_view_module": "@jupyter-widgets/controls",
            "_view_module_version": "1.5.0",
            "_view_name": "HTMLView",
            "description": "",
            "description_tooltip": null,
            "layout": "IPY_MODEL_59f335a92f644a2cbf4bc9eaaf94b464",
            "placeholder": "​",
            "style": "IPY_MODEL_b3cda9a931ec41af9898e9c7c9795cb0",
            "value": " 2/2 [00:00&lt;00:00,  3.44it/s]"
          }
        },
        "06ded45b79cb497c97d419c54c03c9ce": {
          "model_module": "@jupyter-widgets/base",
          "model_name": "LayoutModel",
          "model_module_version": "1.2.0",
          "state": {
            "_model_module": "@jupyter-widgets/base",
            "_model_module_version": "1.2.0",
            "_model_name": "LayoutModel",
            "_view_count": null,
            "_view_module": "@jupyter-widgets/base",
            "_view_module_version": "1.2.0",
            "_view_name": "LayoutView",
            "align_content": null,
            "align_items": null,
            "align_self": null,
            "border": null,
            "bottom": null,
            "display": "inline-flex",
            "flex": null,
            "flex_flow": "row wrap",
            "grid_area": null,
            "grid_auto_columns": null,
            "grid_auto_flow": null,
            "grid_auto_rows": null,
            "grid_column": null,
            "grid_gap": null,
            "grid_row": null,
            "grid_template_areas": null,
            "grid_template_columns": null,
            "grid_template_rows": null,
            "height": null,
            "justify_content": null,
            "justify_items": null,
            "left": null,
            "margin": null,
            "max_height": null,
            "max_width": null,
            "min_height": null,
            "min_width": null,
            "object_fit": null,
            "object_position": null,
            "order": null,
            "overflow": null,
            "overflow_x": null,
            "overflow_y": null,
            "padding": null,
            "right": null,
            "top": null,
            "visibility": "hidden",
            "width": "100%"
          }
        },
        "c9415c37f6ad4b6aa6b9c29eca343acb": {
          "model_module": "@jupyter-widgets/base",
          "model_name": "LayoutModel",
          "model_module_version": "1.2.0",
          "state": {
            "_model_module": "@jupyter-widgets/base",
            "_model_module_version": "1.2.0",
            "_model_name": "LayoutModel",
            "_view_count": null,
            "_view_module": "@jupyter-widgets/base",
            "_view_module_version": "1.2.0",
            "_view_name": "LayoutView",
            "align_content": null,
            "align_items": null,
            "align_self": null,
            "border": null,
            "bottom": null,
            "display": null,
            "flex": null,
            "flex_flow": null,
            "grid_area": null,
            "grid_auto_columns": null,
            "grid_auto_flow": null,
            "grid_auto_rows": null,
            "grid_column": null,
            "grid_gap": null,
            "grid_row": null,
            "grid_template_areas": null,
            "grid_template_columns": null,
            "grid_template_rows": null,
            "height": null,
            "justify_content": null,
            "justify_items": null,
            "left": null,
            "margin": null,
            "max_height": null,
            "max_width": null,
            "min_height": null,
            "min_width": null,
            "object_fit": null,
            "object_position": null,
            "order": null,
            "overflow": null,
            "overflow_x": null,
            "overflow_y": null,
            "padding": null,
            "right": null,
            "top": null,
            "visibility": null,
            "width": null
          }
        },
        "4929908942024541825e2efb31433608": {
          "model_module": "@jupyter-widgets/controls",
          "model_name": "DescriptionStyleModel",
          "model_module_version": "1.5.0",
          "state": {
            "_model_module": "@jupyter-widgets/controls",
            "_model_module_version": "1.5.0",
            "_model_name": "DescriptionStyleModel",
            "_view_count": null,
            "_view_module": "@jupyter-widgets/base",
            "_view_module_version": "1.2.0",
            "_view_name": "StyleView",
            "description_width": ""
          }
        },
        "0b14d99cf53442d6b722b3b3a9fd5080": {
          "model_module": "@jupyter-widgets/base",
          "model_name": "LayoutModel",
          "model_module_version": "1.2.0",
          "state": {
            "_model_module": "@jupyter-widgets/base",
            "_model_module_version": "1.2.0",
            "_model_name": "LayoutModel",
            "_view_count": null,
            "_view_module": "@jupyter-widgets/base",
            "_view_module_version": "1.2.0",
            "_view_name": "LayoutView",
            "align_content": null,
            "align_items": null,
            "align_self": null,
            "border": null,
            "bottom": null,
            "display": null,
            "flex": "2",
            "flex_flow": null,
            "grid_area": null,
            "grid_auto_columns": null,
            "grid_auto_flow": null,
            "grid_auto_rows": null,
            "grid_column": null,
            "grid_gap": null,
            "grid_row": null,
            "grid_template_areas": null,
            "grid_template_columns": null,
            "grid_template_rows": null,
            "height": null,
            "justify_content": null,
            "justify_items": null,
            "left": null,
            "margin": null,
            "max_height": null,
            "max_width": null,
            "min_height": null,
            "min_width": null,
            "object_fit": null,
            "object_position": null,
            "order": null,
            "overflow": null,
            "overflow_x": null,
            "overflow_y": null,
            "padding": null,
            "right": null,
            "top": null,
            "visibility": null,
            "width": null
          }
        },
        "63ee217bf6d543bbac522932b8c7dc28": {
          "model_module": "@jupyter-widgets/controls",
          "model_name": "ProgressStyleModel",
          "model_module_version": "1.5.0",
          "state": {
            "_model_module": "@jupyter-widgets/controls",
            "_model_module_version": "1.5.0",
            "_model_name": "ProgressStyleModel",
            "_view_count": null,
            "_view_module": "@jupyter-widgets/base",
            "_view_module_version": "1.2.0",
            "_view_name": "StyleView",
            "bar_color": null,
            "description_width": ""
          }
        },
        "59f335a92f644a2cbf4bc9eaaf94b464": {
          "model_module": "@jupyter-widgets/base",
          "model_name": "LayoutModel",
          "model_module_version": "1.2.0",
          "state": {
            "_model_module": "@jupyter-widgets/base",
            "_model_module_version": "1.2.0",
            "_model_name": "LayoutModel",
            "_view_count": null,
            "_view_module": "@jupyter-widgets/base",
            "_view_module_version": "1.2.0",
            "_view_name": "LayoutView",
            "align_content": null,
            "align_items": null,
            "align_self": null,
            "border": null,
            "bottom": null,
            "display": null,
            "flex": null,
            "flex_flow": null,
            "grid_area": null,
            "grid_auto_columns": null,
            "grid_auto_flow": null,
            "grid_auto_rows": null,
            "grid_column": null,
            "grid_gap": null,
            "grid_row": null,
            "grid_template_areas": null,
            "grid_template_columns": null,
            "grid_template_rows": null,
            "height": null,
            "justify_content": null,
            "justify_items": null,
            "left": null,
            "margin": null,
            "max_height": null,
            "max_width": null,
            "min_height": null,
            "min_width": null,
            "object_fit": null,
            "object_position": null,
            "order": null,
            "overflow": null,
            "overflow_x": null,
            "overflow_y": null,
            "padding": null,
            "right": null,
            "top": null,
            "visibility": null,
            "width": null
          }
        },
        "b3cda9a931ec41af9898e9c7c9795cb0": {
          "model_module": "@jupyter-widgets/controls",
          "model_name": "DescriptionStyleModel",
          "model_module_version": "1.5.0",
          "state": {
            "_model_module": "@jupyter-widgets/controls",
            "_model_module_version": "1.5.0",
            "_model_name": "DescriptionStyleModel",
            "_view_count": null,
            "_view_module": "@jupyter-widgets/base",
            "_view_module_version": "1.2.0",
            "_view_name": "StyleView",
            "description_width": ""
          }
        },
        "15c9d06ad4884ccabf73eaa36f3d7921": {
          "model_module": "@jupyter-widgets/controls",
          "model_name": "HBoxModel",
          "model_module_version": "1.5.0",
          "state": {
            "_dom_classes": [],
            "_model_module": "@jupyter-widgets/controls",
            "_model_module_version": "1.5.0",
            "_model_name": "HBoxModel",
            "_view_count": null,
            "_view_module": "@jupyter-widgets/controls",
            "_view_module_version": "1.5.0",
            "_view_name": "HBoxView",
            "box_style": "",
            "children": [
              "IPY_MODEL_90302da3d4384fa382bec1dbdd930d38",
              "IPY_MODEL_a0e806803f2c4c4e9ae4d775abb8e7a4",
              "IPY_MODEL_1eb281bf996b4fd8a65a9736f59d6f8a"
            ],
            "layout": "IPY_MODEL_9a172fa32b8847a59762644b5355cdd4"
          }
        },
        "90302da3d4384fa382bec1dbdd930d38": {
          "model_module": "@jupyter-widgets/controls",
          "model_name": "HTMLModel",
          "model_module_version": "1.5.0",
          "state": {
            "_dom_classes": [],
            "_model_module": "@jupyter-widgets/controls",
            "_model_module_version": "1.5.0",
            "_model_name": "HTMLModel",
            "_view_count": null,
            "_view_module": "@jupyter-widgets/controls",
            "_view_module_version": "1.5.0",
            "_view_name": "HTMLView",
            "description": "",
            "description_tooltip": null,
            "layout": "IPY_MODEL_8fcb050c3cda4a0fbed8c555a6a5b5fd",
            "placeholder": "​",
            "style": "IPY_MODEL_c5bf1ccdd35f476580782302a95a3f82",
            "value": "Epoch 0: 100%"
          }
        },
        "a0e806803f2c4c4e9ae4d775abb8e7a4": {
          "model_module": "@jupyter-widgets/controls",
          "model_name": "FloatProgressModel",
          "model_module_version": "1.5.0",
          "state": {
            "_dom_classes": [],
            "_model_module": "@jupyter-widgets/controls",
            "_model_module_version": "1.5.0",
            "_model_name": "FloatProgressModel",
            "_view_count": null,
            "_view_module": "@jupyter-widgets/controls",
            "_view_module_version": "1.5.0",
            "_view_name": "ProgressView",
            "bar_style": "",
            "description": "",
            "description_tooltip": null,
            "layout": "IPY_MODEL_8e9fd8aa0bb242c5a0ef3c51a70b1b82",
            "max": 328,
            "min": 0,
            "orientation": "horizontal",
            "style": "IPY_MODEL_6609bbfe08b84fd28f71e0448b98f166",
            "value": 328
          }
        },
        "1eb281bf996b4fd8a65a9736f59d6f8a": {
          "model_module": "@jupyter-widgets/controls",
          "model_name": "HTMLModel",
          "model_module_version": "1.5.0",
          "state": {
            "_dom_classes": [],
            "_model_module": "@jupyter-widgets/controls",
            "_model_module_version": "1.5.0",
            "_model_name": "HTMLModel",
            "_view_count": null,
            "_view_module": "@jupyter-widgets/controls",
            "_view_module_version": "1.5.0",
            "_view_name": "HTMLView",
            "description": "",
            "description_tooltip": null,
            "layout": "IPY_MODEL_402673ff60a3419fbbc2ac55ff7782ed",
            "placeholder": "​",
            "style": "IPY_MODEL_e4e3086e796c465fb7734931f921f27b",
            "value": " 328/328 [00:05&lt;00:00, 61.69it/s, v_num=0, train_loss_step=0.237, train_acc=0.709]"
          }
        },
        "9a172fa32b8847a59762644b5355cdd4": {
          "model_module": "@jupyter-widgets/base",
          "model_name": "LayoutModel",
          "model_module_version": "1.2.0",
          "state": {
            "_model_module": "@jupyter-widgets/base",
            "_model_module_version": "1.2.0",
            "_model_name": "LayoutModel",
            "_view_count": null,
            "_view_module": "@jupyter-widgets/base",
            "_view_module_version": "1.2.0",
            "_view_name": "LayoutView",
            "align_content": null,
            "align_items": null,
            "align_self": null,
            "border": null,
            "bottom": null,
            "display": "inline-flex",
            "flex": null,
            "flex_flow": "row wrap",
            "grid_area": null,
            "grid_auto_columns": null,
            "grid_auto_flow": null,
            "grid_auto_rows": null,
            "grid_column": null,
            "grid_gap": null,
            "grid_row": null,
            "grid_template_areas": null,
            "grid_template_columns": null,
            "grid_template_rows": null,
            "height": null,
            "justify_content": null,
            "justify_items": null,
            "left": null,
            "margin": null,
            "max_height": null,
            "max_width": null,
            "min_height": null,
            "min_width": null,
            "object_fit": null,
            "object_position": null,
            "order": null,
            "overflow": null,
            "overflow_x": null,
            "overflow_y": null,
            "padding": null,
            "right": null,
            "top": null,
            "visibility": null,
            "width": "100%"
          }
        },
        "8fcb050c3cda4a0fbed8c555a6a5b5fd": {
          "model_module": "@jupyter-widgets/base",
          "model_name": "LayoutModel",
          "model_module_version": "1.2.0",
          "state": {
            "_model_module": "@jupyter-widgets/base",
            "_model_module_version": "1.2.0",
            "_model_name": "LayoutModel",
            "_view_count": null,
            "_view_module": "@jupyter-widgets/base",
            "_view_module_version": "1.2.0",
            "_view_name": "LayoutView",
            "align_content": null,
            "align_items": null,
            "align_self": null,
            "border": null,
            "bottom": null,
            "display": null,
            "flex": null,
            "flex_flow": null,
            "grid_area": null,
            "grid_auto_columns": null,
            "grid_auto_flow": null,
            "grid_auto_rows": null,
            "grid_column": null,
            "grid_gap": null,
            "grid_row": null,
            "grid_template_areas": null,
            "grid_template_columns": null,
            "grid_template_rows": null,
            "height": null,
            "justify_content": null,
            "justify_items": null,
            "left": null,
            "margin": null,
            "max_height": null,
            "max_width": null,
            "min_height": null,
            "min_width": null,
            "object_fit": null,
            "object_position": null,
            "order": null,
            "overflow": null,
            "overflow_x": null,
            "overflow_y": null,
            "padding": null,
            "right": null,
            "top": null,
            "visibility": null,
            "width": null
          }
        },
        "c5bf1ccdd35f476580782302a95a3f82": {
          "model_module": "@jupyter-widgets/controls",
          "model_name": "DescriptionStyleModel",
          "model_module_version": "1.5.0",
          "state": {
            "_model_module": "@jupyter-widgets/controls",
            "_model_module_version": "1.5.0",
            "_model_name": "DescriptionStyleModel",
            "_view_count": null,
            "_view_module": "@jupyter-widgets/base",
            "_view_module_version": "1.2.0",
            "_view_name": "StyleView",
            "description_width": ""
          }
        },
        "8e9fd8aa0bb242c5a0ef3c51a70b1b82": {
          "model_module": "@jupyter-widgets/base",
          "model_name": "LayoutModel",
          "model_module_version": "1.2.0",
          "state": {
            "_model_module": "@jupyter-widgets/base",
            "_model_module_version": "1.2.0",
            "_model_name": "LayoutModel",
            "_view_count": null,
            "_view_module": "@jupyter-widgets/base",
            "_view_module_version": "1.2.0",
            "_view_name": "LayoutView",
            "align_content": null,
            "align_items": null,
            "align_self": null,
            "border": null,
            "bottom": null,
            "display": null,
            "flex": "2",
            "flex_flow": null,
            "grid_area": null,
            "grid_auto_columns": null,
            "grid_auto_flow": null,
            "grid_auto_rows": null,
            "grid_column": null,
            "grid_gap": null,
            "grid_row": null,
            "grid_template_areas": null,
            "grid_template_columns": null,
            "grid_template_rows": null,
            "height": null,
            "justify_content": null,
            "justify_items": null,
            "left": null,
            "margin": null,
            "max_height": null,
            "max_width": null,
            "min_height": null,
            "min_width": null,
            "object_fit": null,
            "object_position": null,
            "order": null,
            "overflow": null,
            "overflow_x": null,
            "overflow_y": null,
            "padding": null,
            "right": null,
            "top": null,
            "visibility": null,
            "width": null
          }
        },
        "6609bbfe08b84fd28f71e0448b98f166": {
          "model_module": "@jupyter-widgets/controls",
          "model_name": "ProgressStyleModel",
          "model_module_version": "1.5.0",
          "state": {
            "_model_module": "@jupyter-widgets/controls",
            "_model_module_version": "1.5.0",
            "_model_name": "ProgressStyleModel",
            "_view_count": null,
            "_view_module": "@jupyter-widgets/base",
            "_view_module_version": "1.2.0",
            "_view_name": "StyleView",
            "bar_color": null,
            "description_width": ""
          }
        },
        "402673ff60a3419fbbc2ac55ff7782ed": {
          "model_module": "@jupyter-widgets/base",
          "model_name": "LayoutModel",
          "model_module_version": "1.2.0",
          "state": {
            "_model_module": "@jupyter-widgets/base",
            "_model_module_version": "1.2.0",
            "_model_name": "LayoutModel",
            "_view_count": null,
            "_view_module": "@jupyter-widgets/base",
            "_view_module_version": "1.2.0",
            "_view_name": "LayoutView",
            "align_content": null,
            "align_items": null,
            "align_self": null,
            "border": null,
            "bottom": null,
            "display": null,
            "flex": null,
            "flex_flow": null,
            "grid_area": null,
            "grid_auto_columns": null,
            "grid_auto_flow": null,
            "grid_auto_rows": null,
            "grid_column": null,
            "grid_gap": null,
            "grid_row": null,
            "grid_template_areas": null,
            "grid_template_columns": null,
            "grid_template_rows": null,
            "height": null,
            "justify_content": null,
            "justify_items": null,
            "left": null,
            "margin": null,
            "max_height": null,
            "max_width": null,
            "min_height": null,
            "min_width": null,
            "object_fit": null,
            "object_position": null,
            "order": null,
            "overflow": null,
            "overflow_x": null,
            "overflow_y": null,
            "padding": null,
            "right": null,
            "top": null,
            "visibility": null,
            "width": null
          }
        },
        "e4e3086e796c465fb7734931f921f27b": {
          "model_module": "@jupyter-widgets/controls",
          "model_name": "DescriptionStyleModel",
          "model_module_version": "1.5.0",
          "state": {
            "_model_module": "@jupyter-widgets/controls",
            "_model_module_version": "1.5.0",
            "_model_name": "DescriptionStyleModel",
            "_view_count": null,
            "_view_module": "@jupyter-widgets/base",
            "_view_module_version": "1.2.0",
            "_view_name": "StyleView",
            "description_width": ""
          }
        }
      }
    }
  },
  "nbformat": 4,
  "nbformat_minor": 5
}
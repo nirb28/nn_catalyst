{
  "cells": [
    {
      "cell_type": "markdown",
      "metadata": {
        "id": "view-in-github",
        "colab_type": "text"
      },
      "source": [
        "<a href=\"https://colab.research.google.com/github/nirb28/nn_catalyst/blob/main/src/pl/scratch.ipynb\" target=\"_parent\"><img src=\"https://colab.research.google.com/assets/colab-badge.svg\" alt=\"Open In Colab\"/></a>"
      ]
    },
    {
      "cell_type": "code",
      "source": [
        "%%capture\n",
        "DEBUG = False\n",
        "\n",
        "import sys\n",
        "IN_COLAB = 'google.colab' in sys.modules\n",
        "\n",
        "if IN_COLAB:\n",
        "    print(\"Running in Colab!\")\n",
        "    from google.colab import drive\n",
        "    drive.mount('/content/drive', force_remount=False)\n",
        "    !pip install pytorch_lightning\n",
        "    !pip install torchmetrics\n",
        "else:\n",
        "    print(\"Not running in Colab.\")"
      ],
      "metadata": {
        "id": "AKO5oAFESNmd",
        "ExecuteTime": {
          "end_time": "2024-10-15T23:03:33.057207Z",
          "start_time": "2024-10-15T23:03:33.034699Z"
        }
      },
      "id": "AKO5oAFESNmd",
      "outputs": [],
      "execution_count": 1
    },
    {
      "metadata": {
        "id": "88eb903e9b5a6f6f",
        "ExecuteTime": {
          "end_time": "2024-10-15T23:03:33.666929Z",
          "start_time": "2024-10-15T23:03:33.647630Z"
        }
      },
      "cell_type": "code",
      "source": [
        "import torch\n",
        "# Training hyperparameters\n",
        "INPUT_SIZE = 1479\n",
        "NUM_TARGETS = 1\n",
        "LEARNING_RATE = 0.001\n",
        "BATCH_SIZE = 512\n",
        "NUM_EPOCHS = 150\n",
        "\n",
        "# Dataset\n",
        "DATA_DIR = \"dataset/\"\n",
        "NUM_WORKERS = 0\n",
        "\n",
        "# Compute related\n",
        "ACCELERATOR = 'cuda' if torch.cuda.is_available() else 'cpu'\n",
        "DEVICES = [0]\n",
        "PRECISION = 32\n",
        "\n",
        "CHECKPOINTS_FOLDER = \"/checkpoints/stn_1_r4\""
      ],
      "id": "88eb903e9b5a6f6f",
      "outputs": [],
      "execution_count": 2
    },
    {
      "metadata": {
        "id": "25fba0fd40809552",
        "outputId": "229ab5fd-2ba6-405e-ca7d-45efd140f187",
        "colab": {
          "base_uri": "https://localhost:8080/"
        },
        "ExecuteTime": {
          "end_time": "2024-10-15T23:03:35.334543Z",
          "start_time": "2024-10-15T23:03:35.313534Z"
        }
      },
      "cell_type": "code",
      "source": [
        "from torch.utils.data import DataLoader, Dataset\n",
        "from torch.utils.data import random_split\n",
        "import pytorch_lightning as pl\n",
        "import torch, math, os\n",
        "from torch.utils.data import Dataset, DataLoader\n",
        "import numpy as np\n",
        "\n",
        "pl.seed_everything(1234)\n",
        "\n",
        "def resolve_path_gdrive(relativePath):\n",
        "    if os.path.exists('/content/drive'):\n",
        "        return '/content/drive/MyDrive/work/gdrive-workspaces/git/nn_catalyst/' + relativePath\n",
        "    else:\n",
        "        from utils import get_project_root\n",
        "        return get_project_root() + \"/\" + relativePath"
      ],
      "id": "25fba0fd40809552",
      "outputs": [
        {
          "output_type": "stream",
          "name": "stderr",
          "text": [
            "INFO:lightning_fabric.utilities.seed:Seed set to 1234\n"
          ]
        }
      ],
      "execution_count": 3
    },
    {
      "metadata": {
        "id": "31982c159904e778",
        "ExecuteTime": {
          "end_time": "2024-10-15T23:03:36.781753Z",
          "start_time": "2024-10-15T23:03:36.454634Z"
        }
      },
      "cell_type": "code",
      "source": [
        "import numpy as np\n",
        "datafile='src/pl/merged_data_last29_reordered_byR2.csv'\n",
        "xy_orig = np.loadtxt(resolve_path_gdrive(datafile), delimiter=',', skiprows=1, dtype=float, max_rows=None)"
      ],
      "id": "31982c159904e778",
      "outputs": [],
      "execution_count": 4
    },
    {
      "cell_type": "code",
      "source": [
        "from sklearn.preprocessing import StandardScaler, MinMaxScaler\n",
        "class CatalystDataset(Dataset):\n",
        "    def __init__(self, target_num, datafile='src/pl/merged_data_last29_reordered_byR2.csv',\n",
        "                 useTargetsAsFeatures=False):\n",
        "        # Initialize data, download, etc.\n",
        "        #xy = np.loadtxt(resolve_path_gdrive(datafile), delimiter=',', skiprows=1, dtype=float, max_rows=None)\n",
        "        xy = xy_orig.copy()\n",
        "        xy = StandardScaler().fit_transform(xy)\n",
        "        self.n_samples = xy.shape[0]\n",
        "        # here the first column is the class label, the rest are the features\n",
        "        total_targets = 29\n",
        "        target_col_start = -(total_targets - target_num + 1)\n",
        "        if useTargetsAsFeatures:\n",
        "            self.x_data = torch.from_numpy(xy[:,:target_col_start]).float()  # size [n_samples, n_features]\n",
        "        else:\n",
        "            self.x_data = torch.from_numpy(xy[:,:-total_targets]).float()  # size [n_samples, n_features]\n",
        "        # get only first column as y\n",
        "        self.y_data = torch.unsqueeze(torch.from_numpy(xy[:,target_col_start:][:,0]), 1).float()  # size [n_samples, 1]\n",
        "\n",
        "    # support indexing such that dataset[i] can be used to get i-th sample\n",
        "    def __getitem__(self, index):\n",
        "        sample = self.x_data[index], self.y_data[index]\n",
        "        return sample\n",
        "\n",
        "    # we can call len(dataset) to return the size\n",
        "    def __len__(self):\n",
        "        return self.n_samples\n",
        "\n",
        "class CatalystDataModule(pl.LightningDataModule):\n",
        "    def __init__(self, data_dir, batch_size, num_workers, target_num):\n",
        "        super().__init__()\n",
        "        self.data_dir = data_dir\n",
        "        self.batch_size = batch_size\n",
        "        self.num_workers = num_workers\n",
        "        self.entire_dataset = CatalystDataset(target_num=target_num,\n",
        "                                              useTargetsAsFeatures=True)\n",
        "        self.target_num = target_num\n",
        "\n",
        "    def prepare_data(self):\n",
        "        pass\n",
        "\n",
        "    def setup(self, stage=None):\n",
        "        train_set_size = int(len(self.entire_dataset) * .8)\n",
        "        test_set_size = int(len(self.entire_dataset) * 0.1)\n",
        "        valid_set_size = len(self.entire_dataset) - train_set_size - test_set_size\n",
        "        print(f\"Train set size: {train_set_size}, Test set size: {test_set_size}, Valid set size: {valid_set_size}\")\n",
        "        self.train_ds, self.val_ds, self.test_ds = random_split(\n",
        "            self.entire_dataset, [train_set_size, valid_set_size, test_set_size], generator=torch.Generator().manual_seed(42))\n",
        "        return\n",
        "\n",
        "    def train_dataloader(self):\n",
        "        return DataLoader(\n",
        "            self.train_ds.dataset, batch_size=self.batch_size,\n",
        "            num_workers=self.num_workers, shuffle=False,\n",
        "        )\n",
        "    def val_dataloader(self):\n",
        "        return DataLoader(\n",
        "            self.val_ds.dataset, batch_size=self.batch_size,\n",
        "            num_workers=self.num_workers, shuffle=False,\n",
        "        )\n",
        "    def test_dataloader(self):\n",
        "        return DataLoader(\n",
        "            self.test_ds.dataset, batch_size=self.batch_size,\n",
        "            num_workers=self.num_workers, shuffle=False,\n",
        "        )\n",
        "dm1 = CatalystDataModule(\n",
        "        data_dir=DATA_DIR,\n",
        "        batch_size=BATCH_SIZE,\n",
        "        num_workers=NUM_WORKERS,\n",
        "        target_num=29\n",
        "    )\n",
        "dm1.setup()\n",
        "dm1.prepare_data()"
      ],
      "metadata": {
        "id": "_v-vj-X2BlyQ",
        "outputId": "de1d34a8-cbe7-41c9-8f6a-91f6c5f98b88",
        "colab": {
          "base_uri": "https://localhost:8080/"
        },
        "ExecuteTime": {
          "end_time": "2024-10-15T23:03:37.699860Z",
          "start_time": "2024-10-15T23:03:37.657205Z"
        }
      },
      "id": "_v-vj-X2BlyQ",
      "outputs": [
        {
          "name": "stdout",
          "output_type": "stream",
          "text": [
            "Train set size: 160, Test set size: 20, Valid set size: 20\n"
          ]
        }
      ],
      "execution_count": null
    },
    {
      "metadata": {
        "id": "2c407a8a7a5bc7db",
        "ExecuteTime": {
          "end_time": "2024-10-15T23:04:03.370278Z",
          "start_time": "2024-10-15T23:04:03.341857Z"
        }
      },
      "cell_type": "code",
      "source": [
        "import pytorch_lightning as pl\n",
        "\n",
        "class BaseModel(pl.LightningModule):\n",
        "    def __init__(self):\n",
        "        super().__init__()\n",
        "        self.r2 = torchmetrics.R2Score()\n",
        "        self.loss_fn = nn.MSELoss()\n",
        "        self.validation_step_outputs = []\n",
        "\n",
        "    def training_step(self, batch, batch_idx):\n",
        "        loss, scores, y = self._common_step(batch, batch_idx)\n",
        "        self.log_dict(\n",
        "            {\n",
        "                \"train_loss\": loss,\n",
        "            },\n",
        "            on_step=True,\n",
        "            on_epoch=True,\n",
        "            prog_bar=True,\n",
        "        )\n",
        "        accuracy = self.r2(scores, y)\n",
        "        self.log(\"train_acc\", accuracy, prog_bar=True)\n",
        "        return {\"loss\": loss}\n",
        "\n",
        "    def validation_step(self, batch, batch_idx):\n",
        "        loss, scores, y = self._common_step(batch, batch_idx)\n",
        "        self.log(\"val_loss\", loss)\n",
        "        self.validation_step_outputs.append(loss)\n",
        "        return loss\n",
        "\n",
        "    def on_validation_epoch_end(self):\n",
        "        epoch_average = torch.stack(self.validation_step_outputs).mean()\n",
        "        self.log(\"validation_epoch_average\", epoch_average)\n",
        "        self.validation_step_outputs.clear()  # free memory\n",
        "\n",
        "    def test_step(self, batch, batch_idx):\n",
        "        loss, scores, y = self._common_step(batch, batch_idx)\n",
        "        self.log(\"test_loss\", loss)\n",
        "        return loss\n",
        "\n",
        "    def _common_step(self, batch, batch_idx):\n",
        "        x, y = batch\n",
        "        x = x.reshape(x.size(0), -1)\n",
        "        scores = self.forward(x)\n",
        "        loss = self.loss_fn(scores, y)\n",
        "        if DEBUG == True:\n",
        "            print(f\"loss: {loss}, len: {len(y)}\")\n",
        "        return loss, scores, y\n",
        "\n",
        "    def predict_step(self, batch, batch_idx):\n",
        "        x, y = batch\n",
        "        x = x.reshape(x.size(0), -1)\n",
        "        scores = self.forward(x)\n",
        "        preds = torch.argmax(scores, dim=1)\n",
        "        return preds\n",
        "\n",
        "    def configure_optimizers(self):\n",
        "        optimizer = torch.optim.AdamW(lr=self.lr, params=self.parameters())\n",
        "        scheduler = optim.lr_scheduler.ReduceLROnPlateau(optimizer, mode='min', factor=0.1, patience=10, min_lr=0.000000001, threshold=0.001)\n",
        "        return {\"optimizer\": optimizer, \"lr_scheduler\": scheduler, \"monitor\": \"val_loss\"}\n",
        "\n",
        "    def on_load_checkpoint1(self, checkpoint: dict) -> None:\n",
        "        state_dict = checkpoint[\"state_dict\"]\n",
        "        model_state_dict = self.state_dict()\n",
        "        is_changed = False\n",
        "        for k in state_dict:\n",
        "            if k in model_state_dict:\n",
        "                if state_dict[k].shape != model_state_dict[k].shape:\n",
        "                    print(f\"Skip loading parameter: {k}, \"\n",
        "                                f\"required shape: {model_state_dict[k].shape}, \"\n",
        "                                f\"loaded shape: {state_dict[k].shape}\")\n",
        "                    state_dict[k] = model_state_dict[k]\n",
        "                    is_changed = True\n",
        "            else:\n",
        "                is_changed = True\n",
        "\n",
        "        if is_changed:\n",
        "            checkpoint.pop(\"optimizer_states\", None)\n",
        "\n",
        "class SingleTargetNet(BaseModel):\n",
        "\n",
        "    def __init__(self, input_size=INPUT_SIZE, learning_rate=0.001, dropout_rate=0.5, target=1):\n",
        "        super(SingleTargetNet, self).__init__()\n",
        "        self.lr = learning_rate\n",
        "        self.loss_fn = nn.MSELoss()\n",
        "\n",
        "        self.fc1 = nn.Linear(input_size, 1024)\n",
        "        self.bn1 = nn.BatchNorm1d(1024)\n",
        "        self.fc2 = nn.Linear(1024, 512)\n",
        "        self.bn2 = nn.BatchNorm1d(512)\n",
        "        self.fc3 = nn.Linear(512, 1)\n",
        "        self.fc_skip = nn.Linear(1024, 512)\n",
        "        self.dropout = nn.Dropout(dropout_rate)\n",
        "        self.save_hyperparameters()\n",
        "\n",
        "    def forward(self, x):\n",
        "        x1 = F.relu(self.bn1(self.fc1(x)))\n",
        "        x1 = self.dropout(x1)\n",
        "\n",
        "        x2 = F.relu(self.bn2(self.fc2(x1)))\n",
        "        x2 = self.dropout(x2)\n",
        "\n",
        "        # Skip connection\n",
        "        x2 += self.fc_skip(x1)\n",
        "\n",
        "        x3 = self.fc3(x2)\n",
        "        return x3\n"
      ],
      "id": "2c407a8a7a5bc7db",
      "outputs": [],
      "execution_count": null
    },
    {
      "metadata": {
        "id": "451f92a00a4137fa",
        "outputId": "f26d237e-0e26-41bb-ee29-05203a96288e",
        "colab": {
          "base_uri": "https://localhost:8080/",
          "height": 1000,
          "referenced_widgets": [
            "3b6cbbc49eba47f684e9a2f48a9f8312",
            "287f60fb919949aca0512d55682f7474",
            "2e33058fac194f7e80aeb2f4754157e8",
            "900c45c8032746ee8110da4a5d4464ba",
            "e9c5dbd447cc4771a735b3a6b71e3942",
            "5152dbf2edc94713a92f99686413b156",
            "b1edda5fbf3846e88e512d940f607b68",
            "d1362baa90b8426482cb41ca2e825f23",
            "a463c1f27e0245369f6c4b22fd3d244a"
          ]
        },
        "ExecuteTime": {
          "end_time": "2024-10-15T23:04:07.243788Z",
          "start_time": "2024-10-15T23:04:06.879222Z"
        }
      },
      "cell_type": "code",
      "source": [
        "import torch\n",
        "from torch import nn, optim\n",
        "from torch.utils.data import DataLoader\n",
        "import pytorch_lightning as pl\n",
        "import torchmetrics\n",
        "from torchmetrics.regression import R2Score\n",
        "import torch.nn.functional as F\n",
        "from pytorch_lightning.callbacks import EarlyStopping, ModelCheckpoint, LearningRateMonitor\n",
        "from pytorch_lightning.callbacks import RichProgressBar\n",
        "\n",
        "torch.set_float32_matmul_precision(\"medium\") # to make lightning happy\n",
        "\n",
        "if __name__ == \"__main__\":\n",
        "    # do everything in a loop for all the targets\n",
        "    for target in range(29, 30):\n",
        "        print(f\"Target: {target}\")\n",
        "        dm = CatalystDataModule(\n",
        "            data_dir=DATA_DIR,\n",
        "            batch_size=BATCH_SIZE,\n",
        "            num_workers=NUM_WORKERS,\n",
        "            target_num=target\n",
        "        )\n",
        "        dm.setup()\n",
        "        dm.prepare_data()\n",
        "\n",
        "        model = SingleTargetNet (\n",
        "            input_size=dm.entire_dataset.x_data.shape[1],\n",
        "            learning_rate=LEARNING_RATE,\n",
        "        )\n",
        "\n",
        "        # DEFAULTS used by the Trainer\n",
        "        checkpoint_callback = ModelCheckpoint(\n",
        "            dirpath=resolve_path_gdrive(f'{CHECKPOINTS_FOLDER}/{dm.target_num}'),\n",
        "            filename='{epoch:02d}-{val_loss:.2f}',\n",
        "            save_top_k=1,\n",
        "            verbose=True,\n",
        "            monitor='val_loss',\n",
        "            mode='min'\n",
        "        )\n",
        "        lr_monitor = LearningRateMonitor(logging_interval='step')\n",
        "\n",
        "        trainer = pl.Trainer(\n",
        "            accelerator=ACCELERATOR,\n",
        "            devices=1,\n",
        "            min_epochs=1,\n",
        "            max_epochs=NUM_EPOCHS,\n",
        "            precision=PRECISION,\n",
        "            fast_dev_run=False,\n",
        "            enable_checkpointing=True,\n",
        "            enable_progress_bar=True,\n",
        "            log_every_n_steps=20,\n",
        "            callbacks=[checkpoint_callback, lr_monitor, RichProgressBar(),\n",
        "                    EarlyStopping(monitor=\"train_loss\", patience=10, verbose=True, mode=\"min\")]\n",
        "        )\n",
        "        trainer.fit(model, dm)\n",
        "        trainer.validate(model, dm)\n",
        "        trainer.test(model, dm)\n",
        "\n",
        "#os.rename(checkpoint_callback.best_model_path, checkpoint_callback.dirpath+\"/best.ckpt\")"
      ],
      "id": "451f92a00a4137fa",
      "outputs": [
        {
          "name": "stderr",
          "output_type": "stream",
          "text": [
            "GPU available: False, used: False\n",
            "TPU available: False, using: 0 TPU cores\n",
            "HPU available: False, using: 0 HPUs\n",
            "Running in `fast_dev_run` mode: will run the requested loop using 1 batch(es). Logging and checkpointing is suppressed.\n"
          ]
        },
        {
          "name": "stdout",
          "output_type": "stream",
          "text": [
            "Target: 29\n",
            "Train set size: 160, Test set size: 20, Valid set size: 20\n",
            "Train set size: 160, Test set size: 20, Valid set size: 20\n"
          ]
        },
        {
          "name": "stderr",
          "output_type": "stream",
          "text": [
            "C:\\Users\\dalje\\.conda\\envs\\nn_310\\lib\\site-packages\\pytorch_lightning\\callbacks\\model_checkpoint.py:654: Checkpoint directory D:\\ds\\sync\\gdrive_ds\\My Drive\\work\\gdrive-workspaces\\git\\nn_catalyst\\checkpoints\\stn_1_r4\\29 exists and is not empty.\n"
          ]
        },
        {
          "data": {
            "text/plain": [
              "┏━━━┳━━━━━━━━━┳━━━━━━━━━━━━━┳━━━━━━━━┳━━━━━━━┓\n",
              "┃\u001b[1;35m \u001b[0m\u001b[1;35m \u001b[0m\u001b[1;35m \u001b[0m┃\u001b[1;35m \u001b[0m\u001b[1;35mName   \u001b[0m\u001b[1;35m \u001b[0m┃\u001b[1;35m \u001b[0m\u001b[1;35mType       \u001b[0m\u001b[1;35m \u001b[0m┃\u001b[1;35m \u001b[0m\u001b[1;35mParams\u001b[0m\u001b[1;35m \u001b[0m┃\u001b[1;35m \u001b[0m\u001b[1;35mMode \u001b[0m\u001b[1;35m \u001b[0m┃\n",
              "┡━━━╇━━━━━━━━━╇━━━━━━━━━━━━━╇━━━━━━━━╇━━━━━━━┩\n",
              "│\u001b[2m \u001b[0m\u001b[2m0\u001b[0m\u001b[2m \u001b[0m│ r2      │ R2Score     │      0 │ train │\n",
              "│\u001b[2m \u001b[0m\u001b[2m1\u001b[0m\u001b[2m \u001b[0m│ loss_fn │ MSELoss     │      0 │ train │\n",
              "│\u001b[2m \u001b[0m\u001b[2m2\u001b[0m\u001b[2m \u001b[0m│ fc1     │ Linear      │  1.5 M │ train │\n",
              "│\u001b[2m \u001b[0m\u001b[2m3\u001b[0m\u001b[2m \u001b[0m│ bn1     │ BatchNorm1d │  2.0 K │ train │\n",
              "│\u001b[2m \u001b[0m\u001b[2m4\u001b[0m\u001b[2m \u001b[0m│ fc2     │ Linear      │  524 K │ train │\n",
              "│\u001b[2m \u001b[0m\u001b[2m5\u001b[0m\u001b[2m \u001b[0m│ bn2     │ BatchNorm1d │  1.0 K │ train │\n",
              "│\u001b[2m \u001b[0m\u001b[2m6\u001b[0m\u001b[2m \u001b[0m│ fc3     │ Linear      │    513 │ train │\n",
              "│\u001b[2m \u001b[0m\u001b[2m7\u001b[0m\u001b[2m \u001b[0m│ fc_skip │ Linear      │  524 K │ train │\n",
              "│\u001b[2m \u001b[0m\u001b[2m8\u001b[0m\u001b[2m \u001b[0m│ dropout │ Dropout     │      0 │ train │\n",
              "└───┴─────────┴─────────────┴────────┴───────┘\n"
            ],
            "text/html": [
              "<pre style=\"white-space:pre;overflow-x:auto;line-height:normal;font-family:Menlo,'DejaVu Sans Mono',consolas,'Courier New',monospace\">┏━━━┳━━━━━━━━━┳━━━━━━━━━━━━━┳━━━━━━━━┳━━━━━━━┓\n",
              "┃<span style=\"color: #800080; text-decoration-color: #800080; font-weight: bold\">   </span>┃<span style=\"color: #800080; text-decoration-color: #800080; font-weight: bold\"> Name    </span>┃<span style=\"color: #800080; text-decoration-color: #800080; font-weight: bold\"> Type        </span>┃<span style=\"color: #800080; text-decoration-color: #800080; font-weight: bold\"> Params </span>┃<span style=\"color: #800080; text-decoration-color: #800080; font-weight: bold\"> Mode  </span>┃\n",
              "┡━━━╇━━━━━━━━━╇━━━━━━━━━━━━━╇━━━━━━━━╇━━━━━━━┩\n",
              "│<span style=\"color: #7f7f7f; text-decoration-color: #7f7f7f\"> 0 </span>│ r2      │ R2Score     │      0 │ train │\n",
              "│<span style=\"color: #7f7f7f; text-decoration-color: #7f7f7f\"> 1 </span>│ loss_fn │ MSELoss     │      0 │ train │\n",
              "│<span style=\"color: #7f7f7f; text-decoration-color: #7f7f7f\"> 2 </span>│ fc1     │ Linear      │  1.5 M │ train │\n",
              "│<span style=\"color: #7f7f7f; text-decoration-color: #7f7f7f\"> 3 </span>│ bn1     │ BatchNorm1d │  2.0 K │ train │\n",
              "│<span style=\"color: #7f7f7f; text-decoration-color: #7f7f7f\"> 4 </span>│ fc2     │ Linear      │  524 K │ train │\n",
              "│<span style=\"color: #7f7f7f; text-decoration-color: #7f7f7f\"> 5 </span>│ bn2     │ BatchNorm1d │  1.0 K │ train │\n",
              "│<span style=\"color: #7f7f7f; text-decoration-color: #7f7f7f\"> 6 </span>│ fc3     │ Linear      │    513 │ train │\n",
              "│<span style=\"color: #7f7f7f; text-decoration-color: #7f7f7f\"> 7 </span>│ fc_skip │ Linear      │  524 K │ train │\n",
              "│<span style=\"color: #7f7f7f; text-decoration-color: #7f7f7f\"> 8 </span>│ dropout │ Dropout     │      0 │ train │\n",
              "└───┴─────────┴─────────────┴────────┴───────┘\n",
              "</pre>\n"
            ]
          },
          "metadata": {},
          "output_type": "display_data"
        },
        {
          "data": {
            "text/plain": [
              "\u001b[1mTrainable params\u001b[0m: 2.6 M                                                                                            \n",
              "\u001b[1mNon-trainable params\u001b[0m: 0                                                                                            \n",
              "\u001b[1mTotal params\u001b[0m: 2.6 M                                                                                                \n",
              "\u001b[1mTotal estimated model params size (MB)\u001b[0m: 10                                                                         \n",
              "\u001b[1mModules in train mode\u001b[0m: 9                                                                                           \n",
              "\u001b[1mModules in eval mode\u001b[0m: 0                                                                                            \n"
            ],
            "text/html": [
              "<pre style=\"white-space:pre;overflow-x:auto;line-height:normal;font-family:Menlo,'DejaVu Sans Mono',consolas,'Courier New',monospace\"><span style=\"font-weight: bold\">Trainable params</span>: 2.6 M                                                                                            \n",
              "<span style=\"font-weight: bold\">Non-trainable params</span>: 0                                                                                            \n",
              "<span style=\"font-weight: bold\">Total params</span>: 2.6 M                                                                                                \n",
              "<span style=\"font-weight: bold\">Total estimated model params size (MB)</span>: 10                                                                         \n",
              "<span style=\"font-weight: bold\">Modules in train mode</span>: 9                                                                                           \n",
              "<span style=\"font-weight: bold\">Modules in eval mode</span>: 0                                                                                            \n",
              "</pre>\n"
            ]
          },
          "metadata": {},
          "output_type": "display_data"
        },
        {
          "data": {
            "text/plain": [
              "Output()"
            ],
            "application/vnd.jupyter.widget-view+json": {
              "version_major": 2,
              "version_minor": 0,
              "model_id": "b1edda5fbf3846e88e512d940f607b68"
            }
          },
          "metadata": {},
          "output_type": "display_data"
        },
        {
          "name": "stderr",
          "output_type": "stream",
          "text": [
            "C:\\Users\\dalje\\.conda\\envs\\nn_310\\lib\\site-packages\\pytorch_lightning\\trainer\\connectors\\data_connector.py:424: The 'train_dataloader' does not have many workers which may be a bottleneck. Consider increasing the value of the `num_workers` argument` to `num_workers=15` in the `DataLoader` to improve performance.\n",
            "C:\\Users\\dalje\\.conda\\envs\\nn_310\\lib\\site-packages\\pytorch_lightning\\trainer\\connectors\\data_connector.py:424: The 'val_dataloader' does not have many workers which may be a bottleneck. Consider increasing the value of the `num_workers` argument` to `num_workers=15` in the `DataLoader` to improve performance.\n",
            "`Trainer.fit` stopped: `max_steps=1` reached.\n"
          ]
        },
        {
          "data": {
            "text/plain": [],
            "text/html": [
              "<pre style=\"white-space:pre;overflow-x:auto;line-height:normal;font-family:Menlo,'DejaVu Sans Mono',consolas,'Courier New',monospace\"></pre>\n"
            ]
          },
          "metadata": {},
          "output_type": "display_data"
        },
        {
          "data": {
            "text/plain": [
              "Output()"
            ],
            "application/vnd.jupyter.widget-view+json": {
              "version_major": 2,
              "version_minor": 0,
              "model_id": "d1362baa90b8426482cb41ca2e825f23"
            }
          },
          "metadata": {},
          "output_type": "display_data"
        },
        {
          "data": {
            "text/plain": [
              "┏━━━━━━━━━━━━━━━━━━━━━━━━━━━┳━━━━━━━━━━━━━━━━━━━━━━━━━━━┓\n",
              "┃\u001b[1m \u001b[0m\u001b[1m     Validate metric     \u001b[0m\u001b[1m \u001b[0m┃\u001b[1m \u001b[0m\u001b[1m      DataLoader 0       \u001b[0m\u001b[1m \u001b[0m┃\n",
              "┡━━━━━━━━━━━━━━━━━━━━━━━━━━━╇━━━━━━━━━━━━━━━━━━━━━━━━━━━┩\n",
              "│\u001b[36m \u001b[0m\u001b[36m        val_loss         \u001b[0m\u001b[36m \u001b[0m│\u001b[35m \u001b[0m\u001b[35m    1062.320556640625    \u001b[0m\u001b[35m \u001b[0m│\n",
              "│\u001b[36m \u001b[0m\u001b[36mvalidation_epoch_average \u001b[0m\u001b[36m \u001b[0m│\u001b[35m \u001b[0m\u001b[35m    1062.320556640625    \u001b[0m\u001b[35m \u001b[0m│\n",
              "└───────────────────────────┴───────────────────────────┘\n"
            ],
            "text/html": [
              "<pre style=\"white-space:pre;overflow-x:auto;line-height:normal;font-family:Menlo,'DejaVu Sans Mono',consolas,'Courier New',monospace\">┏━━━━━━━━━━━━━━━━━━━━━━━━━━━┳━━━━━━━━━━━━━━━━━━━━━━━━━━━┓\n",
              "┃<span style=\"font-weight: bold\">      Validate metric      </span>┃<span style=\"font-weight: bold\">       DataLoader 0        </span>┃\n",
              "┡━━━━━━━━━━━━━━━━━━━━━━━━━━━╇━━━━━━━━━━━━━━━━━━━━━━━━━━━┩\n",
              "│<span style=\"color: #008080; text-decoration-color: #008080\">         val_loss          </span>│<span style=\"color: #800080; text-decoration-color: #800080\">     1062.320556640625     </span>│\n",
              "│<span style=\"color: #008080; text-decoration-color: #008080\"> validation_epoch_average  </span>│<span style=\"color: #800080; text-decoration-color: #800080\">     1062.320556640625     </span>│\n",
              "└───────────────────────────┴───────────────────────────┘\n",
              "</pre>\n"
            ]
          },
          "metadata": {},
          "output_type": "display_data"
        },
        {
          "name": "stdout",
          "output_type": "stream",
          "text": [
            "Train set size: 160, Test set size: 20, Valid set size: 20\n"
          ]
        },
        {
          "data": {
            "text/plain": [],
            "text/html": [
              "<pre style=\"white-space:pre;overflow-x:auto;line-height:normal;font-family:Menlo,'DejaVu Sans Mono',consolas,'Courier New',monospace\"></pre>\n"
            ]
          },
          "metadata": {},
          "output_type": "display_data"
        },
        {
          "data": {
            "text/plain": [
              "Output()"
            ],
            "application/vnd.jupyter.widget-view+json": {
              "version_major": 2,
              "version_minor": 0,
              "model_id": "a463c1f27e0245369f6c4b22fd3d244a"
            }
          },
          "metadata": {},
          "output_type": "display_data"
        },
        {
          "data": {
            "text/plain": [
              "┏━━━━━━━━━━━━━━━━━━━━━━━━━━━┳━━━━━━━━━━━━━━━━━━━━━━━━━━━┓\n",
              "┃\u001b[1m \u001b[0m\u001b[1m       Test metric       \u001b[0m\u001b[1m \u001b[0m┃\u001b[1m \u001b[0m\u001b[1m      DataLoader 0       \u001b[0m\u001b[1m \u001b[0m┃\n",
              "┡━━━━━━━━━━━━━━━━━━━━━━━━━━━╇━━━━━━━━━━━━━━━━━━━━━━━━━━━┩\n",
              "│\u001b[36m \u001b[0m\u001b[36m        test_loss        \u001b[0m\u001b[36m \u001b[0m│\u001b[35m \u001b[0m\u001b[35m    1062.320556640625    \u001b[0m\u001b[35m \u001b[0m│\n",
              "└───────────────────────────┴───────────────────────────┘\n"
            ],
            "text/html": [
              "<pre style=\"white-space:pre;overflow-x:auto;line-height:normal;font-family:Menlo,'DejaVu Sans Mono',consolas,'Courier New',monospace\">┏━━━━━━━━━━━━━━━━━━━━━━━━━━━┳━━━━━━━━━━━━━━━━━━━━━━━━━━━┓\n",
              "┃<span style=\"font-weight: bold\">        Test metric        </span>┃<span style=\"font-weight: bold\">       DataLoader 0        </span>┃\n",
              "┡━━━━━━━━━━━━━━━━━━━━━━━━━━━╇━━━━━━━━━━━━━━━━━━━━━━━━━━━┩\n",
              "│<span style=\"color: #008080; text-decoration-color: #008080\">         test_loss         </span>│<span style=\"color: #800080; text-decoration-color: #800080\">     1062.320556640625     </span>│\n",
              "└───────────────────────────┴───────────────────────────┘\n",
              "</pre>\n"
            ]
          },
          "metadata": {},
          "output_type": "display_data"
        },
        {
          "name": "stdout",
          "output_type": "stream",
          "text": [
            "Train set size: 160, Test set size: 20, Valid set size: 20\n"
          ]
        },
        {
          "name": "stderr",
          "output_type": "stream",
          "text": [
            "C:\\Users\\dalje\\.conda\\envs\\nn_310\\lib\\site-packages\\pytorch_lightning\\trainer\\connectors\\data_connector.py:424: The 'test_dataloader' does not have many workers which may be a bottleneck. Consider increasing the value of the `num_workers` argument` to `num_workers=15` in the `DataLoader` to improve performance.\n"
          ]
        },
        {
          "data": {
            "text/plain": [],
            "text/html": [
              "<pre style=\"white-space:pre;overflow-x:auto;line-height:normal;font-family:Menlo,'DejaVu Sans Mono',consolas,'Courier New',monospace\"></pre>\n"
            ]
          },
          "metadata": {},
          "output_type": "display_data"
        }
      ],
      "execution_count": null
    },
    {
      "metadata": {
        "id": "f9ceeceac39b7c6d"
      },
      "cell_type": "code",
      "source": [
        "from torchmetrics import R2Score\n",
        "from torchmetrics import MeanSquaredError\n",
        "\n",
        "def r2scoreAndMSE(model, dataloader):\n",
        "    r2_score_metric = R2Score()\n",
        "    mse = MeanSquaredError()\n",
        "    for batch_idx, (data, target) in enumerate(dataloader):\n",
        "        predictions = model(data)\n",
        "        #import pdb; pdb.set_trace()\n",
        "        r2_score_metric.update(predictions, target)\n",
        "        mse.update(predictions, target)\n",
        "    return r2_score_metric.compute().detach().item(), mse.compute().detach().item()"
      ],
      "id": "f9ceeceac39b7c6d",
      "outputs": [],
      "execution_count": null
    },
    {
      "cell_type": "code",
      "source": [
        "from pathlib import Path\n",
        "import pandas as pd\n",
        "from itertools import chain\n",
        "\n",
        "results = []\n",
        "if __name__ == \"__main__\":\n",
        "    # do everything in a loop for all the targets\n",
        "    for target in range(29, 30):\n",
        "        print(f\"Target: {target}\")\n",
        "        dm = CatalystDataModule(\n",
        "            data_dir=DATA_DIR,\n",
        "            batch_size=BATCH_SIZE,\n",
        "            num_workers=NUM_WORKERS,\n",
        "            target_num=target\n",
        "        )\n",
        "        dm.prepare_data()\n",
        "        dm.setup()\n",
        "        if DEBUG == True:\n",
        "            print(f\"Train set size: {len(dm.train_ds),dm.train_ds.dataset.x_data.shape[1]}\")\n",
        "            print(f\"Test set size: {len(dm.test_ds)}, Valid set size: {len(dm.val_ds)}\")\n",
        "\n",
        "        checkpoint_path=resolve_path_gdrive(f'{CHECKPOINTS_FOLDER}/{dm.target_num}')\n",
        "        pathlist = Path(checkpoint_path).glob('**/*.ckpt')\n",
        "        for path in pathlist:\n",
        "            # because path is object not string\n",
        "            model = SingleTargetNet.load_from_checkpoint(str(path))\n",
        "            model.eval()\n",
        "            model.cpu()\n",
        "            # add row to resultsDF\n",
        "            train_r2, train_mse = r2scoreAndMSE(model, dm.train_dataloader())\n",
        "            val_r2, val_mse = r2scoreAndMSE(model, dm.val_dataloader())\n",
        "            test_r2, test_mse = r2scoreAndMSE(model, dm.test_dataloader())\n",
        "\n",
        "            results.append([target, os.path.basename(path), train_r2, train_mse, val_r2, val_mse, test_r2, test_mse])\n"
      ],
      "metadata": {
        "id": "MEA9-WzTGPGL"
      },
      "id": "MEA9-WzTGPGL",
      "outputs": [],
      "execution_count": null
    },
    {
      "metadata": {
        "id": "3af373f6ab2cec1a"
      },
      "cell_type": "code",
      "source": [
        "resultsDFcolumns = [\"Target\", \"ModelFile\", \"Train R2\", \"Train MSE\", \"Val R2\", \"Val MSE\", \"Test R2\", \"Test MSE\"]\n",
        "resultsDF = pd.DataFrame(results, columns=resultsDFcolumns)\n",
        "resultsDF"
      ],
      "id": "3af373f6ab2cec1a",
      "outputs": [],
      "execution_count": null
    },
    {
      "metadata": {
        "id": "4398bc53fbf63706"
      },
      "cell_type": "code",
      "source": [
        "resultsDF.to_csv(resolve_path_gdrive(f'{CHECKPOINTS_FOLDER}/results.csv'), index=False)"
      ],
      "id": "4398bc53fbf63706",
      "outputs": [],
      "execution_count": null
    },
    {
      "metadata": {
        "id": "2rY85I_NJ8K8"
      },
      "cell_type": "code",
      "source": [
        "dm1 = CatalystDataModule(\n",
        "        data_dir=DATA_DIR,\n",
        "        batch_size=BATCH_SIZE,\n",
        "        num_workers=NUM_WORKERS,\n",
        "        target_num=target\n",
        "    )\n",
        "dm1.prepare_data()\n",
        "dm1.setup()\n",
        "\n",
        "print(r2scoreAndMSE(model, dm1.train_dataloader()))\n",
        "print(r2scoreAndMSE(model, dm1.val_dataloader()))\n",
        "print(r2scoreAndMSE(model, dm1.test_dataloader()))"
      ],
      "id": "2rY85I_NJ8K8",
      "outputs": [],
      "execution_count": null
    },
    {
      "metadata": {
        "id": "u1IP95JW5JPT"
      },
      "cell_type": "code",
      "source": [
        "import numpy as np\n",
        "matrix = np.array([[1, 2, 3, 4],\n",
        "                   [5, 6, 7, 8],\n",
        "                   [9, 10, 11, 12]])\n",
        "m = np.delete(matrix, [-1], axis=1)\n",
        "m"
      ],
      "id": "u1IP95JW5JPT",
      "outputs": [],
      "execution_count": null
    }
  ],
  "metadata": {
    "kernelspec": {
      "display_name": "Python 3 (ipykernel)",
      "name": "python3",
      "language": "python"
    },
    "language_info": {
      "codemirror_mode": {
        "name": "ipython",
        "version": 2
      },
      "file_extension": ".py",
      "mimetype": "text/x-python",
      "name": "python",
      "nbconvert_exporter": "python",
      "pygments_lexer": "ipython2",
      "version": "2.7.6"
    },
    "colab": {
      "provenance": [],
      "gpuType": "T4",
      "include_colab_link": true
    },
    "accelerator": "GPU",
    "widgets": {
      "application/vnd.jupyter.widget-state+json": {
        "3b6cbbc49eba47f684e9a2f48a9f8312": {
          "model_module": "@jupyter-widgets/output",
          "model_name": "OutputModel",
          "model_module_version": "1.0.0",
          "state": {
            "_dom_classes": [],
            "_model_module": "@jupyter-widgets/output",
            "_model_module_version": "1.0.0",
            "_model_name": "OutputModel",
            "_view_count": null,
            "_view_module": "@jupyter-widgets/output",
            "_view_module_version": "1.0.0",
            "_view_name": "OutputView",
            "layout": "IPY_MODEL_287f60fb919949aca0512d55682f7474",
            "msg_id": "",
            "outputs": [
              {
                "output_type": "display_data",
                "data": {
                  "text/plain": "Epoch 93/149 \u001b[38;2;98;6;224m━━━━━━━━━━━━━━━━━━━━━━━━━━━━━━━━━\u001b[0m \u001b[37m41/41\u001b[0m \u001b[38;5;245m0:00:01 • 0:00:00\u001b[0m \u001b[38;5;249m26.56it/s\u001b[0m \u001b[37mv_num: 5.000 train_loss_step:     \u001b[0m\n                                                                                 \u001b[37m0.195 train_acc: 0.824            \u001b[0m\n                                                                                 \u001b[37mtrain_loss_epoch: 0.203           \u001b[0m\n",
                  "text/html": "<pre style=\"white-space:pre;overflow-x:auto;line-height:normal;font-family:Menlo,'DejaVu Sans Mono',consolas,'Courier New',monospace\">Epoch 93/149 <span style=\"color: #6206e0; text-decoration-color: #6206e0\">━━━━━━━━━━━━━━━━━━━━━━━━━━━━━━━━━</span> <span style=\"color: #c0c0c0; text-decoration-color: #c0c0c0\">41/41</span> <span style=\"color: #8a8a8a; text-decoration-color: #8a8a8a\">0:00:01 • 0:00:00</span> <span style=\"color: #b2b2b2; text-decoration-color: #b2b2b2\">26.56it/s</span> <span style=\"color: #c0c0c0; text-decoration-color: #c0c0c0\">v_num: 5.000 train_loss_step:     </span>\n                                                                                 <span style=\"color: #c0c0c0; text-decoration-color: #c0c0c0\">0.195 train_acc: 0.824            </span>\n                                                                                 <span style=\"color: #c0c0c0; text-decoration-color: #c0c0c0\">train_loss_epoch: 0.203           </span>\n</pre>\n"
                },
                "metadata": {}
              }
            ]
          }
        },
        "287f60fb919949aca0512d55682f7474": {
          "model_module": "@jupyter-widgets/base",
          "model_name": "LayoutModel",
          "model_module_version": "1.2.0",
          "state": {
            "_model_module": "@jupyter-widgets/base",
            "_model_module_version": "1.2.0",
            "_model_name": "LayoutModel",
            "_view_count": null,
            "_view_module": "@jupyter-widgets/base",
            "_view_module_version": "1.2.0",
            "_view_name": "LayoutView",
            "align_content": null,
            "align_items": null,
            "align_self": null,
            "border": null,
            "bottom": null,
            "display": null,
            "flex": null,
            "flex_flow": null,
            "grid_area": null,
            "grid_auto_columns": null,
            "grid_auto_flow": null,
            "grid_auto_rows": null,
            "grid_column": null,
            "grid_gap": null,
            "grid_row": null,
            "grid_template_areas": null,
            "grid_template_columns": null,
            "grid_template_rows": null,
            "height": null,
            "justify_content": null,
            "justify_items": null,
            "left": null,
            "margin": null,
            "max_height": null,
            "max_width": null,
            "min_height": null,
            "min_width": null,
            "object_fit": null,
            "object_position": null,
            "order": null,
            "overflow": null,
            "overflow_x": null,
            "overflow_y": null,
            "padding": null,
            "right": null,
            "top": null,
            "visibility": null,
            "width": null
          }
        },
        "2e33058fac194f7e80aeb2f4754157e8": {
          "model_module": "@jupyter-widgets/output",
          "model_name": "OutputModel",
          "model_module_version": "1.0.0",
          "state": {
            "_dom_classes": [],
            "_model_module": "@jupyter-widgets/output",
            "_model_module_version": "1.0.0",
            "_model_name": "OutputModel",
            "_view_count": null,
            "_view_module": "@jupyter-widgets/output",
            "_view_module_version": "1.0.0",
            "_view_name": "OutputView",
            "layout": "IPY_MODEL_900c45c8032746ee8110da4a5d4464ba",
            "msg_id": "",
            "outputs": [
              {
                "output_type": "display_data",
                "data": {
                  "text/plain": "\u001b[37mValidation\u001b[0m \u001b[38;2;98;6;224m━━━━━━━━━━━━━━━━━━━━━━━━━━━━━━━━━━━━━━━━\u001b[0m \u001b[37m6/6\u001b[0m \u001b[38;5;245m0:00:00 • 0:00:00\u001b[0m \u001b[38;5;249m40.53it/s\u001b[0m  \n",
                  "text/html": "<pre style=\"white-space:pre;overflow-x:auto;line-height:normal;font-family:Menlo,'DejaVu Sans Mono',consolas,'Courier New',monospace\"><span style=\"color: #c0c0c0; text-decoration-color: #c0c0c0\">Validation</span> <span style=\"color: #6206e0; text-decoration-color: #6206e0\">━━━━━━━━━━━━━━━━━━━━━━━━━━━━━━━━━━━━━━━━</span> <span style=\"color: #c0c0c0; text-decoration-color: #c0c0c0\">6/6</span> <span style=\"color: #8a8a8a; text-decoration-color: #8a8a8a\">0:00:00 • 0:00:00</span> <span style=\"color: #b2b2b2; text-decoration-color: #b2b2b2\">40.53it/s</span>  \n</pre>\n"
                },
                "metadata": {}
              }
            ]
          }
        },
        "900c45c8032746ee8110da4a5d4464ba": {
          "model_module": "@jupyter-widgets/base",
          "model_name": "LayoutModel",
          "model_module_version": "1.2.0",
          "state": {
            "_model_module": "@jupyter-widgets/base",
            "_model_module_version": "1.2.0",
            "_model_name": "LayoutModel",
            "_view_count": null,
            "_view_module": "@jupyter-widgets/base",
            "_view_module_version": "1.2.0",
            "_view_name": "LayoutView",
            "align_content": null,
            "align_items": null,
            "align_self": null,
            "border": null,
            "bottom": null,
            "display": null,
            "flex": null,
            "flex_flow": null,
            "grid_area": null,
            "grid_auto_columns": null,
            "grid_auto_flow": null,
            "grid_auto_rows": null,
            "grid_column": null,
            "grid_gap": null,
            "grid_row": null,
            "grid_template_areas": null,
            "grid_template_columns": null,
            "grid_template_rows": null,
            "height": null,
            "justify_content": null,
            "justify_items": null,
            "left": null,
            "margin": null,
            "max_height": null,
            "max_width": null,
            "min_height": null,
            "min_width": null,
            "object_fit": null,
            "object_position": null,
            "order": null,
            "overflow": null,
            "overflow_x": null,
            "overflow_y": null,
            "padding": null,
            "right": null,
            "top": null,
            "visibility": null,
            "width": null
          }
        },
        "e9c5dbd447cc4771a735b3a6b71e3942": {
          "model_module": "@jupyter-widgets/output",
          "model_name": "OutputModel",
          "model_module_version": "1.0.0",
          "state": {
            "_dom_classes": [],
            "_model_module": "@jupyter-widgets/output",
            "_model_module_version": "1.0.0",
            "_model_name": "OutputModel",
            "_view_count": null,
            "_view_module": "@jupyter-widgets/output",
            "_view_module_version": "1.0.0",
            "_view_name": "OutputView",
            "layout": "IPY_MODEL_5152dbf2edc94713a92f99686413b156",
            "msg_id": "",
            "outputs": [
              {
                "output_type": "display_data",
                "data": {
                  "text/plain": "\u001b[37mTesting\u001b[0m \u001b[38;2;98;6;224m━━━━━━━━━━━━━━━━━━━━━━━━━━━━━━━━━━━━━━━━\u001b[0m \u001b[37m6/6\u001b[0m \u001b[38;5;245m0:00:00 • 0:00:00\u001b[0m \u001b[38;5;249m43.85it/s\u001b[0m  \n",
                  "text/html": "<pre style=\"white-space:pre;overflow-x:auto;line-height:normal;font-family:Menlo,'DejaVu Sans Mono',consolas,'Courier New',monospace\"><span style=\"color: #c0c0c0; text-decoration-color: #c0c0c0\">Testing</span> <span style=\"color: #6206e0; text-decoration-color: #6206e0\">━━━━━━━━━━━━━━━━━━━━━━━━━━━━━━━━━━━━━━━━</span> <span style=\"color: #c0c0c0; text-decoration-color: #c0c0c0\">6/6</span> <span style=\"color: #8a8a8a; text-decoration-color: #8a8a8a\">0:00:00 • 0:00:00</span> <span style=\"color: #b2b2b2; text-decoration-color: #b2b2b2\">43.85it/s</span>  \n</pre>\n"
                },
                "metadata": {}
              }
            ]
          }
        },
        "5152dbf2edc94713a92f99686413b156": {
          "model_module": "@jupyter-widgets/base",
          "model_name": "LayoutModel",
          "model_module_version": "1.2.0",
          "state": {
            "_model_module": "@jupyter-widgets/base",
            "_model_module_version": "1.2.0",
            "_model_name": "LayoutModel",
            "_view_count": null,
            "_view_module": "@jupyter-widgets/base",
            "_view_module_version": "1.2.0",
            "_view_name": "LayoutView",
            "align_content": null,
            "align_items": null,
            "align_self": null,
            "border": null,
            "bottom": null,
            "display": null,
            "flex": null,
            "flex_flow": null,
            "grid_area": null,
            "grid_auto_columns": null,
            "grid_auto_flow": null,
            "grid_auto_rows": null,
            "grid_column": null,
            "grid_gap": null,
            "grid_row": null,
            "grid_template_areas": null,
            "grid_template_columns": null,
            "grid_template_rows": null,
            "height": null,
            "justify_content": null,
            "justify_items": null,
            "left": null,
            "margin": null,
            "max_height": null,
            "max_width": null,
            "min_height": null,
            "min_width": null,
            "object_fit": null,
            "object_position": null,
            "order": null,
            "overflow": null,
            "overflow_x": null,
            "overflow_y": null,
            "padding": null,
            "right": null,
            "top": null,
            "visibility": null,
            "width": null
          }
        }
      }
    }
  },
  "nbformat": 4,
  "nbformat_minor": 5
}
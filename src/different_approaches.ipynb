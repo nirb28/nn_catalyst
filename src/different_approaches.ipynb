{
  "cells": [
    {
      "cell_type": "markdown",
      "metadata": {
        "id": "view-in-github",
        "colab_type": "text"
      },
      "source": [
        "<a href=\"https://colab.research.google.com/github/nirb28/nn_catalyst/blob/main/src/different_approaches.ipynb\" target=\"_parent\"><img src=\"https://colab.research.google.com/assets/colab-badge.svg\" alt=\"Open In Colab\"/></a>"
      ]
    },
    {
      "cell_type": "code",
      "metadata": {
        "colab": {
          "base_uri": "https://localhost:8080/"
        },
        "id": "OYFVi5Gn2QjN",
        "outputId": "16311055-1d00-4f9f-99ad-3a49a6277a8b"
      },
      "source": [
        "import os, sys\n",
        "\n",
        "IN_COLAB = 'google.colab' in sys.modules\n",
        "if IN_COLAB:\n",
        "    print(\"Running in Colab!\")\n",
        "    from google.colab import drive\n",
        "    drive.mount('/content/drive', force_remount=False)\n",
        "    from google.colab import userdata\n",
        "else:\n",
        "    print(\"Not running in Colab.\")\n",
        "\n",
        "def resolve_path_gdrive(relativePath):\n",
        "    if os.path.exists('/content/drive'):\n",
        "        return '/content/drive/MyDrive/work/gdrive-workspaces/git/nn_catalyst/' + relativePath\n",
        "    else:\n",
        "        from utils import get_project_root\n",
        "        return get_project_root() + \"/\" + relativePath"
      ],
      "outputs": [
        {
          "output_type": "stream",
          "name": "stdout",
          "text": [
            "Running in Colab!\n",
            "Mounted at /content/drive\n"
          ]
        }
      ],
      "execution_count": 3
    },
    {
      "cell_type": "code",
      "metadata": {
        "id": "Ak7hhtSw2QjQ"
      },
      "source": [
        "import pandas as pd\n",
        "from sklearn.feature_selection import VarianceThreshold\n",
        "from sklearn.model_selection import train_test_split\n",
        "from sklearn.preprocessing import StandardScaler\n",
        "import torch\n",
        "import torch.nn as nn\n",
        "import torch.optim as optim\n",
        "from torch.utils.data import DataLoader, TensorDataset\n",
        "import numpy as np\n",
        "from sklearn.metrics import r2_score, mean_squared_error, mean_absolute_error\n",
        "import torch.nn.functional as F\n",
        "from torch.optim.lr_scheduler import ReduceLROnPlateau\n",
        "from torch.optim import AdamW\n",
        "\n",
        "# Load the data\n",
        "descriptors_path = 'descriptors.csv'\n",
        "targets_path = 'compiled_data.csv'"
      ],
      "outputs": [],
      "execution_count": 4
    },
    {
      "cell_type": "code",
      "metadata": {
        "id": "L9Kr2K0S2QjQ",
        "outputId": "f4d5d978-c616-44f3-e899-47e2c2569ff4",
        "colab": {
          "base_uri": "https://localhost:8080/"
        }
      },
      "source": [
        "descriptors_df = pd.read_csv(resolve_path_gdrive(descriptors_path))\n",
        "targets_df = pd.read_csv(resolve_path_gdrive(targets_path))"
      ],
      "outputs": [
        {
          "output_type": "stream",
          "name": "stderr",
          "text": [
            "<ipython-input-5-682bbed9e703>:1: DtypeWarning: Columns (90,91,92,93,94,95,96,97,98,138,139,140,147,148,149,165,166,167,174,175,176,183,184,185,189,190,191,192,193,194,201,202,203,210,211,212,219,220,221,228,229,230,234,235,236,237,238,239,240,241,242,297,298,299,300,301,302,303,304,305,342,343,344,345,346,347,354,355,356,363,364,365,381,382,383,390,391,392,399,400,401,405,406,407,408,409,410,417,418,419,426,427,428,435,436,437,444,445,446,450,451,452,453,454,460,461,462,468,469,470,484,485,486,492,493,494,500,501,502,506,507,508,509,510,516,517,518,524,525,526,532,533,534,540,541,542,546,547,548,549,550,556,557,558,564,565,566,580,581,582,588,589,590,596,597,598,602,603,604,605,606,612,613,614,620,621,622,628,629,630,636,637,638,781,782,783,784,785,786,787,788,789,790,791,792,793,794,795,796,797,798,799,800,801,802,803,804,805,806,807,808,809,810,811,812,813,814,815,816,817,818,819,820,821,822,823,833,870,871,875,883,886,887,894,902,1351,1452) have mixed types. Specify dtype option on import or set low_memory=False.\n",
            "  descriptors_df = pd.read_csv(resolve_path_gdrive(descriptors_path))\n"
          ]
        }
      ],
      "execution_count": 5
    },
    {
      "cell_type": "code",
      "metadata": {
        "colab": {
          "base_uri": "https://localhost:8080/"
        },
        "id": "tWWSEdLT2QjR",
        "outputId": "168f55d1-0bbe-4ced-c8e9-bcd6956072d3"
      },
      "source": [
        "# Show sample rows\n",
        "print(\"\\nSample Rows from Descriptors DataFrame:\")\n",
        "print(descriptors_df.head())\n",
        "print(\"\\nSample Rows from Targets DataFrame:\")\n",
        "print(targets_df.head())"
      ],
      "outputs": [
        {
          "output_type": "stream",
          "name": "stdout",
          "text": [
            "\n",
            "Sample Rows from Descriptors DataFrame:\n",
            "   Label        ABC     ABCGG  nAcid  nBase             SpAbs_A  \\\n",
            "0   9268   4.719397  5.004088      0      0   6.720566232730447   \n",
            "1  10488  10.334062  9.836417      0      0  16.752497538971177   \n",
            "2  25579   5.875634  5.566041      0      0    9.43114762028933   \n",
            "3   8952   6.611250  6.890735      1      0   10.68725972618713   \n",
            "4  23681   7.249407  6.976306      0      0  11.945821561028193   \n",
            "\n",
            "              SpMax_A           SpDiam_A              SpAD_A  \\\n",
            "0  2.1010029896154583  4.202005979230917   6.720566232730447   \n",
            "1  2.3623398328574394  4.724679665714879  16.752497538971177   \n",
            "2  2.1753277471610764  4.350655494322151    9.43114762028933   \n",
            "3    2.28774942353935  4.425414875225794   10.68725972618713   \n",
            "4  2.2671838628844996     4.534367725769  11.945821561028193   \n",
            "\n",
            "              SpMAD_A  ...     SRW10     TSRW10          MW        AMW WPath  \\\n",
            "0  0.9600808903900638  ...  8.123558  33.343946  136.047505   6.802375    46   \n",
            "1  1.1966069670693698  ...  9.472628  45.579501  215.042359   8.960098   296   \n",
            "2  1.1788934525361663  ...  8.479907  35.755147  111.048427   7.932031    61   \n",
            "3  1.1874733029096811  ...  8.735364  51.247665  143.004099  10.214579    84   \n",
            "4  1.1945821561028194  ...  8.912069  39.310842  219.935762  13.745985   116   \n",
            "\n",
            "  WPol Zagreb1  Zagreb2            mZagreb1  mZagreb2  \n",
            "0    4    28.0     26.0              4.5625  1.625000  \n",
            "1   20    68.0     77.0   6.645833333333334  3.152778  \n",
            "2    7    36.0     38.0  3.2222222222222223  1.833333  \n",
            "3    9    42.0     47.0   4.083333333333334  2.055556  \n",
            "4   12    46.0     51.0   4.333333333333334  2.361111  \n",
            "\n",
            "[5 rows x 1827 columns]\n",
            "\n",
            "Sample Rows from Targets DataFrame:\n",
            "   mol_num    homo_n    lumo_n  max_charge_pos_n  max_charge_neg_n  dipole_n  \\\n",
            "0        1 -0.176481 -0.145696          0.888482         -0.649339   4.63917   \n",
            "1        4 -0.178590 -0.137610          0.504333         -0.471034   0.00005   \n",
            "2       11 -0.217144 -0.012080          1.183065         -0.787892   3.31424   \n",
            "3       12 -0.239982 -0.148671          1.500277         -0.805734   5.84638   \n",
            "4       13 -0.200493 -0.051637          1.358121         -0.784531   4.96208   \n",
            "\n",
            "       gibbs_n    elec_en_n  homo_spin_up_o  lumo_spin_up_o  ...  \\\n",
            "0 -1300.801410 -1300.941844       -0.322360       -0.259491  ...   \n",
            "1 -1744.173565 -1744.181119       -0.346743       -0.285237  ...   \n",
            "2 -2467.395463 -2467.453515       -0.487984       -0.232104  ...   \n",
            "3 -2899.351866 -2899.436209       -0.430495       -0.320760  ...   \n",
            "4 -2750.245324 -2750.344206       -0.386077       -0.229918  ...   \n",
            "\n",
            "   homo_spin_down_r  lumo_spin_down_r  max_charge_pos_r  max_charge_neg_r  \\\n",
            "0         -0.058523         -0.005780          0.854274         -0.665933   \n",
            "1         -0.059445         -0.014988          0.265960         -0.449216   \n",
            "2         -0.001917          0.081394          0.822369         -0.883380   \n",
            "3         -0.071437          0.030607          1.462250         -0.833701   \n",
            "4         -0.031962          0.059756          0.981067         -0.848564   \n",
            "\n",
            "   max_spin_r  dipole_r      gibbs_r    elec_en_r    ddg_ox   ddg_red  \n",
            "0    0.933582   8.80921 -1300.876422 -1301.015198  6.520420 -2.041162  \n",
            "1    0.472025   0.00001 -1744.249342 -1744.255224  6.861198 -2.061959  \n",
            "2    0.395451   1.28878 -2467.386751 -2467.438463  8.947798  0.237066  \n",
            "3    0.258320   5.08854 -2899.424545 -2899.506382  8.787097 -1.977691  \n",
            "4    0.383838   6.90040 -2750.251506 -2750.346633  7.655302 -0.168215  \n",
            "\n",
            "[5 rows x 30 columns]\n"
          ]
        }
      ],
      "execution_count": 7
    },
    {
      "cell_type": "code",
      "metadata": {
        "colab": {
          "base_uri": "https://localhost:8080/"
        },
        "id": "6vJxB6lh2QjR",
        "outputId": "4b49440b-0ca3-450d-8b1b-9344c77f3e10"
      },
      "source": [
        "# selected column\n",
        "selected_cols=[5, 14, 15, 24, 25]\n",
        "number_of_target_cols = len(selected_cols)\n",
        "selected_cols.insert(0, 0)\n",
        "targets_df = targets_df.iloc[:, selected_cols]\n",
        "print(targets_df)\n",
        "device = torch.device('cuda' if torch.cuda.is_available() else 'cpu')\n",
        "print(device)"
      ],
      "outputs": [
        {
          "output_type": "stream",
          "name": "stdout",
          "text": [
            "       mol_num  dipole_n  max_spin_o  dipole_o  max_spin_r  dipole_r\n",
            "0            1   4.63917    0.349349   7.63914    0.933582   8.80921\n",
            "1            4   0.00005    0.280722   0.00000    0.472025   0.00001\n",
            "2           11   3.31424    0.897425   2.75691    0.395451   1.28878\n",
            "3           12   5.84638    0.838052   4.65300    0.258320   5.08854\n",
            "4           13   4.96208    0.307085  10.87778    0.383838   6.90040\n",
            "...        ...       ...         ...       ...         ...       ...\n",
            "26228    34242   4.16353    0.189008   5.82675    0.216071   4.82770\n",
            "26229    34243   5.55982    0.512668   9.34790    0.402216   6.53615\n",
            "26230    34244   6.29952    0.460641   8.96955    0.241265   7.29014\n",
            "26231    34245   3.52367    0.187718   8.74031    0.146653   4.98239\n",
            "26232    34246   5.81051    0.249099   6.71696    0.254265   7.02366\n",
            "\n",
            "[26233 rows x 6 columns]\n",
            "cuda\n"
          ]
        }
      ],
      "execution_count": 8
    },
    {
      "cell_type": "code",
      "metadata": {
        "id": "vY4vLqXb2QjR",
        "ExecuteTime": {
          "end_time": "2024-09-22T00:07:48.094414Z",
          "start_time": "2024-09-22T00:07:47.765137Z"
        }
      },
      "source": [
        "# Keep only numeric columns\n",
        "descriptors_numeric = descriptors_df.select_dtypes(include=['number'])\n",
        "targets_numeric = targets_df.select_dtypes(include=['number'])\n",
        "\n",
        "# Merge the numeric dataframes on the common label column\n",
        "numeric_data = pd.merge(descriptors_numeric, targets_numeric, left_on='Label', right_on='mol_num')\n",
        "numeric_data = numeric_data.drop(columns=['Label', 'mol_num'])\n",
        "\n",
        "# Separate features and targets\n",
        "X = numeric_data.iloc[:, :-number_of_target_cols]  # Assuming the last 30 columns are targets\n",
        "y = numeric_data.iloc[:, -number_of_target_cols:]"
      ],
      "outputs": [],
      "execution_count": 9
    },
    {
      "cell_type": "code",
      "metadata": {
        "id": "APUS1Jw32QjS",
        "ExecuteTime": {
          "end_time": "2024-09-22T00:08:06.570664Z",
          "start_time": "2024-09-22T00:08:05.219444Z"
        }
      },
      "source": [
        "# Apply variance threshold\n",
        "selector = VarianceThreshold()\n",
        "X_high_variance = selector.fit_transform(X)\n",
        "\n",
        "# Convert to numpy arrays\n",
        "X = X_high_variance\n",
        "y = y.values\n",
        "\n",
        "# Split the data into training, validation, and test sets\n",
        "X_train, X_temp, y_train, y_temp = train_test_split(X, y, test_size=0.2, random_state=42)\n",
        "X_val, X_test, y_val, y_test = train_test_split(X_temp, y_temp, test_size=0.5, random_state=42)\n",
        "\n",
        "# Standardize the data\n",
        "scaler_X = StandardScaler().fit(X_train)\n",
        "scaler_y = StandardScaler().fit(y_train)\n",
        "\n",
        "X_train = scaler_X.transform(X_train)\n",
        "X_val = scaler_X.transform(X_val)\n",
        "X_test = scaler_X.transform(X_test)\n",
        "\n",
        "y_train = scaler_y.transform(y_train)\n",
        "y_val = scaler_y.transform(y_val)\n",
        "y_test = scaler_y.transform(y_test)\n",
        "\n",
        "# Convert the data to PyTorch tensors\n",
        "X_train_tensor = torch.tensor(X_train, dtype=torch.float32, device=device)\n",
        "y_train_tensor = torch.tensor(y_train, dtype=torch.float32, device=device)\n",
        "X_val_tensor = torch.tensor(X_val, dtype=torch.float32, device=device)\n",
        "y_val_tensor = torch.tensor(y_val, dtype=torch.float32, device=device)\n",
        "X_test_tensor = torch.tensor(X_test, dtype=torch.float32, device=device)\n",
        "y_test_tensor = torch.tensor(y_test, dtype=torch.float32, device=device)"
      ],
      "outputs": [],
      "execution_count": 10
    },
    {
      "cell_type": "code",
      "metadata": {
        "id": "MQGGaGmq2QjS",
        "ExecuteTime": {
          "end_time": "2024-09-22T00:08:11.148453Z",
          "start_time": "2024-09-22T00:08:11.134507Z"
        }
      },
      "source": [
        "# Create DataLoader for batch processing\n",
        "train_dataset = TensorDataset(X_train_tensor, y_train_tensor)\n",
        "val_dataset = TensorDataset(X_val_tensor, y_val_tensor)\n",
        "test_dataset = TensorDataset(X_test_tensor, y_test_tensor)\n",
        "\n",
        "train_loader = DataLoader(train_dataset, batch_size=32, shuffle=True)\n",
        "val_loader = DataLoader(val_dataset, batch_size=32, shuffle=False)\n",
        "test_loader = DataLoader(test_dataset, batch_size=32, shuffle=False)\n",
        "\n",
        "# Define the individual model class\n",
        "class SingleTargetNet(nn.Module):\n",
        "    def __init__(self, input_size, dropout_rate=0.5):\n",
        "        super(SingleTargetNet, self).__init__()\n",
        "        self.fc1 = nn.Linear(input_size, 1024)\n",
        "        self.bn1 = nn.BatchNorm1d(1024)\n",
        "        self.fc2 = nn.Linear(1024, 512)\n",
        "        self.bn2 = nn.BatchNorm1d(512)\n",
        "        self.fc3 = nn.Linear(512, 1)\n",
        "        self.fc_skip = nn.Linear(1024, 512)\n",
        "        self.dropout = nn.Dropout(dropout_rate)\n",
        "\n",
        "    def forward(self, x):\n",
        "        x1 = F.relu(self.bn1(self.fc1(x)))\n",
        "        x1 = self.dropout(x1)\n",
        "\n",
        "        x2 = F.relu(self.bn2(self.fc2(x1)))\n",
        "        x2 = self.dropout(x2)\n",
        "\n",
        "        # Skip connection\n",
        "        x2 += self.fc_skip(x1)\n",
        "\n",
        "        x3 = self.fc3(x2)\n",
        "        return x3\n",
        "\n",
        "def get_target5model():\n",
        "    # Define the model\n",
        "    model = nn.Sequential(\n",
        "        nn.Linear(X_train.shape[1], 1024),\n",
        "        nn.LeakyReLU(),\n",
        "        nn.Linear(1024, 512),\n",
        "        nn.LeakyReLU(),\n",
        "        nn.Linear(512, 256),\n",
        "        nn.LeakyReLU(),\n",
        "        nn.Linear(256, 1)\n",
        "    )\n",
        "    return model\n",
        "\n",
        "class RegressionNetwork(nn.Module):\n",
        "    def __init__(self, input_dim, hidden_dim, output_dim):\n",
        "        super(RegressionNetwork, self).__init__()\n",
        "        self.fc1 = nn.Linear(input_dim, hidden_dim)\n",
        "        self.bn1 = nn.BatchNorm1d(hidden_dim)\n",
        "        self.relu = nn.LeakyReLU()\n",
        "        self.dropout = nn.Dropout(0.1)\n",
        "        self.fc2 = nn.Linear(hidden_dim, hidden_dim)\n",
        "        self.bn2 = nn.BatchNorm1d(hidden_dim)\n",
        "        self.fc3 = nn.Linear(hidden_dim, output_dim)\n",
        "\n",
        "    def forward(self, x):\n",
        "        out = self.fc1(x)\n",
        "        out = self.bn1(out)\n",
        "        out = self.relu(out)\n",
        "        out = self.dropout(out)\n",
        "        out = self.fc2(out)\n",
        "        out = self.bn2(out)\n",
        "        out = self.relu(out)\n",
        "        out = self.fc3(out)\n",
        "        return out"
      ],
      "outputs": [],
      "execution_count": 11
    },
    {
      "cell_type": "code",
      "metadata": {
        "id": "wMcKunc12QjS",
        "ExecuteTime": {
          "end_time": "2024-09-22T00:08:38.960526Z",
          "start_time": "2024-09-22T00:08:38.947074Z"
        }
      },
      "source": [
        "# Function to train and evaluate individual models\n",
        "def train_and_evaluate(target_index, model):\n",
        "    model.to(device=device)\n",
        "    criterion = nn.MSELoss()\n",
        "    optimizer = AdamW(model.parameters(), lr=0.001)\n",
        "    scheduler = ReduceLROnPlateau(optimizer, mode='min', factor=0.1, patience=10, verbose=True)\n",
        "\n",
        "    best_val_loss = np.inf\n",
        "    patience_counter = 0\n",
        "    num_epochs = 150\n",
        "\n",
        "    for epoch in range(num_epochs):\n",
        "        model.train()\n",
        "        running_loss = 0.0\n",
        "        for inputs, targets in train_loader:\n",
        "            optimizer.zero_grad()\n",
        "            outputs = model(inputs).squeeze()\n",
        "            loss = criterion(outputs, targets[:, target_index])\n",
        "            loss.backward()\n",
        "            optimizer.step()\n",
        "            running_loss += loss.item()\n",
        "        print(f'Target {target_index} - Epoch {epoch+1}/{num_epochs}, Loss: {running_loss/len(train_loader)}')\n",
        "\n",
        "        model.eval()\n",
        "        val_loss = 0.0\n",
        "        with torch.no_grad():\n",
        "            for inputs, targets in val_loader:\n",
        "                outputs = model(inputs).squeeze()\n",
        "                loss = criterion(outputs, targets[:, target_index])\n",
        "                val_loss += loss.item()\n",
        "        val_loss /= len(val_loader)\n",
        "        print(f'Target {target_index} - Validation Loss: {val_loss}')\n",
        "\n",
        "        scheduler.step(val_loss)\n",
        "\n",
        "        if val_loss < best_val_loss:\n",
        "            best_val_loss = val_loss\n",
        "            patience_counter = 0\n",
        "            torch.save(model.state_dict(), f'{selected_cols[target_index+1]}_{type(model).__name__}_model.pth')\n",
        "        else:\n",
        "            patience_counter += 1\n",
        "            if patience_counter >= 15:\n",
        "                print(f'Target {target_index} - Early stopping triggered')\n",
        "                break\n",
        "\n",
        "    model.load_state_dict(torch.load(f'{selected_cols[target_index+1]}_{type(model).__name__}_model.pth'))\n",
        "\n",
        "    model.eval()\n",
        "    test_loss = 0.0\n",
        "    with torch.no_grad():\n",
        "        for inputs, targets in test_loader:\n",
        "            outputs = model(inputs).squeeze()\n",
        "            loss = criterion(outputs, targets[:, target_index])\n",
        "            test_loss += loss.item()\n",
        "    test_loss /= len(test_loader)\n",
        "    print(f'Target {target_index} - Test Loss: {test_loss}')\n",
        "\n",
        "    return model, test_loss"
      ],
      "outputs": [],
      "execution_count": 14
    },
    {
      "cell_type": "code",
      "metadata": {
        "colab": {
          "base_uri": "https://localhost:8080/"
        },
        "id": "6NN-lXmV2QjT",
        "outputId": "dc1b685f-a3f7-4bbc-8d83-a7374237e348",
        "ExecuteTime": {
          "end_time": "2024-09-22T00:08:40.316889Z",
          "start_time": "2024-09-22T00:08:40.309561Z"
        }
      },
      "source": [
        "# Train and evaluate individual models for each target\n",
        "test_losses = []\n",
        "models = []\n",
        "try_models = [SingleTargetNet(X_train.shape[1]), RegressionNetwork(X_train.shape[1], 512, 1), get_target5model()]\n",
        "\n",
        "for target_index in range(y_train.shape[1]):\n",
        "    for a_model in try_models:\n",
        "        model, test_loss = train_and_evaluate(target_index, a_model)\n",
        "        models.append(model)\n",
        "        test_losses.append(test_loss)"
      ],
      "outputs": [
        {
          "output_type": "stream",
          "name": "stdout",
          "text": [
            "Target 0 - Epoch 1/150, Loss: 0.8773315937326449\n",
            "Target 0 - Validation Loss: 0.6787949778684755\n",
            "Target 0 - Epoch 2/150, Loss: 0.7100362734096807\n",
            "Target 0 - Validation Loss: 0.6704902547161754\n",
            "Target 0 - Epoch 3/150, Loss: 0.7005765770175835\n",
            "Target 0 - Validation Loss: 0.6312346545661368\n",
            "Target 0 - Epoch 4/150, Loss: 0.6850633419050676\n",
            "Target 0 - Validation Loss: 0.6376743200348645\n",
            "Target 0 - Epoch 5/150, Loss: 0.6706144227759867\n",
            "Target 0 - Validation Loss: 0.6332171061416951\n",
            "Target 0 - Epoch 6/150, Loss: 0.6649495326891178\n",
            "Target 0 - Validation Loss: 0.6199800150423516\n",
            "Target 0 - Epoch 7/150, Loss: 0.6546979307356041\n",
            "Target 0 - Validation Loss: 0.614047696314207\n"
          ]
        }
      ],
      "execution_count": null
    },
    {
      "cell_type": "code",
      "metadata": {
        "id": "ACMqmYbr2QjT",
        "ExecuteTime": {
          "end_time": "2024-09-22T00:08:44.106307Z",
          "start_time": "2024-09-22T00:08:44.092802Z"
        }
      },
      "source": [
        "# Prepare DataFrames for train, validation, and test predictions\n",
        "train_df = pd.DataFrame()\n",
        "val_df = pd.DataFrame()\n",
        "test_df = pd.DataFrame()\n",
        "\n",
        "r2_scores, rmse_scores, mae_scores = [], [], []\n",
        "\n",
        "def compute_stats(target_index, df):\n",
        "    print(df)\n",
        "    observed_col = f'Observed_{target_index}'\n",
        "    predicted_col = f'Predicted_{target_index}'\n",
        "\n",
        "    # Calculate metrics\n",
        "    observed = df[observed_col]\n",
        "    predicted = df[predicted_col]\n",
        "    r2 = r2_score(observed, predicted)\n",
        "    rmse = mean_squared_error(observed, predicted, squared=False)\n",
        "    mae = mean_absolute_error(observed, predicted)\n",
        "    return r2, rmse, mae"
      ],
      "outputs": [],
      "execution_count": null
    },
    {
      "metadata": {
        "ExecuteTime": {
          "end_time": "2024-09-22T00:08:54.693833Z",
          "start_time": "2024-09-22T00:08:47.796939Z"
        },
        "id": "hmYa3OGsAIUC",
        "outputId": "1578eacc-92e0-46b8-c54a-14b9c732b517"
      },
      "cell_type": "code",
      "source": [
        "def evaluate(target_index, model):\n",
        "    # Make predictions on the train, validation, and test sets\n",
        "    model.cpu().eval()\n",
        "    with torch.no_grad():\n",
        "        y_train_pred = model(X_train_tensor.cpu()).numpy()\n",
        "        y_val_pred = model(X_val_tensor.cpu()).numpy()\n",
        "        y_test_pred = model(X_test_tensor.cpu()).numpy()\n",
        "\n",
        "    # Inverse transform the predictions and targets to their original scale\n",
        "    y_train_pred_orig = scaler_y.inverse_transform(np.concatenate([np.zeros((y_train_pred.shape[0], target_index)), y_train_pred, np.zeros((y_train_pred.shape[0], y_train.shape[1] - target_index - 1))], axis=1))[:, target_index]\n",
        "    y_val_pred_orig = scaler_y.inverse_transform(np.concatenate([np.zeros((y_val_pred.shape[0], target_index)), y_val_pred, np.zeros((y_val_pred.shape[0], y_val.shape[1] - target_index - 1))], axis=1))[:, target_index]\n",
        "    y_test_pred_orig = scaler_y.inverse_transform(np.concatenate([np.zeros((y_test_pred.shape[0], target_index)), y_test_pred, np.zeros((y_test_pred.shape[0], y_test.shape[1] - target_index - 1))], axis=1))[:, target_index]\n",
        "\n",
        "    y_train_orig = scaler_y.inverse_transform(y_train)[:, target_index]\n",
        "    y_val_orig = scaler_y.inverse_transform(y_val)[:, target_index]\n",
        "    y_test_orig = scaler_y.inverse_transform(y_test)[:, target_index]\n",
        "\n",
        "    # Create dataframes for the predictions and actual values\n",
        "    train_df[f'Observed_{target_index}'] = y_train_orig\n",
        "    train_df[f'Predicted_{target_index}'] = y_train_pred_orig\n",
        "\n",
        "    val_df[f'Observed_{target_index}'] = y_val_orig\n",
        "    val_df[f'Predicted_{target_index}'] = y_val_pred_orig\n",
        "\n",
        "    test_df[f'Observed_{target_index}'] = y_test_orig\n",
        "    test_df[f'Predicted_{target_index}'] = y_test_pred_orig\n",
        "\n",
        "    # Create and insert parity plots for train, validation, and test sets\n",
        "    r2, rmse, mae = compute_stats(target_index, train_df)\n",
        "    r2_scores.append(r2)\n",
        "    rmse_scores.append(rmse)\n",
        "    mae_scores.append(mae)\n",
        "\n",
        "for target_index in range(y_train.shape[1]):\n",
        "    for model_type in try_models:\n",
        "        model = model_type\n",
        "        model.load_state_dict(torch.load(f'saved_models/{selected_cols[target_index+1]}_{type(model_type).__name__}_model.pth'))\n",
        "        evaluate(target_index, model)\n"
      ],
      "outputs": [
        {
          "name": "stderr",
          "output_type": "stream",
          "text": [
            "C:\\Users\\dalje\\AppData\\Local\\Temp\\ipykernel_20604\\1490988916.py:37: FutureWarning: You are using `torch.load` with `weights_only=False` (the current default value), which uses the default pickle module implicitly. It is possible to construct malicious pickle data which will execute arbitrary code during unpickling (See https://github.com/pytorch/pytorch/blob/main/SECURITY.md#untrusted-models for more details). In a future release, the default value for `weights_only` will be flipped to `True`. This limits the functions that could be executed during unpickling. Arbitrary objects will no longer be allowed to be loaded via this mode unless they are explicitly allowlisted by the user via `torch.serialization.add_safe_globals`. We recommend you start setting `weights_only=True` for any use case where you don't have full control of the loaded file. Please open an issue on GitHub for any issues related to this experimental feature.\n",
            "  model.load_state_dict(torch.load(f'saved_models/{selected_cols[target_index+1]}_{type(model_type).__name__}_model.pth'))\n"
          ]
        },
        {
          "name": "stdout",
          "output_type": "stream",
          "text": [
            "       Observed_0  Predicted_0\n",
            "0         3.03390     3.133207\n",
            "1         2.21883     4.118872\n",
            "2         3.42129     1.926924\n",
            "3         6.54626     5.892724\n",
            "4         2.70455     1.972907\n",
            "...           ...          ...\n",
            "20981     5.82050     5.541566\n",
            "20982     2.90117     1.944907\n",
            "20983     3.06542     2.879624\n",
            "20984     2.26019     2.265115\n",
            "20985     1.91199     2.678473\n",
            "\n",
            "[20986 rows x 2 columns]\n"
          ]
        },
        {
          "name": "stderr",
          "output_type": "stream",
          "text": [
            "d:\\work\\conda\\nn_310\\lib\\site-packages\\sklearn\\metrics\\_regression.py:492: FutureWarning: 'squared' is deprecated in version 1.4 and will be removed in 1.6. To calculate the root mean squared error, use the function'root_mean_squared_error'.\n",
            "  warnings.warn(\n",
            "C:\\Users\\dalje\\AppData\\Local\\Temp\\ipykernel_20604\\1490988916.py:37: FutureWarning: You are using `torch.load` with `weights_only=False` (the current default value), which uses the default pickle module implicitly. It is possible to construct malicious pickle data which will execute arbitrary code during unpickling (See https://github.com/pytorch/pytorch/blob/main/SECURITY.md#untrusted-models for more details). In a future release, the default value for `weights_only` will be flipped to `True`. This limits the functions that could be executed during unpickling. Arbitrary objects will no longer be allowed to be loaded via this mode unless they are explicitly allowlisted by the user via `torch.serialization.add_safe_globals`. We recommend you start setting `weights_only=True` for any use case where you don't have full control of the loaded file. Please open an issue on GitHub for any issues related to this experimental feature.\n",
            "  model.load_state_dict(torch.load(f'saved_models/{selected_cols[target_index+1]}_{type(model_type).__name__}_model.pth'))\n"
          ]
        },
        {
          "name": "stdout",
          "output_type": "stream",
          "text": [
            "       Observed_0  Predicted_0\n",
            "0         3.03390     3.439919\n",
            "1         2.21883     4.159586\n",
            "2         3.42129     1.921974\n",
            "3         6.54626     5.122129\n",
            "4         2.70455     2.287310\n",
            "...           ...          ...\n",
            "20981     5.82050     5.667760\n",
            "20982     2.90117     2.209077\n",
            "20983     3.06542     3.142845\n",
            "20984     2.26019     2.896136\n",
            "20985     1.91199     2.429804\n",
            "\n",
            "[20986 rows x 2 columns]\n"
          ]
        },
        {
          "name": "stderr",
          "output_type": "stream",
          "text": [
            "d:\\work\\conda\\nn_310\\lib\\site-packages\\sklearn\\metrics\\_regression.py:492: FutureWarning: 'squared' is deprecated in version 1.4 and will be removed in 1.6. To calculate the root mean squared error, use the function'root_mean_squared_error'.\n",
            "  warnings.warn(\n",
            "C:\\Users\\dalje\\AppData\\Local\\Temp\\ipykernel_20604\\1490988916.py:37: FutureWarning: You are using `torch.load` with `weights_only=False` (the current default value), which uses the default pickle module implicitly. It is possible to construct malicious pickle data which will execute arbitrary code during unpickling (See https://github.com/pytorch/pytorch/blob/main/SECURITY.md#untrusted-models for more details). In a future release, the default value for `weights_only` will be flipped to `True`. This limits the functions that could be executed during unpickling. Arbitrary objects will no longer be allowed to be loaded via this mode unless they are explicitly allowlisted by the user via `torch.serialization.add_safe_globals`. We recommend you start setting `weights_only=True` for any use case where you don't have full control of the loaded file. Please open an issue on GitHub for any issues related to this experimental feature.\n",
            "  model.load_state_dict(torch.load(f'saved_models/{selected_cols[target_index+1]}_{type(model_type).__name__}_model.pth'))\n"
          ]
        },
        {
          "name": "stdout",
          "output_type": "stream",
          "text": [
            "       Observed_0  Predicted_0\n",
            "0         3.03390     3.824085\n",
            "1         2.21883     4.577974\n",
            "2         3.42129     2.198584\n",
            "3         6.54626     5.651527\n",
            "4         2.70455     1.726750\n",
            "...           ...          ...\n",
            "20981     5.82050     5.444175\n",
            "20982     2.90117     2.319813\n",
            "20983     3.06542     3.316987\n",
            "20984     2.26019     2.264390\n",
            "20985     1.91199     2.267551\n",
            "\n",
            "[20986 rows x 2 columns]\n"
          ]
        },
        {
          "name": "stderr",
          "output_type": "stream",
          "text": [
            "d:\\work\\conda\\nn_310\\lib\\site-packages\\sklearn\\metrics\\_regression.py:492: FutureWarning: 'squared' is deprecated in version 1.4 and will be removed in 1.6. To calculate the root mean squared error, use the function'root_mean_squared_error'.\n",
            "  warnings.warn(\n",
            "C:\\Users\\dalje\\AppData\\Local\\Temp\\ipykernel_20604\\1490988916.py:37: FutureWarning: You are using `torch.load` with `weights_only=False` (the current default value), which uses the default pickle module implicitly. It is possible to construct malicious pickle data which will execute arbitrary code during unpickling (See https://github.com/pytorch/pytorch/blob/main/SECURITY.md#untrusted-models for more details). In a future release, the default value for `weights_only` will be flipped to `True`. This limits the functions that could be executed during unpickling. Arbitrary objects will no longer be allowed to be loaded via this mode unless they are explicitly allowlisted by the user via `torch.serialization.add_safe_globals`. We recommend you start setting `weights_only=True` for any use case where you don't have full control of the loaded file. Please open an issue on GitHub for any issues related to this experimental feature.\n",
            "  model.load_state_dict(torch.load(f'saved_models/{selected_cols[target_index+1]}_{type(model_type).__name__}_model.pth'))\n"
          ]
        },
        {
          "name": "stdout",
          "output_type": "stream",
          "text": [
            "       Observed_0  Predicted_0  Observed_1  Predicted_1\n",
            "0         3.03390     3.824085    0.498762     0.409077\n",
            "1         2.21883     4.577974    0.162431     0.210882\n",
            "2         3.42129     2.198584    0.547589     0.494178\n",
            "3         6.54626     5.651527    0.308542     0.295225\n",
            "4         2.70455     1.726750    0.572807     0.544592\n",
            "...           ...          ...         ...          ...\n",
            "20981     5.82050     5.444175    0.342817     0.357374\n",
            "20982     2.90117     2.319813    0.485546     0.505838\n",
            "20983     3.06542     3.316987    0.210382     0.190273\n",
            "20984     2.26019     2.264390    0.336572     0.322745\n",
            "20985     1.91199     2.267551    0.211747     0.226016\n",
            "\n",
            "[20986 rows x 4 columns]\n"
          ]
        },
        {
          "name": "stderr",
          "output_type": "stream",
          "text": [
            "d:\\work\\conda\\nn_310\\lib\\site-packages\\sklearn\\metrics\\_regression.py:492: FutureWarning: 'squared' is deprecated in version 1.4 and will be removed in 1.6. To calculate the root mean squared error, use the function'root_mean_squared_error'.\n",
            "  warnings.warn(\n",
            "C:\\Users\\dalje\\AppData\\Local\\Temp\\ipykernel_20604\\1490988916.py:37: FutureWarning: You are using `torch.load` with `weights_only=False` (the current default value), which uses the default pickle module implicitly. It is possible to construct malicious pickle data which will execute arbitrary code during unpickling (See https://github.com/pytorch/pytorch/blob/main/SECURITY.md#untrusted-models for more details). In a future release, the default value for `weights_only` will be flipped to `True`. This limits the functions that could be executed during unpickling. Arbitrary objects will no longer be allowed to be loaded via this mode unless they are explicitly allowlisted by the user via `torch.serialization.add_safe_globals`. We recommend you start setting `weights_only=True` for any use case where you don't have full control of the loaded file. Please open an issue on GitHub for any issues related to this experimental feature.\n",
            "  model.load_state_dict(torch.load(f'saved_models/{selected_cols[target_index+1]}_{type(model_type).__name__}_model.pth'))\n"
          ]
        },
        {
          "name": "stdout",
          "output_type": "stream",
          "text": [
            "       Observed_0  Predicted_0  Observed_1  Predicted_1\n",
            "0         3.03390     3.824085    0.498762     0.497632\n",
            "1         2.21883     4.577974    0.162431     0.167351\n",
            "2         3.42129     2.198584    0.547589     0.523757\n",
            "3         6.54626     5.651527    0.308542     0.289338\n",
            "4         2.70455     1.726750    0.572807     0.570653\n",
            "...           ...          ...         ...          ...\n",
            "20981     5.82050     5.444175    0.342817     0.362836\n",
            "20982     2.90117     2.319813    0.485546     0.479496\n",
            "20983     3.06542     3.316987    0.210382     0.196338\n",
            "20984     2.26019     2.264390    0.336572     0.299302\n",
            "20985     1.91199     2.267551    0.211747     0.201934\n",
            "\n",
            "[20986 rows x 4 columns]\n"
          ]
        },
        {
          "name": "stderr",
          "output_type": "stream",
          "text": [
            "d:\\work\\conda\\nn_310\\lib\\site-packages\\sklearn\\metrics\\_regression.py:492: FutureWarning: 'squared' is deprecated in version 1.4 and will be removed in 1.6. To calculate the root mean squared error, use the function'root_mean_squared_error'.\n",
            "  warnings.warn(\n",
            "C:\\Users\\dalje\\AppData\\Local\\Temp\\ipykernel_20604\\1490988916.py:37: FutureWarning: You are using `torch.load` with `weights_only=False` (the current default value), which uses the default pickle module implicitly. It is possible to construct malicious pickle data which will execute arbitrary code during unpickling (See https://github.com/pytorch/pytorch/blob/main/SECURITY.md#untrusted-models for more details). In a future release, the default value for `weights_only` will be flipped to `True`. This limits the functions that could be executed during unpickling. Arbitrary objects will no longer be allowed to be loaded via this mode unless they are explicitly allowlisted by the user via `torch.serialization.add_safe_globals`. We recommend you start setting `weights_only=True` for any use case where you don't have full control of the loaded file. Please open an issue on GitHub for any issues related to this experimental feature.\n",
            "  model.load_state_dict(torch.load(f'saved_models/{selected_cols[target_index+1]}_{type(model_type).__name__}_model.pth'))\n"
          ]
        },
        {
          "name": "stdout",
          "output_type": "stream",
          "text": [
            "       Observed_0  Predicted_0  Observed_1  Predicted_1\n",
            "0         3.03390     3.824085    0.498762     0.484318\n",
            "1         2.21883     4.577974    0.162431     0.161983\n",
            "2         3.42129     2.198584    0.547589     0.507206\n",
            "3         6.54626     5.651527    0.308542     0.325894\n",
            "4         2.70455     1.726750    0.572807     0.594937\n",
            "...           ...          ...         ...          ...\n",
            "20981     5.82050     5.444175    0.342817     0.365858\n",
            "20982     2.90117     2.319813    0.485546     0.463759\n",
            "20983     3.06542     3.316987    0.210382     0.199105\n",
            "20984     2.26019     2.264390    0.336572     0.321267\n",
            "20985     1.91199     2.267551    0.211747     0.204855\n",
            "\n",
            "[20986 rows x 4 columns]\n"
          ]
        },
        {
          "name": "stderr",
          "output_type": "stream",
          "text": [
            "d:\\work\\conda\\nn_310\\lib\\site-packages\\sklearn\\metrics\\_regression.py:492: FutureWarning: 'squared' is deprecated in version 1.4 and will be removed in 1.6. To calculate the root mean squared error, use the function'root_mean_squared_error'.\n",
            "  warnings.warn(\n",
            "C:\\Users\\dalje\\AppData\\Local\\Temp\\ipykernel_20604\\1490988916.py:37: FutureWarning: You are using `torch.load` with `weights_only=False` (the current default value), which uses the default pickle module implicitly. It is possible to construct malicious pickle data which will execute arbitrary code during unpickling (See https://github.com/pytorch/pytorch/blob/main/SECURITY.md#untrusted-models for more details). In a future release, the default value for `weights_only` will be flipped to `True`. This limits the functions that could be executed during unpickling. Arbitrary objects will no longer be allowed to be loaded via this mode unless they are explicitly allowlisted by the user via `torch.serialization.add_safe_globals`. We recommend you start setting `weights_only=True` for any use case where you don't have full control of the loaded file. Please open an issue on GitHub for any issues related to this experimental feature.\n",
            "  model.load_state_dict(torch.load(f'saved_models/{selected_cols[target_index+1]}_{type(model_type).__name__}_model.pth'))\n"
          ]
        },
        {
          "name": "stdout",
          "output_type": "stream",
          "text": [
            "       Observed_0  Predicted_0  Observed_1  Predicted_1  Observed_2  \\\n",
            "0         3.03390     3.824085    0.498762     0.484318     3.89562   \n",
            "1         2.21883     4.577974    0.162431     0.161983     7.08420   \n",
            "2         3.42129     2.198584    0.547589     0.507206     6.47881   \n",
            "3         6.54626     5.651527    0.308542     0.325894     5.39737   \n",
            "4         2.70455     1.726750    0.572807     0.594937    11.06172   \n",
            "...           ...          ...         ...          ...         ...   \n",
            "20981     5.82050     5.444175    0.342817     0.365858     6.03192   \n",
            "20982     2.90117     2.319813    0.485546     0.463759     3.37806   \n",
            "20983     3.06542     3.316987    0.210382     0.199105    11.38933   \n",
            "20984     2.26019     2.264390    0.336572     0.321267     1.31823   \n",
            "20985     1.91199     2.267551    0.211747     0.204855     2.01098   \n",
            "\n",
            "       Predicted_2  \n",
            "0         3.075237  \n",
            "1         6.665483  \n",
            "2         4.560639  \n",
            "3         8.207431  \n",
            "4        10.135466  \n",
            "...            ...  \n",
            "20981     5.864831  \n",
            "20982     2.342183  \n",
            "20983     9.941118  \n",
            "20984     2.503064  \n",
            "20985     3.277334  \n",
            "\n",
            "[20986 rows x 6 columns]\n"
          ]
        },
        {
          "name": "stderr",
          "output_type": "stream",
          "text": [
            "d:\\work\\conda\\nn_310\\lib\\site-packages\\sklearn\\metrics\\_regression.py:492: FutureWarning: 'squared' is deprecated in version 1.4 and will be removed in 1.6. To calculate the root mean squared error, use the function'root_mean_squared_error'.\n",
            "  warnings.warn(\n",
            "C:\\Users\\dalje\\AppData\\Local\\Temp\\ipykernel_20604\\1490988916.py:37: FutureWarning: You are using `torch.load` with `weights_only=False` (the current default value), which uses the default pickle module implicitly. It is possible to construct malicious pickle data which will execute arbitrary code during unpickling (See https://github.com/pytorch/pytorch/blob/main/SECURITY.md#untrusted-models for more details). In a future release, the default value for `weights_only` will be flipped to `True`. This limits the functions that could be executed during unpickling. Arbitrary objects will no longer be allowed to be loaded via this mode unless they are explicitly allowlisted by the user via `torch.serialization.add_safe_globals`. We recommend you start setting `weights_only=True` for any use case where you don't have full control of the loaded file. Please open an issue on GitHub for any issues related to this experimental feature.\n",
            "  model.load_state_dict(torch.load(f'saved_models/{selected_cols[target_index+1]}_{type(model_type).__name__}_model.pth'))\n"
          ]
        },
        {
          "name": "stdout",
          "output_type": "stream",
          "text": [
            "       Observed_0  Predicted_0  Observed_1  Predicted_1  Observed_2  \\\n",
            "0         3.03390     3.824085    0.498762     0.484318     3.89562   \n",
            "1         2.21883     4.577974    0.162431     0.161983     7.08420   \n",
            "2         3.42129     2.198584    0.547589     0.507206     6.47881   \n",
            "3         6.54626     5.651527    0.308542     0.325894     5.39737   \n",
            "4         2.70455     1.726750    0.572807     0.594937    11.06172   \n",
            "...           ...          ...         ...          ...         ...   \n",
            "20981     5.82050     5.444175    0.342817     0.365858     6.03192   \n",
            "20982     2.90117     2.319813    0.485546     0.463759     3.37806   \n",
            "20983     3.06542     3.316987    0.210382     0.199105    11.38933   \n",
            "20984     2.26019     2.264390    0.336572     0.321267     1.31823   \n",
            "20985     1.91199     2.267551    0.211747     0.204855     2.01098   \n",
            "\n",
            "       Predicted_2  \n",
            "0         3.411538  \n",
            "1         7.292431  \n",
            "2         5.552247  \n",
            "3         5.039103  \n",
            "4        11.075534  \n",
            "...            ...  \n",
            "20981     5.557716  \n",
            "20982     3.078779  \n",
            "20983    10.205283  \n",
            "20984     1.962037  \n",
            "20985     2.946149  \n",
            "\n",
            "[20986 rows x 6 columns]\n"
          ]
        },
        {
          "name": "stderr",
          "output_type": "stream",
          "text": [
            "d:\\work\\conda\\nn_310\\lib\\site-packages\\sklearn\\metrics\\_regression.py:492: FutureWarning: 'squared' is deprecated in version 1.4 and will be removed in 1.6. To calculate the root mean squared error, use the function'root_mean_squared_error'.\n",
            "  warnings.warn(\n",
            "C:\\Users\\dalje\\AppData\\Local\\Temp\\ipykernel_20604\\1490988916.py:37: FutureWarning: You are using `torch.load` with `weights_only=False` (the current default value), which uses the default pickle module implicitly. It is possible to construct malicious pickle data which will execute arbitrary code during unpickling (See https://github.com/pytorch/pytorch/blob/main/SECURITY.md#untrusted-models for more details). In a future release, the default value for `weights_only` will be flipped to `True`. This limits the functions that could be executed during unpickling. Arbitrary objects will no longer be allowed to be loaded via this mode unless they are explicitly allowlisted by the user via `torch.serialization.add_safe_globals`. We recommend you start setting `weights_only=True` for any use case where you don't have full control of the loaded file. Please open an issue on GitHub for any issues related to this experimental feature.\n",
            "  model.load_state_dict(torch.load(f'saved_models/{selected_cols[target_index+1]}_{type(model_type).__name__}_model.pth'))\n"
          ]
        },
        {
          "name": "stdout",
          "output_type": "stream",
          "text": [
            "       Observed_0  Predicted_0  Observed_1  Predicted_1  Observed_2  \\\n",
            "0         3.03390     3.824085    0.498762     0.484318     3.89562   \n",
            "1         2.21883     4.577974    0.162431     0.161983     7.08420   \n",
            "2         3.42129     2.198584    0.547589     0.507206     6.47881   \n",
            "3         6.54626     5.651527    0.308542     0.325894     5.39737   \n",
            "4         2.70455     1.726750    0.572807     0.594937    11.06172   \n",
            "...           ...          ...         ...          ...         ...   \n",
            "20981     5.82050     5.444175    0.342817     0.365858     6.03192   \n",
            "20982     2.90117     2.319813    0.485546     0.463759     3.37806   \n",
            "20983     3.06542     3.316987    0.210382     0.199105    11.38933   \n",
            "20984     2.26019     2.264390    0.336572     0.321267     1.31823   \n",
            "20985     1.91199     2.267551    0.211747     0.204855     2.01098   \n",
            "\n",
            "       Predicted_2  \n",
            "0         3.822650  \n",
            "1         7.219866  \n",
            "2         5.779371  \n",
            "3         6.959018  \n",
            "4        10.715141  \n",
            "...            ...  \n",
            "20981     5.503481  \n",
            "20982     2.035220  \n",
            "20983    10.704143  \n",
            "20984     1.113070  \n",
            "20985     2.712714  \n",
            "\n",
            "[20986 rows x 6 columns]\n"
          ]
        },
        {
          "name": "stderr",
          "output_type": "stream",
          "text": [
            "d:\\work\\conda\\nn_310\\lib\\site-packages\\sklearn\\metrics\\_regression.py:492: FutureWarning: 'squared' is deprecated in version 1.4 and will be removed in 1.6. To calculate the root mean squared error, use the function'root_mean_squared_error'.\n",
            "  warnings.warn(\n",
            "C:\\Users\\dalje\\AppData\\Local\\Temp\\ipykernel_20604\\1490988916.py:37: FutureWarning: You are using `torch.load` with `weights_only=False` (the current default value), which uses the default pickle module implicitly. It is possible to construct malicious pickle data which will execute arbitrary code during unpickling (See https://github.com/pytorch/pytorch/blob/main/SECURITY.md#untrusted-models for more details). In a future release, the default value for `weights_only` will be flipped to `True`. This limits the functions that could be executed during unpickling. Arbitrary objects will no longer be allowed to be loaded via this mode unless they are explicitly allowlisted by the user via `torch.serialization.add_safe_globals`. We recommend you start setting `weights_only=True` for any use case where you don't have full control of the loaded file. Please open an issue on GitHub for any issues related to this experimental feature.\n",
            "  model.load_state_dict(torch.load(f'saved_models/{selected_cols[target_index+1]}_{type(model_type).__name__}_model.pth'))\n"
          ]
        },
        {
          "name": "stdout",
          "output_type": "stream",
          "text": [
            "       Observed_0  Predicted_0  Observed_1  Predicted_1  Observed_2  \\\n",
            "0         3.03390     3.824085    0.498762     0.484318     3.89562   \n",
            "1         2.21883     4.577974    0.162431     0.161983     7.08420   \n",
            "2         3.42129     2.198584    0.547589     0.507206     6.47881   \n",
            "3         6.54626     5.651527    0.308542     0.325894     5.39737   \n",
            "4         2.70455     1.726750    0.572807     0.594937    11.06172   \n",
            "...           ...          ...         ...          ...         ...   \n",
            "20981     5.82050     5.444175    0.342817     0.365858     6.03192   \n",
            "20982     2.90117     2.319813    0.485546     0.463759     3.37806   \n",
            "20983     3.06542     3.316987    0.210382     0.199105    11.38933   \n",
            "20984     2.26019     2.264390    0.336572     0.321267     1.31823   \n",
            "20985     1.91199     2.267551    0.211747     0.204855     2.01098   \n",
            "\n",
            "       Predicted_2  Observed_3  Predicted_3  \n",
            "0         3.822650    0.539819     0.440756  \n",
            "1         7.219866    0.167412     0.279595  \n",
            "2         5.779371    0.230738     0.282304  \n",
            "3         6.959018    0.224057     0.241091  \n",
            "4        10.715141    0.320514     0.302650  \n",
            "...            ...         ...          ...  \n",
            "20981     5.503481    0.272400     0.261909  \n",
            "20982     2.035220    0.799613     0.773415  \n",
            "20983    10.704143    0.258621     0.202078  \n",
            "20984     1.113070    0.361187     0.311927  \n",
            "20985     2.712714    0.761356     0.625518  \n",
            "\n",
            "[20986 rows x 8 columns]\n"
          ]
        },
        {
          "name": "stderr",
          "output_type": "stream",
          "text": [
            "d:\\work\\conda\\nn_310\\lib\\site-packages\\sklearn\\metrics\\_regression.py:492: FutureWarning: 'squared' is deprecated in version 1.4 and will be removed in 1.6. To calculate the root mean squared error, use the function'root_mean_squared_error'.\n",
            "  warnings.warn(\n",
            "C:\\Users\\dalje\\AppData\\Local\\Temp\\ipykernel_20604\\1490988916.py:37: FutureWarning: You are using `torch.load` with `weights_only=False` (the current default value), which uses the default pickle module implicitly. It is possible to construct malicious pickle data which will execute arbitrary code during unpickling (See https://github.com/pytorch/pytorch/blob/main/SECURITY.md#untrusted-models for more details). In a future release, the default value for `weights_only` will be flipped to `True`. This limits the functions that could be executed during unpickling. Arbitrary objects will no longer be allowed to be loaded via this mode unless they are explicitly allowlisted by the user via `torch.serialization.add_safe_globals`. We recommend you start setting `weights_only=True` for any use case where you don't have full control of the loaded file. Please open an issue on GitHub for any issues related to this experimental feature.\n",
            "  model.load_state_dict(torch.load(f'saved_models/{selected_cols[target_index+1]}_{type(model_type).__name__}_model.pth'))\n"
          ]
        },
        {
          "name": "stdout",
          "output_type": "stream",
          "text": [
            "       Observed_0  Predicted_0  Observed_1  Predicted_1  Observed_2  \\\n",
            "0         3.03390     3.824085    0.498762     0.484318     3.89562   \n",
            "1         2.21883     4.577974    0.162431     0.161983     7.08420   \n",
            "2         3.42129     2.198584    0.547589     0.507206     6.47881   \n",
            "3         6.54626     5.651527    0.308542     0.325894     5.39737   \n",
            "4         2.70455     1.726750    0.572807     0.594937    11.06172   \n",
            "...           ...          ...         ...          ...         ...   \n",
            "20981     5.82050     5.444175    0.342817     0.365858     6.03192   \n",
            "20982     2.90117     2.319813    0.485546     0.463759     3.37806   \n",
            "20983     3.06542     3.316987    0.210382     0.199105    11.38933   \n",
            "20984     2.26019     2.264390    0.336572     0.321267     1.31823   \n",
            "20985     1.91199     2.267551    0.211747     0.204855     2.01098   \n",
            "\n",
            "       Predicted_2  Observed_3  Predicted_3  \n",
            "0         3.822650    0.539819     0.506576  \n",
            "1         7.219866    0.167412     0.228821  \n",
            "2         5.779371    0.230738     0.301727  \n",
            "3         6.959018    0.224057     0.223169  \n",
            "4        10.715141    0.320514     0.315335  \n",
            "...            ...         ...          ...  \n",
            "20981     5.503481    0.272400     0.294114  \n",
            "20982     2.035220    0.799613     0.835041  \n",
            "20983    10.704143    0.258621     0.252239  \n",
            "20984     1.113070    0.361187     0.382581  \n",
            "20985     2.712714    0.761356     0.674781  \n",
            "\n",
            "[20986 rows x 8 columns]\n"
          ]
        },
        {
          "name": "stderr",
          "output_type": "stream",
          "text": [
            "d:\\work\\conda\\nn_310\\lib\\site-packages\\sklearn\\metrics\\_regression.py:492: FutureWarning: 'squared' is deprecated in version 1.4 and will be removed in 1.6. To calculate the root mean squared error, use the function'root_mean_squared_error'.\n",
            "  warnings.warn(\n",
            "C:\\Users\\dalje\\AppData\\Local\\Temp\\ipykernel_20604\\1490988916.py:37: FutureWarning: You are using `torch.load` with `weights_only=False` (the current default value), which uses the default pickle module implicitly. It is possible to construct malicious pickle data which will execute arbitrary code during unpickling (See https://github.com/pytorch/pytorch/blob/main/SECURITY.md#untrusted-models for more details). In a future release, the default value for `weights_only` will be flipped to `True`. This limits the functions that could be executed during unpickling. Arbitrary objects will no longer be allowed to be loaded via this mode unless they are explicitly allowlisted by the user via `torch.serialization.add_safe_globals`. We recommend you start setting `weights_only=True` for any use case where you don't have full control of the loaded file. Please open an issue on GitHub for any issues related to this experimental feature.\n",
            "  model.load_state_dict(torch.load(f'saved_models/{selected_cols[target_index+1]}_{type(model_type).__name__}_model.pth'))\n"
          ]
        },
        {
          "name": "stdout",
          "output_type": "stream",
          "text": [
            "       Observed_0  Predicted_0  Observed_1  Predicted_1  Observed_2  \\\n",
            "0         3.03390     3.824085    0.498762     0.484318     3.89562   \n",
            "1         2.21883     4.577974    0.162431     0.161983     7.08420   \n",
            "2         3.42129     2.198584    0.547589     0.507206     6.47881   \n",
            "3         6.54626     5.651527    0.308542     0.325894     5.39737   \n",
            "4         2.70455     1.726750    0.572807     0.594937    11.06172   \n",
            "...           ...          ...         ...          ...         ...   \n",
            "20981     5.82050     5.444175    0.342817     0.365858     6.03192   \n",
            "20982     2.90117     2.319813    0.485546     0.463759     3.37806   \n",
            "20983     3.06542     3.316987    0.210382     0.199105    11.38933   \n",
            "20984     2.26019     2.264390    0.336572     0.321267     1.31823   \n",
            "20985     1.91199     2.267551    0.211747     0.204855     2.01098   \n",
            "\n",
            "       Predicted_2  Observed_3  Predicted_3  \n",
            "0         3.822650    0.539819     0.549443  \n",
            "1         7.219866    0.167412     0.230315  \n",
            "2         5.779371    0.230738     0.280901  \n",
            "3         6.959018    0.224057     0.255003  \n",
            "4        10.715141    0.320514     0.301358  \n",
            "...            ...         ...          ...  \n",
            "20981     5.503481    0.272400     0.268717  \n",
            "20982     2.035220    0.799613     0.808087  \n",
            "20983    10.704143    0.258621     0.229081  \n",
            "20984     1.113070    0.361187     0.322214  \n",
            "20985     2.712714    0.761356     0.717833  \n",
            "\n",
            "[20986 rows x 8 columns]\n"
          ]
        },
        {
          "name": "stderr",
          "output_type": "stream",
          "text": [
            "d:\\work\\conda\\nn_310\\lib\\site-packages\\sklearn\\metrics\\_regression.py:492: FutureWarning: 'squared' is deprecated in version 1.4 and will be removed in 1.6. To calculate the root mean squared error, use the function'root_mean_squared_error'.\n",
            "  warnings.warn(\n",
            "C:\\Users\\dalje\\AppData\\Local\\Temp\\ipykernel_20604\\1490988916.py:37: FutureWarning: You are using `torch.load` with `weights_only=False` (the current default value), which uses the default pickle module implicitly. It is possible to construct malicious pickle data which will execute arbitrary code during unpickling (See https://github.com/pytorch/pytorch/blob/main/SECURITY.md#untrusted-models for more details). In a future release, the default value for `weights_only` will be flipped to `True`. This limits the functions that could be executed during unpickling. Arbitrary objects will no longer be allowed to be loaded via this mode unless they are explicitly allowlisted by the user via `torch.serialization.add_safe_globals`. We recommend you start setting `weights_only=True` for any use case where you don't have full control of the loaded file. Please open an issue on GitHub for any issues related to this experimental feature.\n",
            "  model.load_state_dict(torch.load(f'saved_models/{selected_cols[target_index+1]}_{type(model_type).__name__}_model.pth'))\n"
          ]
        },
        {
          "name": "stdout",
          "output_type": "stream",
          "text": [
            "       Observed_0  Predicted_0  Observed_1  Predicted_1  Observed_2  \\\n",
            "0         3.03390     3.824085    0.498762     0.484318     3.89562   \n",
            "1         2.21883     4.577974    0.162431     0.161983     7.08420   \n",
            "2         3.42129     2.198584    0.547589     0.507206     6.47881   \n",
            "3         6.54626     5.651527    0.308542     0.325894     5.39737   \n",
            "4         2.70455     1.726750    0.572807     0.594937    11.06172   \n",
            "...           ...          ...         ...          ...         ...   \n",
            "20981     5.82050     5.444175    0.342817     0.365858     6.03192   \n",
            "20982     2.90117     2.319813    0.485546     0.463759     3.37806   \n",
            "20983     3.06542     3.316987    0.210382     0.199105    11.38933   \n",
            "20984     2.26019     2.264390    0.336572     0.321267     1.31823   \n",
            "20985     1.91199     2.267551    0.211747     0.204855     2.01098   \n",
            "\n",
            "       Predicted_2  Observed_3  Predicted_3  Observed_4  Predicted_4  \n",
            "0         3.822650    0.539819     0.549443    11.33621     9.486763  \n",
            "1         7.219866    0.167412     0.230315     4.03611     6.033480  \n",
            "2         5.779371    0.230738     0.280901     4.64459     3.751405  \n",
            "3         6.959018    0.224057     0.255003     5.63700     5.533430  \n",
            "4        10.715141    0.320514     0.301358     1.50241     3.717725  \n",
            "...            ...         ...          ...         ...          ...  \n",
            "20981     5.503481    0.272400     0.268717    11.18695    10.685822  \n",
            "20982     2.035220    0.799613     0.808087     5.55618     3.874029  \n",
            "20983    10.704143    0.258621     0.229081     5.29701     4.756196  \n",
            "20984     1.113070    0.361187     0.322214     9.96006     9.851493  \n",
            "20985     2.712714    0.761356     0.717833     5.49243     8.839032  \n",
            "\n",
            "[20986 rows x 10 columns]\n"
          ]
        },
        {
          "name": "stderr",
          "output_type": "stream",
          "text": [
            "d:\\work\\conda\\nn_310\\lib\\site-packages\\sklearn\\metrics\\_regression.py:492: FutureWarning: 'squared' is deprecated in version 1.4 and will be removed in 1.6. To calculate the root mean squared error, use the function'root_mean_squared_error'.\n",
            "  warnings.warn(\n",
            "C:\\Users\\dalje\\AppData\\Local\\Temp\\ipykernel_20604\\1490988916.py:37: FutureWarning: You are using `torch.load` with `weights_only=False` (the current default value), which uses the default pickle module implicitly. It is possible to construct malicious pickle data which will execute arbitrary code during unpickling (See https://github.com/pytorch/pytorch/blob/main/SECURITY.md#untrusted-models for more details). In a future release, the default value for `weights_only` will be flipped to `True`. This limits the functions that could be executed during unpickling. Arbitrary objects will no longer be allowed to be loaded via this mode unless they are explicitly allowlisted by the user via `torch.serialization.add_safe_globals`. We recommend you start setting `weights_only=True` for any use case where you don't have full control of the loaded file. Please open an issue on GitHub for any issues related to this experimental feature.\n",
            "  model.load_state_dict(torch.load(f'saved_models/{selected_cols[target_index+1]}_{type(model_type).__name__}_model.pth'))\n"
          ]
        },
        {
          "name": "stdout",
          "output_type": "stream",
          "text": [
            "       Observed_0  Predicted_0  Observed_1  Predicted_1  Observed_2  \\\n",
            "0         3.03390     3.824085    0.498762     0.484318     3.89562   \n",
            "1         2.21883     4.577974    0.162431     0.161983     7.08420   \n",
            "2         3.42129     2.198584    0.547589     0.507206     6.47881   \n",
            "3         6.54626     5.651527    0.308542     0.325894     5.39737   \n",
            "4         2.70455     1.726750    0.572807     0.594937    11.06172   \n",
            "...           ...          ...         ...          ...         ...   \n",
            "20981     5.82050     5.444175    0.342817     0.365858     6.03192   \n",
            "20982     2.90117     2.319813    0.485546     0.463759     3.37806   \n",
            "20983     3.06542     3.316987    0.210382     0.199105    11.38933   \n",
            "20984     2.26019     2.264390    0.336572     0.321267     1.31823   \n",
            "20985     1.91199     2.267551    0.211747     0.204855     2.01098   \n",
            "\n",
            "       Predicted_2  Observed_3  Predicted_3  Observed_4  Predicted_4  \n",
            "0         3.822650    0.539819     0.549443    11.33621     9.425328  \n",
            "1         7.219866    0.167412     0.230315     4.03611     5.771716  \n",
            "2         5.779371    0.230738     0.280901     4.64459     3.820457  \n",
            "3         6.959018    0.224057     0.255003     5.63700     6.595795  \n",
            "4        10.715141    0.320514     0.301358     1.50241     3.331730  \n",
            "...            ...         ...          ...         ...          ...  \n",
            "20981     5.503481    0.272400     0.268717    11.18695    11.818060  \n",
            "20982     2.035220    0.799613     0.808087     5.55618     4.907777  \n",
            "20983    10.704143    0.258621     0.229081     5.29701     4.248154  \n",
            "20984     1.113070    0.361187     0.322214     9.96006    10.309256  \n",
            "20985     2.712714    0.761356     0.717833     5.49243     6.651798  \n",
            "\n",
            "[20986 rows x 10 columns]\n"
          ]
        },
        {
          "name": "stderr",
          "output_type": "stream",
          "text": [
            "d:\\work\\conda\\nn_310\\lib\\site-packages\\sklearn\\metrics\\_regression.py:492: FutureWarning: 'squared' is deprecated in version 1.4 and will be removed in 1.6. To calculate the root mean squared error, use the function'root_mean_squared_error'.\n",
            "  warnings.warn(\n",
            "C:\\Users\\dalje\\AppData\\Local\\Temp\\ipykernel_20604\\1490988916.py:37: FutureWarning: You are using `torch.load` with `weights_only=False` (the current default value), which uses the default pickle module implicitly. It is possible to construct malicious pickle data which will execute arbitrary code during unpickling (See https://github.com/pytorch/pytorch/blob/main/SECURITY.md#untrusted-models for more details). In a future release, the default value for `weights_only` will be flipped to `True`. This limits the functions that could be executed during unpickling. Arbitrary objects will no longer be allowed to be loaded via this mode unless they are explicitly allowlisted by the user via `torch.serialization.add_safe_globals`. We recommend you start setting `weights_only=True` for any use case where you don't have full control of the loaded file. Please open an issue on GitHub for any issues related to this experimental feature.\n",
            "  model.load_state_dict(torch.load(f'saved_models/{selected_cols[target_index+1]}_{type(model_type).__name__}_model.pth'))\n"
          ]
        },
        {
          "name": "stdout",
          "output_type": "stream",
          "text": [
            "       Observed_0  Predicted_0  Observed_1  Predicted_1  Observed_2  \\\n",
            "0         3.03390     3.824085    0.498762     0.484318     3.89562   \n",
            "1         2.21883     4.577974    0.162431     0.161983     7.08420   \n",
            "2         3.42129     2.198584    0.547589     0.507206     6.47881   \n",
            "3         6.54626     5.651527    0.308542     0.325894     5.39737   \n",
            "4         2.70455     1.726750    0.572807     0.594937    11.06172   \n",
            "...           ...          ...         ...          ...         ...   \n",
            "20981     5.82050     5.444175    0.342817     0.365858     6.03192   \n",
            "20982     2.90117     2.319813    0.485546     0.463759     3.37806   \n",
            "20983     3.06542     3.316987    0.210382     0.199105    11.38933   \n",
            "20984     2.26019     2.264390    0.336572     0.321267     1.31823   \n",
            "20985     1.91199     2.267551    0.211747     0.204855     2.01098   \n",
            "\n",
            "       Predicted_2  Observed_3  Predicted_3  Observed_4  Predicted_4  \n",
            "0         3.822650    0.539819     0.549443    11.33621    10.534435  \n",
            "1         7.219866    0.167412     0.230315     4.03611     5.229314  \n",
            "2         5.779371    0.230738     0.280901     4.64459     4.751905  \n",
            "3         6.959018    0.224057     0.255003     5.63700     6.578437  \n",
            "4        10.715141    0.320514     0.301358     1.50241     3.409947  \n",
            "...            ...         ...          ...         ...          ...  \n",
            "20981     5.503481    0.272400     0.268717    11.18695    10.218698  \n",
            "20982     2.035220    0.799613     0.808087     5.55618     4.103364  \n",
            "20983    10.704143    0.258621     0.229081     5.29701     5.289881  \n",
            "20984     1.113070    0.361187     0.322214     9.96006    11.072113  \n",
            "20985     2.712714    0.761356     0.717833     5.49243     6.706033  \n",
            "\n",
            "[20986 rows x 10 columns]\n"
          ]
        },
        {
          "name": "stderr",
          "output_type": "stream",
          "text": [
            "d:\\work\\conda\\nn_310\\lib\\site-packages\\sklearn\\metrics\\_regression.py:492: FutureWarning: 'squared' is deprecated in version 1.4 and will be removed in 1.6. To calculate the root mean squared error, use the function'root_mean_squared_error'.\n",
            "  warnings.warn(\n"
          ]
        }
      ],
      "execution_count": null
    },
    {
      "cell_type": "code",
      "metadata": {
        "id": "uNp1a-3R2QjU"
      },
      "source": [
        "r2_scores, rmse_scores, mae_scores"
      ],
      "outputs": [],
      "execution_count": null
    },
    {
      "metadata": {
        "id": "6hqYkO8kAIUD"
      },
      "cell_type": "code",
      "source": [],
      "outputs": [],
      "execution_count": null
    }
  ],
  "metadata": {
    "accelerator": "GPU",
    "colab": {
      "gpuType": "T4",
      "provenance": [],
      "include_colab_link": true
    },
    "kernelspec": {
      "display_name": "Python 3 (ipykernel)",
      "language": "python",
      "name": "python3"
    },
    "language_info": {
      "codemirror_mode": {
        "name": "ipython",
        "version": 3
      },
      "file_extension": ".py",
      "mimetype": "text/x-python",
      "name": "python",
      "nbconvert_exporter": "python",
      "pygments_lexer": "ipython3",
      "version": "3.10.14"
    }
  },
  "nbformat": 4,
  "nbformat_minor": 0
}
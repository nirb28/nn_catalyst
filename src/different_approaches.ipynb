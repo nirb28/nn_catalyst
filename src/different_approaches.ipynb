{
 "cells": [
  {
   "cell_type": "code",
   "metadata": {
    "colab": {
     "base_uri": "https://localhost:8080/"
    },
    "id": "OYFVi5Gn2QjN",
    "outputId": "347f50fc-7c7d-49b8-f4ad-07173a03377c"
   },
   "source": [
    "import wandb, os, sys\n",
    "\n",
    "IN_COLAB = 'google.colab' in sys.modules\n",
    "if IN_COLAB:\n",
    "    print(\"Running in Colab!\")\n",
    "    from google.colab import drive\n",
    "    drive.mount('/content/drive', force_remount=False)\n",
    "    from google.colab import userdata\n",
    "    WANDB_KEY = userdata.get('WANDB_KEY')\n",
    "    wandb.login(key=WANDB_KEY)\n",
    "else:\n",
    "    print(\"Not running in Colab.\")\n",
    "\n",
    "def resolve_path_gdrive(relativePath):\n",
    "    if os.path.exists('/content/drive'):\n",
    "        return '/content/drive/MyDrive/work/gdrive-workspaces/git/nn_catalyst/' + relativePath\n",
    "    else:\n",
    "        from utils import get_project_root\n",
    "        return get_project_root() + \"/\" + relativePath\n",
    "\n",
    "wandb.init(project=\"nn_catalyst\")"
   ],
   "outputs": [],
   "execution_count": null
  },
  {
   "cell_type": "code",
   "metadata": {
    "id": "Ak7hhtSw2QjQ"
   },
   "source": [
    "import pandas as pd\n",
    "from sklearn.feature_selection import VarianceThreshold\n",
    "from sklearn.model_selection import train_test_split\n",
    "from sklearn.preprocessing import StandardScaler\n",
    "import torch\n",
    "import torch.nn as nn\n",
    "import torch.optim as optim\n",
    "from torch.utils.data import DataLoader, TensorDataset\n",
    "import numpy as np\n",
    "from sklearn.metrics import r2_score, mean_squared_error, mean_absolute_error\n",
    "import torch.nn.functional as F\n",
    "from torch.optim.lr_scheduler import ReduceLROnPlateau\n",
    "from torch.optim import AdamW\n",
    "\n",
    "# Load the data\n",
    "descriptors_path = 'descriptors.csv'\n",
    "targets_path = 'compiled_data.csv'"
   ],
   "outputs": [],
   "execution_count": null
  },
  {
   "cell_type": "code",
   "metadata": {
    "id": "L9Kr2K0S2QjQ"
   },
   "source": [
    "descriptors_df = pd.read_csv(resolve_path_gdrive(descriptors_path))\n",
    "targets_df = pd.read_csv(resolve_path_gdrive(targets_path))"
   ],
   "outputs": [],
   "execution_count": null
  },
  {
   "cell_type": "code",
   "metadata": {
    "colab": {
     "base_uri": "https://localhost:8080/"
    },
    "id": "tWWSEdLT2QjR",
    "outputId": "7ee59952-0fc1-4a2e-c3de-ede696d56716"
   },
   "source": [
    "# Show sample rows\n",
    "print(\"\\nSample Rows from Descriptors DataFrame:\")\n",
    "print(descriptors_df.head())\n",
    "print(\"\\nSample Rows from Targets DataFrame:\")\n",
    "print(targets_df.head())"
   ],
   "outputs": [],
   "execution_count": null
  },
  {
   "cell_type": "code",
   "metadata": {
    "colab": {
     "base_uri": "https://localhost:8080/"
    },
    "id": "6vJxB6lh2QjR",
    "outputId": "75447caf-118b-4f5a-a4ad-feb2e13c1f35"
   },
   "source": [
    "# selected column\n",
    "selected_cols=[5, 14, 15, 24, 25]\n",
    "number_of_target_cols = len(selected_cols)\n",
    "selected_cols.insert(0, 0)\n",
    "targets_df = targets_df.iloc[:, selected_cols]\n",
    "print(targets_df)\n",
    "device = torch.device('cuda' if torch.cuda.is_available() else 'cpu')\n",
    "print(device)\n",
    "wandb.log({\"target cols\": selected_cols})"
   ],
   "outputs": [],
   "execution_count": null
  },
  {
   "cell_type": "code",
   "metadata": {
    "id": "vY4vLqXb2QjR",
    "ExecuteTime": {
     "end_time": "2024-09-22T00:07:48.094414Z",
     "start_time": "2024-09-22T00:07:47.765137Z"
    }
   },
   "source": [
    "# Keep only numeric columns\n",
    "descriptors_numeric = descriptors_df.select_dtypes(include=['number'])\n",
    "targets_numeric = targets_df.select_dtypes(include=['number'])\n",
    "\n",
    "# Merge the numeric dataframes on the common label column\n",
    "numeric_data = pd.merge(descriptors_numeric, targets_numeric, left_on='Label', right_on='mol_num')\n",
    "numeric_data = numeric_data.drop(columns=['Label', 'mol_num'])\n",
    "\n",
    "# Separate features and targets\n",
    "X = numeric_data.iloc[:, :-number_of_target_cols]  # Assuming the last 30 columns are targets\n",
    "y = numeric_data.iloc[:, -number_of_target_cols:]"
   ],
   "outputs": [],
   "execution_count": 20
  },
  {
   "cell_type": "code",
   "metadata": {
    "id": "APUS1Jw32QjS",
    "ExecuteTime": {
     "end_time": "2024-09-22T00:08:06.570664Z",
     "start_time": "2024-09-22T00:08:05.219444Z"
    }
   },
   "source": [
    "# Apply variance threshold\n",
    "selector = VarianceThreshold()\n",
    "X_high_variance = selector.fit_transform(X)\n",
    "\n",
    "# Convert to numpy arrays\n",
    "X = X_high_variance\n",
    "y = y.values\n",
    "\n",
    "# Split the data into training, validation, and test sets\n",
    "X_train, X_temp, y_train, y_temp = train_test_split(X, y, test_size=0.2, random_state=42)\n",
    "X_val, X_test, y_val, y_test = train_test_split(X_temp, y_temp, test_size=0.5, random_state=42)\n",
    "\n",
    "# Standardize the data\n",
    "scaler_X = StandardScaler().fit(X_train)\n",
    "scaler_y = StandardScaler().fit(y_train)\n",
    "\n",
    "X_train = scaler_X.transform(X_train)\n",
    "X_val = scaler_X.transform(X_val)\n",
    "X_test = scaler_X.transform(X_test)\n",
    "\n",
    "y_train = scaler_y.transform(y_train)\n",
    "y_val = scaler_y.transform(y_val)\n",
    "y_test = scaler_y.transform(y_test)\n",
    "\n",
    "# Convert the data to PyTorch tensors\n",
    "X_train_tensor = torch.tensor(X_train, dtype=torch.float32, device=device)\n",
    "y_train_tensor = torch.tensor(y_train, dtype=torch.float32, device=device)\n",
    "X_val_tensor = torch.tensor(X_val, dtype=torch.float32, device=device)\n",
    "y_val_tensor = torch.tensor(y_val, dtype=torch.float32, device=device)\n",
    "X_test_tensor = torch.tensor(X_test, dtype=torch.float32, device=device)\n",
    "y_test_tensor = torch.tensor(y_test, dtype=torch.float32, device=device)"
   ],
   "outputs": [],
   "execution_count": 21
  },
  {
   "cell_type": "code",
   "metadata": {
    "id": "MQGGaGmq2QjS",
    "ExecuteTime": {
     "end_time": "2024-09-22T00:08:11.148453Z",
     "start_time": "2024-09-22T00:08:11.134507Z"
    }
   },
   "source": [
    "# Create DataLoader for batch processing\n",
    "train_dataset = TensorDataset(X_train_tensor, y_train_tensor)\n",
    "val_dataset = TensorDataset(X_val_tensor, y_val_tensor)\n",
    "test_dataset = TensorDataset(X_test_tensor, y_test_tensor)\n",
    "\n",
    "train_loader = DataLoader(train_dataset, batch_size=32, shuffle=True)\n",
    "val_loader = DataLoader(val_dataset, batch_size=32, shuffle=False)\n",
    "test_loader = DataLoader(test_dataset, batch_size=32, shuffle=False)\n",
    "\n",
    "# Define the individual model class\n",
    "class SingleTargetNet(nn.Module):\n",
    "    def __init__(self, input_size, dropout_rate=0.5):\n",
    "        super(SingleTargetNet, self).__init__()\n",
    "        self.fc1 = nn.Linear(input_size, 1024)\n",
    "        self.bn1 = nn.BatchNorm1d(1024)\n",
    "        self.fc2 = nn.Linear(1024, 512)\n",
    "        self.bn2 = nn.BatchNorm1d(512)\n",
    "        self.fc3 = nn.Linear(512, 1)\n",
    "        self.fc_skip = nn.Linear(1024, 512)\n",
    "        self.dropout = nn.Dropout(dropout_rate)\n",
    "\n",
    "    def forward(self, x):\n",
    "        x1 = F.relu(self.bn1(self.fc1(x)))\n",
    "        x1 = self.dropout(x1)\n",
    "\n",
    "        x2 = F.relu(self.bn2(self.fc2(x1)))\n",
    "        x2 = self.dropout(x2)\n",
    "\n",
    "        # Skip connection\n",
    "        x2 += self.fc_skip(x1)\n",
    "\n",
    "        x3 = self.fc3(x2)\n",
    "        return x3\n",
    "\n",
    "def get_target5model():\n",
    "    # Define the model\n",
    "    model = nn.Sequential(\n",
    "        nn.Linear(X_train.shape[1], 1024),\n",
    "        nn.LeakyReLU(),\n",
    "        nn.Linear(1024, 512),\n",
    "        nn.LeakyReLU(),\n",
    "        nn.Linear(512, 256),\n",
    "        nn.LeakyReLU(),\n",
    "        nn.Linear(256, 1)\n",
    "    )\n",
    "    return model\n",
    "\n",
    "class RegressionNetwork(nn.Module):\n",
    "    def __init__(self, input_dim, hidden_dim, output_dim):\n",
    "        super(RegressionNetwork, self).__init__()\n",
    "        self.fc1 = nn.Linear(input_dim, hidden_dim)\n",
    "        self.bn1 = nn.BatchNorm1d(hidden_dim)\n",
    "        self.relu = nn.LeakyReLU()\n",
    "        self.dropout = nn.Dropout(0.1)\n",
    "        self.fc2 = nn.Linear(hidden_dim, hidden_dim)\n",
    "        self.bn2 = nn.BatchNorm1d(hidden_dim)\n",
    "        self.fc3 = nn.Linear(hidden_dim, output_dim)\n",
    "\n",
    "    def forward(self, x):\n",
    "        out = self.fc1(x)\n",
    "        out = self.bn1(out)\n",
    "        out = self.relu(out)\n",
    "        out = self.dropout(out)\n",
    "        out = self.fc2(out)\n",
    "        out = self.bn2(out)\n",
    "        out = self.relu(out)\n",
    "        out = self.fc3(out)\n",
    "        return out"
   ],
   "outputs": [],
   "execution_count": 22
  },
  {
   "cell_type": "code",
   "metadata": {
    "id": "wMcKunc12QjS",
    "ExecuteTime": {
     "end_time": "2024-09-22T00:08:38.960526Z",
     "start_time": "2024-09-22T00:08:38.947074Z"
    }
   },
   "source": [
    "# Function to train and evaluate individual models\n",
    "def train_and_evaluate(target_index, model):\n",
    "    model.to(device=device)\n",
    "    criterion = nn.MSELoss()\n",
    "    optimizer = AdamW(model.parameters(), lr=0.001)\n",
    "    scheduler = ReduceLROnPlateau(optimizer, mode='min', factor=0.1, patience=10, verbose=True)\n",
    "\n",
    "    best_val_loss = np.inf\n",
    "    patience_counter = 0\n",
    "    num_epochs = 150\n",
    "\n",
    "    for epoch in range(num_epochs):\n",
    "        model.train()\n",
    "        running_loss = 0.0\n",
    "        for inputs, targets in train_loader:\n",
    "            optimizer.zero_grad()\n",
    "            outputs = model(inputs).squeeze()\n",
    "            loss = criterion(outputs, targets[:, target_index])\n",
    "            loss.backward()\n",
    "            optimizer.step()\n",
    "            running_loss += loss.item()\n",
    "        print(f'Target {target_index} - Epoch {epoch+1}/{num_epochs}, Loss: {running_loss/len(train_loader)}')\n",
    "\n",
    "        model.eval()\n",
    "        val_loss = 0.0\n",
    "        with torch.no_grad():\n",
    "            for inputs, targets in val_loader:\n",
    "                outputs = model(inputs).squeeze()\n",
    "                loss = criterion(outputs, targets[:, target_index])\n",
    "                val_loss += loss.item()\n",
    "        val_loss /= len(val_loader)\n",
    "        print(f'Target {target_index} - Validation Loss: {val_loss}')\n",
    "\n",
    "        scheduler.step(val_loss)\n",
    "\n",
    "        if val_loss < best_val_loss:\n",
    "            best_val_loss = val_loss\n",
    "            patience_counter = 0\n",
    "            torch.save(model.state_dict(), f'saved_models/{selected_cols[target_index+1]}_{type(model).__name__}_model.pth')\n",
    "        else:\n",
    "            patience_counter += 1\n",
    "            if patience_counter >= 15:\n",
    "                print(f'Target {target_index} - Early stopping triggered')\n",
    "                break\n",
    "\n",
    "    model.load_state_dict(torch.load(f'saved_models/{selected_cols[target_index+1]}_{type(model).__name__}_model.pth'))\n",
    "\n",
    "    model.eval()\n",
    "    test_loss = 0.0\n",
    "    with torch.no_grad():\n",
    "        for inputs, targets in test_loader:\n",
    "            outputs = model(inputs).squeeze()\n",
    "            loss = criterion(outputs, targets[:, target_index])\n",
    "            test_loss += loss.item()\n",
    "    test_loss /= len(test_loader)\n",
    "    print(f'Target {target_index} - Test Loss: {test_loss}')\n",
    "    \n",
    "    return model, test_loss"
   ],
   "outputs": [],
   "execution_count": 23
  },
  {
   "cell_type": "code",
   "metadata": {
    "colab": {
     "base_uri": "https://localhost:8080/"
    },
    "id": "6NN-lXmV2QjT",
    "outputId": "1c229e9b-964e-4465-b38e-5e1070a077d3",
    "ExecuteTime": {
     "end_time": "2024-09-22T00:08:40.316889Z",
     "start_time": "2024-09-22T00:08:40.309561Z"
    }
   },
   "source": [
    "# Train and evaluate individual models for each target\n",
    "test_losses = []\n",
    "models = []\n",
    "try_models = [SingleTargetNet(X_train.shape[1]), RegressionNetwork(X_train.shape[1], 512, 1), get_target5model()]\n",
    "\n",
    "for target_index in range(y_train.shape[1]):\n",
    "    for a_model in try_models:\n",
    "        model, test_loss = train_and_evaluate(target_index, a_model)\n",
    "        models.append(model)\n",
    "        test_losses.append(test_loss)"
   ],
   "outputs": [
    {
     "ename": "SyntaxError",
     "evalue": "incomplete input (3501983771.py, line 10)",
     "output_type": "error",
     "traceback": [
      "\u001B[1;36m  Cell \u001B[1;32mIn[24], line 10\u001B[1;36m\u001B[0m\n\u001B[1;33m    #test_losses.append(test_loss)\u001B[0m\n\u001B[1;37m                                  ^\u001B[0m\n\u001B[1;31mSyntaxError\u001B[0m\u001B[1;31m:\u001B[0m incomplete input\n"
     ]
    }
   ],
   "execution_count": 24
  },
  {
   "cell_type": "code",
   "metadata": {
    "colab": {
     "base_uri": "https://localhost:8080/"
    },
    "id": "ACMqmYbr2QjT",
    "outputId": "7c51250b-4448-4bc1-dbd0-043082df634b",
    "ExecuteTime": {
     "end_time": "2024-09-22T00:08:44.106307Z",
     "start_time": "2024-09-22T00:08:44.092802Z"
    }
   },
   "source": [
    "# Prepare DataFrames for train, validation, and test predictions\n",
    "train_df = pd.DataFrame()\n",
    "val_df = pd.DataFrame()\n",
    "test_df = pd.DataFrame()\n",
    "\n",
    "r2_scores, rmse_scores, mae_scores = [], [], []\n",
    "\n",
    "def compute_stats(target_index, df):\n",
    "    print(df)\n",
    "    observed_col = f'Observed_{target_index}'\n",
    "    predicted_col = f'Predicted_{target_index}'\n",
    "\n",
    "    # Calculate metrics\n",
    "    observed = df[observed_col]\n",
    "    predicted = df[predicted_col]\n",
    "    r2 = r2_score(observed, predicted)\n",
    "    rmse = mean_squared_error(observed, predicted, squared=False)\n",
    "    mae = mean_absolute_error(observed, predicted)\n",
    "    return r2, rmse, mae"
   ],
   "outputs": [],
   "execution_count": 25
  },
  {
   "metadata": {
    "ExecuteTime": {
     "end_time": "2024-09-22T00:08:54.693833Z",
     "start_time": "2024-09-22T00:08:47.796939Z"
    }
   },
   "cell_type": "code",
   "source": [
    "def evaluate(target_index, model):\n",
    "    # Make predictions on the train, validation, and test sets\n",
    "    model.cpu().eval()\n",
    "    with torch.no_grad():\n",
    "        y_train_pred = model(X_train_tensor.cpu()).numpy()\n",
    "        y_val_pred = model(X_val_tensor.cpu()).numpy()\n",
    "        y_test_pred = model(X_test_tensor.cpu()).numpy()\n",
    "\n",
    "    # Inverse transform the predictions and targets to their original scale\n",
    "    y_train_pred_orig = scaler_y.inverse_transform(np.concatenate([np.zeros((y_train_pred.shape[0], target_index)), y_train_pred, np.zeros((y_train_pred.shape[0], y_train.shape[1] - target_index - 1))], axis=1))[:, target_index]\n",
    "    y_val_pred_orig = scaler_y.inverse_transform(np.concatenate([np.zeros((y_val_pred.shape[0], target_index)), y_val_pred, np.zeros((y_val_pred.shape[0], y_val.shape[1] - target_index - 1))], axis=1))[:, target_index]\n",
    "    y_test_pred_orig = scaler_y.inverse_transform(np.concatenate([np.zeros((y_test_pred.shape[0], target_index)), y_test_pred, np.zeros((y_test_pred.shape[0], y_test.shape[1] - target_index - 1))], axis=1))[:, target_index]\n",
    "\n",
    "    y_train_orig = scaler_y.inverse_transform(y_train)[:, target_index]\n",
    "    y_val_orig = scaler_y.inverse_transform(y_val)[:, target_index]\n",
    "    y_test_orig = scaler_y.inverse_transform(y_test)[:, target_index]\n",
    "\n",
    "    # Create dataframes for the predictions and actual values\n",
    "    train_df[f'Observed_{target_index}'] = y_train_orig\n",
    "    train_df[f'Predicted_{target_index}'] = y_train_pred_orig\n",
    "\n",
    "    val_df[f'Observed_{target_index}'] = y_val_orig\n",
    "    val_df[f'Predicted_{target_index}'] = y_val_pred_orig\n",
    "\n",
    "    test_df[f'Observed_{target_index}'] = y_test_orig\n",
    "    test_df[f'Predicted_{target_index}'] = y_test_pred_orig\n",
    "\n",
    "    # Create and insert parity plots for train, validation, and test sets\n",
    "    r2, rmse, mae = compute_stats(target_index, train_df)\n",
    "    r2_scores.append(r2)\n",
    "    rmse_scores.append(rmse)\n",
    "    mae_scores.append(mae)\n",
    "    \n",
    "for target_index in range(y_train.shape[1]):\n",
    "    for model_type in try_models:\n",
    "        model = model_type\n",
    "        model.load_state_dict(torch.load(f'saved_models/{selected_cols[target_index+1]}_{type(model_type).__name__}_model.pth'))\n",
    "        evaluate(target_index, model)\n"
   ],
   "outputs": [
    {
     "name": "stderr",
     "output_type": "stream",
     "text": [
      "C:\\Users\\dalje\\AppData\\Local\\Temp\\ipykernel_20604\\1490988916.py:37: FutureWarning: You are using `torch.load` with `weights_only=False` (the current default value), which uses the default pickle module implicitly. It is possible to construct malicious pickle data which will execute arbitrary code during unpickling (See https://github.com/pytorch/pytorch/blob/main/SECURITY.md#untrusted-models for more details). In a future release, the default value for `weights_only` will be flipped to `True`. This limits the functions that could be executed during unpickling. Arbitrary objects will no longer be allowed to be loaded via this mode unless they are explicitly allowlisted by the user via `torch.serialization.add_safe_globals`. We recommend you start setting `weights_only=True` for any use case where you don't have full control of the loaded file. Please open an issue on GitHub for any issues related to this experimental feature.\n",
      "  model.load_state_dict(torch.load(f'saved_models/{selected_cols[target_index+1]}_{type(model_type).__name__}_model.pth'))\n"
     ]
    },
    {
     "name": "stdout",
     "output_type": "stream",
     "text": [
      "       Observed_0  Predicted_0\n",
      "0         3.03390     3.133207\n",
      "1         2.21883     4.118872\n",
      "2         3.42129     1.926924\n",
      "3         6.54626     5.892724\n",
      "4         2.70455     1.972907\n",
      "...           ...          ...\n",
      "20981     5.82050     5.541566\n",
      "20982     2.90117     1.944907\n",
      "20983     3.06542     2.879624\n",
      "20984     2.26019     2.265115\n",
      "20985     1.91199     2.678473\n",
      "\n",
      "[20986 rows x 2 columns]\n"
     ]
    },
    {
     "name": "stderr",
     "output_type": "stream",
     "text": [
      "d:\\work\\conda\\nn_310\\lib\\site-packages\\sklearn\\metrics\\_regression.py:492: FutureWarning: 'squared' is deprecated in version 1.4 and will be removed in 1.6. To calculate the root mean squared error, use the function'root_mean_squared_error'.\n",
      "  warnings.warn(\n",
      "C:\\Users\\dalje\\AppData\\Local\\Temp\\ipykernel_20604\\1490988916.py:37: FutureWarning: You are using `torch.load` with `weights_only=False` (the current default value), which uses the default pickle module implicitly. It is possible to construct malicious pickle data which will execute arbitrary code during unpickling (See https://github.com/pytorch/pytorch/blob/main/SECURITY.md#untrusted-models for more details). In a future release, the default value for `weights_only` will be flipped to `True`. This limits the functions that could be executed during unpickling. Arbitrary objects will no longer be allowed to be loaded via this mode unless they are explicitly allowlisted by the user via `torch.serialization.add_safe_globals`. We recommend you start setting `weights_only=True` for any use case where you don't have full control of the loaded file. Please open an issue on GitHub for any issues related to this experimental feature.\n",
      "  model.load_state_dict(torch.load(f'saved_models/{selected_cols[target_index+1]}_{type(model_type).__name__}_model.pth'))\n"
     ]
    },
    {
     "name": "stdout",
     "output_type": "stream",
     "text": [
      "       Observed_0  Predicted_0\n",
      "0         3.03390     3.439919\n",
      "1         2.21883     4.159586\n",
      "2         3.42129     1.921974\n",
      "3         6.54626     5.122129\n",
      "4         2.70455     2.287310\n",
      "...           ...          ...\n",
      "20981     5.82050     5.667760\n",
      "20982     2.90117     2.209077\n",
      "20983     3.06542     3.142845\n",
      "20984     2.26019     2.896136\n",
      "20985     1.91199     2.429804\n",
      "\n",
      "[20986 rows x 2 columns]\n"
     ]
    },
    {
     "name": "stderr",
     "output_type": "stream",
     "text": [
      "d:\\work\\conda\\nn_310\\lib\\site-packages\\sklearn\\metrics\\_regression.py:492: FutureWarning: 'squared' is deprecated in version 1.4 and will be removed in 1.6. To calculate the root mean squared error, use the function'root_mean_squared_error'.\n",
      "  warnings.warn(\n",
      "C:\\Users\\dalje\\AppData\\Local\\Temp\\ipykernel_20604\\1490988916.py:37: FutureWarning: You are using `torch.load` with `weights_only=False` (the current default value), which uses the default pickle module implicitly. It is possible to construct malicious pickle data which will execute arbitrary code during unpickling (See https://github.com/pytorch/pytorch/blob/main/SECURITY.md#untrusted-models for more details). In a future release, the default value for `weights_only` will be flipped to `True`. This limits the functions that could be executed during unpickling. Arbitrary objects will no longer be allowed to be loaded via this mode unless they are explicitly allowlisted by the user via `torch.serialization.add_safe_globals`. We recommend you start setting `weights_only=True` for any use case where you don't have full control of the loaded file. Please open an issue on GitHub for any issues related to this experimental feature.\n",
      "  model.load_state_dict(torch.load(f'saved_models/{selected_cols[target_index+1]}_{type(model_type).__name__}_model.pth'))\n"
     ]
    },
    {
     "name": "stdout",
     "output_type": "stream",
     "text": [
      "       Observed_0  Predicted_0\n",
      "0         3.03390     3.824085\n",
      "1         2.21883     4.577974\n",
      "2         3.42129     2.198584\n",
      "3         6.54626     5.651527\n",
      "4         2.70455     1.726750\n",
      "...           ...          ...\n",
      "20981     5.82050     5.444175\n",
      "20982     2.90117     2.319813\n",
      "20983     3.06542     3.316987\n",
      "20984     2.26019     2.264390\n",
      "20985     1.91199     2.267551\n",
      "\n",
      "[20986 rows x 2 columns]\n"
     ]
    },
    {
     "name": "stderr",
     "output_type": "stream",
     "text": [
      "d:\\work\\conda\\nn_310\\lib\\site-packages\\sklearn\\metrics\\_regression.py:492: FutureWarning: 'squared' is deprecated in version 1.4 and will be removed in 1.6. To calculate the root mean squared error, use the function'root_mean_squared_error'.\n",
      "  warnings.warn(\n",
      "C:\\Users\\dalje\\AppData\\Local\\Temp\\ipykernel_20604\\1490988916.py:37: FutureWarning: You are using `torch.load` with `weights_only=False` (the current default value), which uses the default pickle module implicitly. It is possible to construct malicious pickle data which will execute arbitrary code during unpickling (See https://github.com/pytorch/pytorch/blob/main/SECURITY.md#untrusted-models for more details). In a future release, the default value for `weights_only` will be flipped to `True`. This limits the functions that could be executed during unpickling. Arbitrary objects will no longer be allowed to be loaded via this mode unless they are explicitly allowlisted by the user via `torch.serialization.add_safe_globals`. We recommend you start setting `weights_only=True` for any use case where you don't have full control of the loaded file. Please open an issue on GitHub for any issues related to this experimental feature.\n",
      "  model.load_state_dict(torch.load(f'saved_models/{selected_cols[target_index+1]}_{type(model_type).__name__}_model.pth'))\n"
     ]
    },
    {
     "name": "stdout",
     "output_type": "stream",
     "text": [
      "       Observed_0  Predicted_0  Observed_1  Predicted_1\n",
      "0         3.03390     3.824085    0.498762     0.409077\n",
      "1         2.21883     4.577974    0.162431     0.210882\n",
      "2         3.42129     2.198584    0.547589     0.494178\n",
      "3         6.54626     5.651527    0.308542     0.295225\n",
      "4         2.70455     1.726750    0.572807     0.544592\n",
      "...           ...          ...         ...          ...\n",
      "20981     5.82050     5.444175    0.342817     0.357374\n",
      "20982     2.90117     2.319813    0.485546     0.505838\n",
      "20983     3.06542     3.316987    0.210382     0.190273\n",
      "20984     2.26019     2.264390    0.336572     0.322745\n",
      "20985     1.91199     2.267551    0.211747     0.226016\n",
      "\n",
      "[20986 rows x 4 columns]\n"
     ]
    },
    {
     "name": "stderr",
     "output_type": "stream",
     "text": [
      "d:\\work\\conda\\nn_310\\lib\\site-packages\\sklearn\\metrics\\_regression.py:492: FutureWarning: 'squared' is deprecated in version 1.4 and will be removed in 1.6. To calculate the root mean squared error, use the function'root_mean_squared_error'.\n",
      "  warnings.warn(\n",
      "C:\\Users\\dalje\\AppData\\Local\\Temp\\ipykernel_20604\\1490988916.py:37: FutureWarning: You are using `torch.load` with `weights_only=False` (the current default value), which uses the default pickle module implicitly. It is possible to construct malicious pickle data which will execute arbitrary code during unpickling (See https://github.com/pytorch/pytorch/blob/main/SECURITY.md#untrusted-models for more details). In a future release, the default value for `weights_only` will be flipped to `True`. This limits the functions that could be executed during unpickling. Arbitrary objects will no longer be allowed to be loaded via this mode unless they are explicitly allowlisted by the user via `torch.serialization.add_safe_globals`. We recommend you start setting `weights_only=True` for any use case where you don't have full control of the loaded file. Please open an issue on GitHub for any issues related to this experimental feature.\n",
      "  model.load_state_dict(torch.load(f'saved_models/{selected_cols[target_index+1]}_{type(model_type).__name__}_model.pth'))\n"
     ]
    },
    {
     "name": "stdout",
     "output_type": "stream",
     "text": [
      "       Observed_0  Predicted_0  Observed_1  Predicted_1\n",
      "0         3.03390     3.824085    0.498762     0.497632\n",
      "1         2.21883     4.577974    0.162431     0.167351\n",
      "2         3.42129     2.198584    0.547589     0.523757\n",
      "3         6.54626     5.651527    0.308542     0.289338\n",
      "4         2.70455     1.726750    0.572807     0.570653\n",
      "...           ...          ...         ...          ...\n",
      "20981     5.82050     5.444175    0.342817     0.362836\n",
      "20982     2.90117     2.319813    0.485546     0.479496\n",
      "20983     3.06542     3.316987    0.210382     0.196338\n",
      "20984     2.26019     2.264390    0.336572     0.299302\n",
      "20985     1.91199     2.267551    0.211747     0.201934\n",
      "\n",
      "[20986 rows x 4 columns]\n"
     ]
    },
    {
     "name": "stderr",
     "output_type": "stream",
     "text": [
      "d:\\work\\conda\\nn_310\\lib\\site-packages\\sklearn\\metrics\\_regression.py:492: FutureWarning: 'squared' is deprecated in version 1.4 and will be removed in 1.6. To calculate the root mean squared error, use the function'root_mean_squared_error'.\n",
      "  warnings.warn(\n",
      "C:\\Users\\dalje\\AppData\\Local\\Temp\\ipykernel_20604\\1490988916.py:37: FutureWarning: You are using `torch.load` with `weights_only=False` (the current default value), which uses the default pickle module implicitly. It is possible to construct malicious pickle data which will execute arbitrary code during unpickling (See https://github.com/pytorch/pytorch/blob/main/SECURITY.md#untrusted-models for more details). In a future release, the default value for `weights_only` will be flipped to `True`. This limits the functions that could be executed during unpickling. Arbitrary objects will no longer be allowed to be loaded via this mode unless they are explicitly allowlisted by the user via `torch.serialization.add_safe_globals`. We recommend you start setting `weights_only=True` for any use case where you don't have full control of the loaded file. Please open an issue on GitHub for any issues related to this experimental feature.\n",
      "  model.load_state_dict(torch.load(f'saved_models/{selected_cols[target_index+1]}_{type(model_type).__name__}_model.pth'))\n"
     ]
    },
    {
     "name": "stdout",
     "output_type": "stream",
     "text": [
      "       Observed_0  Predicted_0  Observed_1  Predicted_1\n",
      "0         3.03390     3.824085    0.498762     0.484318\n",
      "1         2.21883     4.577974    0.162431     0.161983\n",
      "2         3.42129     2.198584    0.547589     0.507206\n",
      "3         6.54626     5.651527    0.308542     0.325894\n",
      "4         2.70455     1.726750    0.572807     0.594937\n",
      "...           ...          ...         ...          ...\n",
      "20981     5.82050     5.444175    0.342817     0.365858\n",
      "20982     2.90117     2.319813    0.485546     0.463759\n",
      "20983     3.06542     3.316987    0.210382     0.199105\n",
      "20984     2.26019     2.264390    0.336572     0.321267\n",
      "20985     1.91199     2.267551    0.211747     0.204855\n",
      "\n",
      "[20986 rows x 4 columns]\n"
     ]
    },
    {
     "name": "stderr",
     "output_type": "stream",
     "text": [
      "d:\\work\\conda\\nn_310\\lib\\site-packages\\sklearn\\metrics\\_regression.py:492: FutureWarning: 'squared' is deprecated in version 1.4 and will be removed in 1.6. To calculate the root mean squared error, use the function'root_mean_squared_error'.\n",
      "  warnings.warn(\n",
      "C:\\Users\\dalje\\AppData\\Local\\Temp\\ipykernel_20604\\1490988916.py:37: FutureWarning: You are using `torch.load` with `weights_only=False` (the current default value), which uses the default pickle module implicitly. It is possible to construct malicious pickle data which will execute arbitrary code during unpickling (See https://github.com/pytorch/pytorch/blob/main/SECURITY.md#untrusted-models for more details). In a future release, the default value for `weights_only` will be flipped to `True`. This limits the functions that could be executed during unpickling. Arbitrary objects will no longer be allowed to be loaded via this mode unless they are explicitly allowlisted by the user via `torch.serialization.add_safe_globals`. We recommend you start setting `weights_only=True` for any use case where you don't have full control of the loaded file. Please open an issue on GitHub for any issues related to this experimental feature.\n",
      "  model.load_state_dict(torch.load(f'saved_models/{selected_cols[target_index+1]}_{type(model_type).__name__}_model.pth'))\n"
     ]
    },
    {
     "name": "stdout",
     "output_type": "stream",
     "text": [
      "       Observed_0  Predicted_0  Observed_1  Predicted_1  Observed_2  \\\n",
      "0         3.03390     3.824085    0.498762     0.484318     3.89562   \n",
      "1         2.21883     4.577974    0.162431     0.161983     7.08420   \n",
      "2         3.42129     2.198584    0.547589     0.507206     6.47881   \n",
      "3         6.54626     5.651527    0.308542     0.325894     5.39737   \n",
      "4         2.70455     1.726750    0.572807     0.594937    11.06172   \n",
      "...           ...          ...         ...          ...         ...   \n",
      "20981     5.82050     5.444175    0.342817     0.365858     6.03192   \n",
      "20982     2.90117     2.319813    0.485546     0.463759     3.37806   \n",
      "20983     3.06542     3.316987    0.210382     0.199105    11.38933   \n",
      "20984     2.26019     2.264390    0.336572     0.321267     1.31823   \n",
      "20985     1.91199     2.267551    0.211747     0.204855     2.01098   \n",
      "\n",
      "       Predicted_2  \n",
      "0         3.075237  \n",
      "1         6.665483  \n",
      "2         4.560639  \n",
      "3         8.207431  \n",
      "4        10.135466  \n",
      "...            ...  \n",
      "20981     5.864831  \n",
      "20982     2.342183  \n",
      "20983     9.941118  \n",
      "20984     2.503064  \n",
      "20985     3.277334  \n",
      "\n",
      "[20986 rows x 6 columns]\n"
     ]
    },
    {
     "name": "stderr",
     "output_type": "stream",
     "text": [
      "d:\\work\\conda\\nn_310\\lib\\site-packages\\sklearn\\metrics\\_regression.py:492: FutureWarning: 'squared' is deprecated in version 1.4 and will be removed in 1.6. To calculate the root mean squared error, use the function'root_mean_squared_error'.\n",
      "  warnings.warn(\n",
      "C:\\Users\\dalje\\AppData\\Local\\Temp\\ipykernel_20604\\1490988916.py:37: FutureWarning: You are using `torch.load` with `weights_only=False` (the current default value), which uses the default pickle module implicitly. It is possible to construct malicious pickle data which will execute arbitrary code during unpickling (See https://github.com/pytorch/pytorch/blob/main/SECURITY.md#untrusted-models for more details). In a future release, the default value for `weights_only` will be flipped to `True`. This limits the functions that could be executed during unpickling. Arbitrary objects will no longer be allowed to be loaded via this mode unless they are explicitly allowlisted by the user via `torch.serialization.add_safe_globals`. We recommend you start setting `weights_only=True` for any use case where you don't have full control of the loaded file. Please open an issue on GitHub for any issues related to this experimental feature.\n",
      "  model.load_state_dict(torch.load(f'saved_models/{selected_cols[target_index+1]}_{type(model_type).__name__}_model.pth'))\n"
     ]
    },
    {
     "name": "stdout",
     "output_type": "stream",
     "text": [
      "       Observed_0  Predicted_0  Observed_1  Predicted_1  Observed_2  \\\n",
      "0         3.03390     3.824085    0.498762     0.484318     3.89562   \n",
      "1         2.21883     4.577974    0.162431     0.161983     7.08420   \n",
      "2         3.42129     2.198584    0.547589     0.507206     6.47881   \n",
      "3         6.54626     5.651527    0.308542     0.325894     5.39737   \n",
      "4         2.70455     1.726750    0.572807     0.594937    11.06172   \n",
      "...           ...          ...         ...          ...         ...   \n",
      "20981     5.82050     5.444175    0.342817     0.365858     6.03192   \n",
      "20982     2.90117     2.319813    0.485546     0.463759     3.37806   \n",
      "20983     3.06542     3.316987    0.210382     0.199105    11.38933   \n",
      "20984     2.26019     2.264390    0.336572     0.321267     1.31823   \n",
      "20985     1.91199     2.267551    0.211747     0.204855     2.01098   \n",
      "\n",
      "       Predicted_2  \n",
      "0         3.411538  \n",
      "1         7.292431  \n",
      "2         5.552247  \n",
      "3         5.039103  \n",
      "4        11.075534  \n",
      "...            ...  \n",
      "20981     5.557716  \n",
      "20982     3.078779  \n",
      "20983    10.205283  \n",
      "20984     1.962037  \n",
      "20985     2.946149  \n",
      "\n",
      "[20986 rows x 6 columns]\n"
     ]
    },
    {
     "name": "stderr",
     "output_type": "stream",
     "text": [
      "d:\\work\\conda\\nn_310\\lib\\site-packages\\sklearn\\metrics\\_regression.py:492: FutureWarning: 'squared' is deprecated in version 1.4 and will be removed in 1.6. To calculate the root mean squared error, use the function'root_mean_squared_error'.\n",
      "  warnings.warn(\n",
      "C:\\Users\\dalje\\AppData\\Local\\Temp\\ipykernel_20604\\1490988916.py:37: FutureWarning: You are using `torch.load` with `weights_only=False` (the current default value), which uses the default pickle module implicitly. It is possible to construct malicious pickle data which will execute arbitrary code during unpickling (See https://github.com/pytorch/pytorch/blob/main/SECURITY.md#untrusted-models for more details). In a future release, the default value for `weights_only` will be flipped to `True`. This limits the functions that could be executed during unpickling. Arbitrary objects will no longer be allowed to be loaded via this mode unless they are explicitly allowlisted by the user via `torch.serialization.add_safe_globals`. We recommend you start setting `weights_only=True` for any use case where you don't have full control of the loaded file. Please open an issue on GitHub for any issues related to this experimental feature.\n",
      "  model.load_state_dict(torch.load(f'saved_models/{selected_cols[target_index+1]}_{type(model_type).__name__}_model.pth'))\n"
     ]
    },
    {
     "name": "stdout",
     "output_type": "stream",
     "text": [
      "       Observed_0  Predicted_0  Observed_1  Predicted_1  Observed_2  \\\n",
      "0         3.03390     3.824085    0.498762     0.484318     3.89562   \n",
      "1         2.21883     4.577974    0.162431     0.161983     7.08420   \n",
      "2         3.42129     2.198584    0.547589     0.507206     6.47881   \n",
      "3         6.54626     5.651527    0.308542     0.325894     5.39737   \n",
      "4         2.70455     1.726750    0.572807     0.594937    11.06172   \n",
      "...           ...          ...         ...          ...         ...   \n",
      "20981     5.82050     5.444175    0.342817     0.365858     6.03192   \n",
      "20982     2.90117     2.319813    0.485546     0.463759     3.37806   \n",
      "20983     3.06542     3.316987    0.210382     0.199105    11.38933   \n",
      "20984     2.26019     2.264390    0.336572     0.321267     1.31823   \n",
      "20985     1.91199     2.267551    0.211747     0.204855     2.01098   \n",
      "\n",
      "       Predicted_2  \n",
      "0         3.822650  \n",
      "1         7.219866  \n",
      "2         5.779371  \n",
      "3         6.959018  \n",
      "4        10.715141  \n",
      "...            ...  \n",
      "20981     5.503481  \n",
      "20982     2.035220  \n",
      "20983    10.704143  \n",
      "20984     1.113070  \n",
      "20985     2.712714  \n",
      "\n",
      "[20986 rows x 6 columns]\n"
     ]
    },
    {
     "name": "stderr",
     "output_type": "stream",
     "text": [
      "d:\\work\\conda\\nn_310\\lib\\site-packages\\sklearn\\metrics\\_regression.py:492: FutureWarning: 'squared' is deprecated in version 1.4 and will be removed in 1.6. To calculate the root mean squared error, use the function'root_mean_squared_error'.\n",
      "  warnings.warn(\n",
      "C:\\Users\\dalje\\AppData\\Local\\Temp\\ipykernel_20604\\1490988916.py:37: FutureWarning: You are using `torch.load` with `weights_only=False` (the current default value), which uses the default pickle module implicitly. It is possible to construct malicious pickle data which will execute arbitrary code during unpickling (See https://github.com/pytorch/pytorch/blob/main/SECURITY.md#untrusted-models for more details). In a future release, the default value for `weights_only` will be flipped to `True`. This limits the functions that could be executed during unpickling. Arbitrary objects will no longer be allowed to be loaded via this mode unless they are explicitly allowlisted by the user via `torch.serialization.add_safe_globals`. We recommend you start setting `weights_only=True` for any use case where you don't have full control of the loaded file. Please open an issue on GitHub for any issues related to this experimental feature.\n",
      "  model.load_state_dict(torch.load(f'saved_models/{selected_cols[target_index+1]}_{type(model_type).__name__}_model.pth'))\n"
     ]
    },
    {
     "name": "stdout",
     "output_type": "stream",
     "text": [
      "       Observed_0  Predicted_0  Observed_1  Predicted_1  Observed_2  \\\n",
      "0         3.03390     3.824085    0.498762     0.484318     3.89562   \n",
      "1         2.21883     4.577974    0.162431     0.161983     7.08420   \n",
      "2         3.42129     2.198584    0.547589     0.507206     6.47881   \n",
      "3         6.54626     5.651527    0.308542     0.325894     5.39737   \n",
      "4         2.70455     1.726750    0.572807     0.594937    11.06172   \n",
      "...           ...          ...         ...          ...         ...   \n",
      "20981     5.82050     5.444175    0.342817     0.365858     6.03192   \n",
      "20982     2.90117     2.319813    0.485546     0.463759     3.37806   \n",
      "20983     3.06542     3.316987    0.210382     0.199105    11.38933   \n",
      "20984     2.26019     2.264390    0.336572     0.321267     1.31823   \n",
      "20985     1.91199     2.267551    0.211747     0.204855     2.01098   \n",
      "\n",
      "       Predicted_2  Observed_3  Predicted_3  \n",
      "0         3.822650    0.539819     0.440756  \n",
      "1         7.219866    0.167412     0.279595  \n",
      "2         5.779371    0.230738     0.282304  \n",
      "3         6.959018    0.224057     0.241091  \n",
      "4        10.715141    0.320514     0.302650  \n",
      "...            ...         ...          ...  \n",
      "20981     5.503481    0.272400     0.261909  \n",
      "20982     2.035220    0.799613     0.773415  \n",
      "20983    10.704143    0.258621     0.202078  \n",
      "20984     1.113070    0.361187     0.311927  \n",
      "20985     2.712714    0.761356     0.625518  \n",
      "\n",
      "[20986 rows x 8 columns]\n"
     ]
    },
    {
     "name": "stderr",
     "output_type": "stream",
     "text": [
      "d:\\work\\conda\\nn_310\\lib\\site-packages\\sklearn\\metrics\\_regression.py:492: FutureWarning: 'squared' is deprecated in version 1.4 and will be removed in 1.6. To calculate the root mean squared error, use the function'root_mean_squared_error'.\n",
      "  warnings.warn(\n",
      "C:\\Users\\dalje\\AppData\\Local\\Temp\\ipykernel_20604\\1490988916.py:37: FutureWarning: You are using `torch.load` with `weights_only=False` (the current default value), which uses the default pickle module implicitly. It is possible to construct malicious pickle data which will execute arbitrary code during unpickling (See https://github.com/pytorch/pytorch/blob/main/SECURITY.md#untrusted-models for more details). In a future release, the default value for `weights_only` will be flipped to `True`. This limits the functions that could be executed during unpickling. Arbitrary objects will no longer be allowed to be loaded via this mode unless they are explicitly allowlisted by the user via `torch.serialization.add_safe_globals`. We recommend you start setting `weights_only=True` for any use case where you don't have full control of the loaded file. Please open an issue on GitHub for any issues related to this experimental feature.\n",
      "  model.load_state_dict(torch.load(f'saved_models/{selected_cols[target_index+1]}_{type(model_type).__name__}_model.pth'))\n"
     ]
    },
    {
     "name": "stdout",
     "output_type": "stream",
     "text": [
      "       Observed_0  Predicted_0  Observed_1  Predicted_1  Observed_2  \\\n",
      "0         3.03390     3.824085    0.498762     0.484318     3.89562   \n",
      "1         2.21883     4.577974    0.162431     0.161983     7.08420   \n",
      "2         3.42129     2.198584    0.547589     0.507206     6.47881   \n",
      "3         6.54626     5.651527    0.308542     0.325894     5.39737   \n",
      "4         2.70455     1.726750    0.572807     0.594937    11.06172   \n",
      "...           ...          ...         ...          ...         ...   \n",
      "20981     5.82050     5.444175    0.342817     0.365858     6.03192   \n",
      "20982     2.90117     2.319813    0.485546     0.463759     3.37806   \n",
      "20983     3.06542     3.316987    0.210382     0.199105    11.38933   \n",
      "20984     2.26019     2.264390    0.336572     0.321267     1.31823   \n",
      "20985     1.91199     2.267551    0.211747     0.204855     2.01098   \n",
      "\n",
      "       Predicted_2  Observed_3  Predicted_3  \n",
      "0         3.822650    0.539819     0.506576  \n",
      "1         7.219866    0.167412     0.228821  \n",
      "2         5.779371    0.230738     0.301727  \n",
      "3         6.959018    0.224057     0.223169  \n",
      "4        10.715141    0.320514     0.315335  \n",
      "...            ...         ...          ...  \n",
      "20981     5.503481    0.272400     0.294114  \n",
      "20982     2.035220    0.799613     0.835041  \n",
      "20983    10.704143    0.258621     0.252239  \n",
      "20984     1.113070    0.361187     0.382581  \n",
      "20985     2.712714    0.761356     0.674781  \n",
      "\n",
      "[20986 rows x 8 columns]\n"
     ]
    },
    {
     "name": "stderr",
     "output_type": "stream",
     "text": [
      "d:\\work\\conda\\nn_310\\lib\\site-packages\\sklearn\\metrics\\_regression.py:492: FutureWarning: 'squared' is deprecated in version 1.4 and will be removed in 1.6. To calculate the root mean squared error, use the function'root_mean_squared_error'.\n",
      "  warnings.warn(\n",
      "C:\\Users\\dalje\\AppData\\Local\\Temp\\ipykernel_20604\\1490988916.py:37: FutureWarning: You are using `torch.load` with `weights_only=False` (the current default value), which uses the default pickle module implicitly. It is possible to construct malicious pickle data which will execute arbitrary code during unpickling (See https://github.com/pytorch/pytorch/blob/main/SECURITY.md#untrusted-models for more details). In a future release, the default value for `weights_only` will be flipped to `True`. This limits the functions that could be executed during unpickling. Arbitrary objects will no longer be allowed to be loaded via this mode unless they are explicitly allowlisted by the user via `torch.serialization.add_safe_globals`. We recommend you start setting `weights_only=True` for any use case where you don't have full control of the loaded file. Please open an issue on GitHub for any issues related to this experimental feature.\n",
      "  model.load_state_dict(torch.load(f'saved_models/{selected_cols[target_index+1]}_{type(model_type).__name__}_model.pth'))\n"
     ]
    },
    {
     "name": "stdout",
     "output_type": "stream",
     "text": [
      "       Observed_0  Predicted_0  Observed_1  Predicted_1  Observed_2  \\\n",
      "0         3.03390     3.824085    0.498762     0.484318     3.89562   \n",
      "1         2.21883     4.577974    0.162431     0.161983     7.08420   \n",
      "2         3.42129     2.198584    0.547589     0.507206     6.47881   \n",
      "3         6.54626     5.651527    0.308542     0.325894     5.39737   \n",
      "4         2.70455     1.726750    0.572807     0.594937    11.06172   \n",
      "...           ...          ...         ...          ...         ...   \n",
      "20981     5.82050     5.444175    0.342817     0.365858     6.03192   \n",
      "20982     2.90117     2.319813    0.485546     0.463759     3.37806   \n",
      "20983     3.06542     3.316987    0.210382     0.199105    11.38933   \n",
      "20984     2.26019     2.264390    0.336572     0.321267     1.31823   \n",
      "20985     1.91199     2.267551    0.211747     0.204855     2.01098   \n",
      "\n",
      "       Predicted_2  Observed_3  Predicted_3  \n",
      "0         3.822650    0.539819     0.549443  \n",
      "1         7.219866    0.167412     0.230315  \n",
      "2         5.779371    0.230738     0.280901  \n",
      "3         6.959018    0.224057     0.255003  \n",
      "4        10.715141    0.320514     0.301358  \n",
      "...            ...         ...          ...  \n",
      "20981     5.503481    0.272400     0.268717  \n",
      "20982     2.035220    0.799613     0.808087  \n",
      "20983    10.704143    0.258621     0.229081  \n",
      "20984     1.113070    0.361187     0.322214  \n",
      "20985     2.712714    0.761356     0.717833  \n",
      "\n",
      "[20986 rows x 8 columns]\n"
     ]
    },
    {
     "name": "stderr",
     "output_type": "stream",
     "text": [
      "d:\\work\\conda\\nn_310\\lib\\site-packages\\sklearn\\metrics\\_regression.py:492: FutureWarning: 'squared' is deprecated in version 1.4 and will be removed in 1.6. To calculate the root mean squared error, use the function'root_mean_squared_error'.\n",
      "  warnings.warn(\n",
      "C:\\Users\\dalje\\AppData\\Local\\Temp\\ipykernel_20604\\1490988916.py:37: FutureWarning: You are using `torch.load` with `weights_only=False` (the current default value), which uses the default pickle module implicitly. It is possible to construct malicious pickle data which will execute arbitrary code during unpickling (See https://github.com/pytorch/pytorch/blob/main/SECURITY.md#untrusted-models for more details). In a future release, the default value for `weights_only` will be flipped to `True`. This limits the functions that could be executed during unpickling. Arbitrary objects will no longer be allowed to be loaded via this mode unless they are explicitly allowlisted by the user via `torch.serialization.add_safe_globals`. We recommend you start setting `weights_only=True` for any use case where you don't have full control of the loaded file. Please open an issue on GitHub for any issues related to this experimental feature.\n",
      "  model.load_state_dict(torch.load(f'saved_models/{selected_cols[target_index+1]}_{type(model_type).__name__}_model.pth'))\n"
     ]
    },
    {
     "name": "stdout",
     "output_type": "stream",
     "text": [
      "       Observed_0  Predicted_0  Observed_1  Predicted_1  Observed_2  \\\n",
      "0         3.03390     3.824085    0.498762     0.484318     3.89562   \n",
      "1         2.21883     4.577974    0.162431     0.161983     7.08420   \n",
      "2         3.42129     2.198584    0.547589     0.507206     6.47881   \n",
      "3         6.54626     5.651527    0.308542     0.325894     5.39737   \n",
      "4         2.70455     1.726750    0.572807     0.594937    11.06172   \n",
      "...           ...          ...         ...          ...         ...   \n",
      "20981     5.82050     5.444175    0.342817     0.365858     6.03192   \n",
      "20982     2.90117     2.319813    0.485546     0.463759     3.37806   \n",
      "20983     3.06542     3.316987    0.210382     0.199105    11.38933   \n",
      "20984     2.26019     2.264390    0.336572     0.321267     1.31823   \n",
      "20985     1.91199     2.267551    0.211747     0.204855     2.01098   \n",
      "\n",
      "       Predicted_2  Observed_3  Predicted_3  Observed_4  Predicted_4  \n",
      "0         3.822650    0.539819     0.549443    11.33621     9.486763  \n",
      "1         7.219866    0.167412     0.230315     4.03611     6.033480  \n",
      "2         5.779371    0.230738     0.280901     4.64459     3.751405  \n",
      "3         6.959018    0.224057     0.255003     5.63700     5.533430  \n",
      "4        10.715141    0.320514     0.301358     1.50241     3.717725  \n",
      "...            ...         ...          ...         ...          ...  \n",
      "20981     5.503481    0.272400     0.268717    11.18695    10.685822  \n",
      "20982     2.035220    0.799613     0.808087     5.55618     3.874029  \n",
      "20983    10.704143    0.258621     0.229081     5.29701     4.756196  \n",
      "20984     1.113070    0.361187     0.322214     9.96006     9.851493  \n",
      "20985     2.712714    0.761356     0.717833     5.49243     8.839032  \n",
      "\n",
      "[20986 rows x 10 columns]\n"
     ]
    },
    {
     "name": "stderr",
     "output_type": "stream",
     "text": [
      "d:\\work\\conda\\nn_310\\lib\\site-packages\\sklearn\\metrics\\_regression.py:492: FutureWarning: 'squared' is deprecated in version 1.4 and will be removed in 1.6. To calculate the root mean squared error, use the function'root_mean_squared_error'.\n",
      "  warnings.warn(\n",
      "C:\\Users\\dalje\\AppData\\Local\\Temp\\ipykernel_20604\\1490988916.py:37: FutureWarning: You are using `torch.load` with `weights_only=False` (the current default value), which uses the default pickle module implicitly. It is possible to construct malicious pickle data which will execute arbitrary code during unpickling (See https://github.com/pytorch/pytorch/blob/main/SECURITY.md#untrusted-models for more details). In a future release, the default value for `weights_only` will be flipped to `True`. This limits the functions that could be executed during unpickling. Arbitrary objects will no longer be allowed to be loaded via this mode unless they are explicitly allowlisted by the user via `torch.serialization.add_safe_globals`. We recommend you start setting `weights_only=True` for any use case where you don't have full control of the loaded file. Please open an issue on GitHub for any issues related to this experimental feature.\n",
      "  model.load_state_dict(torch.load(f'saved_models/{selected_cols[target_index+1]}_{type(model_type).__name__}_model.pth'))\n"
     ]
    },
    {
     "name": "stdout",
     "output_type": "stream",
     "text": [
      "       Observed_0  Predicted_0  Observed_1  Predicted_1  Observed_2  \\\n",
      "0         3.03390     3.824085    0.498762     0.484318     3.89562   \n",
      "1         2.21883     4.577974    0.162431     0.161983     7.08420   \n",
      "2         3.42129     2.198584    0.547589     0.507206     6.47881   \n",
      "3         6.54626     5.651527    0.308542     0.325894     5.39737   \n",
      "4         2.70455     1.726750    0.572807     0.594937    11.06172   \n",
      "...           ...          ...         ...          ...         ...   \n",
      "20981     5.82050     5.444175    0.342817     0.365858     6.03192   \n",
      "20982     2.90117     2.319813    0.485546     0.463759     3.37806   \n",
      "20983     3.06542     3.316987    0.210382     0.199105    11.38933   \n",
      "20984     2.26019     2.264390    0.336572     0.321267     1.31823   \n",
      "20985     1.91199     2.267551    0.211747     0.204855     2.01098   \n",
      "\n",
      "       Predicted_2  Observed_3  Predicted_3  Observed_4  Predicted_4  \n",
      "0         3.822650    0.539819     0.549443    11.33621     9.425328  \n",
      "1         7.219866    0.167412     0.230315     4.03611     5.771716  \n",
      "2         5.779371    0.230738     0.280901     4.64459     3.820457  \n",
      "3         6.959018    0.224057     0.255003     5.63700     6.595795  \n",
      "4        10.715141    0.320514     0.301358     1.50241     3.331730  \n",
      "...            ...         ...          ...         ...          ...  \n",
      "20981     5.503481    0.272400     0.268717    11.18695    11.818060  \n",
      "20982     2.035220    0.799613     0.808087     5.55618     4.907777  \n",
      "20983    10.704143    0.258621     0.229081     5.29701     4.248154  \n",
      "20984     1.113070    0.361187     0.322214     9.96006    10.309256  \n",
      "20985     2.712714    0.761356     0.717833     5.49243     6.651798  \n",
      "\n",
      "[20986 rows x 10 columns]\n"
     ]
    },
    {
     "name": "stderr",
     "output_type": "stream",
     "text": [
      "d:\\work\\conda\\nn_310\\lib\\site-packages\\sklearn\\metrics\\_regression.py:492: FutureWarning: 'squared' is deprecated in version 1.4 and will be removed in 1.6. To calculate the root mean squared error, use the function'root_mean_squared_error'.\n",
      "  warnings.warn(\n",
      "C:\\Users\\dalje\\AppData\\Local\\Temp\\ipykernel_20604\\1490988916.py:37: FutureWarning: You are using `torch.load` with `weights_only=False` (the current default value), which uses the default pickle module implicitly. It is possible to construct malicious pickle data which will execute arbitrary code during unpickling (See https://github.com/pytorch/pytorch/blob/main/SECURITY.md#untrusted-models for more details). In a future release, the default value for `weights_only` will be flipped to `True`. This limits the functions that could be executed during unpickling. Arbitrary objects will no longer be allowed to be loaded via this mode unless they are explicitly allowlisted by the user via `torch.serialization.add_safe_globals`. We recommend you start setting `weights_only=True` for any use case where you don't have full control of the loaded file. Please open an issue on GitHub for any issues related to this experimental feature.\n",
      "  model.load_state_dict(torch.load(f'saved_models/{selected_cols[target_index+1]}_{type(model_type).__name__}_model.pth'))\n"
     ]
    },
    {
     "name": "stdout",
     "output_type": "stream",
     "text": [
      "       Observed_0  Predicted_0  Observed_1  Predicted_1  Observed_2  \\\n",
      "0         3.03390     3.824085    0.498762     0.484318     3.89562   \n",
      "1         2.21883     4.577974    0.162431     0.161983     7.08420   \n",
      "2         3.42129     2.198584    0.547589     0.507206     6.47881   \n",
      "3         6.54626     5.651527    0.308542     0.325894     5.39737   \n",
      "4         2.70455     1.726750    0.572807     0.594937    11.06172   \n",
      "...           ...          ...         ...          ...         ...   \n",
      "20981     5.82050     5.444175    0.342817     0.365858     6.03192   \n",
      "20982     2.90117     2.319813    0.485546     0.463759     3.37806   \n",
      "20983     3.06542     3.316987    0.210382     0.199105    11.38933   \n",
      "20984     2.26019     2.264390    0.336572     0.321267     1.31823   \n",
      "20985     1.91199     2.267551    0.211747     0.204855     2.01098   \n",
      "\n",
      "       Predicted_2  Observed_3  Predicted_3  Observed_4  Predicted_4  \n",
      "0         3.822650    0.539819     0.549443    11.33621    10.534435  \n",
      "1         7.219866    0.167412     0.230315     4.03611     5.229314  \n",
      "2         5.779371    0.230738     0.280901     4.64459     4.751905  \n",
      "3         6.959018    0.224057     0.255003     5.63700     6.578437  \n",
      "4        10.715141    0.320514     0.301358     1.50241     3.409947  \n",
      "...            ...         ...          ...         ...          ...  \n",
      "20981     5.503481    0.272400     0.268717    11.18695    10.218698  \n",
      "20982     2.035220    0.799613     0.808087     5.55618     4.103364  \n",
      "20983    10.704143    0.258621     0.229081     5.29701     5.289881  \n",
      "20984     1.113070    0.361187     0.322214     9.96006    11.072113  \n",
      "20985     2.712714    0.761356     0.717833     5.49243     6.706033  \n",
      "\n",
      "[20986 rows x 10 columns]\n"
     ]
    },
    {
     "name": "stderr",
     "output_type": "stream",
     "text": [
      "d:\\work\\conda\\nn_310\\lib\\site-packages\\sklearn\\metrics\\_regression.py:492: FutureWarning: 'squared' is deprecated in version 1.4 and will be removed in 1.6. To calculate the root mean squared error, use the function'root_mean_squared_error'.\n",
      "  warnings.warn(\n"
     ]
    }
   ],
   "execution_count": 26
  },
  {
   "cell_type": "code",
   "metadata": {
    "id": "uNp1a-3R2QjU"
   },
   "source": "r2_scores, rmse_scores, mae_scores",
   "outputs": [],
   "execution_count": null
  },
  {
   "metadata": {},
   "cell_type": "code",
   "source": "",
   "outputs": [],
   "execution_count": null
  }
 ],
 "metadata": {
  "accelerator": "GPU",
  "colab": {
   "gpuType": "T4",
   "provenance": [],
   "history_visible": true,
   "include_colab_link": true
  },
  "kernelspec": {
   "display_name": "Python 3 (ipykernel)",
   "language": "python",
   "name": "python3"
  },
  "language_info": {
   "codemirror_mode": {
    "name": "ipython",
    "version": 3
   },
   "file_extension": ".py",
   "mimetype": "text/x-python",
   "name": "python",
   "nbconvert_exporter": "python",
   "pygments_lexer": "ipython3",
   "version": "3.10.14"
  },
  "widgets": {
   "application/vnd.jupyter.widget-state+json": {
    "a1b665f9b40246c29affae9395740f4b": {
     "model_module": "@jupyter-widgets/controls",
     "model_name": "VBoxModel",
     "model_module_version": "1.5.0",
     "state": {
      "_dom_classes": [],
      "_model_module": "@jupyter-widgets/controls",
      "_model_module_version": "1.5.0",
      "_model_name": "VBoxModel",
      "_view_count": null,
      "_view_module": "@jupyter-widgets/controls",
      "_view_module_version": "1.5.0",
      "_view_name": "VBoxView",
      "box_style": "",
      "children": [
       "IPY_MODEL_4a657d7e990c4ff0b2b3ae7d3663794f",
       "IPY_MODEL_1a595aa8deac4e84b2549ecef434e474"
      ],
      "layout": "IPY_MODEL_5daad93b723440beaa1f9baadf0ae01a"
     }
    },
    "4a657d7e990c4ff0b2b3ae7d3663794f": {
     "model_module": "@jupyter-widgets/controls",
     "model_name": "LabelModel",
     "model_module_version": "1.5.0",
     "state": {
      "_dom_classes": [],
      "_model_module": "@jupyter-widgets/controls",
      "_model_module_version": "1.5.0",
      "_model_name": "LabelModel",
      "_view_count": null,
      "_view_module": "@jupyter-widgets/controls",
      "_view_module_version": "1.5.0",
      "_view_name": "LabelView",
      "description": "",
      "description_tooltip": null,
      "layout": "IPY_MODEL_6b1b3eed1f4d479eb4f9af129b5ba849",
      "placeholder": "​",
      "style": "IPY_MODEL_603a3c6e42ab4c02b00033532d0f82ca",
      "value": "0.015 MB of 0.015 MB uploaded\r"
     }
    },
    "1a595aa8deac4e84b2549ecef434e474": {
     "model_module": "@jupyter-widgets/controls",
     "model_name": "FloatProgressModel",
     "model_module_version": "1.5.0",
     "state": {
      "_dom_classes": [],
      "_model_module": "@jupyter-widgets/controls",
      "_model_module_version": "1.5.0",
      "_model_name": "FloatProgressModel",
      "_view_count": null,
      "_view_module": "@jupyter-widgets/controls",
      "_view_module_version": "1.5.0",
      "_view_name": "ProgressView",
      "bar_style": "",
      "description": "",
      "description_tooltip": null,
      "layout": "IPY_MODEL_b42dfcfd0975458aba42b82be1c5a58a",
      "max": 1,
      "min": 0,
      "orientation": "horizontal",
      "style": "IPY_MODEL_4c5f710750b64006954824eaeb7d9f5f",
      "value": 1
     }
    },
    "5daad93b723440beaa1f9baadf0ae01a": {
     "model_module": "@jupyter-widgets/base",
     "model_name": "LayoutModel",
     "model_module_version": "1.2.0",
     "state": {
      "_model_module": "@jupyter-widgets/base",
      "_model_module_version": "1.2.0",
      "_model_name": "LayoutModel",
      "_view_count": null,
      "_view_module": "@jupyter-widgets/base",
      "_view_module_version": "1.2.0",
      "_view_name": "LayoutView",
      "align_content": null,
      "align_items": null,
      "align_self": null,
      "border": null,
      "bottom": null,
      "display": null,
      "flex": null,
      "flex_flow": null,
      "grid_area": null,
      "grid_auto_columns": null,
      "grid_auto_flow": null,
      "grid_auto_rows": null,
      "grid_column": null,
      "grid_gap": null,
      "grid_row": null,
      "grid_template_areas": null,
      "grid_template_columns": null,
      "grid_template_rows": null,
      "height": null,
      "justify_content": null,
      "justify_items": null,
      "left": null,
      "margin": null,
      "max_height": null,
      "max_width": null,
      "min_height": null,
      "min_width": null,
      "object_fit": null,
      "object_position": null,
      "order": null,
      "overflow": null,
      "overflow_x": null,
      "overflow_y": null,
      "padding": null,
      "right": null,
      "top": null,
      "visibility": null,
      "width": null
     }
    },
    "6b1b3eed1f4d479eb4f9af129b5ba849": {
     "model_module": "@jupyter-widgets/base",
     "model_name": "LayoutModel",
     "model_module_version": "1.2.0",
     "state": {
      "_model_module": "@jupyter-widgets/base",
      "_model_module_version": "1.2.0",
      "_model_name": "LayoutModel",
      "_view_count": null,
      "_view_module": "@jupyter-widgets/base",
      "_view_module_version": "1.2.0",
      "_view_name": "LayoutView",
      "align_content": null,
      "align_items": null,
      "align_self": null,
      "border": null,
      "bottom": null,
      "display": null,
      "flex": null,
      "flex_flow": null,
      "grid_area": null,
      "grid_auto_columns": null,
      "grid_auto_flow": null,
      "grid_auto_rows": null,
      "grid_column": null,
      "grid_gap": null,
      "grid_row": null,
      "grid_template_areas": null,
      "grid_template_columns": null,
      "grid_template_rows": null,
      "height": null,
      "justify_content": null,
      "justify_items": null,
      "left": null,
      "margin": null,
      "max_height": null,
      "max_width": null,
      "min_height": null,
      "min_width": null,
      "object_fit": null,
      "object_position": null,
      "order": null,
      "overflow": null,
      "overflow_x": null,
      "overflow_y": null,
      "padding": null,
      "right": null,
      "top": null,
      "visibility": null,
      "width": null
     }
    },
    "603a3c6e42ab4c02b00033532d0f82ca": {
     "model_module": "@jupyter-widgets/controls",
     "model_name": "DescriptionStyleModel",
     "model_module_version": "1.5.0",
     "state": {
      "_model_module": "@jupyter-widgets/controls",
      "_model_module_version": "1.5.0",
      "_model_name": "DescriptionStyleModel",
      "_view_count": null,
      "_view_module": "@jupyter-widgets/base",
      "_view_module_version": "1.2.0",
      "_view_name": "StyleView",
      "description_width": ""
     }
    },
    "b42dfcfd0975458aba42b82be1c5a58a": {
     "model_module": "@jupyter-widgets/base",
     "model_name": "LayoutModel",
     "model_module_version": "1.2.0",
     "state": {
      "_model_module": "@jupyter-widgets/base",
      "_model_module_version": "1.2.0",
      "_model_name": "LayoutModel",
      "_view_count": null,
      "_view_module": "@jupyter-widgets/base",
      "_view_module_version": "1.2.0",
      "_view_name": "LayoutView",
      "align_content": null,
      "align_items": null,
      "align_self": null,
      "border": null,
      "bottom": null,
      "display": null,
      "flex": null,
      "flex_flow": null,
      "grid_area": null,
      "grid_auto_columns": null,
      "grid_auto_flow": null,
      "grid_auto_rows": null,
      "grid_column": null,
      "grid_gap": null,
      "grid_row": null,
      "grid_template_areas": null,
      "grid_template_columns": null,
      "grid_template_rows": null,
      "height": null,
      "justify_content": null,
      "justify_items": null,
      "left": null,
      "margin": null,
      "max_height": null,
      "max_width": null,
      "min_height": null,
      "min_width": null,
      "object_fit": null,
      "object_position": null,
      "order": null,
      "overflow": null,
      "overflow_x": null,
      "overflow_y": null,
      "padding": null,
      "right": null,
      "top": null,
      "visibility": null,
      "width": null
     }
    },
    "4c5f710750b64006954824eaeb7d9f5f": {
     "model_module": "@jupyter-widgets/controls",
     "model_name": "ProgressStyleModel",
     "model_module_version": "1.5.0",
     "state": {
      "_model_module": "@jupyter-widgets/controls",
      "_model_module_version": "1.5.0",
      "_model_name": "ProgressStyleModel",
      "_view_count": null,
      "_view_module": "@jupyter-widgets/base",
      "_view_module_version": "1.2.0",
      "_view_name": "StyleView",
      "bar_color": null,
      "description_width": ""
     }
    }
   }
  }
 },
 "nbformat": 4,
 "nbformat_minor": 0
}

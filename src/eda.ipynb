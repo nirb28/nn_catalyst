{
 "nbformat": 4,
 "nbformat_minor": 0,
 "metadata": {
  "colab": {
   "provenance": [],
   "history_visible": true,
   "gpuType": "T4",
   "include_colab_link": true
  },
  "kernelspec": {
   "name": "python3",
   "display_name": "Python 3 (ipykernel)",
   "language": "python"
  },
  "language_info": {
   "name": "python"
  },
  "accelerator": "GPU"
 },
 "cells": [
  {
   "cell_type": "markdown",
   "metadata": {
    "id": "view-in-github",
    "colab_type": "text"
   },
   "source": [
    "<a href=\"https://colab.research.google.com/github/nirb28/nn_catalyst/blob/main/src/eda.ipynb\" target=\"_parent\"><img src=\"https://colab.research.google.com/assets/colab-badge.svg\" alt=\"Open In Colab\"/></a>"
   ]
  },
  {
   "cell_type": "code",
   "source": [
    "import wandb, os, sys\n",
    "\n",
    "IN_COLAB = 'google.colab' in sys.modules\n",
    "\n",
    "if IN_COLAB:\n",
    "    print(\"Running in Colab!\")\n",
    "    from google.colab import drive\n",
    "    drive.mount('/content/drive', force_remount=False)\n",
    "    from google.colab import userdata\n",
    "    WANDB_KEY = userdata.get('WANDB_KEY')\n",
    "    wandb.login(key=WANDB_KEY)\n",
    "else:\n",
    "    print(\"Not running in Colab.\")\n",
    "\n",
    "def resolve_path_gdrive(relativePath):\n",
    "    if os.path.exists('/content/drive'):\n",
    "        return '/content/drive/MyDrive/work/gdrive-workspaces/git/nn_catalyst/' + relativePath\n",
    "    else:\n",
    "        from utils import get_project_root\n",
    "        return get_project_root() + \"/\" + relativePath"
   ],
   "metadata": {
    "id": "hoOmBk4-7xn_",
    "outputId": "924a786b-7aef-4c38-ec81-19ff3f9a7fe8",
    "colab": {
     "base_uri": "https://localhost:8080/"
    },
    "ExecuteTime": {
     "end_time": "2024-09-15T22:56:49.548270Z",
     "start_time": "2024-09-15T22:56:49.534309Z"
    }
   },
   "execution_count": 2,
   "outputs": []
  },
  {
   "cell_type": "code",
   "source": [
    "if 'xlsxwriter' not in sys.modules:\n",
    "    !pip install xlsxwriter\n",
    "import xlsxwriter"
   ],
   "metadata": {
    "id": "bXsAGjvscr-3",
    "outputId": "b06749d6-a29c-4629-a836-d11cca1b44f1",
    "colab": {
     "base_uri": "https://localhost:8080/"
    },
    "ExecuteTime": {
     "end_time": "2024-09-15T22:57:05.181198Z",
     "start_time": "2024-09-15T22:57:03.569533Z"
    }
   },
   "execution_count": 3,
   "outputs": []
  },
  {
   "cell_type": "code",
   "metadata": {
    "id": "npSP_nXh7CNA",
    "ExecuteTime": {
     "end_time": "2024-09-15T22:57:11.652217Z",
     "start_time": "2024-09-15T22:57:08.551905Z"
    }
   },
   "source": [
    "import pandas as pd\n",
    "from sklearn.feature_selection import VarianceThreshold\n",
    "from sklearn.model_selection import train_test_split\n",
    "from sklearn.preprocessing import StandardScaler\n",
    "import torch\n",
    "import torch.nn as nn\n",
    "import numpy as np\n",
    "from sklearn.metrics import r2_score, mean_squared_error, mean_absolute_error\n",
    "import torch.nn.functional as F\n",
    "\n",
    "# Load the data\n",
    "descriptors_path = 'descriptors.csv'\n",
    "targets_path = 'compiled_data.csv'\n"
   ],
   "execution_count": 4,
   "outputs": []
  },
  {
   "cell_type": "code",
   "source": [
    "descriptors_df = pd.read_csv(resolve_path_gdrive(descriptors_path))\n",
    "targets_df = pd.read_csv(resolve_path_gdrive(targets_path))"
   ],
   "metadata": {
    "id": "wKrIMr8_7Gnk",
    "outputId": "a347051f-92b9-4a94-805e-d68a1e6cf45f",
    "colab": {
     "base_uri": "https://localhost:8080/"
    },
    "ExecuteTime": {
     "end_time": "2024-09-15T22:57:25.289093Z",
     "start_time": "2024-09-15T22:57:12.088765Z"
    }
   },
   "execution_count": 5,
   "outputs": []
  },
  {
   "cell_type": "code",
   "source": [
    "# Show sample rows\n",
    "print(\"\\nSample Rows from Descriptors DataFrame:\")\n",
    "print(descriptors_df.head())\n",
    "print(\"\\nSample Rows from Targets DataFrame:\")\n",
    "print(targets_df.head())\n"
   ],
   "metadata": {
    "id": "4h1eJaFR8j8z",
    "outputId": "535eb09a-94db-4f14-b818-043d59e95c18",
    "colab": {
     "base_uri": "https://localhost:8080/"
    },
    "ExecuteTime": {
     "end_time": "2024-09-15T22:57:25.320741Z",
     "start_time": "2024-09-15T22:57:25.289983Z"
    }
   },
   "execution_count": 6,
   "outputs": []
  },
  {
   "cell_type": "code",
   "source": [
    "# Keep only numeric columns\n",
    "descriptors_numeric = descriptors_df.select_dtypes(include=['number'])\n",
    "targets_numeric = targets_df.select_dtypes(include=['number'])\n",
    "\n",
    "# Merge the numeric dataframes on the common label column\n",
    "numeric_data = pd.merge(descriptors_numeric, targets_numeric, left_on='Label', right_on='mol_num')\n",
    "numeric_data = numeric_data.drop(columns=['Label', 'mol_num'])\n",
    "number_of_target_cols = len(targets_numeric.columns) - 1"
   ],
   "metadata": {
    "id": "sLC9NyHGV6Js",
    "ExecuteTime": {
     "end_time": "2024-09-15T23:08:35.093064Z",
     "start_time": "2024-09-15T23:08:34.812829Z"
    }
   },
   "execution_count": 8,
   "outputs": []
  },
  {
   "metadata": {
    "ExecuteTime": {
     "end_time": "2024-09-15T23:09:08.690608Z",
     "start_time": "2024-09-15T23:09:07.403080Z"
    }
   },
   "cell_type": "code",
   "source": [
    "# Separate features and targets\n",
    "X = numeric_data.iloc[:, :-number_of_target_cols]  # Assuming the last 30 columns are targets\n",
    "y = numeric_data.iloc[:, -number_of_target_cols:]\n",
    "\n",
    "# Apply variance threshold\n",
    "selector = VarianceThreshold()\n",
    "X_high_variance = selector.fit_transform(X)\n",
    "\n",
    "# Convert to numpy arrays\n",
    "X = X_high_variance\n",
    "y = y.values\n",
    "\n",
    "# Split the data into training, validation, and test sets\n",
    "X_train, X_temp, y_train, y_temp = train_test_split(X, y, test_size=0.2, random_state=42)\n",
    "X_val, X_test, y_val, y_test = train_test_split(X_temp, y_temp, test_size=0.5, random_state=42)\n",
    "\n",
    "# Standardize the data\n",
    "scaler_X = StandardScaler().fit(X_train)\n",
    "scaler_y = StandardScaler().fit(y_train)\n",
    "\n",
    "X_train = scaler_X.transform(X_train)\n",
    "X_val = scaler_X.transform(X_val)\n",
    "X_test = scaler_X.transform(X_test)\n",
    "\n",
    "y_train = scaler_y.transform(y_train)\n",
    "y_val = scaler_y.transform(y_val)\n",
    "y_test = scaler_y.transform(y_test)\n",
    "\n",
    "# Convert the data to PyTorch tensors\n",
    "X_train_tensor = torch.tensor(X_train, dtype=torch.float32)\n",
    "y_train_tensor = torch.tensor(y_train, dtype=torch.float32)\n",
    "X_val_tensor = torch.tensor(X_val, dtype=torch.float32)\n",
    "y_val_tensor = torch.tensor(y_val, dtype=torch.float32)\n",
    "X_test_tensor = torch.tensor(X_test, dtype=torch.float32)\n",
    "y_test_tensor = torch.tensor(y_test, dtype=torch.float32)\n"
   ],
   "execution_count": 9,
   "outputs": []
  },
  {
   "cell_type": "code",
   "source": [
    "class SingleTargetNet_orig(nn.Module):\n",
    "    def __init__(self, input_size, dropout_rate=0.5):\n",
    "        super(SingleTargetNet_orig, self).__init__()\n",
    "        self.fc1 = nn.Linear(input_size, 512)\n",
    "        self.bn1 = nn.BatchNorm1d(512)\n",
    "        self.fc2 = nn.Linear(512, 256)\n",
    "        self.bn2 = nn.BatchNorm1d(256)\n",
    "        self.fc3 = nn.Linear(256, 1)\n",
    "        self.fc_skip = nn.Linear(512, 256)\n",
    "        self.dropout = nn.Dropout(dropout_rate)\n",
    "\n",
    "    def forward(self, x):\n",
    "        x1 = F.relu(self.bn1(self.fc1(x)))\n",
    "        x1 = self.dropout(x1)\n",
    "\n",
    "        x2 = F.relu(self.bn2(self.fc2(x1)))\n",
    "        x2 = self.dropout(x2)\n",
    "\n",
    "        # Skip connection\n",
    "        x2 += self.fc_skip(x1)\n",
    "\n",
    "        x3 = self.fc3(x2)\n",
    "        return x3\n",
    "\n",
    "# Define the individual model class\n",
    "class SingleTargetNet(nn.Module):\n",
    "    def __init__(self, input_size, dropout_rate=0.5):\n",
    "        super(SingleTargetNet, self).__init__()\n",
    "        self.fc1 = nn.Linear(input_size, 1024)\n",
    "        self.bn1 = nn.BatchNorm1d(1024)\n",
    "        self.fc2 = nn.Linear(1024, 512)\n",
    "        self.bn2 = nn.BatchNorm1d(512)\n",
    "        self.fc3 = nn.Linear(512, 1)\n",
    "        self.fc_skip = nn.Linear(1024, 512)\n",
    "        self.dropout = nn.Dropout(dropout_rate)\n",
    "\n",
    "    def forward(self, x):\n",
    "        x1 = F.relu(self.bn1(self.fc1(x)))\n",
    "        x1 = self.dropout(x1)\n",
    "\n",
    "        x2 = F.relu(self.bn2(self.fc2(x1)))\n",
    "        x2 = self.dropout(x2)\n",
    "\n",
    "        # Skip connection\n",
    "        x2 += self.fc_skip(x1)\n",
    "\n",
    "        x3 = self.fc3(x2)\n",
    "        return x3\n",
    "\n",
    "# Initialize Excel writer\n",
    "output_path = 'STN_individual_model_predictions_with_plots.xlsx'\n",
    "writer = pd.ExcelWriter(output_path, engine='xlsxwriter')\n",
    "workbook = writer.book\n",
    "\n",
    "# Prepare DataFrames for train, validation, and test predictions\n",
    "train_df = pd.DataFrame()\n",
    "val_df = pd.DataFrame()\n",
    "test_df = pd.DataFrame()\n",
    "\n",
    "r2_scores, rmse_scores, mae_scores = [], [], []\n",
    "\n",
    "def create_excel_chart(sheet_name, target_index, worksheet, df, start_row, start_col):\n",
    "    chart = workbook.add_chart({'type': 'scatter'})\n",
    "\n",
    "    observed_col = f'Observed_{target_index}'\n",
    "    predicted_col = f'Predicted_{target_index}'\n",
    "\n",
    "    chart.add_series({\n",
    "        'name': f'Target {target_index}',\n",
    "        'categories': [sheet_name, start_row+1, df.columns.get_loc(observed_col), start_row+df.shape[0], df.columns.get_loc(observed_col)],\n",
    "        'values': [sheet_name, start_row+1, df.columns.get_loc(predicted_col), start_row+df.shape[0], df.columns.get_loc(predicted_col)],\n",
    "        'marker': {'type': 'circle', 'size': 5},\n",
    "        'trendline': {\n",
    "            'type': 'linear',\n",
    "            'display_equation': True,\n",
    "            'display_r_squared': True,\n",
    "        }\n",
    "    })\n",
    "    chart.set_title({'name': f'Parity Plot for Target {target_index}'})\n",
    "    chart.set_x_axis({'name': 'Observed'})\n",
    "    chart.set_y_axis({'name': 'Predicted'})\n",
    "    chart.set_legend({'none': True})\n",
    "\n",
    "    # Make axes square with the same unit ranges on x and y axis\n",
    "    min_val = min(df[observed_col].min(), df[predicted_col].min())\n",
    "    max_val = max(df[observed_col].max(), df[predicted_col].max())\n",
    "    chart.set_x_axis({'min': min_val, 'max': max_val})\n",
    "    chart.set_y_axis({'min': min_val, 'max': max_val})\n",
    "\n",
    "    worksheet.insert_chart(start_row + df.shape[0] + 2, start_col, chart)\n",
    "\n",
    "    # Calculate metrics\n",
    "    observed = df[observed_col]\n",
    "    predicted = df[predicted_col]\n",
    "    r2 = r2_score(observed, predicted)\n",
    "    rmse = mean_squared_error(observed, predicted, squared=False)\n",
    "    mae = mean_absolute_error(observed, predicted)\n",
    "\n",
    "    # Write metrics to Excel\n",
    "    metrics_start_row = start_row + df.shape[0] + 22\n",
    "    worksheet.write(metrics_start_row, start_col, f'Target {target_index}')\n",
    "    worksheet.write(metrics_start_row + 1, start_col + 1, 'R²')\n",
    "    worksheet.write(metrics_start_row + 1, start_col + 2, r2)\n",
    "    worksheet.write(metrics_start_row + 2, start_col + 1, 'RMSE')\n",
    "    worksheet.write(metrics_start_row + 2, start_col + 2, rmse)\n",
    "    worksheet.write(metrics_start_row + 3, start_col + 1, 'MAE')\n",
    "    worksheet.write(metrics_start_row + 3, start_col + 2, mae)\n",
    "\n",
    "    return r2, rmse, mae\n"
   ],
   "metadata": {
    "id": "kC_fn2ivcYFu",
    "ExecuteTime": {
     "end_time": "2024-09-15T23:09:12.200195Z",
     "start_time": "2024-09-15T23:09:12.174959Z"
    }
   },
   "execution_count": 10,
   "outputs": []
  },
  {
   "metadata": {
    "colab": {
     "base_uri": "https://localhost:8080/"
    },
    "id": "JTKPa2MmyRlO",
    "outputId": "169a3834-f819-4ec2-f299-6db9558247a6",
    "ExecuteTime": {
     "end_time": "2024-09-15T23:09:14.245197Z",
     "start_time": "2024-09-15T23:09:14.228274Z"
    }
   },
   "cell_type": "code",
   "source": [
    "X_train.shape"
   ],
   "execution_count": 11,
   "outputs": []
  },
  {
   "cell_type": "code",
   "source": [
    "for target_index in range(y_train.shape[1]):\n",
    "    # Load the saved model\n",
    "    model = SingleTargetNet(X_train.shape[1])\n",
    "    model.load_state_dict(torch.load(resolve_path_gdrive(f'src/saved_models/best_model_target_{target_index}.pth')))\n",
    "\n",
    "    # Make predictions on the train, validation, and test sets\n",
    "    model.eval()\n",
    "    with torch.no_grad():\n",
    "        y_train_pred = model(X_train_tensor).numpy()\n",
    "        y_val_pred = model(X_val_tensor).numpy()\n",
    "        y_test_pred = model(X_test_tensor).numpy()\n",
    "\n",
    "    # Inverse transform the predictions and targets to their original scale\n",
    "    y_train_pred_orig = scaler_y.inverse_transform(np.concatenate([np.zeros((y_train_pred.shape[0], target_index)), y_train_pred, np.zeros((y_train_pred.shape[0], y_train.shape[1] - target_index - 1))], axis=1))[:, target_index]\n",
    "    y_val_pred_orig = scaler_y.inverse_transform(np.concatenate([np.zeros((y_val_pred.shape[0], target_index)), y_val_pred, np.zeros((y_val_pred.shape[0], y_val.shape[1] - target_index - 1))], axis=1))[:, target_index]\n",
    "    y_test_pred_orig = scaler_y.inverse_transform(np.concatenate([np.zeros((y_test_pred.shape[0], target_index)), y_test_pred, np.zeros((y_test_pred.shape[0], y_test.shape[1] - target_index - 1))], axis=1))[:, target_index]\n",
    "\n",
    "    y_train_orig = scaler_y.inverse_transform(y_train)[:, target_index]\n",
    "    y_val_orig = scaler_y.inverse_transform(y_val)[:, target_index]\n",
    "    y_test_orig = scaler_y.inverse_transform(y_test)[:, target_index]\n",
    "\n",
    "    # Create dataframes for the predictions and actual values\n",
    "    train_df[f'Observed_{target_index}'] = y_train_orig\n",
    "    train_df[f'Predicted_{target_index}'] = y_train_pred_orig\n",
    "\n",
    "    val_df[f'Observed_{target_index}'] = y_val_orig\n",
    "    val_df[f'Predicted_{target_index}'] = y_val_pred_orig\n",
    "\n",
    "    test_df[f'Observed_{target_index}'] = y_test_orig\n",
    "    test_df[f'Predicted_{target_index}'] = y_test_pred_orig\n",
    "\n",
    "# Write dataframes to Excel sheets\n",
    "train_df.to_excel(writer, sheet_name='Train', index=False)\n",
    "val_df.to_excel(writer, sheet_name='Validation', index=False)\n",
    "test_df.to_excel(writer, sheet_name='Test', index=False)\n",
    "\n",
    "# Create and insert parity plots for train, validation, and test sets\n",
    "for target_index in range(y_train.shape[1]):\n",
    "    r2, rmse, mae = create_excel_chart('Train', target_index, writer.sheets['Train'], train_df, start_row=0, start_col=target_index*9)\n",
    "    r2_scores.append(r2)\n",
    "    rmse_scores.append(rmse)\n",
    "    mae_scores.append(mae)\n",
    "    create_excel_chart('Validation', target_index, writer.sheets['Validation'], val_df, start_row=0, start_col=target_index*9)\n",
    "    create_excel_chart('Test', target_index, writer.sheets['Test'], test_df, start_row=0, start_col=target_index*9)\n",
    "\n",
    "# Save and close the Excel file\n",
    "writer.close()\n",
    "\n",
    "# Calculate and print the average R², RMSE, and MAE for the validation set\n",
    "avg_r2 = np.mean(r2_scores)\n",
    "avg_rmse = np.mean(rmse_scores)\n",
    "avg_mae = np.mean(mae_scores)\n",
    "\n",
    "print(f\"Average R² for Validation Set: {avg_r2}\")\n",
    "print(f\"Average RMSE for Validation Set: {avg_rmse}\")\n",
    "print(f\"Average MAE for Validation Set: {avg_mae}\")\n",
    "\n",
    "print(f\"Predictions and plots written to {output_path}\")"
   ],
   "metadata": {
    "id": "gyoZ60K8cmqC",
    "outputId": "d7029be2-9489-4bde-ab27-1b5ae72d9017",
    "colab": {
     "base_uri": "https://localhost:8080/"
    },
    "ExecuteTime": {
     "end_time": "2024-09-15T23:10:16.044856Z",
     "start_time": "2024-09-15T23:09:31.126629Z"
    }
   },
   "execution_count": 12,
   "outputs": []
  }
 ]
}
